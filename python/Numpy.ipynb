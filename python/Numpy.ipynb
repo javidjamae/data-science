{
 "cells": [
  {
   "cell_type": "markdown",
   "metadata": {},
   "source": [
    "# Overview\n",
    "\n",
    "N-dimensional arrays in Python."
   ]
  },
  {
   "cell_type": "code",
   "execution_count": 1,
   "metadata": {},
   "outputs": [],
   "source": [
    "import numpy as np"
   ]
  },
  {
   "cell_type": "markdown",
   "metadata": {},
   "source": [
    "# Importing Specific Functions"
   ]
  },
  {
   "cell_type": "code",
   "execution_count": 2,
   "metadata": {},
   "outputs": [
    {
     "data": {
      "text/plain": [
       "0"
      ]
     },
     "execution_count": 2,
     "metadata": {},
     "output_type": "execute_result"
    }
   ],
   "source": [
    "from numpy import random\n",
    "random.randint( 4 )"
   ]
  },
  {
   "cell_type": "code",
   "execution_count": 3,
   "metadata": {},
   "outputs": [
    {
     "data": {
      "text/plain": [
       "10"
      ]
     },
     "execution_count": 3,
     "metadata": {},
     "output_type": "execute_result"
    }
   ],
   "source": [
    "from numpy.random import randint\n",
    "randint( 22 )"
   ]
  },
  {
   "cell_type": "markdown",
   "metadata": {},
   "source": [
    "# Creating From a List"
   ]
  },
  {
   "cell_type": "code",
   "execution_count": 4,
   "metadata": {},
   "outputs": [
    {
     "name": "stdout",
     "output_type": "stream",
     "text": [
      "[1 2 3]\n",
      "<class 'numpy.ndarray'>\n"
     ]
    }
   ],
   "source": [
    "my_list = [ 1, 2, 3 ]\n",
    "array = np.array( my_list )\n",
    "print( array )\n",
    "print( type( array ) )"
   ]
  },
  {
   "cell_type": "code",
   "execution_count": 5,
   "metadata": {},
   "outputs": [
    {
     "name": "stdout",
     "output_type": "stream",
     "text": [
      "[[1 2 3]\n",
      " [4 5 6]]\n",
      "<class 'numpy.ndarray'>\n"
     ]
    }
   ],
   "source": [
    "my_mat = [ [ 1, 2, 3 ], [ 4, 5, 6 ] ]\n",
    "matrix = np.array( my_mat )\n",
    "print( matrix )\n",
    "print( type( matrix ) )"
   ]
  },
  {
   "cell_type": "markdown",
   "metadata": {},
   "source": [
    "# Indexing / Slicing"
   ]
  },
  {
   "cell_type": "markdown",
   "metadata": {},
   "source": [
    "You can indexing into one dimension arrays using a single digit or with the range operator."
   ]
  },
  {
   "cell_type": "code",
   "execution_count": 6,
   "metadata": {},
   "outputs": [
    {
     "name": "stdout",
     "output_type": "stream",
     "text": [
      "5\n",
      "[5 6 7 8 9]\n",
      "[18 19]\n",
      "[ 0  1  2  3  4  5  6  7  8  9 10 11]\n",
      "[0 1 2 3 4 5 6 7]\n",
      "[0 5]\n",
      "[ 0  1  2  3  4  5  6  7  8  9 10 11 12 13 14 15 16 17 18 19]\n",
      "[19 18 17 16 15 14 13 12 11 10  9  8  7  6  5  4  3  2  1  0]\n"
     ]
    }
   ],
   "source": [
    "array = np.arange( 0, 20 )\n",
    "\n",
    "print( array[ 5 ] )\n",
    "print( array[ 5:10 ] )\n",
    "print( array[ 18: ] )\n",
    "print( array[ :12 ] )\n",
    "print( array[ :-12 ] )\n",
    "print( array[ :-12:5 ] )\n",
    "print( array[ : ] )\n",
    "print( array[ ::-1 ] )"
   ]
  },
  {
   "cell_type": "markdown",
   "metadata": {},
   "source": [
    "You can index into an 2-dimensional array by row first, then by column, using a comma as a separator. Indexing is 0-based for both the row and the column."
   ]
  },
  {
   "cell_type": "code",
   "execution_count": 7,
   "metadata": {},
   "outputs": [
    {
     "name": "stdout",
     "output_type": "stream",
     "text": [
      "6\n",
      "6\n"
     ]
    }
   ],
   "source": [
    "# Indexing an n-dimensional matrix\n",
    "array = np.arange( 0, 20 )\n",
    "matrix = np.reshape( array, ( 5, 4 ) )\n",
    "\n",
    "# Command / Single bracket notation\n",
    "print( matrix[ 1, 2 ] )\n",
    "\n",
    "# Double bracket notation\n",
    "print( matrix[ 1 ][ 2 ] )"
   ]
  },
  {
   "cell_type": "code",
   "execution_count": 8,
   "metadata": {},
   "outputs": [
    {
     "name": "stdout",
     "output_type": "stream",
     "text": [
      "[[ 0  1  2  3]\n",
      " [ 4  5  6  7]\n",
      " [ 8  9 10 11]\n",
      " [12 13 14 15]\n",
      " [16 17 18 19]]\n",
      "\n",
      "[[ 6  7]\n",
      " [10 11]]\n"
     ]
    }
   ],
   "source": [
    "# Slicing an n-dimensional matrix\n",
    "array = np.arange( 0, 20 )\n",
    "matrix = np.reshape( array, ( 5, 4 ) )\n",
    "\n",
    "print( matrix )\n",
    "print()\n",
    "print( matrix[ 1:3, 2:4 ])"
   ]
  },
  {
   "cell_type": "markdown",
   "metadata": {},
   "source": [
    "# Mutable Slicing\n",
    "\n",
    "You can slice an ndarray, and it will return a slice that has a reference to the original array. So, if you update the slice, you'll also update the original array. This makes it easier to do performant array and matrix operations without having to allocate more memory for new arrays. "
   ]
  },
  {
   "cell_type": "code",
   "execution_count": 9,
   "metadata": {},
   "outputs": [
    {
     "name": "stdout",
     "output_type": "stream",
     "text": [
      "Array: [1 2 3 4 5 6]\n",
      "Slice: [3 4 5]\n",
      "slice[ 0 ] = 52\n",
      "Slice: [52  4  5]\n",
      "Array: [ 1  2 52  4  5  6]\n"
     ]
    }
   ],
   "source": [
    "array = np.array( [ 1, 2, 3, 4, 5, 6 ] )\n",
    "\n",
    "slice = array[ 2:5 ]\n",
    "\n",
    "print( \"Array:\", array )\n",
    "print( \"Slice:\", slice )\n",
    "\n",
    "slice[ 0 ] = 52\n",
    "print( \"slice[ 0 ] = 52\")\n",
    "\n",
    "print( \"Slice:\", slice )\n",
    "print( \"Array:\", array )"
   ]
  },
  {
   "cell_type": "markdown",
   "metadata": {},
   "source": [
    "# Assignment & Broadcasting"
   ]
  },
  {
   "cell_type": "markdown",
   "metadata": {},
   "source": [
    "You can assign a single value in an array"
   ]
  },
  {
   "cell_type": "code",
   "execution_count": 10,
   "metadata": {},
   "outputs": [
    {
     "name": "stdout",
     "output_type": "stream",
     "text": [
      "333\n"
     ]
    }
   ],
   "source": [
    "array = np.arange( 0, 20 )\n",
    "\n",
    "array[ 5 ] = 333\n",
    "print( array[ 5 ] )"
   ]
  },
  {
   "cell_type": "markdown",
   "metadata": {},
   "source": [
    "You can broadcast (assign to multiple values)"
   ]
  },
  {
   "cell_type": "code",
   "execution_count": 11,
   "metadata": {},
   "outputs": [
    {
     "name": "stdout",
     "output_type": "stream",
     "text": [
      "[  1   2   3   4 333 333 333 333 333  10  11  12  13  14]\n"
     ]
    }
   ],
   "source": [
    "array = np.arange( 0, 20 )\n",
    "\n",
    "array[ 5:10 ] = 333\n",
    "print( array[ 1:15 ] )"
   ]
  },
  {
   "cell_type": "markdown",
   "metadata": {},
   "source": [
    "# Casting\n",
    "\n",
    "Numpy arrays can only have a single data type so when you provide multiple data types, the items in the array will get converted into the lowest common denominator."
   ]
  },
  {
   "cell_type": "markdown",
   "metadata": {},
   "source": [
    "If integers and floats are mixed, everything becomes a float."
   ]
  },
  {
   "cell_type": "code",
   "execution_count": 12,
   "metadata": {},
   "outputs": [
    {
     "data": {
      "text/plain": [
       "array([1. , 2. , 3. , 5.5])"
      ]
     },
     "execution_count": 12,
     "metadata": {},
     "output_type": "execute_result"
    }
   ],
   "source": [
    "list = [ 1, 2, 3, 5.5 ]\n",
    "np.array( list )"
   ]
  },
  {
   "cell_type": "markdown",
   "metadata": {},
   "source": [
    "If numerics and strings are mixed, everything becomes a string."
   ]
  },
  {
   "cell_type": "code",
   "execution_count": 13,
   "metadata": {},
   "outputs": [
    {
     "data": {
      "text/plain": [
       "array(['1', '2', '3', '5.5', 'string'], dtype='<U32')"
      ]
     },
     "execution_count": 13,
     "metadata": {},
     "output_type": "execute_result"
    }
   ],
   "source": [
    "list = [ 1, 2, 3, 5.5, 'string' ]\n",
    "np.array( list )"
   ]
  },
  {
   "cell_type": "markdown",
   "metadata": {},
   "source": [
    "# Conditonal Selection"
   ]
  },
  {
   "cell_type": "code",
   "execution_count": 14,
   "metadata": {},
   "outputs": [
    {
     "name": "stdout",
     "output_type": "stream",
     "text": [
      "[0 1 2 3 4 5 6 7 8 9]\n",
      "[False False False False False False  True  True  True  True]\n",
      "[6 7 8 9]\n"
     ]
    }
   ],
   "source": [
    "arr = np.arange( 10 )\n",
    "print( arr )\n",
    "\n",
    "is_greater_than_10 = arr > 5\n",
    "print( is_greater_than_10 )\n",
    "\n",
    "arr2 = arr[ is_greater_than_10 ]\n",
    "print( arr2 )"
   ]
  },
  {
   "cell_type": "markdown",
   "metadata": {},
   "source": [
    "# N-Dimensional Matrices"
   ]
  },
  {
   "cell_type": "markdown",
   "metadata": {},
   "source": [
    "The matrix can be n-dimensional. For example, you can make a three-dimensional array by adjusting the tuple provided as the second argument."
   ]
  },
  {
   "cell_type": "code",
   "execution_count": 15,
   "metadata": {},
   "outputs": [
    {
     "name": "stdout",
     "output_type": "stream",
     "text": [
      "[[[ 0  1  2]\n",
      "  [ 3  4  5]\n",
      "  [ 6  7  8]]\n",
      "\n",
      " [[ 9 10 11]\n",
      "  [12 13 14]\n",
      "  [15 16 17]]\n",
      "\n",
      " [[18 19 20]\n",
      "  [21 22 23]\n",
      "  [24 25 26]]]\n"
     ]
    }
   ],
   "source": [
    "array = np.arange( 0, 27 )\n",
    "matrix = np.reshape( array, ( 3, 3, 3 ) )\n",
    "\n",
    "print( matrix )"
   ]
  },
  {
   "cell_type": "code",
   "execution_count": 16,
   "metadata": {},
   "outputs": [
    {
     "data": {
      "text/plain": [
       "13"
      ]
     },
     "execution_count": 16,
     "metadata": {},
     "output_type": "execute_result"
    }
   ],
   "source": [
    "matrix[1,1,1]"
   ]
  },
  {
   "cell_type": "markdown",
   "metadata": {},
   "source": [
    "# Scalar Operations"
   ]
  },
  {
   "cell_type": "markdown",
   "metadata": {},
   "source": [
    "### Scalar Addition"
   ]
  },
  {
   "cell_type": "code",
   "execution_count": 17,
   "metadata": {},
   "outputs": [
    {
     "name": "stdout",
     "output_type": "stream",
     "text": [
      "[[146 147 146 148 146]\n",
      " [145 147 146 145 148]\n",
      " [147 147 148 145 145]\n",
      " [149 147 148 147 149]\n",
      " [147 149 146 148 146]]\n"
     ]
    }
   ],
   "source": [
    "arr = np.random.randint( 5, 10, ( 5, 5) )\n",
    "\n",
    "print( arr + 140 )"
   ]
  },
  {
   "cell_type": "markdown",
   "metadata": {},
   "source": [
    "### Scalar Subtraction"
   ]
  },
  {
   "cell_type": "code",
   "execution_count": 18,
   "metadata": {},
   "outputs": [
    {
     "name": "stdout",
     "output_type": "stream",
     "text": [
      "[[-16 -14 -16 -15 -13]\n",
      " [-17 -17 -13 -15 -13]\n",
      " [-16 -15 -16 -14 -15]\n",
      " [-14 -17 -17 -13 -14]\n",
      " [-16 -17 -17 -13 -15]]\n"
     ]
    }
   ],
   "source": [
    "arr = np.random.randint( 5, 10, ( 5, 5) )\n",
    "\n",
    "print( arr - 22 )"
   ]
  },
  {
   "cell_type": "markdown",
   "metadata": {},
   "source": [
    "### Scalar Multiplication"
   ]
  },
  {
   "cell_type": "code",
   "execution_count": 19,
   "metadata": {},
   "outputs": [
    {
     "name": "stdout",
     "output_type": "stream",
     "text": [
      "<class 'numpy.ndarray'>\n",
      "[ 0  5 10 15 20]\n",
      "\n",
      "<class 'numpy.ndarray'>\n",
      "[[5. 5. 5. 5. 5.]\n",
      " [5. 5. 5. 5. 5.]\n",
      " [5. 5. 5. 5. 5.]\n",
      " [5. 5. 5. 5. 5.]\n",
      " [5. 5. 5. 5. 5.]]\n",
      "\n",
      "<class 'numpy.matrix'>\n",
      "[[5. 5. 5. 5. 5.]\n",
      " [5. 5. 5. 5. 5.]\n",
      " [5. 5. 5. 5. 5.]\n",
      " [5. 5. 5. 5. 5.]\n",
      " [5. 5. 5. 5. 5.]]\n"
     ]
    }
   ],
   "source": [
    "scalar = 5\n",
    "array = np.arange( 0, 5 )\n",
    "array2 = np.ones( ( 5, 5 ) )\n",
    "matrix = np.matrix( np.ones( ( 5, 5 ) ) )\n",
    "\n",
    "print( type( scalar * array ) )\n",
    "print( scalar * array )\n",
    "print()\n",
    "print( type( scalar * array2 ) )\n",
    "print( scalar * array2 )\n",
    "print()\n",
    "print( type( scalar * matrix ) )\n",
    "print( scalar * matrix )"
   ]
  },
  {
   "cell_type": "markdown",
   "metadata": {},
   "source": [
    "### Scalar Division"
   ]
  },
  {
   "cell_type": "code",
   "execution_count": 20,
   "metadata": {},
   "outputs": [
    {
     "name": "stdout",
     "output_type": "stream",
     "text": [
      "[[0.9 0.8 0.7 0.6 0.5]\n",
      " [0.7 0.6 0.7 0.9 0.6]\n",
      " [0.9 0.9 0.8 0.9 0.9]\n",
      " [0.5 0.9 0.9 0.5 0.5]\n",
      " [0.8 0.5 0.6 0.7 0.7]]\n"
     ]
    }
   ],
   "source": [
    "arr = np.random.randint( 5, 10, ( 5, 5) )\n",
    "print( arr / 10 )"
   ]
  },
  {
   "cell_type": "code",
   "execution_count": 21,
   "metadata": {},
   "outputs": [
    {
     "name": "stdout",
     "output_type": "stream",
     "text": [
      "[       inf 1.         0.5        0.33333333 0.25       0.2\n",
      " 0.16666667 0.14285714 0.125      0.11111111 0.1        0.09090909\n",
      " 0.08333333 0.07692308 0.07142857 0.06666667 0.0625     0.05882353\n",
      " 0.05555556 0.05263158]\n"
     ]
    },
    {
     "name": "stderr",
     "output_type": "stream",
     "text": [
      "<ipython-input-21-81f59a7f5e87>:2: RuntimeWarning: divide by zero encountered in true_divide\n",
      "  print( 1 / arr) # warning because first entry is 0\n"
     ]
    }
   ],
   "source": [
    "arr = np.arange( 20 )\n",
    "print( 1 / arr) # warning because first entry is 0"
   ]
  },
  {
   "cell_type": "code",
   "execution_count": 22,
   "metadata": {},
   "outputs": [
    {
     "name": "stdout",
     "output_type": "stream",
     "text": [
      "[nan inf inf inf inf inf inf inf inf inf inf inf inf inf inf inf inf inf\n",
      " inf inf]\n"
     ]
    },
    {
     "name": "stderr",
     "output_type": "stream",
     "text": [
      "<ipython-input-22-7ac563495edb>:2: RuntimeWarning: divide by zero encountered in true_divide\n",
      "  print( arr / 0 ) # nan on 0/0, inf on any other int / 0\n",
      "<ipython-input-22-7ac563495edb>:2: RuntimeWarning: invalid value encountered in true_divide\n",
      "  print( arr / 0 ) # nan on 0/0, inf on any other int / 0\n"
     ]
    }
   ],
   "source": [
    "arr = np.arange( 20 )\n",
    "print( arr / 0 ) # nan on 0/0, inf on any other int / 0"
   ]
  },
  {
   "cell_type": "markdown",
   "metadata": {},
   "source": [
    "### Scalar Power"
   ]
  },
  {
   "cell_type": "code",
   "execution_count": 56,
   "metadata": {},
   "outputs": [
    {
     "name": "stdout",
     "output_type": "stream",
     "text": [
      "[  0   1   4   9  16  25  36  49  64  81 100 121 144 169 196 225 256 289\n",
      " 324 361]\n"
     ]
    }
   ],
   "source": [
    "arr = np.arange( 20 )\n",
    "print( arr ** 2 )"
   ]
  },
  {
   "cell_type": "markdown",
   "metadata": {},
   "source": [
    "### Square Root"
   ]
  },
  {
   "cell_type": "code",
   "execution_count": 61,
   "metadata": {},
   "outputs": [
    {
     "name": "stdout",
     "output_type": "stream",
     "text": [
      "[ 0.  1.  2.  3.  4.  5.  6.  7.  8.  9. 10. 11. 12. 13. 14. 15. 16. 17.\n",
      " 18. 19.]\n"
     ]
    }
   ],
   "source": [
    "arr = np.arange( 20 ) ** 2\n",
    "print( np.sqrt( arr ) )"
   ]
  },
  {
   "cell_type": "markdown",
   "metadata": {},
   "source": [
    "### Exponential"
   ]
  },
  {
   "cell_type": "code",
   "execution_count": 64,
   "metadata": {},
   "outputs": [
    {
     "data": {
      "text/plain": [
       "array([1.00000000e+00, 2.71828183e+00, 7.38905610e+00, 2.00855369e+01,\n",
       "       5.45981500e+01, 1.48413159e+02, 4.03428793e+02, 1.09663316e+03,\n",
       "       2.98095799e+03, 8.10308393e+03, 2.20264658e+04, 5.98741417e+04,\n",
       "       1.62754791e+05, 4.42413392e+05, 1.20260428e+06, 3.26901737e+06,\n",
       "       8.88611052e+06, 2.41549528e+07, 6.56599691e+07, 1.78482301e+08])"
      ]
     },
     "execution_count": 64,
     "metadata": {},
     "output_type": "execute_result"
    }
   ],
   "source": [
    "arr = np.exp( np.arange( 20 ) )\n",
    "arr"
   ]
  },
  {
   "cell_type": "markdown",
   "metadata": {},
   "source": [
    "# Matrix Operations"
   ]
  },
  {
   "cell_type": "markdown",
   "metadata": {},
   "source": [
    "### Matrix Addition"
   ]
  },
  {
   "cell_type": "code",
   "execution_count": 24,
   "metadata": {},
   "outputs": [
    {
     "name": "stdout",
     "output_type": "stream",
     "text": [
      "[[14 13 15 15 14]\n",
      " [14 14 17 15 12]\n",
      " [13 13 15 13 13]\n",
      " [14 13 18 13 14]\n",
      " [13 11 15 15 13]]\n"
     ]
    }
   ],
   "source": [
    "arr = np.random.randint( 5, 10, ( 5, 5) )\n",
    "arr2 = np.random.randint( 5, 10, ( 5, 5) )\n",
    "\n",
    "print( arr + arr2 )"
   ]
  },
  {
   "cell_type": "markdown",
   "metadata": {},
   "source": [
    "### Matrix Subtraction"
   ]
  },
  {
   "cell_type": "code",
   "execution_count": 25,
   "metadata": {},
   "outputs": [
    {
     "name": "stdout",
     "output_type": "stream",
     "text": [
      "[[ 1  1 -4  3 -1]\n",
      " [ 1 -1  1 -2  1]\n",
      " [-1  1 -3  0  2]\n",
      " [-2  3 -1  3 -1]\n",
      " [-2 -1  0  1  0]]\n"
     ]
    }
   ],
   "source": [
    "arr = np.random.randint( 5, 10, ( 5, 5) )\n",
    "arr2 = np.random.randint( 5, 10, ( 5, 5) )\n",
    "\n",
    "print( arr - arr2 )"
   ]
  },
  {
   "cell_type": "markdown",
   "metadata": {},
   "source": [
    "### Row Vector Multiplication"
   ]
  },
  {
   "cell_type": "code",
   "execution_count": 26,
   "metadata": {},
   "outputs": [
    {
     "name": "stdout",
     "output_type": "stream",
     "text": [
      "<class 'numpy.ndarray'>\n",
      "[ 0  1  4  9 16]\n",
      "\n",
      "<class 'numpy.ndarray'>\n",
      "[[0. 1. 2. 3. 4.]\n",
      " [0. 1. 2. 3. 4.]\n",
      " [0. 1. 2. 3. 4.]\n",
      " [0. 1. 2. 3. 4.]\n",
      " [0. 1. 2. 3. 4.]]\n",
      "\n",
      "<class 'numpy.matrix'>\n",
      "[[10. 10. 10. 10. 10.]]\n"
     ]
    }
   ],
   "source": [
    "array = np.arange( 0, 5 )\n",
    "array2 = np.ones( ( 5, 5 ) )\n",
    "matrix = np.matrix( np.ones( ( 5, 5 ) ) )\n",
    "\n",
    "print( type( array * array ) )\n",
    "print( array * array )\n",
    "print()\n",
    "print( type( array * array2 ) )\n",
    "print( array * array2 )\n",
    "print()\n",
    "print( type( array * matrix ) )\n",
    "print( array * matrix )"
   ]
  },
  {
   "cell_type": "markdown",
   "metadata": {},
   "source": [
    "### Column Vector Multiplication"
   ]
  },
  {
   "cell_type": "code",
   "execution_count": 27,
   "metadata": {},
   "outputs": [
    {
     "name": "stdout",
     "output_type": "stream",
     "text": [
      "<class 'numpy.ndarray'>\n",
      "[[2]\n",
      " [3]\n",
      " [4]\n",
      " [5]\n",
      " [6]]\n",
      "\n",
      "<class 'numpy.ndarray'>\n",
      "[[ 0  2  4  6  8]\n",
      " [ 0  3  6  9 12]\n",
      " [ 0  4  8 12 16]\n",
      " [ 0  5 10 15 20]\n",
      " [ 0  6 12 18 24]]\n",
      "\n",
      "<class 'numpy.ndarray'>\n",
      "[[2. 2. 2. 2. 2.]\n",
      " [3. 3. 3. 3. 3.]\n",
      " [4. 4. 4. 4. 4.]\n",
      " [5. 5. 5. 5. 5.]\n",
      " [6. 6. 6. 6. 6.]]\n",
      "\n",
      "<class 'numpy.matrix'>\n",
      "[[20.]\n",
      " [20.]\n",
      " [20.]\n",
      " [20.]\n",
      " [20.]]\n"
     ]
    }
   ],
   "source": [
    "array = np.arange( 0, 5 )\n",
    "array2 = np.ones( ( 5, 5 ) )\n",
    "matrix = np.matrix( np.ones( ( 5, 5 ) ) )\n",
    "vector = np.reshape( np.arange( 2, 7 ), ( 5, 1 ), order='F' )\n",
    "\n",
    "print( type( vector ) )\n",
    "print( vector )\n",
    "print()\n",
    "print( type( array * vector ) )\n",
    "print( array * vector )\n",
    "print()\n",
    "print( type( array2 * vector ) )\n",
    "print( array2 * vector )\n",
    "print()\n",
    "print( type( matrix * vector ) )\n",
    "print( matrix * vector )"
   ]
  },
  {
   "cell_type": "markdown",
   "metadata": {},
   "source": [
    "### Matrix Multiplication With Arrays\n",
    "\n",
    "You can use `matrix()` to create a NumPy matrix, but it's arguably better to use array:\n",
    "\n",
    "> However, you should really use array instead of matrix. matrix objects have all sorts of horrible incompatibilities with regular ndarrays. With ndarrays, you can just use * for elementwise multiplication:\n",
    "\n",
    "`a * b`\n",
    "\n",
    "> If you're on Python 3.5+, you don't even lose the ability to perform matrix multiplication with an operator, because @ does matrix multiplication now:\n",
    "\n",
    "`a @ b  # matrix multiplication`\n",
    "\n",
    "References:\n",
    "- [How to get element-wise matrix multiplication (Hadamard product) in numpy?](https://stackoverflow.com/questions/40034993/how-to-get-element-wise-matrix-multiplication-hadamard-product-in-numpy)"
   ]
  },
  {
   "cell_type": "code",
   "execution_count": 28,
   "metadata": {},
   "outputs": [
    {
     "name": "stdout",
     "output_type": "stream",
     "text": [
      "[[20.]\n",
      " [20.]\n",
      " [20.]\n",
      " [20.]\n",
      " [20.]]\n"
     ]
    }
   ],
   "source": [
    "array1 = np.ones( ( 5, 5 ) )\n",
    "vector = np.reshape( np.arange( 2, 7 ), ( 5, 1 ), order='F' )\n",
    "\n",
    "print( array1 @ vector )"
   ]
  },
  {
   "cell_type": "markdown",
   "metadata": {},
   "source": [
    "# Numpy Functions"
   ]
  },
  {
   "cell_type": "markdown",
   "metadata": {},
   "source": [
    "References:\n",
    "- [Numpy Docs - Universal functions (ufunc)](https://numpy.org/doc/stable/reference/ufuncs.html)"
   ]
  },
  {
   "cell_type": "markdown",
   "metadata": {},
   "source": [
    "### arange()"
   ]
  },
  {
   "cell_type": "code",
   "execution_count": 71,
   "metadata": {},
   "outputs": [
    {
     "name": "stdout",
     "output_type": "stream",
     "text": [
      "[ 0  1  2  3  4  5  6  7  8  9 10 11 12 13 14 15 16 17 18 19]\n",
      "<class 'numpy.ndarray'>\n"
     ]
    }
   ],
   "source": [
    "# Length (starting at 0)\n",
    "array = np.arange( 20 )\n",
    "print( array )\n",
    "print( type( array ) )"
   ]
  },
  {
   "cell_type": "code",
   "execution_count": 72,
   "metadata": {},
   "outputs": [
    {
     "name": "stdout",
     "output_type": "stream",
     "text": [
      "[ 5  6  7  8  9 10 11 12 13 14 15 16 17 18 19]\n"
     ]
    }
   ],
   "source": [
    "# With start / length\n",
    "array = np.arange( 5, 20 )\n",
    "print( array )"
   ]
  },
  {
   "cell_type": "code",
   "execution_count": 31,
   "metadata": {},
   "outputs": [
    {
     "name": "stdout",
     "output_type": "stream",
     "text": [
      "[ 0 13 26 39 52 65 78 91]\n"
     ]
    }
   ],
   "source": [
    "# Skipping\n",
    "array = np.arange( 0, 100, 13 )\n",
    "print( array )"
   ]
  },
  {
   "cell_type": "markdown",
   "metadata": {},
   "source": [
    "### argmax() / argmin()\n",
    "\n",
    "Find the index locaiton of the maximum or minimum value."
   ]
  },
  {
   "cell_type": "code",
   "execution_count": 32,
   "metadata": {},
   "outputs": [
    {
     "name": "stdout",
     "output_type": "stream",
     "text": [
      "location of min value: 8\n",
      "location of max value: 5\n"
     ]
    }
   ],
   "source": [
    "# arr.argmax() / arr.argmin()\n",
    "arr = np.random.randint( 0, 10, 10 )\n",
    "print( 'location of min value:', arr.argmin() )\n",
    "print( 'location of max value:', arr.argmax() )"
   ]
  },
  {
   "cell_type": "code",
   "execution_count": 33,
   "metadata": {},
   "outputs": [
    {
     "name": "stdout",
     "output_type": "stream",
     "text": [
      "location of min value: 9\n",
      "location of max value: 8\n"
     ]
    }
   ],
   "source": [
    "# np.argmax() / np.argmin()\n",
    "arr = np.random.randint( 0, 10, 10 )\n",
    "print( 'location of min value:', np.argmin( arr ) )\n",
    "print( 'location of max value:', np.argmax( arr ) )"
   ]
  },
  {
   "cell_type": "markdown",
   "metadata": {},
   "source": [
    "### array()\n",
    "\n",
    "You can convert a list into an array using `array()`. "
   ]
  },
  {
   "cell_type": "code",
   "execution_count": 34,
   "metadata": {},
   "outputs": [
    {
     "name": "stdout",
     "output_type": "stream",
     "text": [
      "[1 2 3 4 5 6]\n"
     ]
    }
   ],
   "source": [
    "array = np.array( [ 1, 2, 3, 4, 5, 6 ] )\n",
    "print( array )"
   ]
  },
  {
   "cell_type": "code",
   "execution_count": 35,
   "metadata": {},
   "outputs": [
    {
     "name": "stdout",
     "output_type": "stream",
     "text": [
      "[[1 2 3]\n",
      " [4 5 6]]\n"
     ]
    }
   ],
   "source": [
    "array = np.array( [ [ 1, 2, 3 ], [ 4, 5, 6 ] ] )\n",
    "print( array )"
   ]
  },
  {
   "cell_type": "markdown",
   "metadata": {},
   "source": [
    "### copy()"
   ]
  },
  {
   "cell_type": "code",
   "execution_count": 36,
   "metadata": {},
   "outputs": [
    {
     "name": "stdout",
     "output_type": "stream",
     "text": [
      "[999 999 999 999 999]\n",
      "[0 1 2 3 4]\n"
     ]
    }
   ],
   "source": [
    "arr = np.arange( 5 )\n",
    "arr_copy = arr.copy()\n",
    "\n",
    "# Broadcast update the array to prove that the copy isn't getting updated\n",
    "arr[:] = 999\n",
    "\n",
    "print(arr)\n",
    "print(arr_copy)"
   ]
  },
  {
   "cell_type": "markdown",
   "metadata": {},
   "source": [
    "### dot()\n",
    "\n",
    "Dot-product of two arrays.\n",
    "\n",
    "References:\n",
    "- [NumPy v1.19 docs - numpy.dot](https://numpy.org/doc/stable/reference/generated/numpy.dot.html)"
   ]
  },
  {
   "cell_type": "code",
   "execution_count": 37,
   "metadata": {},
   "outputs": [
    {
     "name": "stdout",
     "output_type": "stream",
     "text": [
      "[[ 1  2  3  4]\n",
      " [ 5  6  7  8]\n",
      " [ 9 10 11 12]\n",
      " [13 14 15 16]\n",
      " [17 18 19 20]]\n",
      "[[2]\n",
      " [3]\n",
      " [4]\n",
      " [5]]\n",
      "[[ 40]\n",
      " [ 96]\n",
      " [152]\n",
      " [208]\n",
      " [264]]\n"
     ]
    }
   ],
   "source": [
    "matrix = np.reshape( np.arange( 1, 21 ), ( 5, 4 ) )\n",
    "vector = np.reshape( np.arange( 2, 6 ), ( 4, 1 ), order='F' )\n",
    "\n",
    "result = matrix.dot( vector )\n",
    "\n",
    "print( matrix )\n",
    "print( vector )\n",
    "print( result )"
   ]
  },
  {
   "cell_type": "markdown",
   "metadata": {},
   "source": [
    "### dtype()\n",
    "\n",
    "Get the data type of the entries in the array"
   ]
  },
  {
   "cell_type": "code",
   "execution_count": 38,
   "metadata": {},
   "outputs": [
    {
     "name": "stdout",
     "output_type": "stream",
     "text": [
      "int64\n"
     ]
    }
   ],
   "source": [
    "arr = np.arange( 20 )\n",
    "print( arr.dtype )"
   ]
  },
  {
   "cell_type": "markdown",
   "metadata": {},
   "source": [
    "### eye()\n",
    "\n",
    "`eye( n )`\n",
    "\n",
    "Returns an identity matrix of size n x n."
   ]
  },
  {
   "cell_type": "code",
   "execution_count": 39,
   "metadata": {},
   "outputs": [
    {
     "data": {
      "text/plain": [
       "array([[1., 0., 0., 0.],\n",
       "       [0., 1., 0., 0.],\n",
       "       [0., 0., 1., 0.],\n",
       "       [0., 0., 0., 1.]])"
      ]
     },
     "execution_count": 39,
     "metadata": {},
     "output_type": "execute_result"
    }
   ],
   "source": [
    "np.eye( 4 )"
   ]
  },
  {
   "cell_type": "markdown",
   "metadata": {},
   "source": [
    "### linspace()\n",
    "\n",
    "`linspace( x, y, z )`\n",
    "\n",
    "Gives evenly spaced array of size z between x and y. "
   ]
  },
  {
   "cell_type": "code",
   "execution_count": 40,
   "metadata": {},
   "outputs": [
    {
     "data": {
      "text/plain": [
       "array([0.        , 0.55555556, 1.11111111, 1.66666667, 2.22222222,\n",
       "       2.77777778, 3.33333333, 3.88888889, 4.44444444, 5.        ])"
      ]
     },
     "execution_count": 40,
     "metadata": {},
     "output_type": "execute_result"
    }
   ],
   "source": [
    "np.linspace( 0, 5, 10 )"
   ]
  },
  {
   "cell_type": "markdown",
   "metadata": {},
   "source": [
    "### matmul()"
   ]
  },
  {
   "cell_type": "code",
   "execution_count": 41,
   "metadata": {},
   "outputs": [
    {
     "name": "stdout",
     "output_type": "stream",
     "text": [
      "[[ 1  2  3  4]\n",
      " [ 5  6  7  8]\n",
      " [ 9 10 11 12]\n",
      " [13 14 15 16]\n",
      " [17 18 19 20]]\n",
      "[[2]\n",
      " [3]\n",
      " [4]\n",
      " [5]]\n",
      "[[ 40]\n",
      " [ 96]\n",
      " [152]\n",
      " [208]\n",
      " [264]]\n"
     ]
    }
   ],
   "source": [
    "matrix = np.reshape( np.arange( 1, 21 ), ( 5, 4 ) )\n",
    "vector = np.reshape( np.arange( 2, 6 ), ( 4, 1 ), order='F' )\n",
    "\n",
    "result = np.matmul( matrix, vector )\n",
    "\n",
    "print( matrix )\n",
    "print( vector )\n",
    "print( result )"
   ]
  },
  {
   "cell_type": "markdown",
   "metadata": {},
   "source": [
    "### matrix()"
   ]
  },
  {
   "cell_type": "code",
   "execution_count": 42,
   "metadata": {},
   "outputs": [
    {
     "name": "stdout",
     "output_type": "stream",
     "text": [
      "[[1 2]\n",
      " [3 4]]\n",
      "<class 'numpy.matrix'>\n"
     ]
    }
   ],
   "source": [
    "a = np.matrix( [ [ 1, 2 ], [ 3, 4 ] ] )\n",
    "\n",
    "print( a )\n",
    "print( type( a ) )"
   ]
  },
  {
   "cell_type": "markdown",
   "metadata": {},
   "source": [
    "### max() / min()\n",
    "\n",
    "Maximum and minimum value in the array."
   ]
  },
  {
   "cell_type": "code",
   "execution_count": 43,
   "metadata": {},
   "outputs": [
    {
     "name": "stdout",
     "output_type": "stream",
     "text": [
      "max:  8\n",
      "min:  0\n"
     ]
    }
   ],
   "source": [
    "# array.max() / array.min()\n",
    "arr = np.random.randint( 0, 10, 10 )\n",
    "print( 'max: ', arr.max() )\n",
    "print( 'min: ', arr.min() )"
   ]
  },
  {
   "cell_type": "code",
   "execution_count": 44,
   "metadata": {},
   "outputs": [
    {
     "name": "stdout",
     "output_type": "stream",
     "text": [
      "max:  9\n",
      "min:  1\n"
     ]
    }
   ],
   "source": [
    "# np.max() / np.min()\n",
    "arr = np.random.randint( 0, 10, 10 )\n",
    "print( 'max: ', np.max( arr ) )\n",
    "print( 'min: ', np.min( arr ) )"
   ]
  },
  {
   "cell_type": "markdown",
   "metadata": {},
   "source": [
    "### ones()"
   ]
  },
  {
   "cell_type": "code",
   "execution_count": 45,
   "metadata": {},
   "outputs": [
    {
     "name": "stdout",
     "output_type": "stream",
     "text": [
      "[1. 1. 1. 1. 1.]\n"
     ]
    }
   ],
   "source": [
    "array = np.ones( 5 )\n",
    "print( array )"
   ]
  },
  {
   "cell_type": "code",
   "execution_count": 46,
   "metadata": {},
   "outputs": [
    {
     "name": "stdout",
     "output_type": "stream",
     "text": [
      "[[1. 1. 1.]\n",
      " [1. 1. 1.]\n",
      " [1. 1. 1.]\n",
      " [1. 1. 1.]\n",
      " [1. 1. 1.]]\n"
     ]
    }
   ],
   "source": [
    "matrix = np.ones( (5, 3 ) )\n",
    "print( matrix )"
   ]
  },
  {
   "cell_type": "markdown",
   "metadata": {},
   "source": [
    "### random()\n",
    "\n",
    "Many options such as:\n",
    "- `np.random.rand`\n",
    "- `np.random.binomial`\n",
    "- `np.random.chisquare`\n",
    "- `np.random.poisson`\n",
    "- etc"
   ]
  },
  {
   "cell_type": "code",
   "execution_count": 47,
   "metadata": {},
   "outputs": [
    {
     "name": "stdout",
     "output_type": "stream",
     "text": [
      "0.9814988046186107\n",
      "[0.20945891 0.75276933 0.92922133 0.70452765]\n",
      "[[0.64200981 0.47129809]\n",
      " [0.27439368 0.38802238]]\n"
     ]
    }
   ],
   "source": [
    "# From a uniform distribution\n",
    "print( np.random.rand() )\n",
    "print( np.random.rand( 4 ) )\n",
    "print( np.random.rand( 2, 2 ) )"
   ]
  },
  {
   "cell_type": "code",
   "execution_count": 48,
   "metadata": {},
   "outputs": [
    {
     "name": "stdout",
     "output_type": "stream",
     "text": [
      "0.16518057414877668\n",
      "[ 1.24601088  1.92014995 -1.11444348 -0.95773798]\n",
      "[[-0.34364908  0.89897033]\n",
      " [-0.68633358 -0.41506797]]\n"
     ]
    }
   ],
   "source": [
    "# From a normal / gaussian distribution\n",
    "print( np.random.randn() )\n",
    "print( np.random.randn( 4 ) )\n",
    "print( np.random.randn( 2, 2 ) )"
   ]
  },
  {
   "cell_type": "code",
   "execution_count": 49,
   "metadata": {},
   "outputs": [
    {
     "name": "stdout",
     "output_type": "stream",
     "text": [
      "9\n",
      "[16 18  2 19]\n",
      "[[16 13]\n",
      " [10  2]]\n"
     ]
    }
   ],
   "source": [
    "# Random integers in a range (lowest inclusive, highest exclusive)\n",
    "print( np.random.randint( 2, 20 ) )\n",
    "print( np.random.randint( 2, 20, 4 ) )\n",
    "print( np.random.randint( 2, 20, ( 2, 2 ) ) )"
   ]
  },
  {
   "cell_type": "markdown",
   "metadata": {},
   "source": [
    "### reshape()\n",
    "\n",
    "The reshape function will convert an array into an array of arrays, thereby making it a matrix."
   ]
  },
  {
   "cell_type": "markdown",
   "metadata": {},
   "source": [
    "The reshape function will populate rows first and then columns, by default."
   ]
  },
  {
   "cell_type": "code",
   "execution_count": 50,
   "metadata": {},
   "outputs": [
    {
     "name": "stdout",
     "output_type": "stream",
     "text": [
      "[[ 0  1  2  3]\n",
      " [ 4  5  6  7]\n",
      " [ 8  9 10 11]\n",
      " [12 13 14 15]\n",
      " [16 17 18 19]]\n",
      "<class 'numpy.ndarray'>\n"
     ]
    }
   ],
   "source": [
    "array = np.arange( 0, 20 )\n",
    "matrix = np.reshape( array, ( 5, 4 ) )\n",
    "print( matrix )\n",
    "print( type( matrix ) )"
   ]
  },
  {
   "cell_type": "markdown",
   "metadata": {},
   "source": [
    "The default value is the same as specifying `order='C'`, where `C` refers to the C programming language. "
   ]
  },
  {
   "cell_type": "code",
   "execution_count": 51,
   "metadata": {},
   "outputs": [
    {
     "name": "stdout",
     "output_type": "stream",
     "text": [
      "[[ 0  1  2  3]\n",
      " [ 4  5  6  7]\n",
      " [ 8  9 10 11]\n",
      " [12 13 14 15]\n",
      " [16 17 18 19]]\n"
     ]
    }
   ],
   "source": [
    "array = np.arange( 0, 20 )\n",
    "matrix = np.reshape( array, ( 5, 4 ), order='C' )\n",
    "print( matrix )"
   ]
  },
  {
   "cell_type": "markdown",
   "metadata": {},
   "source": [
    "You can have it populate columns first using `order='F'`, where `F` refers to the Fortran programming language."
   ]
  },
  {
   "cell_type": "code",
   "execution_count": 52,
   "metadata": {},
   "outputs": [
    {
     "name": "stdout",
     "output_type": "stream",
     "text": [
      "[[ 0  5 10 15]\n",
      " [ 1  6 11 16]\n",
      " [ 2  7 12 17]\n",
      " [ 3  8 13 18]\n",
      " [ 4  9 14 19]]\n"
     ]
    }
   ],
   "source": [
    "array = np.arange( 0, 20 )\n",
    "matrix = np.reshape( array, ( 5, 4 ), order='F' )\n",
    "print( matrix )"
   ]
  },
  {
   "cell_type": "markdown",
   "metadata": {},
   "source": [
    "### shape"
   ]
  },
  {
   "cell_type": "code",
   "execution_count": 53,
   "metadata": {},
   "outputs": [
    {
     "name": "stdout",
     "output_type": "stream",
     "text": [
      "(20,)\n",
      "(5, 4)\n"
     ]
    }
   ],
   "source": [
    "arr = np.arange( 20 )\n",
    "arr2 = arr.reshape( ( 5, 4 ) )\n",
    "print( arr.shape )\n",
    "print( arr2.shape )"
   ]
  },
  {
   "cell_type": "markdown",
   "metadata": {},
   "source": [
    "### sum()"
   ]
  },
  {
   "cell_type": "code",
   "execution_count": 84,
   "metadata": {},
   "outputs": [
    {
     "name": "stdout",
     "output_type": "stream",
     "text": [
      "[[ 0  1  2  3  4]\n",
      " [ 5  6  7  8  9]\n",
      " [10 11 12 13 14]\n",
      " [15 16 17 18 19]]\n",
      "190\n",
      "190\n",
      "[30 34 38 42 46]\n",
      "[10 35 60 85]\n"
     ]
    }
   ],
   "source": [
    "arr = np.arange( 20 ).reshape(4,5)\n",
    "\n",
    "print( arr )\n",
    "\n",
    "# Sum of all elements\n",
    "print( arr.sum() )\n",
    "print( np.sum( arr ) )\n",
    "\n",
    "# Sum of all columns\n",
    "print( np.sum( arr, axis=0 ) )\n",
    "\n",
    "# Sum of all rows\n",
    "print( np.sum( arr, axis=1 ) )"
   ]
  },
  {
   "cell_type": "markdown",
   "metadata": {},
   "source": [
    "### sin()"
   ]
  },
  {
   "cell_type": "code",
   "execution_count": 69,
   "metadata": {},
   "outputs": [
    {
     "data": {
      "text/plain": [
       "array([ 0.        ,  0.84147098,  0.90929743,  0.14112001, -0.7568025 ,\n",
       "       -0.95892427, -0.2794155 ,  0.6569866 ,  0.98935825,  0.41211849,\n",
       "       -0.54402111, -0.99999021, -0.53657292,  0.42016704,  0.99060736,\n",
       "        0.65028784, -0.28790332, -0.96139749, -0.75098725,  0.14987721])"
      ]
     },
     "execution_count": 69,
     "metadata": {},
     "output_type": "execute_result"
    }
   ],
   "source": [
    "arr = np.arange( 20 )\n",
    "\n",
    "np.sin( arr )"
   ]
  },
  {
   "cell_type": "markdown",
   "metadata": {},
   "source": [
    "### std()\n",
    "\n",
    "Standard deviation"
   ]
  },
  {
   "cell_type": "code",
   "execution_count": 157,
   "metadata": {},
   "outputs": [
    {
     "data": {
      "text/plain": [
       "1.0321098366427914"
      ]
     },
     "execution_count": 157,
     "metadata": {},
     "output_type": "execute_result"
    }
   ],
   "source": [
    "arr = np.random.randn( 200 )\n",
    "arr.std()"
   ]
  },
  {
   "cell_type": "markdown",
   "metadata": {},
   "source": [
    "### var()\n",
    "\n",
    "Returns the variance of the array elements, along given axis."
   ]
  },
  {
   "cell_type": "code",
   "execution_count": 161,
   "metadata": {},
   "outputs": [
    {
     "data": {
      "text/plain": [
       "array([0.90405912, 0.41031914, 0.98256713, 1.15151322, 0.78867115,\n",
       "       1.64332408, 0.65619719, 1.24468939, 0.75736   , 1.72230368])"
      ]
     },
     "execution_count": 161,
     "metadata": {},
     "output_type": "execute_result"
    }
   ],
   "source": [
    "arr = np.random.randn( 100 ).reshape( 10, 10 )\n",
    "\n",
    "# All numbers\n",
    "arr.var()\n",
    "\n",
    "# Columns\n",
    "arr.var( axis=0 )\n",
    "\n",
    "# Rows\n",
    "arr.var( axis=1 )"
   ]
  },
  {
   "cell_type": "markdown",
   "metadata": {},
   "source": [
    "### zeros()"
   ]
  },
  {
   "cell_type": "code",
   "execution_count": 54,
   "metadata": {},
   "outputs": [
    {
     "name": "stdout",
     "output_type": "stream",
     "text": [
      "[0. 0. 0. 0. 0.]\n"
     ]
    }
   ],
   "source": [
    "array = np.zeros( 5 )\n",
    "print( array )"
   ]
  },
  {
   "cell_type": "code",
   "execution_count": 55,
   "metadata": {},
   "outputs": [
    {
     "name": "stdout",
     "output_type": "stream",
     "text": [
      "[[0. 0. 0.]\n",
      " [0. 0. 0.]\n",
      " [0. 0. 0.]\n",
      " [0. 0. 0.]\n",
      " [0. 0. 0.]]\n"
     ]
    }
   ],
   "source": [
    "matrix = np.zeros( ( 5, 3 ) )\n",
    "print( matrix )"
   ]
  }
 ],
 "metadata": {
  "kernelspec": {
   "display_name": "Python 3",
   "language": "python",
   "name": "python3"
  },
  "language_info": {
   "codemirror_mode": {
    "name": "ipython",
    "version": 3
   },
   "file_extension": ".py",
   "mimetype": "text/x-python",
   "name": "python",
   "nbconvert_exporter": "python",
   "pygments_lexer": "ipython3",
   "version": "3.8.5"
  }
 },
 "nbformat": 4,
 "nbformat_minor": 4
}
