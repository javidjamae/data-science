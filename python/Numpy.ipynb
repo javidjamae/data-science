{
 "cells": [
  {
   "cell_type": "markdown",
   "metadata": {},
   "source": [
    "# Overview\n",
    "\n",
    "N-dimensional arrays in Python."
   ]
  },
  {
   "cell_type": "code",
   "execution_count": 1,
   "metadata": {},
   "outputs": [],
   "source": [
    "import numpy as np"
   ]
  },
  {
   "cell_type": "markdown",
   "metadata": {},
   "source": [
    "# Basics"
   ]
  },
  {
   "cell_type": "markdown",
   "metadata": {},
   "source": [
    "### Indexing"
   ]
  },
  {
   "cell_type": "markdown",
   "metadata": {},
   "source": [
    "You can index into an array by row first, then by column, using a comma as a separator. Indexing is 0-based for both the row and the column."
   ]
  },
  {
   "cell_type": "code",
   "execution_count": 2,
   "metadata": {},
   "outputs": [
    {
     "data": {
      "text/plain": [
       "6"
      ]
     },
     "execution_count": 2,
     "metadata": {},
     "output_type": "execute_result"
    }
   ],
   "source": [
    "array = np.arange( 0, 20 )\n",
    "matrix = np.reshape( array, ( 5, 4 ) )\n",
    "matrix[1,2]"
   ]
  },
  {
   "cell_type": "markdown",
   "metadata": {},
   "source": [
    "### Mutable Slicing\n",
    "\n",
    "You can slice an ndarray, and it will return a slice that has a reference to the original array. So, if you update the slice, you'll also update the original array. This makes it easier to do performant array and matrix operations without having to allocate more memory for new arrays. "
   ]
  },
  {
   "cell_type": "code",
   "execution_count": 17,
   "metadata": {},
   "outputs": [
    {
     "name": "stdout",
     "output_type": "stream",
     "text": [
      "Array: [1 2 3 4 5 6]\n",
      "Slice: [3 4 5]\n",
      "slice[ 0 ] = 52\n",
      "Slice: [52  4  5]\n",
      "Array: [ 1  2 52  4  5  6]\n"
     ]
    }
   ],
   "source": [
    "array = np.array( [ 1, 2, 3, 4, 5, 6 ] )\n",
    "\n",
    "slice = array[ 2:5 ]\n",
    "\n",
    "print( \"Array:\", array )\n",
    "print( \"Slice:\", slice )\n",
    "\n",
    "slice[ 0 ] = 52\n",
    "print( \"slice[ 0 ] = 52\")\n",
    "\n",
    "print( \"Slice:\", slice )\n",
    "print( \"Array:\", array )"
   ]
  },
  {
   "cell_type": "markdown",
   "metadata": {},
   "source": [
    "### Casting\n",
    "\n",
    "Numpy arrays can only have a single data type so when you provide multiple data types, the arrays will get converted into the lowest common denominator."
   ]
  },
  {
   "cell_type": "markdown",
   "metadata": {},
   "source": [
    "If integers and floats are mixed, everything becomes a float."
   ]
  },
  {
   "cell_type": "code",
   "execution_count": 18,
   "metadata": {},
   "outputs": [
    {
     "data": {
      "text/plain": [
       "array([1. , 2. , 3. , 5.5])"
      ]
     },
     "execution_count": 18,
     "metadata": {},
     "output_type": "execute_result"
    }
   ],
   "source": [
    "list = [ 1, 2, 3, 5.5 ]\n",
    "np.array( list )"
   ]
  },
  {
   "cell_type": "markdown",
   "metadata": {},
   "source": [
    "If numerics and strings are mixed, everything becomes a string."
   ]
  },
  {
   "cell_type": "code",
   "execution_count": 19,
   "metadata": {},
   "outputs": [
    {
     "data": {
      "text/plain": [
       "array(['1', '2', '3', '5.5', 'string'], dtype='<U32')"
      ]
     },
     "execution_count": 19,
     "metadata": {},
     "output_type": "execute_result"
    }
   ],
   "source": [
    "list = [ 1, 2, 3, 5.5, 'string' ]\n",
    "np.array( list )"
   ]
  },
  {
   "cell_type": "markdown",
   "metadata": {},
   "source": [
    "### N-Dimensional Matrix"
   ]
  },
  {
   "cell_type": "markdown",
   "metadata": {},
   "source": [
    "The matrix can be n-dimensional. For example, you can make a three-dimensional array by adjusting the tuple provided as the second argument."
   ]
  },
  {
   "cell_type": "code",
   "execution_count": 4,
   "metadata": {},
   "outputs": [
    {
     "name": "stdout",
     "output_type": "stream",
     "text": [
      "[[[ 0  1  2]\n",
      "  [ 3  4  5]\n",
      "  [ 6  7  8]]\n",
      "\n",
      " [[ 9 10 11]\n",
      "  [12 13 14]\n",
      "  [15 16 17]]\n",
      "\n",
      " [[18 19 20]\n",
      "  [21 22 23]\n",
      "  [24 25 26]]]\n"
     ]
    }
   ],
   "source": [
    "array = np.arange( 0, 27 )\n",
    "matrix = np.reshape( array, ( 3, 3, 3 ) )\n",
    "\n",
    "print( matrix )"
   ]
  },
  {
   "cell_type": "code",
   "execution_count": 5,
   "metadata": {},
   "outputs": [
    {
     "data": {
      "text/plain": [
       "13"
      ]
     },
     "execution_count": 5,
     "metadata": {},
     "output_type": "execute_result"
    }
   ],
   "source": [
    "matrix[1,1,1]"
   ]
  },
  {
   "cell_type": "markdown",
   "metadata": {},
   "source": [
    "# Operations"
   ]
  },
  {
   "cell_type": "markdown",
   "metadata": {},
   "source": [
    "### Scalar Multiplication"
   ]
  },
  {
   "cell_type": "code",
   "execution_count": 84,
   "metadata": {},
   "outputs": [
    {
     "name": "stdout",
     "output_type": "stream",
     "text": [
      "<class 'numpy.ndarray'>\n",
      "[ 0  5 10 15 20]\n",
      "\n",
      "<class 'numpy.ndarray'>\n",
      "[[5. 5. 5. 5. 5.]\n",
      " [5. 5. 5. 5. 5.]\n",
      " [5. 5. 5. 5. 5.]\n",
      " [5. 5. 5. 5. 5.]\n",
      " [5. 5. 5. 5. 5.]]\n",
      "\n",
      "<class 'numpy.matrix'>\n",
      "[[5. 5. 5. 5. 5.]\n",
      " [5. 5. 5. 5. 5.]\n",
      " [5. 5. 5. 5. 5.]\n",
      " [5. 5. 5. 5. 5.]\n",
      " [5. 5. 5. 5. 5.]]\n"
     ]
    }
   ],
   "source": [
    "scalar = 5\n",
    "array = np.arange( 0, 5 )\n",
    "array2 = np.ones( ( 5, 5 ) )\n",
    "matrix = np.matrix( np.ones( ( 5, 5 ) ) )\n",
    "\n",
    "print( type( scalar * array ) )\n",
    "print( scalar * array )\n",
    "print()\n",
    "print( type( scalar * array2 ) )\n",
    "print( scalar * array2 )\n",
    "print()\n",
    "print( type( scalar * matrix ) )\n",
    "print( scalar * matrix )"
   ]
  },
  {
   "cell_type": "markdown",
   "metadata": {},
   "source": [
    "### Row Vector Multiplication"
   ]
  },
  {
   "cell_type": "code",
   "execution_count": 86,
   "metadata": {},
   "outputs": [
    {
     "name": "stdout",
     "output_type": "stream",
     "text": [
      "<class 'numpy.ndarray'>\n",
      "[ 0  1  4  9 16]\n",
      "\n",
      "<class 'numpy.ndarray'>\n",
      "[[0. 1. 2. 3. 4.]\n",
      " [0. 1. 2. 3. 4.]\n",
      " [0. 1. 2. 3. 4.]\n",
      " [0. 1. 2. 3. 4.]\n",
      " [0. 1. 2. 3. 4.]]\n",
      "\n",
      "<class 'numpy.matrix'>\n",
      "[[10. 10. 10. 10. 10.]]\n"
     ]
    }
   ],
   "source": [
    "array = np.arange( 0, 5 )\n",
    "array2 = np.ones( ( 5, 5 ) )\n",
    "matrix = np.matrix( np.ones( ( 5, 5 ) ) )\n",
    "\n",
    "print( type( array * array ) )\n",
    "print( array * array )\n",
    "print()\n",
    "print( type( array * array2 ) )\n",
    "print( array * array2 )\n",
    "print()\n",
    "print( type( array * matrix ) )\n",
    "print( array * matrix )"
   ]
  },
  {
   "cell_type": "markdown",
   "metadata": {},
   "source": [
    "### Column Vector Multiplication"
   ]
  },
  {
   "cell_type": "code",
   "execution_count": 82,
   "metadata": {},
   "outputs": [
    {
     "name": "stdout",
     "output_type": "stream",
     "text": [
      "<class 'numpy.ndarray'>\n",
      "[[2]\n",
      " [3]\n",
      " [4]\n",
      " [5]\n",
      " [6]]\n",
      "\n",
      "<class 'numpy.ndarray'>\n",
      "[[ 0  2  4  6  8]\n",
      " [ 0  3  6  9 12]\n",
      " [ 0  4  8 12 16]\n",
      " [ 0  5 10 15 20]\n",
      " [ 0  6 12 18 24]]\n",
      "\n",
      "<class 'numpy.ndarray'>\n",
      "[[2. 2. 2. 2. 2.]\n",
      " [3. 3. 3. 3. 3.]\n",
      " [4. 4. 4. 4. 4.]\n",
      " [5. 5. 5. 5. 5.]\n",
      " [6. 6. 6. 6. 6.]]\n",
      "\n",
      "<class 'numpy.matrix'>\n",
      "[[20.]\n",
      " [20.]\n",
      " [20.]\n",
      " [20.]\n",
      " [20.]]\n"
     ]
    }
   ],
   "source": [
    "array = np.arange( 0, 5 )\n",
    "array2 = np.ones( ( 5, 5 ) )\n",
    "matrix = np.matrix( np.ones( ( 5, 5 ) ) )\n",
    "vector = np.reshape( np.arange( 2, 7 ), ( 5, 1 ), order='F' )\n",
    "\n",
    "print( type( vector ) )\n",
    "print( vector )\n",
    "print()\n",
    "print( type( array * vector ) )\n",
    "print( array * vector )\n",
    "print()\n",
    "print( type( array2 * vector ) )\n",
    "print( array2 * vector )\n",
    "print()\n",
    "print( type( matrix * vector ) )\n",
    "print( matrix * vector )"
   ]
  },
  {
   "cell_type": "markdown",
   "metadata": {},
   "source": [
    "### Matrix Multiplication With Arrays\n",
    "\n",
    "You can use `matrix()` to create a NumPy matrix, but it's arguably better to use array:\n",
    "\n",
    "> However, you should really use array instead of matrix. matrix objects have all sorts of horrible incompatibilities with regular ndarrays. With ndarrays, you can just use * for elementwise multiplication:\n",
    "\n",
    "`a * b`\n",
    "\n",
    "> If you're on Python 3.5+, you don't even lose the ability to perform matrix multiplication with an operator, because @ does matrix multiplication now:\n",
    "\n",
    "`a @ b  # matrix multiplication`\n",
    "\n",
    "References:\n",
    "- [How to get element-wise matrix multiplication (Hadamard product) in numpy?](https://stackoverflow.com/questions/40034993/how-to-get-element-wise-matrix-multiplication-hadamard-product-in-numpy)"
   ]
  },
  {
   "cell_type": "code",
   "execution_count": 89,
   "metadata": {},
   "outputs": [
    {
     "name": "stdout",
     "output_type": "stream",
     "text": [
      "[[20.]\n",
      " [20.]\n",
      " [20.]\n",
      " [20.]\n",
      " [20.]]\n"
     ]
    }
   ],
   "source": [
    "array1 = np.ones( ( 5, 5 ) )\n",
    "vector = np.reshape( np.arange( 2, 7 ), ( 5, 1 ), order='F' )\n",
    "\n",
    "print( array1 @ vector )"
   ]
  },
  {
   "cell_type": "markdown",
   "metadata": {},
   "source": [
    "# Functions"
   ]
  },
  {
   "cell_type": "markdown",
   "metadata": {},
   "source": [
    "### arange()"
   ]
  },
  {
   "cell_type": "code",
   "execution_count": 6,
   "metadata": {},
   "outputs": [
    {
     "name": "stdout",
     "output_type": "stream",
     "text": [
      "[ 0  1  2  3  4  5  6  7  8  9 10 11 12 13 14 15 16 17 18 19]\n",
      "<class 'numpy.ndarray'>\n"
     ]
    }
   ],
   "source": [
    "array = np.arange( 0, 20 )\n",
    "print( array )\n",
    "print( type( array ) )"
   ]
  },
  {
   "cell_type": "markdown",
   "metadata": {},
   "source": [
    "### array()\n",
    "\n",
    "You can convert a list into an array using `array()`. "
   ]
  },
  {
   "cell_type": "code",
   "execution_count": 21,
   "metadata": {},
   "outputs": [
    {
     "name": "stdout",
     "output_type": "stream",
     "text": [
      "[1 2 3 4 5 6]\n"
     ]
    }
   ],
   "source": [
    "array = np.array( [ 1, 2, 3, 4, 5, 6 ] )\n",
    "print( array )"
   ]
  },
  {
   "cell_type": "code",
   "execution_count": 8,
   "metadata": {},
   "outputs": [
    {
     "name": "stdout",
     "output_type": "stream",
     "text": [
      "[[1 2 3]\n",
      " [4 5 6]]\n"
     ]
    }
   ],
   "source": [
    "array = np.array( [ [ 1, 2, 3 ], [ 4, 5, 6 ] ] )\n",
    "print( array )"
   ]
  },
  {
   "cell_type": "markdown",
   "metadata": {},
   "source": [
    "### dot()\n",
    "\n",
    "Dot-product of two arrays.\n",
    "\n",
    "References:\n",
    "- [NumPy v1.19 docs - numpy.dot](https://numpy.org/doc/stable/reference/generated/numpy.dot.html)"
   ]
  },
  {
   "cell_type": "code",
   "execution_count": 53,
   "metadata": {},
   "outputs": [
    {
     "name": "stdout",
     "output_type": "stream",
     "text": [
      "[[ 1  2  3  4]\n",
      " [ 5  6  7  8]\n",
      " [ 9 10 11 12]\n",
      " [13 14 15 16]\n",
      " [17 18 19 20]]\n",
      "[[2]\n",
      " [3]\n",
      " [4]\n",
      " [5]]\n",
      "[[ 40]\n",
      " [ 96]\n",
      " [152]\n",
      " [208]\n",
      " [264]]\n"
     ]
    }
   ],
   "source": [
    "matrix = np.reshape( np.arange( 1, 21 ), ( 5, 4 ) )\n",
    "vector = np.reshape( np.arange( 2, 6 ), ( 4, 1 ), order='F' )\n",
    "\n",
    "result = matrix.dot( vector )\n",
    "\n",
    "print( matrix )\n",
    "print( vector )\n",
    "print( result )"
   ]
  },
  {
   "cell_type": "markdown",
   "metadata": {},
   "source": [
    "### matmul()"
   ]
  },
  {
   "cell_type": "code",
   "execution_count": 55,
   "metadata": {},
   "outputs": [
    {
     "name": "stdout",
     "output_type": "stream",
     "text": [
      "[[ 1  2  3  4]\n",
      " [ 5  6  7  8]\n",
      " [ 9 10 11 12]\n",
      " [13 14 15 16]\n",
      " [17 18 19 20]]\n",
      "[[2]\n",
      " [3]\n",
      " [4]\n",
      " [5]]\n",
      "[[ 40]\n",
      " [ 96]\n",
      " [152]\n",
      " [208]\n",
      " [264]]\n"
     ]
    }
   ],
   "source": [
    "matrix = np.reshape( np.arange( 1, 21 ), ( 5, 4 ) )\n",
    "vector = np.reshape( np.arange( 2, 6 ), ( 4, 1 ), order='F' )\n",
    "\n",
    "result = np.matmul( matrix, vector )\n",
    "\n",
    "print( matrix )\n",
    "print( vector )\n",
    "print( result )"
   ]
  },
  {
   "cell_type": "markdown",
   "metadata": {},
   "source": [
    "### matrix()"
   ]
  },
  {
   "cell_type": "code",
   "execution_count": 66,
   "metadata": {},
   "outputs": [
    {
     "name": "stdout",
     "output_type": "stream",
     "text": [
      "[[1 2]\n",
      " [3 4]]\n",
      "<class 'numpy.matrix'>\n"
     ]
    }
   ],
   "source": [
    "a = np.matrix( [ [ 1, 2 ], [ 3, 4 ] ] )\n",
    "\n",
    "print( a )\n",
    "print( type( a ) )"
   ]
  },
  {
   "cell_type": "markdown",
   "metadata": {},
   "source": [
    "### ones()"
   ]
  },
  {
   "cell_type": "code",
   "execution_count": 57,
   "metadata": {},
   "outputs": [
    {
     "name": "stdout",
     "output_type": "stream",
     "text": [
      "[1. 1. 1. 1. 1.]\n"
     ]
    }
   ],
   "source": [
    "array = np.ones( 5 )\n",
    "print( array )"
   ]
  },
  {
   "cell_type": "code",
   "execution_count": 60,
   "metadata": {},
   "outputs": [
    {
     "name": "stdout",
     "output_type": "stream",
     "text": [
      "[[1. 1. 1.]\n",
      " [1. 1. 1.]\n",
      " [1. 1. 1.]\n",
      " [1. 1. 1.]\n",
      " [1. 1. 1.]]\n"
     ]
    }
   ],
   "source": [
    "matrix = np.ones( (5, 3 ) )\n",
    "print( matrix )"
   ]
  },
  {
   "cell_type": "markdown",
   "metadata": {},
   "source": [
    "### reshape()\n",
    "\n",
    "The reshape function will convert an array into an array of arrays, thereby making it a matrix."
   ]
  },
  {
   "cell_type": "markdown",
   "metadata": {},
   "source": [
    "The reshape function will populate rows first and then columns, by default."
   ]
  },
  {
   "cell_type": "code",
   "execution_count": 9,
   "metadata": {},
   "outputs": [
    {
     "name": "stdout",
     "output_type": "stream",
     "text": [
      "[[ 0  1  2  3]\n",
      " [ 4  5  6  7]\n",
      " [ 8  9 10 11]\n",
      " [12 13 14 15]\n",
      " [16 17 18 19]]\n",
      "<class 'numpy.ndarray'>\n"
     ]
    }
   ],
   "source": [
    "array = np.arange( 0, 20 )\n",
    "matrix = np.reshape( array, ( 5, 4 ) )\n",
    "print( matrix )\n",
    "print( type( matrix ) )"
   ]
  },
  {
   "cell_type": "markdown",
   "metadata": {},
   "source": [
    "The default value is the same as specifying `order='C'`, where `C` refers to the C programming language. "
   ]
  },
  {
   "cell_type": "code",
   "execution_count": 10,
   "metadata": {},
   "outputs": [
    {
     "name": "stdout",
     "output_type": "stream",
     "text": [
      "[[ 0  1  2  3]\n",
      " [ 4  5  6  7]\n",
      " [ 8  9 10 11]\n",
      " [12 13 14 15]\n",
      " [16 17 18 19]]\n"
     ]
    }
   ],
   "source": [
    "array = np.arange( 0, 20 )\n",
    "matrix = np.reshape( array, ( 5, 4 ), order='C' )\n",
    "print( matrix )"
   ]
  },
  {
   "cell_type": "markdown",
   "metadata": {},
   "source": [
    "You can have it populate columns first using `order='F'`, where `F` refers to the Fortran programming language."
   ]
  },
  {
   "cell_type": "code",
   "execution_count": 11,
   "metadata": {},
   "outputs": [
    {
     "name": "stdout",
     "output_type": "stream",
     "text": [
      "[[ 0  5 10 15]\n",
      " [ 1  6 11 16]\n",
      " [ 2  7 12 17]\n",
      " [ 3  8 13 18]\n",
      " [ 4  9 14 19]]\n"
     ]
    }
   ],
   "source": [
    "array = np.arange( 0, 20 )\n",
    "matrix = np.reshape( array, ( 5, 4 ), order='F' )\n",
    "print( matrix )"
   ]
  },
  {
   "cell_type": "markdown",
   "metadata": {},
   "source": [
    "### zeros()"
   ]
  },
  {
   "cell_type": "code",
   "execution_count": 61,
   "metadata": {},
   "outputs": [
    {
     "name": "stdout",
     "output_type": "stream",
     "text": [
      "[0. 0. 0. 0. 0.]\n"
     ]
    }
   ],
   "source": [
    "array = np.zeros( 5 )\n",
    "print( array )"
   ]
  },
  {
   "cell_type": "code",
   "execution_count": 63,
   "metadata": {},
   "outputs": [
    {
     "name": "stdout",
     "output_type": "stream",
     "text": [
      "[[0. 0. 0.]\n",
      " [0. 0. 0.]\n",
      " [0. 0. 0.]\n",
      " [0. 0. 0.]\n",
      " [0. 0. 0.]]\n"
     ]
    }
   ],
   "source": [
    "matrix = np.zeros( ( 5, 3 ) )\n",
    "print( matrix )"
   ]
  },
  {
   "cell_type": "code",
   "execution_count": null,
   "metadata": {},
   "outputs": [],
   "source": []
  }
 ],
 "metadata": {
  "kernelspec": {
   "display_name": "Python 3",
   "language": "python",
   "name": "python3"
  },
  "language_info": {
   "codemirror_mode": {
    "name": "ipython",
    "version": 3
   },
   "file_extension": ".py",
   "mimetype": "text/x-python",
   "name": "python",
   "nbconvert_exporter": "python",
   "pygments_lexer": "ipython3",
   "version": "3.8.5"
  }
 },
 "nbformat": 4,
 "nbformat_minor": 4
}
