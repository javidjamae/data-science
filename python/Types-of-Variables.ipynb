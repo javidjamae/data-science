{
 "cells": [
  {
   "cell_type": "markdown",
   "metadata": {},
   "source": [
    "# Overview\n",
    "\n",
    "Python has several types of variables you can use:\n",
    "- [Integer](#Integer)\n",
    "- [Complex Integer](#Complex-Integer)\n",
    "- [Float](#Float)\n",
    "- [String](#String)\n",
    "- [Boolean](#Boolean)\n",
    "- [List](#List)\n",
    "- [Tuple](#Tuple)\n",
    "- [Dictionary](#Dictionary)"
   ]
  },
  {
   "cell_type": "markdown",
   "metadata": {},
   "source": [
    "# Integer"
   ]
  },
  {
   "cell_type": "markdown",
   "metadata": {},
   "source": [
    "## Basic"
   ]
  },
  {
   "cell_type": "code",
   "execution_count": 112,
   "metadata": {},
   "outputs": [
    {
     "data": {
      "text/plain": [
       "2"
      ]
     },
     "execution_count": 112,
     "metadata": {},
     "output_type": "execute_result"
    }
   ],
   "source": [
    "x = 2\n",
    "x"
   ]
  },
  {
   "cell_type": "code",
   "execution_count": 113,
   "metadata": {},
   "outputs": [
    {
     "data": {
      "text/plain": [
       "int"
      ]
     },
     "execution_count": 113,
     "metadata": {},
     "output_type": "execute_result"
    }
   ],
   "source": [
    "type(x)"
   ]
  },
  {
   "cell_type": "markdown",
   "metadata": {},
   "source": [
    "## Arithmetic"
   ]
  },
  {
   "cell_type": "code",
   "execution_count": 114,
   "metadata": {},
   "outputs": [],
   "source": [
    "x = 2\n",
    "y = 3"
   ]
  },
  {
   "cell_type": "markdown",
   "metadata": {},
   "source": [
    "Adding integers results in an integer"
   ]
  },
  {
   "cell_type": "code",
   "execution_count": 115,
   "metadata": {},
   "outputs": [
    {
     "name": "stdout",
     "output_type": "stream",
     "text": [
      "5\n",
      "<class 'int'>\n"
     ]
    }
   ],
   "source": [
    "z = x + y\n",
    "print( z )\n",
    "print( type ( z ) )"
   ]
  },
  {
   "cell_type": "markdown",
   "metadata": {},
   "source": [
    "Dividing integers results in a float"
   ]
  },
  {
   "cell_type": "code",
   "execution_count": 116,
   "metadata": {},
   "outputs": [
    {
     "name": "stdout",
     "output_type": "stream",
     "text": [
      "0.6666666666666666\n",
      "<class 'float'>\n"
     ]
    }
   ],
   "source": [
    "z = x / y\n",
    "print( z )\n",
    "print( type( z ) )"
   ]
  },
  {
   "cell_type": "code",
   "execution_count": 117,
   "metadata": {},
   "outputs": [
    {
     "name": "stdout",
     "output_type": "stream",
     "text": [
      "1.0\n",
      "<class 'float'>\n"
     ]
    }
   ],
   "source": [
    "z = x / x\n",
    "print( z )\n",
    "print( type( z ) )"
   ]
  },
  {
   "cell_type": "markdown",
   "metadata": {},
   "source": [
    "## Basic Operations"
   ]
  },
  {
   "cell_type": "code",
   "execution_count": 118,
   "metadata": {},
   "outputs": [
    {
     "name": "stdout",
     "output_type": "stream",
     "text": [
      "round( 22.320000 ) = 22\n",
      "ceil( 22.320000 ) = 23\n",
      "floor( 22.320000 ) = 22\n",
      "math.sqrt( 22.320000 ) = 4.724405\n",
      "22.320000 ** 2 = 498.182400\n",
      "22.320000 ** 3 = 11119.431168\n",
      "22.320000 % 3 = 1.320000\n"
     ]
    }
   ],
   "source": [
    "import math\n",
    "\n",
    "x = 22.32\n",
    "x_round = round(x)\n",
    "x_ceil = math.ceil(x)\n",
    "x_floor = math.floor(x)\n",
    "x_sqrt = math.sqrt(x)\n",
    "\n",
    "print( \"round( %f ) = %d\" %( x, x_round ) ) # Round\n",
    "print( \"ceil( %f ) = %d\" %( x, x_ceil ) ) # Ceil\n",
    "print( \"floor( %f ) = %d\" %( x, x_floor ) ) # Floor\n",
    "print( \"math.sqrt( %f ) = %f\" %( x, x_sqrt ) ) # Square Root\n",
    "print( \"%f ** 2 = %f\" %( x, x ** 2 ) ) # Cube\n",
    "print( \"%f ** 3 = %f\" %( x, x ** 3 ) ) # Square\n",
    "print( '%f %% 3 = %f' %( x, x % 3 ) ) # Escape % with %%"
   ]
  },
  {
   "cell_type": "markdown",
   "metadata": {},
   "source": [
    "# Complex Integer"
   ]
  },
  {
   "cell_type": "code",
   "execution_count": 119,
   "metadata": {},
   "outputs": [],
   "source": [
    "x = 3.14j"
   ]
  },
  {
   "cell_type": "code",
   "execution_count": 120,
   "metadata": {},
   "outputs": [
    {
     "data": {
      "text/plain": [
       "complex"
      ]
     },
     "execution_count": 120,
     "metadata": {},
     "output_type": "execute_result"
    }
   ],
   "source": [
    "type(x)"
   ]
  },
  {
   "cell_type": "markdown",
   "metadata": {},
   "source": [
    "# Float"
   ]
  },
  {
   "cell_type": "code",
   "execution_count": 121,
   "metadata": {},
   "outputs": [
    {
     "data": {
      "text/plain": [
       "2.5"
      ]
     },
     "execution_count": 121,
     "metadata": {},
     "output_type": "execute_result"
    }
   ],
   "source": [
    "x = 2.5\n",
    "x"
   ]
  },
  {
   "cell_type": "code",
   "execution_count": 122,
   "metadata": {},
   "outputs": [
    {
     "data": {
      "text/plain": [
       "float"
      ]
     },
     "execution_count": 122,
     "metadata": {},
     "output_type": "execute_result"
    }
   ],
   "source": [
    "type(x)"
   ]
  },
  {
   "cell_type": "markdown",
   "metadata": {},
   "source": [
    "# String"
   ]
  },
  {
   "cell_type": "markdown",
   "metadata": {},
   "source": [
    "## Basic"
   ]
  },
  {
   "cell_type": "code",
   "execution_count": 123,
   "metadata": {},
   "outputs": [
    {
     "data": {
      "text/plain": [
       "'this is a string'"
      ]
     },
     "execution_count": 123,
     "metadata": {},
     "output_type": "execute_result"
    }
   ],
   "source": [
    "x = \"this is a string\"\n",
    "x"
   ]
  },
  {
   "cell_type": "code",
   "execution_count": 124,
   "metadata": {},
   "outputs": [
    {
     "data": {
      "text/plain": [
       "str"
      ]
     },
     "execution_count": 124,
     "metadata": {},
     "output_type": "execute_result"
    }
   ],
   "source": [
    "type(x)"
   ]
  },
  {
   "cell_type": "markdown",
   "metadata": {},
   "source": [
    "## Quotes and String Concatenation"
   ]
  },
  {
   "cell_type": "code",
   "execution_count": 125,
   "metadata": {},
   "outputs": [
    {
     "name": "stdout",
     "output_type": "stream",
     "text": [
      "first second \n"
     ]
    }
   ],
   "source": [
    "x = \"first\" # Double quote\n",
    "y = ' second ' # Single quote\n",
    "print( x + y ) # Must provide parens with print(), didn't previously in Python 2.x\n"
   ]
  },
  {
   "cell_type": "markdown",
   "metadata": {},
   "source": [
    "## Concatenate number to string"
   ]
  },
  {
   "cell_type": "code",
   "execution_count": 126,
   "metadata": {},
   "outputs": [
    {
     "name": "stdout",
     "output_type": "stream",
     "text": [
      "string 23.23\n"
     ]
    }
   ],
   "source": [
    "x = \"string \"\n",
    "y = 23.23\n",
    "\n",
    "print( x + str( y ) )"
   ]
  },
  {
   "cell_type": "markdown",
   "metadata": {},
   "source": [
    "## Interpolation"
   ]
  },
  {
   "cell_type": "code",
   "execution_count": 151,
   "metadata": {},
   "outputs": [
    {
     "name": "stdout",
     "output_type": "stream",
     "text": [
      "first second \n",
      "22.3200\n",
      "33 22.32\n",
      "string\n",
      "True\n"
     ]
    }
   ],
   "source": [
    "x = \"first\" # Double quote\n",
    "y = ' second ' # Single quote\n",
    "z = f'{ x }{ y }' # tick\n",
    "g = \"%6.4f\" % 22.32\n",
    "h = \"%2d %2.2f\" % ( 33.23, 22.32 )\n",
    "s = \"%s\" % \"string\" # this calls str()\n",
    "b = \"%r\" % True # this calls repr()\n",
    "\n",
    "print( z )\n",
    "print( g )\n",
    "print( h )\n",
    "print( s )\n",
    "print( b )"
   ]
  },
  {
   "cell_type": "markdown",
   "metadata": {},
   "source": [
    "# Boolean"
   ]
  },
  {
   "cell_type": "code",
   "execution_count": 164,
   "metadata": {},
   "outputs": [],
   "source": [
    "x = True\n",
    "y = False"
   ]
  },
  {
   "cell_type": "code",
   "execution_count": 165,
   "metadata": {},
   "outputs": [
    {
     "data": {
      "text/plain": [
       "True"
      ]
     },
     "execution_count": 165,
     "metadata": {},
     "output_type": "execute_result"
    }
   ],
   "source": [
    "x"
   ]
  },
  {
   "cell_type": "code",
   "execution_count": 166,
   "metadata": {},
   "outputs": [
    {
     "data": {
      "text/plain": [
       "False"
      ]
     },
     "execution_count": 166,
     "metadata": {},
     "output_type": "execute_result"
    }
   ],
   "source": [
    "y"
   ]
  },
  {
   "cell_type": "code",
   "execution_count": 167,
   "metadata": {},
   "outputs": [
    {
     "name": "stdout",
     "output_type": "stream",
     "text": [
      "<class 'bool'>\n"
     ]
    }
   ],
   "source": [
    "print( type(y) )"
   ]
  },
  {
   "cell_type": "markdown",
   "metadata": {},
   "source": [
    "## Logical Operators"
   ]
  },
  {
   "cell_type": "markdown",
   "metadata": {},
   "source": [
    "**Numeric**"
   ]
  },
  {
   "cell_type": "code",
   "execution_count": 194,
   "metadata": {},
   "outputs": [
    {
     "name": "stdout",
     "output_type": "stream",
     "text": [
      "10 < 20 = True\n",
      "10 > 20 = False\n",
      "10 == 20 = False\n",
      "10 != 20 = True\n",
      "\n",
      "10 < 10 = False\n",
      "10 > 10 = False\n",
      "10 == 10 = True\n",
      "10 != 10 = False\n",
      "\n",
      "10 and 20 = 20\n",
      "10 or 20 = 10\n",
      "not 20 = False\n",
      "not not 20 = True\n"
     ]
    }
   ],
   "source": [
    "x = 10\n",
    "y = 20\n",
    "\n",
    "print( \"%d < %d = %r\" % ( x, y, x < y ) )\n",
    "print( \"%d > %d = %r\" % ( x, y, x > y ) )\n",
    "print( \"%d == %d = %r\" % ( x, y, x == y ) )\n",
    "print( \"%d != %d = %r\" % ( x, y, x != y ) )\n",
    "print()\n",
    "print( \"%d < %d = %r\" % ( x, x, x < x ) )\n",
    "print( \"%d > %d = %r\" % ( x, x, x > x ) )\n",
    "print( \"%d == %d = %r\" % ( x, x, x == x ) )\n",
    "print( \"%d != %d = %r\" % ( x, x, x != x ) )\n",
    "print()\n",
    "print( \"%d and %d = %r\" % ( x, y, x and y ) )\n",
    "print( \"%d or %d = %r\" % ( x, y, x or y ) )\n",
    "print( \"not %d = %r\" % ( y, not y ) )\n",
    "print( \"not not %d = %r\" % ( y, not not y ) )"
   ]
  },
  {
   "cell_type": "markdown",
   "metadata": {},
   "source": [
    "**Boolean**"
   ]
  },
  {
   "cell_type": "code",
   "execution_count": 186,
   "metadata": {},
   "outputs": [
    {
     "name": "stdout",
     "output_type": "stream",
     "text": [
      "True and False = False\n",
      "True or False = True\n",
      "not True = False\n"
     ]
    }
   ],
   "source": [
    "x = True\n",
    "y = False\n",
    "\n",
    "print( \"%r and %r = %r\" % ( x, y, x and y ) ) # AND\n",
    "print( \"%r or %r = %r\" % ( x, y, x or y ) ) # OR\n",
    "print( \"not %r = %r\" % ( x, not x ) ) # NOT"
   ]
  },
  {
   "cell_type": "markdown",
   "metadata": {},
   "source": [
    "**Bitwise**"
   ]
  },
  {
   "cell_type": "code",
   "execution_count": 195,
   "metadata": {},
   "outputs": [
    {
     "name": "stdout",
     "output_type": "stream",
     "text": [
      "22 & 2 = 2\n",
      "22 | 2 = 22\n",
      "22 ^ 2 = 20\n",
      "22 << 2 = 88\n",
      "22 >> 2 = 5\n",
      "~22 = -23\n",
      "~~22 = 22\n"
     ]
    }
   ],
   "source": [
    "x = 22\n",
    "y = 2\n",
    "\n",
    "print( \"%d & %d = %d\" % ( x, y, x & y ) ) # Bitwise AND\n",
    "print( \"%d | %d = %d\" % ( x, y, x | y ) ) # Bitwise OR\n",
    "print( \"%d ^ %d = %d\" % ( x, y, x ^ y ) ) # Bitwise XOR\n",
    "print( \"%d << %d = %d\" % ( x, y, x << y ) ) # Bitwise left shift\n",
    "print( \"%d >> %d = %d\" % ( x, y, x >> y ) ) # Bitwise right shift\n",
    "print( \"~%d = %d\" % ( x, ~x ) ) # Bitwise NOT\n",
    "print( \"~~%d = %d\" % ( x, ~~x ) ) # Bitwise NOT"
   ]
  },
  {
   "cell_type": "markdown",
   "metadata": {},
   "source": [
    "## References\n",
    "\n",
    "- [Notes about booleans and logical operators](https://thomas-cokelaer.info/tutorials/python/boolean.html)"
   ]
  },
  {
   "cell_type": "markdown",
   "metadata": {},
   "source": [
    "# List"
   ]
  },
  {
   "cell_type": "code",
   "execution_count": 133,
   "metadata": {},
   "outputs": [],
   "source": [
    "x = [1,2,3]"
   ]
  },
  {
   "cell_type": "code",
   "execution_count": 134,
   "metadata": {},
   "outputs": [
    {
     "data": {
      "text/plain": [
       "[1, 2, 3]"
      ]
     },
     "execution_count": 134,
     "metadata": {},
     "output_type": "execute_result"
    }
   ],
   "source": [
    "x"
   ]
  },
  {
   "cell_type": "code",
   "execution_count": 135,
   "metadata": {},
   "outputs": [
    {
     "data": {
      "text/plain": [
       "list"
      ]
     },
     "execution_count": 135,
     "metadata": {},
     "output_type": "execute_result"
    }
   ],
   "source": [
    "type(x)"
   ]
  },
  {
   "cell_type": "markdown",
   "metadata": {},
   "source": [
    "# Tuple"
   ]
  },
  {
   "cell_type": "code",
   "execution_count": 136,
   "metadata": {},
   "outputs": [
    {
     "data": {
      "text/plain": [
       "(1, 'string', 2.5)"
      ]
     },
     "execution_count": 136,
     "metadata": {},
     "output_type": "execute_result"
    }
   ],
   "source": [
    "x = (1, 'string', 2.5)\n",
    "x"
   ]
  },
  {
   "cell_type": "code",
   "execution_count": 137,
   "metadata": {},
   "outputs": [
    {
     "data": {
      "text/plain": [
       "tuple"
      ]
     },
     "execution_count": 137,
     "metadata": {},
     "output_type": "execute_result"
    }
   ],
   "source": [
    "type(x)"
   ]
  },
  {
   "cell_type": "markdown",
   "metadata": {},
   "source": [
    "# Dictionary"
   ]
  },
  {
   "cell_type": "code",
   "execution_count": 138,
   "metadata": {},
   "outputs": [
    {
     "data": {
      "text/plain": [
       "{'key': 1}"
      ]
     },
     "execution_count": 138,
     "metadata": {},
     "output_type": "execute_result"
    }
   ],
   "source": [
    "x = { \"key\": 1 }\n",
    "x"
   ]
  },
  {
   "cell_type": "code",
   "execution_count": 26,
   "metadata": {},
   "outputs": [
    {
     "data": {
      "text/plain": [
       "dict"
      ]
     },
     "execution_count": 26,
     "metadata": {},
     "output_type": "execute_result"
    }
   ],
   "source": [
    "type(x)"
   ]
  }
 ],
 "metadata": {
  "kernelspec": {
   "display_name": "Python 3",
   "language": "python",
   "name": "python3"
  },
  "language_info": {
   "codemirror_mode": {
    "name": "ipython",
    "version": 3
   },
   "file_extension": ".py",
   "mimetype": "text/x-python",
   "name": "python",
   "nbconvert_exporter": "python",
   "pygments_lexer": "ipython3",
   "version": "3.8.5"
  }
 },
 "nbformat": 4,
 "nbformat_minor": 4
}
