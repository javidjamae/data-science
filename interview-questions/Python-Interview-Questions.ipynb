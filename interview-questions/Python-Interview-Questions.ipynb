{
 "cells": [
  {
   "cell_type": "markdown",
   "metadata": {},
   "source": [
    "# Interview Questions"
   ]
  },
  {
   "cell_type": "markdown",
   "metadata": {},
   "source": [
    "Question:\n",
    "\n",
    "Given an array of integers (positive and negative) write a program that can find the largest continuous sum. You just need to return the total sum, not the sequence. \n"
   ]
  },
  {
   "cell_type": "code",
   "execution_count": 2,
   "metadata": {},
   "outputs": [],
   "source": [
    "def large_cont_sum(arr): \n",
    "    \n",
    "    # Check to see if array is length 0\n",
    "    if len(arr) == 0: \n",
    "        return 0\n",
    "    \n",
    "    # Start the max and current sum at the first element\n",
    "    max_sum = arr[ 0 ] \n",
    "    current_sum = arr[ 0 ]\n",
    "    \n",
    "    # We've already grabbed the first element so start with the second\n",
    "    for num in arr[1:]: \n",
    "        \n",
    "        # Is the number more than the current sum plus the number?\n",
    "        # This should only happen if the current sum is negative, I think\n",
    "        current_sum = max( current_sum + num, num )\n",
    "        \n",
    "        # Set max as the higher between the currentSum and the current max\n",
    "        max_sum = max( current_sum, max_sum ) \n",
    "        \n",
    "    return max_sum"
   ]
  },
  {
   "cell_type": "code",
   "execution_count": 3,
   "metadata": {},
   "outputs": [
    {
     "data": {
      "text/plain": [
       "1"
      ]
     },
     "execution_count": 3,
     "metadata": {},
     "output_type": "execute_result"
    }
   ],
   "source": [
    "large_cont_sum([ 1 ])"
   ]
  },
  {
   "cell_type": "code",
   "execution_count": 4,
   "metadata": {},
   "outputs": [
    {
     "data": {
      "text/plain": [
       "3"
      ]
     },
     "execution_count": 4,
     "metadata": {},
     "output_type": "execute_result"
    }
   ],
   "source": [
    "large_cont_sum([ 1, 2 ])"
   ]
  },
  {
   "cell_type": "code",
   "execution_count": 12,
   "metadata": {},
   "outputs": [
    {
     "data": {
      "text/plain": [
       "24"
      ]
     },
     "execution_count": 12,
     "metadata": {},
     "output_type": "execute_result"
    }
   ],
   "source": [
    "large_cont_sum([ 7, 8, 9 ])"
   ]
  },
  {
   "cell_type": "code",
   "execution_count": 13,
   "metadata": {},
   "outputs": [
    {
     "data": {
      "text/plain": [
       "24"
      ]
     },
     "execution_count": 13,
     "metadata": {},
     "output_type": "execute_result"
    }
   ],
   "source": [
    "large_cont_sum([ -1, 7, 8, 9, -10 ])"
   ]
  },
  {
   "cell_type": "code",
   "execution_count": 14,
   "metadata": {},
   "outputs": [
    {
     "data": {
      "text/plain": [
       "11"
      ]
     },
     "execution_count": 14,
     "metadata": {},
     "output_type": "execute_result"
    }
   ],
   "source": [
    "large_cont_sum([ 2, 3, -10, 9, 2 ])"
   ]
  },
  {
   "cell_type": "code",
   "execution_count": 15,
   "metadata": {},
   "outputs": [
    {
     "data": {
      "text/plain": [
       "14"
      ]
     },
     "execution_count": 15,
     "metadata": {},
     "output_type": "execute_result"
    }
   ],
   "source": [
    "large_cont_sum([ 2, 11, -10, 9, 2 ])"
   ]
  },
  {
   "cell_type": "code",
   "execution_count": 16,
   "metadata": {},
   "outputs": [
    {
     "data": {
      "text/plain": [
       "12"
      ]
     },
     "execution_count": 16,
     "metadata": {},
     "output_type": "execute_result"
    }
   ],
   "source": [
    "large_cont_sum([ 12, -10, 7, -8, 4, 6 ])"
   ]
  },
  {
   "cell_type": "markdown",
   "metadata": {},
   "source": [
    "---"
   ]
  },
  {
   "cell_type": "markdown",
   "metadata": {},
   "source": [
    "Question:\n"
   ]
  },
  {
   "cell_type": "code",
   "execution_count": 9,
   "metadata": {},
   "outputs": [],
   "source": [
    "def compress(s):\n",
    "    \n",
    "    run = \"\"\n",
    "    length = len(s)\n",
    "    \n",
    "    if length == 0:\n",
    "        return \"\"\n",
    "    \n",
    "    # \"A\" --> \"A1\"\n",
    "    if length == 1:\n",
    "        return s + \"1\"\n",
    "    \n",
    "    cnt = 1\n",
    "    i = 1 \n",
    "    \n",
    "    while i < length:\n",
    "        \n",
    "        if s[i] == s[i-1]:\n",
    "            cnt +=1\n",
    "        \n",
    "        else:\n",
    "            run = run + s[i-1] + str(cnt)\n",
    "            cnt = 1\n",
    "            \n",
    "        i += 1\n",
    "        \n",
    "    run = run + s[i-1] + str(cnt)\n",
    "    \n",
    "    return run"
   ]
  },
  {
   "cell_type": "markdown",
   "metadata": {},
   "source": [
    "---"
   ]
  },
  {
   "cell_type": "markdown",
   "metadata": {},
   "source": [
    "Question:\n"
   ]
  },
  {
   "cell_type": "code",
   "execution_count": 10,
   "metadata": {},
   "outputs": [],
   "source": [
    "def profit(stock_prices):\n",
    "    \n",
    "    if len(stock_prices) < 2:\n",
    "        return \"Hey I need more prices!\"\n",
    "    \n",
    "    min_stock_price = stock_prices[0]\n",
    "    \n",
    "    max_profit = 0 \n",
    "    \n",
    "    for price in stock_prices:\n",
    "        \n",
    "        min_stock_price = min(min_stock_price,price)\n",
    "        \n",
    "        comparison_profit = price - min_stock_price\n",
    "        \n",
    "        max_profit = max(max_profit,comparison_profit)\n",
    "        \n",
    "    return max_profit"
   ]
  },
  {
   "cell_type": "markdown",
   "metadata": {},
   "source": [
    "---"
   ]
  },
  {
   "cell_type": "markdown",
   "metadata": {},
   "source": [
    "Question:\n"
   ]
  },
  {
   "cell_type": "code",
   "execution_count": 11,
   "metadata": {},
   "outputs": [],
   "source": [
    "def finder(arr1,arr2):\n",
    "    \n",
    "    arr1.sort()\n",
    "    arr2.sort()\n",
    "    \n",
    "    for num1,num2 in zip(arr1,arr2):\n",
    "        \n",
    "        if num1 != num2:\n",
    "            return num1\n",
    "        \n",
    "    return arr1[-1]\n",
    "    \n",
    "def finder2(arr1,arr2):\n",
    "    \n",
    "    return sum(arr1) - sum(arr2)"
   ]
  },
  {
   "cell_type": "markdown",
   "metadata": {},
   "source": [
    "---"
   ]
  },
  {
   "cell_type": "markdown",
   "metadata": {},
   "source": [
    "**Question**\n",
    "\n",
    "Assume you have a set of promotions that are all made available to your customers, and you have a history of which customer claimed which promotion(s).\n",
    "\n",
    "A customer comes back and you want to offer them one of the promotions that they haven't redeemed before, but you want to offer the one that is most popular across all of your customers. \n",
    "\n",
    "Figure out which promotion to show the returning customer."
   ]
  },
  {
   "cell_type": "markdown",
   "metadata": {},
   "source": [
    "# Promotions\n",
    "promotions = {\n",
    "    0: \"10% Off McDonald's\",\n",
    "    1: '$1 Off Any Pizza Shop',\n",
    "    2: '$1 Off Any Coffee Shop',\n",
    "    3: '10% Off Chipotle',\n",
    "    4: '10% Off Whole Foods'\n",
    "}\n",
    "\n",
    "# Let's say that customers were given an opportunity to claim\n",
    "# of the promotions, but they only claimed certain ones.\n",
    "# In this matrix, every column represents a promotion, and every cell \n",
    "# represents whether the customer has claimed that promotion before.\n",
    "customer_promotion_history = [\n",
    "    [1, 1, 0, 0, 0], \n",
    "    [1, 1, 1, 0, 0], \n",
    "    [0, 0, 0, 1, 1], \n",
    "    [0, 1, 0, 1, 1], \n",
    "    [0, 1, 1, 0, 0], \n",
    "    [1, 1, 0, 0, 1], \n",
    "    [0, 0, 1, 1, 1], \n",
    "    [0, 0, 0, 0, 1], \n",
    "    [0, 0, 0, 1, 1], \n",
    "    [1, 1, 1, 1, 1]\n",
    "]\n",
    "\n",
    "# Now let's say we want to present one of the remaining promotoins \n",
    "# to customer[0], but we want to promote the most popular one. Figure out\n",
    "# which promotion to show customer 0.\n",
    "\n",
    "import numpy as np\n",
    "    \n",
    "def find_most_popular_unclaimed_promotion( matrix, customer_row ):\n",
    "    new_matrix = []\n",
    "    for row in matrix:\n",
    "\n",
    "        # Turn it into a boolean row, then invert it\n",
    "        masked_customer_row = ~np.array( np.array( customer_row ) > 0 )\n",
    "\n",
    "        # Bitwise 'AND' the masked row with the current row\n",
    "        unclaimed_promotions = np.bitwise_and( row, masked_customer_row )\n",
    "        new_matrix.append( unclaimed_promotions )\n",
    "        \n",
    "    sum_array = np.sum( new_matrix, axis=0 )    \n",
    "    return sum_array\n",
    "\n",
    "\n",
    "unclaimed_promotions = find_most_popular_unclaimed_promotion( customer_promotion_history, customer_promotion_history[0] )\n",
    "\n",
    "print( \"Totals:\", sum_array )\n",
    "\n",
    "print( \"Promotion to show:\", promotions[ np.argmax( unclaimed_promotions ) ] )"
   ]
  }
 ],
 "metadata": {
  "kernelspec": {
   "display_name": "Python 3",
   "language": "python",
   "name": "python3"
  },
  "language_info": {
   "codemirror_mode": {
    "name": "ipython",
    "version": 3
   },
   "file_extension": ".py",
   "mimetype": "text/x-python",
   "name": "python",
   "nbconvert_exporter": "python",
   "pygments_lexer": "ipython3",
   "version": "3.8.5"
  }
 },
 "nbformat": 4,
 "nbformat_minor": 4
}
