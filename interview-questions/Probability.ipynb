{
 "cells": [
  {
   "cell_type": "markdown",
   "metadata": {},
   "source": [
    "# Probability Interview Questions\n",
    "\n",
    "References:\n",
    "- [Data Science Career Guide - Udemy](https://www.udemy.com/course/data-science-career-guide-interview-preparation)"
   ]
  },
  {
   "cell_type": "markdown",
   "metadata": {},
   "source": [
    "---"
   ]
  },
  {
   "cell_type": "markdown",
   "metadata": {},
   "source": [
    "**Question**\n",
    "\n",
    "You are given a fair coin. On average, how many flips would you need to get two of the same flip in a row (either 2 heads or two tails in a row)? \n",
    "\n",
    "**Answer**\n",
    "\n",
    "We want to calculate the expected value for getting two head or two tails.\n",
    "\n",
    "The general formula for expected value is:\n",
    "\n",
    "$$\\operatorname{E}[X] =\\sum_{i=1}^k x_i\\,p_i=x_1p_1 + x_2p_2 + \\cdots + x_kp_k$$\n",
    "\n",
    "In our case, $x$ will the number of flips, so we'll rewrite it as $n$, and $p_k$ will be the probability of getting two heads or two tails on the given flip, so we'll write it as $P_n$.\n",
    "\n",
    "We also know that it is not possible to get two heads or two tails on a single flip, so we know that the expected number of flips must be greater than 2.\n",
    "\n",
    "So, we'll rewrite the equation as:\n",
    "\n",
    "$$\n",
    "\\sum_{n=2}^{\\infty}nP_n\n",
    "$$\n",
    "\n",
    "Now we need to calculate the probability $P_n$ of getting two heads or two tails on the nth flip.\n",
    "\n",
    "To start with, let's just consider the probability of getting two heads or two tails on two flips. The sample space is 4, and HH or TT are two of the 4, so there is a 50% chance of getting 2 heads or 2 tails.\n",
    "\n",
    "If it were to take three tosses, we'd need to get HTT or THH. \n",
    "\n",
    "If it were to take four tosses, we'd need to get HTHH or THTT.\n",
    "\n",
    "So, in general we need $n-1$ tosses that don't result in a HH or a TT, then we'd need the final toss to give us the repeat.\n",
    "\n",
    "For either a HTHTHTH... pattern or a THTHTHT... pattern, the probability is:\n",
    "\n",
    "$$\n",
    "\\frac{1}{2^{n-1}}\n",
    "$$\n",
    "\n",
    "But, because there are two possible patterns, we get:\n",
    "\n",
    "$$\n",
    "\\frac{2}{2^{n-1}}\n",
    "$$\n",
    "\n",
    "Then, just like in the case of the 2 flips, we have a 50% chance of getting a HH or a TT for the final toss. So, we get:\n",
    "\n",
    "$$\n",
    "P_n = \\frac{2}{2^{n-1}}\\cdot\\frac{1}{2} = \\frac{1}{2^{n-1}}\n",
    "$$\n",
    "\n",
    "Finally, we can plug that in to our summation to find the expected value:\n",
    "\n",
    "$$\n",
    "\\sum_{n=2}^{\\infty}\\frac{n}{2^{n-1}}=3\n",
    "$$\n",
    "\n",
    "***TODO: Show how to calculate the geometric sequence...***\n",
    "\n",
    "References:\n",
    "- [Geometric Series (Sum) - Wikipedia](https://en.wikipedia.org/wiki/Geometric_series#Sum)"
   ]
  },
  {
   "cell_type": "markdown",
   "metadata": {},
   "source": [
    "---"
   ]
  },
  {
   "cell_type": "markdown",
   "metadata": {},
   "source": [
    "**Question**\n",
    "\n",
    "What is the probability of rolling a total sum of 4 with two dice?\n",
    "\n",
    "**Answer**\n",
    "\n",
    "Sample space: $6^2 = 36$\n",
    "\n",
    "Ways to get 4: `13`, `31`, `22`\n",
    "\n",
    "$$P(\\text{sum of 4}) = \\frac{3}{36} = \\frac{1}{12}$$"
   ]
  },
  {
   "cell_type": "markdown",
   "metadata": {},
   "source": [
    "---"
   ]
  },
  {
   "cell_type": "markdown",
   "metadata": {},
   "source": [
    "**Question**\n",
    "\n",
    "What is the probability of rolling at least one 4 with 2 dice?\n",
    "\n",
    "**Answer**\n",
    "\n",
    "Sample space: $6^2 = 36$\n",
    "\n",
    "11 ways to get one 4: \n",
    "- `44`\n",
    "- `14`, `24`, `34`, `54`, `64`\n",
    "- `41`, `42`, `43`, `45`, `46`\n",
    "\n",
    "$$P(\\text{at least one 4}) = \\frac{11}{36}$$"
   ]
  },
  {
   "cell_type": "markdown",
   "metadata": {},
   "source": [
    "---"
   ]
  },
  {
   "cell_type": "markdown",
   "metadata": {},
   "source": [
    "**Question**\n",
    "\n",
    "You have two jars, 50 red marbles, 50 blue marbles. You need to place all the marbles into the jars such that when you blindly pick one marble out of one jar, you maximize the chances that it will be red. Specifically, you'll randomly chose a jar, then you'll randomly select a marble from within the chosen jar. \n",
    "\n",
    "**Answer**\n",
    "\n",
    "If you evenly divide the marbles across both jars (25 red, 25 blue in each jar), then you'll get:\n",
    "\n",
    "$$P(\\text{red}) = \\frac{1}{2}\\cdot\\frac{1}{2} = \\frac{1}{4}$$\n",
    "\n",
    "If you put all the red in one jar and all the blue in another, you'll get:\n",
    "\n",
    "$$P(\\text{red}) = \\frac{1}{2}\\cdot1 + \\frac{1}{2}\\cdot0 = \\frac{1}{2}$$\n",
    "\n",
    "If you put a single red in one jar and all the other marbles in the other, you'll get:\n",
    "\n",
    "$$P(\\text{red}) = \\frac{1}{2}\\cdot1 + \\frac{1}{2}\\cdot\\frac{49}{99} = .747$$"
   ]
  },
  {
   "cell_type": "markdown",
   "metadata": {},
   "source": [
    "---"
   ]
  },
  {
   "cell_type": "markdown",
   "metadata": {},
   "source": [
    "**Question**\n",
    "\n",
    "If the probability of seeing a car on the highway in 30 minutes is 0.95, what is the probability of seeing at least one car on the highway in 10 minutes? (Assume a constant default probability)\n",
    "\n",
    "**Answer**\n",
    "\n",
    "See my [Poisson distribution approach](../statistics/Distributions-Poisson.ipynb#Probability-Instead-of-Lambda) to solving this problem. "
   ]
  }
 ],
 "metadata": {
  "kernelspec": {
   "display_name": "Python 3",
   "language": "python",
   "name": "python3"
  },
  "language_info": {
   "codemirror_mode": {
    "name": "ipython",
    "version": 3
   },
   "file_extension": ".py",
   "mimetype": "text/x-python",
   "name": "python",
   "nbconvert_exporter": "python",
   "pygments_lexer": "ipython3",
   "version": "3.8.5"
  }
 },
 "nbformat": 4,
 "nbformat_minor": 4
}
