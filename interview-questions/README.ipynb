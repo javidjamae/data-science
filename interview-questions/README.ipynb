{
 "cells": [
  {
   "cell_type": "markdown",
   "metadata": {},
   "source": [
    "# Data Science Interview Questions\n",
    "\n",
    "[Probability](./Probability.ipynb)\n",
    "\n",
    "[Python](./Python-Interview-Questions.ipynb)\n",
    "\n",
    "References:\n",
    "- [Pierian Data Science Career Interview Prep Guide](https://docs.google.com/document/d/1J9rjTzv3VKB2Qq10P3Oq2mV_K8pJOSdaeJ3IImPszBA/edit)\n",
    "- [Data Science Career Guide - Interview Preparation - Udemy](https://www.udemy.com/course/data-science-career-guide-interview-preparation)"
   ]
  }
 ],
 "metadata": {
  "kernelspec": {
   "display_name": "Python 3",
   "language": "python",
   "name": "python3"
  },
  "language_info": {
   "codemirror_mode": {
    "name": "ipython",
    "version": 3
   },
   "file_extension": ".py",
   "mimetype": "text/x-python",
   "name": "python",
   "nbconvert_exporter": "python",
   "pygments_lexer": "ipython3",
   "version": "3.8.5"
  }
 },
 "nbformat": 4,
 "nbformat_minor": 4
}
