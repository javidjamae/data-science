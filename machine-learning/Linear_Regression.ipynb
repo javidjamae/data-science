{
 "cells": [
  {
   "cell_type": "markdown",
   "metadata": {
    "id": "6iHSJ1olpeh9"
   },
   "source": [
    "# Overview\n",
    "\n",
    "In statistics, linear regression is a linear approach to modelling the relationship between a scalar response (or dependent variable) and one or more explanatory variables (or independent variables).\n",
    "\n",
    "Linear regression is a common algorithm for making inferences and predictions. \n",
    "\n",
    "The goal with linear regression is to minimize the vertical distance between all the data points and a line of best fit. The distance between each data point (its y-value) and the fitted line is called a ***residual***.\n",
    "\n",
    "References:\n",
    "- [Linear Regression - Wikipedia](https://en.wikipedia.org/wiki/Linear_regression)"
   ]
  },
  {
   "cell_type": "code",
   "execution_count": 2,
   "metadata": {
    "jupyter": {
     "source_hidden": true
    }
   },
   "outputs": [
    {
     "name": "stdout",
     "output_type": "stream",
     "text": [
      "RMSE: 7.8533843501953315\n",
      "R-squared: 0.8880683003040512\n",
      "\n"
     ]
    },
    {
     "data": {
      "image/png": "[encoded data removed]",
      "text/plain": [
       "<Figure size 800x600 with 1 Axes>"
      ]
     },
     "metadata": {
      "needs_background": "light"
     },
     "output_type": "display_data"
    }
   ],
   "source": [
    "# https://stackoverflow.com/questions/53779773/python-linear-regression-best-fit-line-with-residuals\n",
    "import numpy, scipy, matplotlib\n",
    "import matplotlib.pyplot as plt\n",
    "from scipy.optimize import curve_fit\n",
    "\n",
    "xData = numpy.array([1.1, 2.2, 3.3, 4.4, 5.0, 6.6, 7.7])\n",
    "yData = numpy.array([1.1, 20.2, 30.3, 60.4, 50.0, 60.6, 70.7])\n",
    "\n",
    "\n",
    "def func(x, a, b): # simple linear example\n",
    "    return a * x + b\n",
    "\n",
    "\n",
    "initialParameters = numpy.array([1.0, 1.0])\n",
    "\n",
    "# curve fit the test data\n",
    "fittedParameters, pcov = curve_fit(func, xData, yData, initialParameters)\n",
    "\n",
    "modelPredictions = func(xData, *fittedParameters) \n",
    "\n",
    "absError = modelPredictions - yData\n",
    "\n",
    "SE = numpy.square(absError) # squared errors\n",
    "MSE = numpy.mean(SE) # mean squared errors\n",
    "RMSE = numpy.sqrt(MSE) # Root Mean Squared Error, RMSE\n",
    "Rsquared = 1.0 - (numpy.var(absError) / numpy.var(yData))\n",
    "print('RMSE:', RMSE)\n",
    "print('R-squared:', Rsquared)\n",
    "\n",
    "print()\n",
    "\n",
    "\n",
    "##########################################################\n",
    "# graphics output section\n",
    "def ModelAndScatterPlot(graphWidth, graphHeight):\n",
    "    f = plt.figure(figsize=(graphWidth/100.0, graphHeight/100.0), dpi=100)\n",
    "    axes = f.add_subplot(111)\n",
    "\n",
    "    # first the raw data as a scatter plot\n",
    "    axes.plot(xData, yData,  'D')\n",
    "\n",
    "    # create data for the fitted equation plot\n",
    "    xModel = numpy.linspace(min(xData), max(xData))\n",
    "    yModel = func(xModel, *fittedParameters)\n",
    "\n",
    "    # now the model as a line plot\n",
    "    axes.plot(xModel, yModel)\n",
    "\n",
    "    # now add individual line for each point\n",
    "    for i in range(len(xData)):\n",
    "        lineXdata = (xData[i], xData[i]) # same X\n",
    "        lineYdata = (yData[i], modelPredictions[i]) # different Y\n",
    "        plt.plot(lineXdata, lineYdata)\n",
    "\n",
    "    axes.set_xlabel('X Data') # X axis data label\n",
    "    axes.set_ylabel('Y Data') # Y axis data label\n",
    "\n",
    "    plt.show()\n",
    "    plt.close('all') # clean up after using pyplot\n",
    "\n",
    "graphWidth = 800\n",
    "graphHeight = 600\n",
    "ModelAndScatterPlot(graphWidth, graphHeight)"
   ]
  },
  {
   "cell_type": "markdown",
   "metadata": {},
   "source": [
    "# Process\n",
    "\n",
    "1. Get sample data\n",
    "2. Split it into a training and test set\n",
    "3. Design a model that predicts outcomes for the training set\n",
    "4. Test the model against the test set\n",
    "5. Use the model to predict future \"real-world\" values"
   ]
  },
  {
   "cell_type": "markdown",
   "metadata": {},
   "source": [
    "# Variables\n",
    "\n",
    "The dependent (predicted) variable is often written as $Y$, and the independent (predictors) variables are often represented as $x_1, x_2, x_3, ..., x_n$."
   ]
  },
  {
   "cell_type": "markdown",
   "metadata": {},
   "source": [
    "# Simple Linear Regression\n",
    "\n",
    "Simple Linear Regression is also known as **Classic Linear Regression** or **Least Squares Method**.\n",
    "\n",
    "Simple linear regression for a population (hence in Greek) is mathematically written as:\n",
    "$$\n",
    "y = \\beta_0 + \\beta_1 x_1 + \\epsilon\n",
    "$$\n",
    "\n",
    "Where:\n",
    "- $y$ - dependent variable (predicted value / output)\n",
    "- $\\beta_0$ - constant (minimum value of $y$ even if other terms are 0)\n",
    "- $\\beta_1$ - independent variable coefficient (quantifies effect of $x_1$ on $y$\n",
    "- $x_1$ - independent variable (predictor / input)\n",
    "- $\\epsilon$ - error (how far off the observed income is from the prediction)\n",
    "\n",
    "The $\\epsilon$ is also called the residual. The sum of all residuals across all observations is 0.\n",
    "\n",
    "For a sample, we similarly write the equation as:\n",
    "\n",
    "$$\n",
    "\\hat{y} = b_0 + b_1 x_1\n",
    "$$\n"
   ]
  },
  {
   "cell_type": "markdown",
   "metadata": {},
   "source": [
    "# Methods for Minimizing Distance\n",
    "\n",
    "There are several methods for minimizing the distance between your regression line and the data points:\n",
    "\n",
    "- Least Squares Method (Sum of Squared Errors)\n",
    "- Sum of Absolute Errors"
   ]
  },
  {
   "cell_type": "markdown",
   "metadata": {},
   "source": [
    "### Least Squares Method"
   ]
  },
  {
   "cell_type": "markdown",
   "metadata": {},
   "source": [
    "This method fits the regression line by minimizing the sum of the squares of the residuals. "
   ]
  },
  {
   "cell_type": "markdown",
   "metadata": {},
   "source": [
    "# Regression Evaluation Metrics\n",
    "\n",
    "There are three primary ways to evaluate your regression line:\n",
    "- Mean Absolute Error\n",
    "- Mean Squared Error\n",
    "- Root Mean Squared Error"
   ]
  },
  {
   "cell_type": "markdown",
   "metadata": {},
   "source": [
    "### Mean Absolute Error\n",
    "\n",
    "**Mean Absolute Error** (MAE) is the mean of the absolute value of the errors:\n",
    "\n",
    "$$\\frac 1n\\sum_{i=1}^n|y_i-\\hat{y}_i|$$\n"
   ]
  },
  {
   "cell_type": "markdown",
   "metadata": {},
   "source": [
    "### Mean Squared Error\n",
    "\n",
    "\n",
    "**Mean Squared Error** (MSE) is the mean of the squared errors:\n",
    "\n",
    "$$\\frac 1n\\sum_{i=1}^n(y_i-\\hat{y}_i)^2$$\n"
   ]
  },
  {
   "cell_type": "markdown",
   "metadata": {},
   "source": [
    "### Root Mean Squared Error\n",
    "\n",
    "**Root Mean Squared Error** (RMSE) is the square root of the mean of the squared errors:\n",
    "\n",
    "$$\\sqrt{\\frac 1n\\sum_{i=1}^n(y_i-\\hat{y}_i)^2}$$\n"
   ]
  },
  {
   "cell_type": "markdown",
   "metadata": {},
   "source": [
    "### Comparing\n",
    "\n",
    "Comparing these metrics:\n",
    "\n",
    "- **MAE** is the easiest to understand, because it's the average error.\n",
    "- **MSE** is more popular than MAE, because MSE \"punishes\" larger errors, which tends to be useful in the real world.\n",
    "- **RMSE** is even more popular than MSE, because RMSE is interpretable in the \"y\" units.\n",
    "\n",
    "All of these are **loss functions**, because we want to minimize them."
   ]
  },
  {
   "cell_type": "markdown",
   "metadata": {},
   "source": [
    "# Example"
   ]
  },
  {
   "cell_type": "code",
   "execution_count": 42,
   "metadata": {},
   "outputs": [],
   "source": [
    "import numpy as np\n",
    "import pandas as pd\n",
    "import matplotlib.pyplot as plt\n",
    "import seaborn as sns\n",
    "from sklearn.model_selection import train_test_split\n",
    "from sklearn.linear_model import LinearRegression\n",
    "\n",
    "%matplotlib inline\n",
    "plt.rcParams['figure.figsize'] = [9.5, 6]\n",
    "\n",
    "df = pd.read_csv( '../data/USA_housing.csv' )"
   ]
  },
  {
   "cell_type": "markdown",
   "metadata": {},
   "source": [
    "[Expore the USA_Housing data](../data/USA_Housing.ipynb)."
   ]
  },
  {
   "cell_type": "markdown",
   "metadata": {},
   "source": [
    "### Split the Data"
   ]
  },
  {
   "cell_type": "code",
   "execution_count": 35,
   "metadata": {},
   "outputs": [
    {
     "data": {
      "text/plain": [
       "Index(['Avg. Area Income', 'Avg. Area House Age', 'Avg. Area Number of Rooms',\n",
       "       'Avg. Area Number of Bedrooms', 'Area Population', 'Price', 'Address'],\n",
       "      dtype='object')"
      ]
     },
     "execution_count": 35,
     "metadata": {},
     "output_type": "execute_result"
    }
   ],
   "source": [
    "df.columns"
   ]
  },
  {
   "cell_type": "code",
   "execution_count": 37,
   "metadata": {},
   "outputs": [],
   "source": [
    "# Create a new dataframe with just the columns we want as inputs\n",
    "X = df[ [ 'Avg. Area Income', 'Avg. Area House Age', 'Avg. Area Number of Rooms', 'Avg. Area Number of Bedrooms', 'Area Population' ] ]"
   ]
  },
  {
   "cell_type": "code",
   "execution_count": 38,
   "metadata": {},
   "outputs": [],
   "source": [
    "# The column we want to predict\n",
    "y = df[ 'Price' ]"
   ]
  },
  {
   "cell_type": "code",
   "execution_count": 43,
   "metadata": {},
   "outputs": [],
   "source": [
    "X_train, X_test, y_train, y_test = train_test_split( X, y, test_size=0.4, random_state=101)"
   ]
  },
  {
   "cell_type": "markdown",
   "metadata": {},
   "source": [
    "### Run Linear Regression"
   ]
  },
  {
   "cell_type": "code",
   "execution_count": 44,
   "metadata": {},
   "outputs": [
    {
     "data": {
      "text/plain": [
       "LinearRegression()"
      ]
     },
     "execution_count": 44,
     "metadata": {},
     "output_type": "execute_result"
    }
   ],
   "source": [
    "lm = LinearRegression()\n",
    "lm.fit( X_train, y_train )"
   ]
  },
  {
   "cell_type": "code",
   "execution_count": 48,
   "metadata": {},
   "outputs": [
    {
     "name": "stdout",
     "output_type": "stream",
     "text": [
      "-2640159.796853739\n"
     ]
    }
   ],
   "source": [
    "# Print the intercept for our line\n",
    "print( lm.intercept_ )"
   ]
  },
  {
   "cell_type": "code",
   "execution_count": 49,
   "metadata": {},
   "outputs": [
    {
     "name": "stdout",
     "output_type": "stream",
     "text": [
      "[2.15282755e+01 1.64883282e+05 1.22368678e+05 2.23380186e+03\n",
      " 1.51504200e+01]\n"
     ]
    }
   ],
   "source": [
    "# Print the coefficients for each feature\n",
    "print( lm.coef_ )"
   ]
  },
  {
   "cell_type": "code",
   "execution_count": 56,
   "metadata": {},
   "outputs": [
    {
     "data": {
      "text/html": [
       "<div>\n",
       "<style scoped>\n",
       "    .dataframe tbody tr th:only-of-type {\n",
       "        vertical-align: middle;\n",
       "    }\n",
       "\n",
       "    .dataframe tbody tr th {\n",
       "        vertical-align: top;\n",
       "    }\n",
       "\n",
       "    .dataframe thead th {\n",
       "        text-align: right;\n",
       "    }\n",
       "</style>\n",
       "<table border=\"1\" class=\"dataframe\">\n",
       "  <thead>\n",
       "    <tr style=\"text-align: right;\">\n",
       "      <th></th>\n",
       "      <th>Coeff</th>\n",
       "    </tr>\n",
       "  </thead>\n",
       "  <tbody>\n",
       "    <tr>\n",
       "      <th>Avg. Area Income</th>\n",
       "      <td>21.528276</td>\n",
       "    </tr>\n",
       "    <tr>\n",
       "      <th>Avg. Area House Age</th>\n",
       "      <td>164883.282027</td>\n",
       "    </tr>\n",
       "    <tr>\n",
       "      <th>Avg. Area Number of Rooms</th>\n",
       "      <td>122368.678027</td>\n",
       "    </tr>\n",
       "    <tr>\n",
       "      <th>Avg. Area Number of Bedrooms</th>\n",
       "      <td>2233.801864</td>\n",
       "    </tr>\n",
       "    <tr>\n",
       "      <th>Area Population</th>\n",
       "      <td>15.150420</td>\n",
       "    </tr>\n",
       "  </tbody>\n",
       "</table>\n",
       "</div>"
      ],
      "text/plain": [
       "                                      Coeff\n",
       "Avg. Area Income                  21.528276\n",
       "Avg. Area House Age           164883.282027\n",
       "Avg. Area Number of Rooms     122368.678027\n",
       "Avg. Area Number of Bedrooms    2233.801864\n",
       "Area Population                   15.150420"
      ]
     },
     "execution_count": 56,
     "metadata": {},
     "output_type": "execute_result"
    }
   ],
   "source": [
    "# Create a dataframe out of our coefficients (cdf = coefficients data frame)\n",
    "cdf = pd.DataFrame( data=lm.coef_, index=X.columns, columns=[ 'Coeff' ] )\n",
    "cdf"
   ]
  },
  {
   "cell_type": "markdown",
   "metadata": {},
   "source": [
    "### Make Predictions"
   ]
  },
  {
   "cell_type": "code",
   "execution_count": 59,
   "metadata": {},
   "outputs": [
    {
     "data": {
      "text/plain": [
       "array([1260960.70567629,  827588.75560301, 1742421.24254363, ...,\n",
       "        372191.40626868, 1365217.15140901, 1914519.54178955])"
      ]
     },
     "execution_count": 59,
     "metadata": {},
     "output_type": "execute_result"
    }
   ],
   "source": [
    "predictions = lm.predict( X_test )\n",
    "predictions"
   ]
  },
  {
   "cell_type": "code",
   "execution_count": 61,
   "metadata": {},
   "outputs": [
    {
     "data": {
      "text/plain": [
       "<matplotlib.collections.PathCollection at 0x13a800a90>"
      ]
     },
     "execution_count": 61,
     "metadata": {},
     "output_type": "execute_result"
    },
    {
     "data": {
      "image/png": "[encoded data removed]",
      "text/plain": [
       "<Figure size 684x432 with 1 Axes>"
      ]
     },
     "metadata": {
      "needs_background": "light"
     },
     "output_type": "display_data"
    }
   ],
   "source": [
    "# Compare our predictions to the actual values for the test set\n",
    "plt.scatter( y_test, predictions )"
   ]
  },
  {
   "cell_type": "markdown",
   "metadata": {},
   "source": [
    "A perfectly straight line would have been a perfect fit, but seeing a tight positive correlation like this shows that our model is pretty good."
   ]
  },
  {
   "cell_type": "code",
   "execution_count": 70,
   "metadata": {},
   "outputs": [
    {
     "data": {
      "text/plain": [
       "<AxesSubplot:xlabel='Price', ylabel='Count'>"
      ]
     },
     "execution_count": 70,
     "metadata": {},
     "output_type": "execute_result"
    },
    {
     "data": {
      "image/png": "[encoded data removed]",
      "text/plain": [
       "<Figure size 684x432 with 1 Axes>"
      ]
     },
     "metadata": {
      "needs_background": "light"
     },
     "output_type": "display_data"
    }
   ],
   "source": [
    "# Look at our residuals\n",
    "sns.histplot( data=(y_test - predictions), bins=50, kde=True )"
   ]
  },
  {
   "cell_type": "markdown",
   "metadata": {},
   "source": [
    "Normally distributed residuals are good. That means that our model was a good choice for the data."
   ]
  },
  {
   "cell_type": "code",
   "execution_count": 66,
   "metadata": {},
   "outputs": [
    {
     "name": "stdout",
     "output_type": "stream",
     "text": [
      "MAE: 82288.22251914928\n",
      "MSE: 10460958907.208244\n",
      "RMSE: 102278.82922290538\n"
     ]
    }
   ],
   "source": [
    "from sklearn import metrics\n",
    "\n",
    "print('MAE:', metrics.mean_absolute_error(y_test, predictions))\n",
    "print('MSE:', metrics.mean_squared_error(y_test, predictions))\n",
    "print('RMSE:', np.sqrt(metrics.mean_squared_error(y_test, predictions)))"
   ]
  }
 ],
 "metadata": {
  "colab": {
   "name": "Linear Regression.ipynb",
   "provenance": [],
   "toc_visible": true
  },
  "kernelspec": {
   "display_name": "Python 3",
   "language": "python",
   "name": "python3"
  },
  "language_info": {
   "codemirror_mode": {
    "name": "ipython",
    "version": 3
   },
   "file_extension": ".py",
   "mimetype": "text/x-python",
   "name": "python",
   "nbconvert_exporter": "python",
   "pygments_lexer": "ipython3",
   "version": "3.8.5"
  }
 },
 "nbformat": 4,
 "nbformat_minor": 4
}
