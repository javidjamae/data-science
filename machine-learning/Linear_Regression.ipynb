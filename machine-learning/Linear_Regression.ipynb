{
 "cells": [
  {
   "cell_type": "markdown",
   "metadata": {
    "id": "6iHSJ1olpeh9"
   },
   "source": [
    "# Overview\n",
    "\n",
    "In statistics, linear regression is a linear approach to modelling the relationship between a scalar response (or dependent variable) and one or more explanatory variables (or independent variables).\n",
    "\n",
    "Linear regression is a common algorithm for making inferences and predictions. \n",
    "\n",
    "References:\n",
    "- [Linear Regression - Wikipedia](https://en.wikipedia.org/wiki/Linear_regression)"
   ]
  },
  {
   "cell_type": "markdown",
   "metadata": {},
   "source": [
    "# Process\n",
    "\n",
    "1. Get sample data\n",
    "2. Split it into a training and test set\n",
    "3. Design a model that predicts outcomes for the training set\n",
    "4. Test the model against the test set\n",
    "5. Use the model to predict future \"real-world\" values"
   ]
  },
  {
   "cell_type": "markdown",
   "metadata": {},
   "source": [
    "# Variables\n",
    "\n",
    "The dependent (predicted) variable is often written as $Y$, and the independent (predictors) variables are often represented as $x_1, x_2, x_3, ..., x_n$."
   ]
  },
  {
   "cell_type": "markdown",
   "metadata": {},
   "source": [
    "# Simple Linear Regression\n",
    "\n",
    "Simple linear regression for a population (hence in Greek) is mathematically written as:\n",
    "$$\n",
    "y = \\beta_0 + \\beta_1 x_1 + \\epsilon\n",
    "$$\n",
    "\n",
    "Where:\n",
    "- $y$ - dependent variable (predicted value / output)\n",
    "- $\\beta_0$ - constant (minimum value of $y$ even if other terms are 0)\n",
    "- $\\beta_1$ - independent variable coefficient (quantifies effect of $x_1$ on $y$\n",
    "- $x_1$ - independent variable (predictor / input)\n",
    "- $\\epsilon$ - error (how far off the observed income is from the prediction)\n",
    "\n",
    "The $\\epsilon$ is also called the residual. The sum of all residuals across all observations is 0.\n",
    "\n",
    "For a sample, we similarly write the equation as:\n",
    "\n",
    "$$\n",
    "\\hat{y} = b_0 + b_1 x_1\n",
    "$$\n"
   ]
  },
  {
   "cell_type": "markdown",
   "metadata": {
    "id": "r0bCeGpppjIx"
   },
   "source": [
    "# Residuals"
   ]
  },
  {
   "cell_type": "markdown",
   "metadata": {
    "id": "w1sL_EEeq6jk"
   },
   "source": [
    "# Mean Squared Error"
   ]
  }
 ],
 "metadata": {
  "colab": {
   "name": "Linear Regression.ipynb",
   "provenance": [],
   "toc_visible": true
  },
  "kernelspec": {
   "display_name": "Python 3",
   "language": "python",
   "name": "python3"
  },
  "language_info": {
   "codemirror_mode": {
    "name": "ipython",
    "version": 3
   },
   "file_extension": ".py",
   "mimetype": "text/x-python",
   "name": "python",
   "nbconvert_exporter": "python",
   "pygments_lexer": "ipython3",
   "version": "3.8.5"
  }
 },
 "nbformat": 4,
 "nbformat_minor": 4
}
