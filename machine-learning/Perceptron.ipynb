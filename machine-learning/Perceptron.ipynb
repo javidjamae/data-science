{
 "cells": [
  {
   "cell_type": "markdown",
   "metadata": {},
   "source": [
    "# Perceptron\n",
    "\n",
    "Playing around with code from the article [An Introduction to Python Machine Learning with Perceptrons](https://www.codementor.io/@mcorr/an-introduction-to-python-machine-learning-with-perceptrons-k7pn85vfi)."
   ]
  },
  {
   "cell_type": "code",
   "execution_count": 8,
   "metadata": {},
   "outputs": [
    {
     "name": "stdout",
     "output_type": "stream",
     "text": [
      "[-16.7584389090595, 36.86950230435126, -238.63140081355817]\n",
      "(-7, 9):  1\n",
      "(3, 1):  -1\n"
     ]
    }
   ],
   "source": [
    "import random\n",
    "\n",
    "class Perceptron:\n",
    "    def __init__(self, learn_speed, num_weights):\n",
    "        self.speed = learn_speed\n",
    "        self.weights = []\n",
    "        for x in range(0, num_weights):\n",
    "            self.weights.append(random.random()*2-1)\n",
    "    \n",
    "    def feed_forward(self, inputs):\n",
    "        sum = 0\n",
    "        # multiply inputs by weights and sum them\n",
    "        for x in range(0, len(self.weights)):\n",
    "            sum += self.weights[x] * inputs[x]\n",
    "        # return the 'activated' sum\n",
    "        return self.activate(sum)\n",
    "      \n",
    "    def activate(self, num):\n",
    "        # turn a sum over 0 into 1, and below 0 into -1\n",
    "        if num > 0:\n",
    "            return 1\n",
    "        return -1\n",
    "    \n",
    "    def train(self, inputs, desired_output):\n",
    "        guess = self.feed_forward(inputs)\n",
    "        error = desired_output - guess\n",
    "      \n",
    "        for x in range(0, len(self.weights)):\n",
    "            self.weights[x] += error*inputs[x]*self.speed\n",
    "           \n",
    "    def print_weights(self):\n",
    "        print( self.weights )\n",
    "\n",
    "class Trainer:\n",
    "\n",
    "    def __init__(self):\n",
    "        self.perceptron = Perceptron(0.01, 3)\n",
    "      \n",
    "    def f(self, x):\n",
    "        return 0.5*x + 10 # line: f(x) = 0.5x + 10\n",
    "      \n",
    "    def train(self):\n",
    "        for x in range(0, 1000000):\n",
    "            x_coord = random.random()*500-250\n",
    "            y_coord = random.random()*500-250\n",
    "            line_y = self.f(x_coord)\n",
    "\n",
    "            if y_coord > line_y: # above the line\n",
    "                answer = 1\n",
    "                self.perceptron.train([x_coord, y_coord,1], answer)\n",
    "            else: # below the line\n",
    "                answer = -1\n",
    "                self.perceptron.train([x_coord, y_coord,1], answer)\n",
    "                \n",
    "        return self.perceptron # return our trained perceptron\n",
    "\n",
    "trainer = Trainer()\n",
    "p = trainer.train()\n",
    "p.print_weights()\n",
    "\n",
    "print( \"(-7, 9): \", p.feed_forward([-7,9,1]) )\n",
    "print( \"(3, 1): \", p.feed_forward([3,1,1]) )"
   ]
  }
 ],
 "metadata": {
  "kernelspec": {
   "display_name": "Python 3",
   "language": "python",
   "name": "python3"
  },
  "language_info": {
   "codemirror_mode": {
    "name": "ipython",
    "version": 3
   },
   "file_extension": ".py",
   "mimetype": "text/x-python",
   "name": "python",
   "nbconvert_exporter": "python",
   "pygments_lexer": "ipython3",
   "version": "3.8.5"
  }
 },
 "nbformat": 4,
 "nbformat_minor": 4
}
