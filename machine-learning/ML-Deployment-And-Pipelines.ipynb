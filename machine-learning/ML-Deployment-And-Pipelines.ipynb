{
 "cells": [
  {
   "cell_type": "markdown",
   "metadata": {},
   "source": [
    "# Overview\n",
    "\n",
    "The value of a machine learning model is only realized when it is deployed into production. This guide walks through the entire process from obtaining data to building, deploying, and assessing the buisiness value of machine learning models."
   ]
  },
  {
   "cell_type": "markdown",
   "metadata": {},
   "source": [
    "# Data and Model Research\n",
    "\n",
    "Before we can expose a machine learning model, we must do our due diligence to analyze the data and build the model. This is where you do the following activities:\n",
    "- [Data gathering](#Data-Gathering)\n",
    "- [Data analysis](#Data-Analysis)\n",
    "- [Feature engineering](#Feature-Engineering) (data pre-processing)\n",
    "- [Feature selection](#Feature-Selection) (variable selection)\n",
    "- [Model building](#Model-Building)\n",
    "- [Model assessment](#Model-Assessment) (business uplift evaluation)\n",
    "\n",
    "Typically, when we discuss deploying a model, we're referring to writing code and a deployment pipeline for these three stages:\n",
    "- Feature engineering\n",
    "- Feature selection\n",
    "- Model building"
   ]
  },
  {
   "cell_type": "markdown",
   "metadata": {},
   "source": [
    "# Data Gathering\n",
    "\n",
    "Data gathering involves finding data sources and figuring out how we'll make them available to data scientists. \n",
    "\n",
    "- Where do we obtain the data?\n",
    "- How frequently is it updated?\n",
    "- Does the data provider offer support?\n",
    "- Is the data source clean, complete, comprehensive, and unbiased?\n",
    "- What is the cost of the data and does it fit into the budget?"
   ]
  },
  {
   "cell_type": "markdown",
   "metadata": {},
   "source": [
    "# Data Analysis\n",
    "\n",
    "- What is the data telling us?\n",
    "- What are the variables?\n",
    "- How are the variables related to one another?\n",
    "- What variables can we use (e.g. regulations)?"
   ]
  },
  {
   "cell_type": "markdown",
   "metadata": {},
   "source": [
    "# Feature Engineering\n",
    "\n",
    "There are a variety of problems we can find with the data for different variables in our datasets. Feature engineering involves transforming the data before sending it to an ML algorithm. This involves performing tasks such as filling in missing values within a variable or encoding categorical values or dates.\n",
    "\n",
    "[More details here](./Feature-Engineering.ipynb)"
   ]
  },
  {
   "cell_type": "markdown",
   "metadata": {},
   "source": [
    "# Feature Selection\n",
    "\n",
    "Feature selection is determining which variables are the most predictive, and building our model using those. \n",
    "\n",
    "We start with all of the variables in our dataset, then we eliminate features that don't give us the results we want.\n",
    "\n",
    "[More details here](./Feature-Selection.ipynb)"
   ]
  },
  {
   "cell_type": "markdown",
   "metadata": {},
   "source": [
    "# Model Building\n",
    "\n",
    "Build many different ML algorithms, analyze their performance, and choose the ones that give us the best results. \n",
    "\n",
    "In this stage, we will use statistical metrics to measure the model performance. For example, we might use:\n",
    "- Mean Square Error (regression)\n",
    "- Accuracy or area under the ROC Curve (ROC-AUC / classification)"
   ]
  },
  {
   "cell_type": "markdown",
   "metadata": {},
   "source": [
    "# Model Assessment\n",
    "\n",
    "Ultimately, the entire point of creating a machine learning model is to provide some business value. So, we ultimately have to go back and measure the uplift in our business metrics.\n",
    "\n",
    "Topics to add to this section:\n",
    "- Confusion Matrix\n",
    "- Grid Search \n",
    "- K-fold Cross Validation\n",
    "- XGBoost"
   ]
  },
  {
   "cell_type": "markdown",
   "metadata": {},
   "source": [
    "# Model Deployment"
   ]
  },
  {
   "cell_type": "markdown",
   "metadata": {},
   "source": [
    "# Production Environment"
   ]
  },
  {
   "cell_type": "markdown",
   "metadata": {},
   "source": [
    "# References\n",
    "\n",
    "- [Deployment of Machine Learning Models - Udemy](https://www.udemy.com/course/deployment-of-machine-learning-models)"
   ]
  }
 ],
 "metadata": {
  "kernelspec": {
   "display_name": "Python 3",
   "language": "python",
   "name": "python3"
  },
  "language_info": {
   "codemirror_mode": {
    "name": "ipython",
    "version": 3
   },
   "file_extension": ".py",
   "mimetype": "text/x-python",
   "name": "python",
   "nbconvert_exporter": "python",
   "pygments_lexer": "ipython3",
   "version": "3.8.5"
  }
 },
 "nbformat": 4,
 "nbformat_minor": 4
}
