{
 "cells": [
  {
   "cell_type": "markdown",
   "metadata": {},
   "source": [
    "# Model Building"
   ]
  },
  {
   "cell_type": "markdown",
   "metadata": {},
   "source": [
    "After we do our Feature Engineering and Feature Selection, we move on to Model Building. Model building is where we build our machine learning algorithm(s). \n",
    "\n",
    "The model is what allows us to go from data to predictions. \n"
   ]
  },
  {
   "cell_type": "markdown",
   "metadata": {},
   "source": [
    "# Types of Models\n",
    "\n",
    "### Supervised Learning\n",
    "\n",
    "There are several categories of supervised learning models we might build:\n",
    "- Linear models (Linear Regression, Logistic Regression, MARS)\n",
    "- Tree models (Random Forests, Gradient Boosted Trees)\n",
    "- Neural Networks\n",
    "\n",
    "### Unsupervised Learning\n",
    "- Clustering (unsupervised)\n",
    "\n",
    "### Recommender Systems\n",
    "- Recommender systems\n",
    "\n"
   ]
  },
  {
   "cell_type": "markdown",
   "metadata": {},
   "source": [
    "# Model Stacking\n",
    "\n",
    "Model stacking (also known as Meta Ensembling) is where you create multiple models so that you can:\n",
    "- Evaluate them against one another\n",
    "- Measure whether a combination of multiple models may give better performance (predictions)"
   ]
  },
  {
   "cell_type": "markdown",
   "metadata": {},
   "source": [
    "# Supervised Learning\n",
    "\n",
    "### Performance\n",
    "\n",
    "- Accuracy\n",
    "- Linear models:\n",
    "  - Mean Squared Error (MSE)\n",
    "  - Root Mean Squared Error (RMSE)"
   ]
  },
  {
   "cell_type": "markdown",
   "metadata": {},
   "source": [
    "# Unsupervised Learning\n",
    "\n",
    "### Performance\n",
    "\n",
    "ROC-AUC:\n",
    "- For each probability value\n",
    "  - How many times did the model make a correct assesment?\n",
    "  - How many times did the model make an incorrect assessment?\n",
    "  \n"
   ]
  },
  {
   "cell_type": "markdown",
   "metadata": {},
   "source": [
    "# Recommender Systems"
   ]
  }
 ],
 "metadata": {
  "kernelspec": {
   "display_name": "Python 3",
   "language": "python",
   "name": "python3"
  },
  "language_info": {
   "codemirror_mode": {
    "name": "ipython",
    "version": 3
   },
   "file_extension": ".py",
   "mimetype": "text/x-python",
   "name": "python",
   "nbconvert_exporter": "python",
   "pygments_lexer": "ipython3",
   "version": "3.8.5"
  }
 },
 "nbformat": 4,
 "nbformat_minor": 4
}
