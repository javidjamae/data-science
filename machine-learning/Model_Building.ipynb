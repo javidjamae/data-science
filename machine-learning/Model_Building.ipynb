{
 "cells": [
  {
   "cell_type": "markdown",
   "metadata": {},
   "source": [
    "# Model Building"
   ]
  },
  {
   "cell_type": "markdown",
   "metadata": {},
   "source": [
    "After we do our Feature Engineering and Feature Selection, we move on to Model Building. Model building is where we build our machine learning algorithm(s). \n",
    "\n",
    "The model is what allows us to go from data to predictions. \n"
   ]
  },
  {
   "cell_type": "markdown",
   "metadata": {},
   "source": [
    "# Categories of Machine Learning Models\n",
    "\n",
    "- Supervised Learning (Regression, Classification)\n",
    "- Unsupervised Learning (Clustering)\n",
    "- Rule-Based Machine Learning (Association Rule Learning)\n",
    "- Reinforcement Learning (UCB, Thompson Sampling)\n",
    "- Natural Language Processing\n",
    "- Deep Learning (Neural Networks, Convolution Neural Networks)\n",
    "- Dimensionality Reduction"
   ]
  },
  {
   "cell_type": "markdown",
   "metadata": {},
   "source": [
    "# Model Stacking\n",
    "\n",
    "Model stacking (also known as Meta Ensembling) is where you create multiple models so that you can:\n",
    "- Evaluate them against one another\n",
    "- Measure whether a combination of multiple models may give better performance (predictions)"
   ]
  },
  {
   "cell_type": "markdown",
   "metadata": {},
   "source": [
    "# Supervised Learning\n",
    "\n",
    "### Types of Models\n",
    "\n",
    "- Linear Regression\n",
    "  - Simple Linear Regression\n",
    "  - Multiple Linear Regression\n",
    "  - Polynomial Regression\n",
    "  - Support Vector Regression\n",
    "  - Decision Tree Regression\n",
    "  - Random Forest Regression\n",
    "\n",
    "- Classification\n",
    "  - Logistic Regression\n",
    "  - K-Nearest Neighbors (KNN)\n",
    "  - Support Vector Machine (SVM)\n",
    "  - Kernel SVM\n",
    "  - Naive Bayes\n",
    "  - Decision Tree Classification\n",
    "  - Random Forest Classification\n",
    "\n",
    "### Bias / Variance Tradeoff\n",
    "\n",
    "The bias-variance tradeoff is where we are add noise by adding model complexity. This is also called overfitting. \n",
    "\n",
    "When we fit a model very closely to a training set such that it has extremely low variance, it might create bias in the results when we subsequently run it on test or real data.\n",
    "\n",
    "We often have to allow more variance so that we can maintain lower bias (i.e. accuracy) in our predictions. \n",
    "\n",
    "References:\n",
    "- [Bias Variance Trade Off - Python for Data Science and Machine Learning Bootcamp](https://www.udemy.com/course/python-for-data-science-and-machine-learning-bootcamp/learn/lecture/5733420)\n",
    "\n",
    "### Performance\n",
    "\n",
    "- Accuracy\n",
    "- Linear models:\n",
    "  - Mean Squared Error (MSE)\n",
    "  - Root Mean Squared Error (RMSE)"
   ]
  },
  {
   "cell_type": "markdown",
   "metadata": {},
   "source": [
    "# Unsupervised Learning\n",
    "\n",
    "### Types of Models\n",
    "\n",
    "- Clustering\n",
    "  - K-Means Clustering\n",
    "  - Hierarchical Clustering\n",
    "\n",
    "### Performance\n",
    "\n",
    "ROC-AUC:\n",
    "- For each probability value\n",
    "  - How many times did the model make a correct assesment?\n",
    "  - How many times did the model make an incorrect assessment?\n",
    "  \n"
   ]
  },
  {
   "cell_type": "markdown",
   "metadata": {},
   "source": [
    "# Rule-Based Machine Learning \n",
    "\n",
    "- Association Rule Learning\n",
    "  - Eclat\n",
    "  - Apriori\n",
    "\n",
    "References:\n",
    "- [Rule-Based Machine Learning - Wikipedia](https://en.wikipedia.org/wiki/Rule-based_machine_learning)\n"
   ]
  }
 ],
 "metadata": {
  "kernelspec": {
   "display_name": "Python 3",
   "language": "python",
   "name": "python3"
  },
  "language_info": {
   "codemirror_mode": {
    "name": "ipython",
    "version": 3
   },
   "file_extension": ".py",
   "mimetype": "text/x-python",
   "name": "python",
   "nbconvert_exporter": "python",
   "pygments_lexer": "ipython3",
   "version": "3.8.5"
  }
 },
 "nbformat": 4,
 "nbformat_minor": 4
}
