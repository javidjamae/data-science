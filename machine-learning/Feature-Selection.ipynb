{
 "cells": [
  {
   "cell_type": "markdown",
   "metadata": {},
   "source": [
    "# Feature Selection\n",
    "\n",
    "Feature selection is determining which variables are the most predictive, and building our model using those. \n",
    "\n",
    "We start with all of the variables in our dataset, then we eliminate features that don't give us the results we want.\n"
   ]
  },
  {
   "cell_type": "markdown",
   "metadata": {},
   "source": [
    "# Why do we select features?\n",
    "- Simple models are easier to interpret - The people who act on the results need to understand the inputs\n",
    "- Shorter training times\n",
    "- Enhanced generalization by reducing overfitting\n",
    "- Easier for devs to implement and deploy the model into production \n",
    "- Reduced risk of data errors during model use\n",
    "- Data redundancy"
   ]
  },
  {
   "cell_type": "markdown",
   "metadata": {},
   "source": [
    "# Why do we want fewer features?\n",
    "- Less data to provide as input - Making the calling system collect and send more input variables results in more work. \n",
    "- Smaller JSON payloads sent to the model - More input variables results in larger payloads and possibly slower performance. \n",
    "- Less error handling code - need error handling per variable / input, e.g. how do we handle previously unseen data?\n",
    "- Less information to log\n",
    "- Less feature engineering code"
   ]
  },
  {
   "cell_type": "markdown",
   "metadata": {},
   "source": [
    "# Variable Redundancy\n",
    "\n",
    "Redundant variables are variables we want to eliminate from our model so that we don't need to provide them as inputs. \n",
    "\n",
    "Types of redundant variables:\n",
    "- Constant Variables - variables that are constant for all observations\n",
    "- Quasi-constant variables - >99% of observations have the same value\n",
    "- Duplication - Two variables with different names, but they're identical\n",
    "- Correlation - Two variables that are highly correlated provide the same information about the target we want to predict"
   ]
  },
  {
   "cell_type": "markdown",
   "metadata": {},
   "source": [
    "# Feature Selection Methods\n",
    "\n",
    "Algotirhms for selecting features:\n",
    "- Embedded Methods\n",
    "- Wrapper Methods\n",
    "- Filter Methods\n",
    "\n",
    "### Filter Methods\n",
    "- Statistical tests like ANOVA and K-Squared\n",
    "- Independent of the algorithm we ultimately build\n",
    "- Discriminate based on feature characteristics\n",
    "\n",
    "Pros:\n",
    "- Quick feature removal - If you have lots of features, can eliminate a big chunk easily\n",
    "- Model agnostic\n",
    "- Fast computation\n",
    "\n",
    "Cons:\n",
    "- Don't capture redundancy - Looking at one feature at a time \n",
    "- Don't capture interaction - Looking at one feature at a time \n",
    "- Poor model performance - (compared to other methods)\n",
    "\n",
    "### Wrapper Methods\n",
    "- Considers ML algorithm\n",
    "- Evaluates subsets of features, not one at a time\n",
    "- Known as \"greedy algorithms\" because they evaluate all possible feature combinations\n",
    "\n",
    "Pros:\n",
    "- Considers feature interactions\n",
    "- Best performance\n",
    "- Best feature subset for a given algotirhm\n",
    "\n",
    "Cons:\n",
    "- Not model agnostic\n",
    "- Computation is expensive - have to build an ML model for each combination\n",
    "- Often impractical - have to build an ML model for each combination\n",
    "\n",
    "### Embedded Methods\n",
    "- Feature selection during training of ML algorithm\n",
    "- Example: lasso regression\n",
    "- Example: feature importance we derive when fitting tree-based algorithms\n",
    "\n",
    "Pros:\n",
    "- Consider feature interaction\n",
    "- Good model importance\n",
    "- Better than Filter Methods\n",
    "- Faster than Wrapper Methods\n",
    "\n",
    "Cons:\n",
    "- Not model agnostic - e.g. features selected in Random Forest not necessarily best to use in a linear model"
   ]
  }
 ],
 "metadata": {
  "kernelspec": {
   "display_name": "Python 3",
   "language": "python",
   "name": "python3"
  },
  "language_info": {
   "codemirror_mode": {
    "name": "ipython",
    "version": 3
   },
   "file_extension": ".py",
   "mimetype": "text/x-python",
   "name": "python",
   "nbconvert_exporter": "python",
   "pygments_lexer": "ipython3",
   "version": "3.8.5"
  }
 },
 "nbformat": 4,
 "nbformat_minor": 4
}
