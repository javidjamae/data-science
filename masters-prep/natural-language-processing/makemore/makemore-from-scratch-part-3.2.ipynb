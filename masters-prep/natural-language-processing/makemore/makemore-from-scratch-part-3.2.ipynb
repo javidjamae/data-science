{
 "cells": [
  {
   "cell_type": "markdown",
   "id": "8fdc05cb-8f1e-4042-8669-ea4498860a9a",
   "metadata": {},
   "source": [
    "# Makemore from Scratch Part 3.2: Batch Normalization\n",
    "\n",
    "In this notebook, I'm following along with the YouTube video [Building makemore Part 3: Activations & Gradients, BatchNorm](https://www.youtube.com/watch?v=P6sfmUTpUmc&list=PLAqhIrjkxbuWI23v9cThsA9GvCAUhRvKZ&index=4), where [Andrej Karpathy](https://www.youtube.com/@AndrejKarpathy) continues walking through the development and optimization of a language model from scratch.\n",
    "\n",
    "This notebook covers the discussion of Batch Normalization that starts at about the 40 minute marker in the video."
   ]
  },
  {
   "cell_type": "markdown",
   "id": "a6683b3b-ff0a-4464-a169-8807ccc2bb80",
   "metadata": {},
   "source": [
    "## Batch Normalization\n",
    "\n",
    "A [paper on Batch Normalization](https://arxiv.org/pdf/1502.03167.pdf), written by a team at Google, came out in 2015. \n",
    "\n",
    "The suggest using the following mathematical functions for normalizing hidden layers:\n",
    "\n",
    "$$\n",
    "\\text{Input: Values of } x \\text{ over a mini-batch: } B = \\{x_1, x_2, \\ldots, x_m\\}\n",
    "$$\n",
    "\n",
    "$$\n",
    "\\text{Parameters to be learned: } \\gamma, \\beta\n",
    "$$\n",
    "\n",
    "$$\n",
    "\\text{Output: } \\{y_i = BN_{\\gamma,\\beta}(x_i)\\}\n",
    "$$\n",
    "\n",
    "\n",
    "$$\n",
    "\\mu_B = \\frac{1}{m} \\sum_{i=1}^{m} x_i \\quad \\text{Mini-batch Mean}\n",
    "$$\n",
    "\n",
    "$$\n",
    "\\sigma_B^2 = \\frac{1}{m} \\sum_{i=1}^{m} (x_i - \\mu_B)^2 \\quad \\text{Mini-batch Variance}\n",
    "$$\n",
    "\n",
    "$$\n",
    "\\hat{x}_{i} = \\frac{x_i - \\mu_B}{\\sqrt{\\sigma_B^2 + \\epsilon}} \\quad \\text{Normalize}\n",
    "$$\n",
    "\n",
    "$$\n",
    "y_i = \\gamma \\hat{x}_{i} + \\beta \\equiv BN_{\\gamma, \\beta}(x_i) \\quad \\text{Scale and Shift}\n",
    "$$\n",
    "\n",
    "\n",
    "The insight from the paper is that you have hidden states and you want them to be roughly Gaussian, why not just take the hidden states and normalize them to be Gaussian. Standardizing hidden states to be roughly Gaussian is a perfectly differentiable operation. "
   ]
  },
  {
   "cell_type": "code",
   "execution_count": 11,
   "id": "69d32f48-294b-4d38-8eb7-ca8593ab48a2",
   "metadata": {},
   "outputs": [],
   "source": [
    "import torch\n",
    "import matplotlib.pyplot as plt # for making figures\n",
    "%matplotlib inline"
   ]
  },
  {
   "cell_type": "code",
   "execution_count": 29,
   "id": "075d4540-48bd-4fc7-bcfa-37b05c5f980e",
   "metadata": {},
   "outputs": [],
   "source": [
    "g = torch.Generator().manual_seed(2147483647) # for reproducibility\n",
    "n_hidden = 200\n",
    "\n",
    "hpreact = torch.randn((32, n_hidden), generator=g) * 10"
   ]
  },
  {
   "cell_type": "code",
   "execution_count": 30,
   "id": "97963242-ff8e-417f-996b-e7f3187e3b04",
   "metadata": {},
   "outputs": [
    {
     "data": {
      "text/plain": [
       "(array([  1.,   0.,   0.,   1.,   2.,   2.,   4.,   4.,   1.,   8.,  11.,\n",
       "         19.,  30.,  43.,  52.,  77., 104., 131., 158., 197., 222., 314.,\n",
       "        324., 338., 340., 362., 357., 397., 377., 361., 361., 328., 244.,\n",
       "        262., 184., 185., 138., 109., 106.,  82.,  55.,  37.,  18.,  20.,\n",
       "          6.,  10.,   9.,   4.,   3.,   2.]),\n",
       " array([-41.87593842, -40.33698982, -38.79804123, -37.25909264,\n",
       "        -35.72014404, -34.18119545, -32.64224686, -31.10329826,\n",
       "        -29.56434967, -28.02540108, -26.48645248, -24.94750389,\n",
       "        -23.4085553 , -21.8696067 , -20.33065811, -18.79170952,\n",
       "        -17.25276093, -15.71381233, -14.17486374, -12.63591515,\n",
       "        -11.09696655,  -9.55801796,  -8.01906937,  -6.48012077,\n",
       "         -4.94117218,  -3.40222359,  -1.86327499,  -0.3243264 ,\n",
       "          1.21462219,   2.75357079,   4.29251938,   5.83146797,\n",
       "          7.37041656,   8.90936516,  10.44831375,  11.98726234,\n",
       "         13.52621094,  15.06515953,  16.60410812,  18.14305672,\n",
       "         19.68200531,  21.2209539 ,  22.7599025 ,  24.29885109,\n",
       "         25.83779968,  27.37674828,  28.91569687,  30.45464546,\n",
       "         31.99359406,  33.53254265,  35.07149124]),\n",
       " <BarContainer object of 50 artists>)"
      ]
     },
     "execution_count": 30,
     "metadata": {},
     "output_type": "execute_result"
    },
    {
     "data": {
      "image/png": "[encoded data removed]",
      "text/plain": [
       "<Figure size 640x480 with 1 Axes>"
      ]
     },
     "metadata": {},
     "output_type": "display_data"
    }
   ],
   "source": [
    "plt.hist(hpreact.view(-1).tolist(), 50)"
   ]
  },
  {
   "cell_type": "code",
   "execution_count": 31,
   "id": "0b1d93f4-a3c5-49b7-8d44-05f2109af8cd",
   "metadata": {},
   "outputs": [
    {
     "data": {
      "text/plain": [
       "torch.Size([32, 200])"
      ]
     },
     "execution_count": 31,
     "metadata": {},
     "output_type": "execute_result"
    }
   ],
   "source": [
    "hpreact.shape"
   ]
  },
  {
   "cell_type": "code",
   "execution_count": 32,
   "id": "275a9891-09c8-43d9-ac27-980ab8dca350",
   "metadata": {},
   "outputs": [
    {
     "data": {
      "text/plain": [
       "torch.Size([1, 200])"
      ]
     },
     "execution_count": 32,
     "metadata": {},
     "output_type": "execute_result"
    }
   ],
   "source": [
    "hpreact.mean(0, keepdim=True).shape"
   ]
  },
  {
   "cell_type": "code",
   "execution_count": 33,
   "id": "6ac77931-39a2-485d-a560-506ef5ceac68",
   "metadata": {},
   "outputs": [
    {
     "data": {
      "text/plain": [
       "torch.Size([1, 200])"
      ]
     },
     "execution_count": 33,
     "metadata": {},
     "output_type": "execute_result"
    }
   ],
   "source": [
    "hpreact.std(0, keepdim=True).shape"
   ]
  },
  {
   "cell_type": "markdown",
   "id": "9a3125d5-3fe8-43a5-8d6a-de7c3b1ec4ec",
   "metadata": {},
   "source": [
    "To noramlize we subtract the mean and divide by the standard deviation. "
   ]
  },
  {
   "cell_type": "code",
   "execution_count": 34,
   "id": "a204ba80-6f35-419c-90d0-1b72d5fb2f72",
   "metadata": {},
   "outputs": [],
   "source": [
    "hpreact = (hpreact - hpreact.mean(0, keepdim=True)) / hpreact.std(0, keepdim=True)"
   ]
  },
  {
   "cell_type": "code",
   "execution_count": 35,
   "id": "2c91e91a-a284-4c3d-9c6e-f9f1b3c8fcc9",
   "metadata": {},
   "outputs": [
    {
     "data": {
      "text/plain": [
       "(array([  1.,   2.,   0.,   7.,   6.,   6.,   7.,  19.,  22.,  28.,  48.,\n",
       "         41.,  94.,  81., 116., 141., 163., 186., 254., 267., 286., 270.,\n",
       "        280., 307., 332., 325., 310., 335., 299., 312., 285., 241., 229.,\n",
       "        178., 173., 152., 127., 107.,  88.,  76.,  66.,  36.,  30.,  24.,\n",
       "         17.,  12.,   8.,   3.,   1.,   2.]),\n",
       " array([-3.36006522, -3.22971904, -3.09937285, -2.96902667, -2.83868049,\n",
       "        -2.7083343 , -2.57798812, -2.44764194, -2.31729575, -2.18694957,\n",
       "        -2.05660338, -1.9262572 , -1.79591102, -1.66556483, -1.53521865,\n",
       "        -1.40487247, -1.27452628, -1.1441801 , -1.01383391, -0.88348773,\n",
       "        -0.75314155, -0.62279536, -0.49244918, -0.36210299, -0.23175681,\n",
       "        -0.10141063,  0.02893556,  0.15928174,  0.28962792,  0.41997411,\n",
       "         0.55032029,  0.68066648,  0.81101266,  0.94135884,  1.07170503,\n",
       "         1.20205121,  1.33239739,  1.46274358,  1.59308976,  1.72343595,\n",
       "         1.85378213,  1.98412831,  2.1144745 ,  2.24482068,  2.37516686,\n",
       "         2.50551305,  2.63585923,  2.76620542,  2.8965516 ,  3.02689778,\n",
       "         3.15724397]),\n",
       " <BarContainer object of 50 artists>)"
      ]
     },
     "execution_count": 35,
     "metadata": {},
     "output_type": "execute_result"
    },
    {
     "data": {
      "image/png": "[encoded data removed]",
      "text/plain": [
       "<Figure size 640x480 with 1 Axes>"
      ]
     },
     "metadata": {},
     "output_type": "display_data"
    }
   ],
   "source": [
    "plt.hist(hpreact.view(-1).tolist(), 50)"
   ]
  },
  {
   "cell_type": "markdown",
   "id": "3a516bfa-b8ea-47a8-a2c7-89f45f86fc31",
   "metadata": {},
   "source": [
    "This normalization function is differentiable and we could let the network do this through every forward pass and train the network. But, if we did the normalization during every forward pass, we wouldn't achieve a good result. We want them to be Gaussian during initalization, but not always. We'd like to allow the neural network to learn and move the shape around to make it more diffuse, to make it more sharp, or to make some tanh neurons be more/less trigger happy, etc. We'd like back-prop to tell us how it should move around. \n",
    "\n",
    "We can account for this by doing what's known as ***scale and shift***. We do this by initializing the following gain and bias terms and then apply them to hidden layer calculation so that they can be adjusted during back-propagation by the model."
   ]
  },
  {
   "cell_type": "code",
   "execution_count": 37,
   "id": "9a9e40c6-ccd9-42a4-8ac0-ebea4294cadd",
   "metadata": {},
   "outputs": [],
   "source": [
    "# setup\n",
    "n_hidden = 200\n",
    "bngain = torch.ones((1, n_hidden))\n",
    "bnbias = torch.zeros((1, n_hidden))\n",
    "\n",
    "# during forward pass\n",
    "hpreact = bngain * (hpreact - hpreact.mean(0, keepdim=True)) / hpreact.std(0, keepdim=True) + bnbias"
   ]
  },
  {
   "cell_type": "markdown",
   "id": "49e02191-ce30-468a-8232-3395c7a4fef9",
   "metadata": {},
   "source": [
    "If we run this with our single hidden layer MLP we wouldn't really get any improvement. But if we have a deeper neural network, it would be very difficult to tune the scales of the weight matrices so that all the activations are roughly Gaussian. It's much easier to sprinkle in batch normalization to every linear layer (e.g. the pre-activated hidden layer) and append batch normalization right after it. We can do the same thing with Convolution Layers, when we learn about them later. This helps us control the scale of the activations at every point in the neural net.\n",
    "\n",
    "But this stability comes at a cost. Without batch normalization, we had a single example that feeds into the neural net and that would be a deterministic process where we'd calculate logits based on the example. Because of efficiency for training, we started batching. But now, with batch normalization, we are starting to couple these examples together mathematically in the forward / backwards pass. The calculated logits are no longer just a function of the examples, but they are now a function of that example and the other examples it randomly got batched with. Depending on the examples, our hidden layer can now \"jitter\". In a strange way, this can actually be good. It's like a regularizer because it effectively pads out any individual input example. As a second-order effect, it is basically a regularizer. \n",
    "\n",
    "But, the mathematical coupling of examples in batches can still lead to strange results and bugs. People have tried to deprecate batch normalization in favor of other approaches such as *layer normalization*, *group normalization*, and *instance normalization*. \n",
    "\n",
    "Batch was the first and it works quite well, so people haven't necessarily been able to easily replace it. "
   ]
  },
  {
   "cell_type": "markdown",
   "id": "6b997a06-42e3-4af4-a6a8-3af15da8fd90",
   "metadata": {},
   "source": [
    "## Test time\n",
    "\n",
    "One thing that happens when we use batch normalization is that after training we no longer necessarily have batches. We may want to feed in a single example to get a single output back, or to assess the network loss during inference. \n",
    "\n",
    "So, after training, instead of calculating the mean and standard deviation of a batch, we can effectively \"fix\" the mean and standard deviation over the entire training set and use those values. \n",
    "\n",
    "```\n",
    "# calibrate the batch norm at the end of training\n",
    "\n",
    "with torch.no_grad():\n",
    "  # pass the training set through\n",
    "  emb = C[Xtr]\n",
    "  embcat = emb.view(emb.shape[0], -1)\n",
    "  hpreact = embcat @ W1 # + b1\n",
    "  # measure the mean/std over the entire training set\n",
    "  bnmean = hpreact.mean(0, keepdim=True)\n",
    "  bnstd = hpreact.std(0, keepdim=True)\n",
    "```\n",
    "\n",
    "Then when we're calculating the loss, we can do:\n",
    "```\n",
    "hpreact = bngain * (hpreact - bnmean) / bnstd + bnbias\n",
    "\n",
    "```\n",
    "\n",
    "Instead of calculating against the entire training set at the end, another approach is to calculate the bnmean and bnstd in a running fashion.\n",
    "\n",
    "```\n",
    "# during setup / initialization\n",
    "bnmean_running = torch.zeros((1, n_hidden))\n",
    "bnstd_running = torch.ones((1, n_hidden))\n",
    "\n",
    "# during training, we can calculate the mean for the i'th iteration\n",
    "\n",
    "bnmeani = hpreact.mean(0, keepdim=True)\n",
    "bnstdi = hpreact.mean(0, keepdim=True)\n",
    "hpreact = bngain * (hpreact - bnmean_running) / bnstd_running + bnbias\n",
    "\n",
    "with torch.no_grad():\n",
    "  bnmean_running = 0.999 * bnmean_running + 0.001 * bnmeani\n",
    "  bnstd_running = 0.999 * bnstd_running + 0.001 * bnstdi\n",
    "```\n",
    "\n",
    "We're not using gradient descent to update these, since they're just values that we need post training, not as part of training. We're doing a running average type of calculation here. "
   ]
  },
  {
   "cell_type": "markdown",
   "id": "72cd4333-a45b-4dd3-9b6b-00e5c5217f9c",
   "metadata": {},
   "source": [
    "## Biases\n",
    "\n",
    "When you're doing batch normalization, if you have any weight layers before (e.g. linear or convolusion), you don't need bias layers anymore. \n",
    "\n",
    "The way that batch normalization works is that it is taking the mean of the weights and subtracting it out during the normalization calculation. So, the gradient of the bias will always turn out to be 0. So, it's just a waste of calculations to even include the bias terms. When using batch normalization, just comment out your layer bias terms. \n",
    "\n",
    "```\n",
    "# before\n",
    "hpreact = embcat @ W1 + b1\n",
    "\n",
    "# after\n",
    "hpreact = embcat @ W1\n",
    "```\n",
    "\n",
    "The Batch Normalization bias is now responsible for biasing, so don't need bias in the layer before it."
   ]
  },
  {
   "cell_type": "markdown",
   "id": "5750d2df-832d-4a1d-8a86-5ce96aaa7f80",
   "metadata": {},
   "source": [
    "## Normalization techniques\n",
    "\n",
    "### Batch Normalization (BN)\n",
    "\n",
    "Batch normalization is one of the earliest and most widely used normalization techniques.\n",
    "It operates on a mini-batch of training examples and normalizes the activations of a layer by subtracting the mean and dividing by the standard deviation of the batch.\n",
    "\n",
    "Batch normalization introduces learnable parameters (scale and shift) that allow the network to adapt the normalized activations.\n",
    "\n",
    "It can be applied to various layers in a neural network, including convolutional layers and fully connected layers.\n",
    "\n",
    "***Recommendation from Andrej: Generally try to avoid Batch Normalization layers because they introduce many issues that are hard to debug. Try Group Normalization and Layer Normalization instead.***\n",
    "\n",
    "### Layer Normalization (LN)\n",
    "\n",
    "Layer normalization normalizes the activations of a layer by computing the mean and standard deviation across all the units (neurons) in that layer.\n",
    "\n",
    "Unlike batch normalization, it operates independently on each training example rather than a mini-batch.\n",
    "\n",
    "Layer normalization is often used in recurrent neural networks (RNNs) where batch sizes can vary.\n",
    "\n",
    "### Group Normalization (GN)\n",
    "\n",
    "Group normalization is a compromise between batch normalization and layer normalization.\n",
    "\n",
    "It divides the channels (feature maps) of a layer into groups and computes statistics (mean and standard deviation) separately for each group.\n",
    "\n",
    "Group normalization is useful when the batch size is small or when the network has irregular channel dimensions.\n",
    "\n",
    "### Instance Normalization (IN)\n",
    "Instance normalization is a variation of batch normalization but applied independently to each training example rather than across a mini-batch.\n",
    "\n",
    "It normalizes the activations of each example separately and does not include learnable parameters.\n",
    "\n",
    "Instance normalization is commonly used in style transfer and image-to-image translation tasks."
   ]
  }
 ],
 "metadata": {
  "kernelspec": {
   "display_name": "Python 3 (ipykernel)",
   "language": "python",
   "name": "python3"
  },
  "language_info": {
   "codemirror_mode": {
    "name": "ipython",
    "version": 3
   },
   "file_extension": ".py",
   "mimetype": "text/x-python",
   "name": "python",
   "nbconvert_exporter": "python",
   "pygments_lexer": "ipython3",
   "version": "3.11.5"
  }
 },
 "nbformat": 4,
 "nbformat_minor": 5
}
