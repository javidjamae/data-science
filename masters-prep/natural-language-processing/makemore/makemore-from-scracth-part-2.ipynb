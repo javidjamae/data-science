{
 "cells": [
  {
   "cell_type": "markdown",
   "id": "ff4c7b55-f744-4022-b542-03e1e0f573b5",
   "metadata": {},
   "source": [
    "# Makemore from Scratch Part 2: MLP\n",
    "\n",
    "In this notebook, I'm following along with the YouTube video [Building makemore Part 2: MLP](https://www.youtube.com/watch?v=TCH_1BHY58I&list=PLAqhIrjkxbuWI23v9cThsA9GvCAUhRvKZ&index=3), where [Andrej Karpathy](https://www.youtube.com/@AndrejKarpathy) walks through building a language model from scratch.\n",
    "\n",
    "In particular, we're going to implement a Multi-Layer Perceptron (MLP) model. The MLP model is described in [this paper](https://www.jmlr.org/papers/volume3/bengio03a/bengio03a.pdf).\n",
    "\n",
    "A MLP is a multi-layered neural network with an input layer, one or more hidden layers, and an output layer. \n",
    "\n",
    "In an NLP context, one way we can use this is to feed example sentences that are composed of a vocabulary of words (e.g. 17000 words) into a model that represents an `m`-dimensional feature space. We then optimize those word vectors based on our examples. This creates ***word embeddings*** where each word becomes a vector in this space. Words that have similar meanings or are synonyms will be close to one another, and words that don't have much to do with one another will be farther apart. \n",
    "\n",
    "\n",
    "An example, from the paper, of how it might work in more detail is to build a neural network that we feed in the three previous words and it gives us the next word. \n",
    "\n",
    "1. We get the input for each of the three previous words as an integer and then do a lookup in our vocabulary (17000 words) to get an index.\n",
    "2. We then look up each word in a matrix C, which is of size (17000 x 30), and has all of our word embeddings\n",
    "3. We then take the three 30-neuron vectors and use them as inputs into the input layer of our neural network, which is 90-neurons\n",
    "4. We feed the input layer into a hidden layer, which can be any size (e.g. 100 neurons). The hidden layer will have a non-linear activation function like `tanh` or `ReLU` applied to it.\n",
    "5. The hidden layer feeds in to a 17000-neuron output layer. These each are logits, which we then exponentiate and normalize to sum to 1 (i.e. softmax activation). This gives us the probability of our next word in the sequence, which we can look up from our vocabulary.\n",
    "\n",
    "During training we know the next word, so we use that to train the model using back propagation."
   ]
  },
  {
   "cell_type": "code",
   "execution_count": 1,
   "id": "044c3235-3b98-4bd7-a2e4-eaed33db2999",
   "metadata": {},
   "outputs": [],
   "source": [
    "import torch\n",
    "import torch.nn.functional as F\n",
    "import matplotlib.pyplot as plt\n",
    "%matplotlib inline"
   ]
  },
  {
   "cell_type": "code",
   "execution_count": 2,
   "id": "a3d569a9-4f3a-41a9-a648-cb19460e8df9",
   "metadata": {},
   "outputs": [
    {
     "data": {
      "text/plain": [
       "['emma', 'olivia', 'ava', 'isabella', 'sophia', 'charlotte', 'mia', 'amelia']"
      ]
     },
     "execution_count": 2,
     "metadata": {},
     "output_type": "execute_result"
    }
   ],
   "source": [
    "# read in all the words\n",
    "words = open('names.txt', 'r').read().splitlines()\n",
    "words[:8]"
   ]
  },
  {
   "cell_type": "code",
   "execution_count": 3,
   "id": "e9dbd09d-370c-4e8d-89c7-9703b2951c7c",
   "metadata": {},
   "outputs": [
    {
     "data": {
      "text/plain": [
       "32033"
      ]
     },
     "execution_count": 3,
     "metadata": {},
     "output_type": "execute_result"
    }
   ],
   "source": [
    "len(words)"
   ]
  },
  {
   "cell_type": "code",
   "execution_count": 4,
   "id": "1a2a1721-9e2c-4782-9524-a43b02f7d7d7",
   "metadata": {},
   "outputs": [
    {
     "name": "stdout",
     "output_type": "stream",
     "text": [
      "{1: 'a', 2: 'b', 3: 'c', 4: 'd', 5: 'e', 6: 'f', 7: 'g', 8: 'h', 9: 'i', 10: 'j', 11: 'k', 12: 'l', 13: 'm', 14: 'n', 15: 'o', 16: 'p', 17: 'q', 18: 'r', 19: 's', 20: 't', 21: 'u', 22: 'v', 23: 'w', 24: 'x', 25: 'y', 26: 'z', 0: '.'}\n"
     ]
    }
   ],
   "source": [
    "# build the vocabulary of characters and mappings to/from integers\n",
    "chars = sorted(list(set(''.join(words))))\n",
    "stoi = { s:i+1 for i,s in enumerate(chars) }\n",
    "stoi['.'] = 0\n",
    "itos = { i:s for s,i in stoi.items() }\n",
    "print( itos )"
   ]
  },
  {
   "cell_type": "code",
   "execution_count": 5,
   "id": "35f69dc5-b934-4c83-9076-49c4ff616543",
   "metadata": {},
   "outputs": [
    {
     "name": "stdout",
     "output_type": "stream",
     "text": [
      "emma\n",
      "... ---> e\n",
      "..e ---> m\n",
      ".em ---> m\n",
      "emm ---> a\n",
      "mma ---> .\n",
      "olivia\n",
      "... ---> o\n",
      "..o ---> l\n",
      ".ol ---> i\n",
      "oli ---> v\n",
      "liv ---> i\n",
      "ivi ---> a\n",
      "via ---> .\n",
      "ava\n",
      "... ---> a\n",
      "..a ---> v\n",
      ".av ---> a\n",
      "ava ---> .\n",
      "isabella\n",
      "... ---> i\n",
      "..i ---> s\n",
      ".is ---> a\n",
      "isa ---> b\n",
      "sab ---> e\n",
      "abe ---> l\n",
      "bel ---> l\n",
      "ell ---> a\n",
      "lla ---> .\n",
      "sophia\n",
      "... ---> s\n",
      "..s ---> o\n",
      ".so ---> p\n",
      "sop ---> h\n",
      "oph ---> i\n",
      "phi ---> a\n",
      "hia ---> .\n"
     ]
    }
   ],
   "source": [
    "# build the dataset\n",
    "block_size = 3 # context length: how many chars do we take to predict the next one?\n",
    "\n",
    "X, Y = [], [] # X=inputs, Y=labels\n",
    "for w in words[:5]:\n",
    "    print(w)\n",
    "    context = [0] * block_size\n",
    "    for ch in w + '.':\n",
    "        ix = stoi[ch]\n",
    "        X.append(context)\n",
    "        Y.append(ix)\n",
    "        print(''.join(itos[i] for i in context), '--->', itos[ix])\n",
    "        context = context[1:] + [ix] # crop and append\n",
    "\n",
    "X = torch.tensor(X)\n",
    "Y = torch.tensor(Y)"
   ]
  },
  {
   "cell_type": "code",
   "execution_count": 6,
   "id": "9ebcd861-dabd-47db-9ade-fbd7b6afd197",
   "metadata": {},
   "outputs": [
    {
     "data": {
      "text/plain": [
       "(torch.Size([32, 3]), torch.int64, torch.Size([32]), torch.int64)"
      ]
     },
     "execution_count": 6,
     "metadata": {},
     "output_type": "execute_result"
    }
   ],
   "source": [
    "X.shape, X.dtype, Y.shape, Y.dtype"
   ]
  },
  {
   "cell_type": "markdown",
   "id": "2657c986-0e74-4461-b8c4-e2c50f477e26",
   "metadata": {},
   "source": [
    "## Setting up a Word Embedding matrix\n",
    "\n",
    "We'll start with a 2-dimensional space for our Word Embeddings"
   ]
  },
  {
   "cell_type": "code",
   "execution_count": 7,
   "id": "24278ac4-9ce4-4cf7-b762-77febeeaab53",
   "metadata": {},
   "outputs": [],
   "source": [
    "# Word Embeddings: ( vocab_size, feature_space_size )\n",
    "C = torch.randn(( 27, 2 ))"
   ]
  },
  {
   "cell_type": "markdown",
   "id": "77642473-8972-4325-a2f8-6829591b3c43",
   "metadata": {},
   "source": [
    "Before we embed all the integers into the inputs X using the lookup table C, let's just try to embed a single input integer (e.g. `5`). \n",
    "\n",
    "We can do it in two ways, either by directly doing an index lookup from our Word Embeddings matrix C, or by using a one-hot encoding vector that we multiply with our matrix C."
   ]
  },
  {
   "cell_type": "code",
   "execution_count": 8,
   "id": "a4105088-57df-4338-a0d6-e1b3404739ca",
   "metadata": {},
   "outputs": [
    {
     "data": {
      "text/plain": [
       "torch.Size([27, 2])"
      ]
     },
     "execution_count": 8,
     "metadata": {},
     "output_type": "execute_result"
    }
   ],
   "source": [
    "C.shape"
   ]
  },
  {
   "cell_type": "code",
   "execution_count": 9,
   "id": "48dbfa89-09bc-4620-a7e2-468c8415ba7b",
   "metadata": {},
   "outputs": [
    {
     "data": {
      "text/plain": [
       "tensor([-0.3299,  0.9989])"
      ]
     },
     "execution_count": 9,
     "metadata": {},
     "output_type": "execute_result"
    }
   ],
   "source": [
    "# One way is to just get row 5: C[5]\n",
    "C[5]"
   ]
  },
  {
   "cell_type": "code",
   "execution_count": 10,
   "id": "3853d01d-e6e5-4e29-850c-7ed64efc91bf",
   "metadata": {},
   "outputs": [
    {
     "data": {
      "text/plain": [
       "tensor([0, 0, 0, 0, 0, 1, 0, 0, 0, 0, 0, 0, 0, 0, 0, 0, 0, 0, 0, 0, 0, 0, 0, 0,\n",
       "        0, 0, 0])"
      ]
     },
     "execution_count": 10,
     "metadata": {},
     "output_type": "execute_result"
    }
   ],
   "source": [
    "# Another way (which is identical)\n",
    "F.one_hot(torch.tensor(5), num_classes=27)"
   ]
  },
  {
   "cell_type": "code",
   "execution_count": 11,
   "id": "357d6779-8049-43f3-9df1-d6d2ac5b5a13",
   "metadata": {},
   "outputs": [
    {
     "data": {
      "text/plain": [
       "tensor([-0.3299,  0.9989])"
      ]
     },
     "execution_count": 11,
     "metadata": {},
     "output_type": "execute_result"
    }
   ],
   "source": [
    "# (1, 27) x (27, 2) -> (1, 2)\n",
    "# The one-hot encoding effectively plucks out the 5th row from C\n",
    "F.one_hot(torch.tensor(5), num_classes=27).float() @ C"
   ]
  },
  {
   "cell_type": "markdown",
   "id": "8a2416a6-4e77-4b55-838e-2dbf573646af",
   "metadata": {},
   "source": [
    "## Mapping examples to embeddings\n",
    "\n",
    "Now let's play around with how we can do lookups from the matrix C using PyTorch."
   ]
  },
  {
   "cell_type": "code",
   "execution_count": 12,
   "id": "09b15a23-2eb4-4b08-8fae-b6d58805a28d",
   "metadata": {},
   "outputs": [
    {
     "data": {
      "text/plain": [
       "tensor([-0.3299,  0.9989])"
      ]
     },
     "execution_count": 12,
     "metadata": {},
     "output_type": "execute_result"
    }
   ],
   "source": [
    "C[5]"
   ]
  },
  {
   "cell_type": "code",
   "execution_count": 13,
   "id": "128ffdd0-9f53-4707-bcc8-de50bd6a750b",
   "metadata": {},
   "outputs": [
    {
     "data": {
      "text/plain": [
       "tensor([[-0.3299,  0.9989],\n",
       "        [ 2.3768,  0.3461],\n",
       "        [ 0.4453,  0.5977]])"
      ]
     },
     "execution_count": 13,
     "metadata": {},
     "output_type": "execute_result"
    }
   ],
   "source": [
    "C[[5, 6, 7]]"
   ]
  },
  {
   "cell_type": "code",
   "execution_count": 14,
   "id": "675e9d34-ebc6-4b73-86a4-0ab91c6d67da",
   "metadata": {},
   "outputs": [
    {
     "data": {
      "text/plain": [
       "tensor([[-0.3299,  0.9989],\n",
       "        [ 2.3768,  0.3461],\n",
       "        [ 0.4453,  0.5977],\n",
       "        [ 0.4453,  0.5977],\n",
       "        [ 0.4453,  0.5977],\n",
       "        [ 0.4453,  0.5977]])"
      ]
     },
     "execution_count": 14,
     "metadata": {},
     "output_type": "execute_result"
    }
   ],
   "source": [
    "C[torch.tensor([5,6,7,7,7,7])]"
   ]
  },
  {
   "cell_type": "code",
   "execution_count": 15,
   "id": "1b863cb7-2bd6-4002-80b3-e458af8885c6",
   "metadata": {},
   "outputs": [
    {
     "data": {
      "text/plain": [
       "tensor([[[-0.3299,  0.9989],\n",
       "         [ 2.3768,  0.3461]],\n",
       "\n",
       "        [[ 0.4453,  0.5977],\n",
       "         [ 0.4187,  0.7211]]])"
      ]
     },
     "execution_count": 15,
     "metadata": {},
     "output_type": "execute_result"
    }
   ],
   "source": [
    "C[torch.tensor([[5,6],[7,8]])]"
   ]
  },
  {
   "cell_type": "code",
   "execution_count": 16,
   "id": "2a290560-57b3-4629-bc3d-39bb3458cda9",
   "metadata": {},
   "outputs": [
    {
     "data": {
      "text/plain": [
       "tensor([0, 0, 1])"
      ]
     },
     "execution_count": 16,
     "metadata": {},
     "output_type": "execute_result"
    }
   ],
   "source": [
    "X[13]"
   ]
  },
  {
   "cell_type": "code",
   "execution_count": 17,
   "id": "cb7ddc6a-4aa3-4f33-a5d6-c299ba476dfd",
   "metadata": {},
   "outputs": [
    {
     "name": "stdout",
     "output_type": "stream",
     "text": [
      "..a\n"
     ]
    }
   ],
   "source": [
    "print(''.join(itos[i.item()] for i in X[13]))"
   ]
  },
  {
   "cell_type": "code",
   "execution_count": 18,
   "id": "ecc654e2-c776-44d9-97bc-10d95780c5c8",
   "metadata": {},
   "outputs": [
    {
     "data": {
      "text/plain": [
       "tensor(1)"
      ]
     },
     "execution_count": 18,
     "metadata": {},
     "output_type": "execute_result"
    }
   ],
   "source": [
    "X[13,2]"
   ]
  },
  {
   "cell_type": "code",
   "execution_count": 19,
   "id": "f4bc2867-0403-41e0-8cdb-f50ec456ef18",
   "metadata": {},
   "outputs": [
    {
     "data": {
      "text/plain": [
       "tensor([-0.1024,  0.4119])"
      ]
     },
     "execution_count": 19,
     "metadata": {},
     "output_type": "execute_result"
    }
   ],
   "source": [
    "C[X][13,2]"
   ]
  },
  {
   "cell_type": "code",
   "execution_count": 20,
   "id": "cef09943-f6cd-4fca-baf6-6ee786eacb02",
   "metadata": {},
   "outputs": [
    {
     "data": {
      "text/plain": [
       "torch.Size([32, 3, 2])"
      ]
     },
     "execution_count": 20,
     "metadata": {},
     "output_type": "execute_result"
    }
   ],
   "source": [
    "# So we can embed all of our integers in X simultaneously using C[X]\n",
    "#   This is 32x3x2\n",
    "#      32 - examples\n",
    "#       3 - bucket_size\n",
    "#       2 - dimensionality of our vector space for word embeddings\n",
    "emb = C[X]\n",
    "emb.shape"
   ]
  },
  {
   "cell_type": "code",
   "execution_count": 21,
   "id": "94e35589-fb61-4ce3-a6fd-8dbe61bc88d6",
   "metadata": {},
   "outputs": [
    {
     "data": {
      "text/plain": [
       "tensor([[-0.2606,  0.3364],\n",
       "        [-0.2606,  0.3364],\n",
       "        [-0.1024,  0.4119]])"
      ]
     },
     "execution_count": 21,
     "metadata": {},
     "output_type": "execute_result"
    }
   ],
   "source": [
    "# This gives us the two dimensional word embeddings for each \n",
    "#   character in example X[13] (e.g. [0,0,1] which is the string '..a')\n",
    "emb[13]"
   ]
  },
  {
   "cell_type": "code",
   "execution_count": 22,
   "id": "03e375d9-6a0e-4c76-b0a6-e320a8e2e380",
   "metadata": {},
   "outputs": [
    {
     "data": {
      "text/plain": [
       "[tensor([-0.2606,  0.3364]),\n",
       " tensor([-0.2606,  0.3364]),\n",
       " tensor([-0.1024,  0.4119])]"
      ]
     },
     "execution_count": 22,
     "metadata": {},
     "output_type": "execute_result"
    }
   ],
   "source": [
    "[C[0], C[0], C[1]]"
   ]
  },
  {
   "cell_type": "markdown",
   "id": "f345c409-26cd-455a-9316-b8ac4fc69c4b",
   "metadata": {},
   "source": [
    "## Hidden Layer\n",
    "\n",
    "Now let's set up our hidden layer, which we'll call `W1`.\n",
    "\n",
    "The inputs into the layer is 3x2 (three two-dimensional embeddings)"
   ]
  },
  {
   "cell_type": "code",
   "execution_count": 23,
   "id": "b75d3142-7fa5-4026-9595-cba7cc831dfd",
   "metadata": {},
   "outputs": [],
   "source": [
    "W1 = torch.randn((6, 100)) # 100-neuron hidden layer\n",
    "b1 = torch.randn(100) # biases"
   ]
  },
  {
   "cell_type": "code",
   "execution_count": 24,
   "id": "ac30d7b3-3d78-431c-a9a1-3c142bf7dda7",
   "metadata": {},
   "outputs": [
    {
     "data": {
      "text/plain": [
       "torch.Size([32, 6])"
      ]
     },
     "execution_count": 24,
     "metadata": {},
     "output_type": "execute_result"
    }
   ],
   "source": [
    "# We want to do something like this, but we have to modify the dimensions first\n",
    "# emb @ W1 + b1\n",
    "\n",
    "# one method (which doesn't generalize using block_size)\n",
    "torch.cat([emb[:,0,:], emb[:,1,:], emb[:,2,:]], 1).shape"
   ]
  },
  {
   "cell_type": "code",
   "execution_count": 25,
   "id": "158a1115-6e23-4fa7-9299-feab9e26d334",
   "metadata": {},
   "outputs": [
    {
     "data": {
      "text/plain": [
       "torch.Size([32, 6])"
      ]
     },
     "execution_count": 25,
     "metadata": {},
     "output_type": "execute_result"
    }
   ],
   "source": [
    "# another method (using torch.unbind)\n",
    "torch.cat(torch.unbind(emb, 1), 1).shape"
   ]
  },
  {
   "cell_type": "code",
   "execution_count": 26,
   "id": "463ed754-e194-42db-a739-970da291e400",
   "metadata": {},
   "outputs": [
    {
     "data": {
      "text/plain": [
       "tensor([ 0,  1,  2,  3,  4,  5,  6,  7,  8,  9, 10, 11, 12, 13, 14, 15, 16, 17])"
      ]
     },
     "execution_count": 26,
     "metadata": {},
     "output_type": "execute_result"
    }
   ],
   "source": [
    "# yet another (better) way is to use tensor.view\n",
    "a = torch.arange(18)\n",
    "a"
   ]
  },
  {
   "cell_type": "code",
   "execution_count": 27,
   "id": "d9865d3a-5f83-45b0-882e-0b0edad69246",
   "metadata": {},
   "outputs": [
    {
     "data": {
      "text/plain": [
       "torch.Size([18])"
      ]
     },
     "execution_count": 27,
     "metadata": {},
     "output_type": "execute_result"
    }
   ],
   "source": [
    "a.shape"
   ]
  },
  {
   "cell_type": "code",
   "execution_count": 28,
   "id": "1174f3c5-098a-411e-b85f-d29ea0fe9b5c",
   "metadata": {},
   "outputs": [
    {
     "data": {
      "text/plain": [
       "tensor([[[ 0,  1],\n",
       "         [ 2,  3],\n",
       "         [ 4,  5]],\n",
       "\n",
       "        [[ 6,  7],\n",
       "         [ 8,  9],\n",
       "         [10, 11]],\n",
       "\n",
       "        [[12, 13],\n",
       "         [14, 15],\n",
       "         [16, 17]]])"
      ]
     },
     "execution_count": 28,
     "metadata": {},
     "output_type": "execute_result"
    }
   ],
   "source": [
    "# view is extremely efficient\n",
    "a.view(3,3,2)"
   ]
  },
  {
   "cell_type": "code",
   "execution_count": 29,
   "id": "dd43d2cd-56c6-4fcf-9fa8-93357e9f1e11",
   "metadata": {},
   "outputs": [
    {
     "name": "stderr",
     "output_type": "stream",
     "text": [
      "/var/folders/15/6rgmnctj23qfg645kbwvjwdm0000gp/T/ipykernel_43878/317272418.py:2: UserWarning: TypedStorage is deprecated. It will be removed in the future and UntypedStorage will be the only storage class. This should only matter to you if you are using storages directly.  To access UntypedStorage directly, use tensor.untyped_storage() instead of tensor.storage()\n",
      "  a.storage()\n"
     ]
    },
    {
     "data": {
      "text/plain": [
       " 0\n",
       " 1\n",
       " 2\n",
       " 3\n",
       " 4\n",
       " 5\n",
       " 6\n",
       " 7\n",
       " 8\n",
       " 9\n",
       " 10\n",
       " 11\n",
       " 12\n",
       " 13\n",
       " 14\n",
       " 15\n",
       " 16\n",
       " 17\n",
       "[torch.storage.TypedStorage(dtype=torch.int64, device=cpu) of size 18]"
      ]
     },
     "execution_count": 29,
     "metadata": {},
     "output_type": "execute_result"
    }
   ],
   "source": [
    "# how the tensor is stored under the covers\n",
    "a.storage()"
   ]
  },
  {
   "cell_type": "code",
   "execution_count": 30,
   "id": "370d9047-0f65-4d00-a9f0-636bd54e76da",
   "metadata": {},
   "outputs": [
    {
     "data": {
      "text/plain": [
       "tensor([[-0.2606,  0.3364, -0.2606,  0.3364, -0.2606,  0.3364],\n",
       "        [-0.2606,  0.3364, -0.2606,  0.3364, -0.3299,  0.9989],\n",
       "        [-0.2606,  0.3364, -0.3299,  0.9989,  0.9781,  0.3163],\n",
       "        [-0.3299,  0.9989,  0.9781,  0.3163,  0.9781,  0.3163],\n",
       "        [ 0.9781,  0.3163,  0.9781,  0.3163, -0.1024,  0.4119],\n",
       "        [-0.2606,  0.3364, -0.2606,  0.3364, -0.2606,  0.3364],\n",
       "        [-0.2606,  0.3364, -0.2606,  0.3364, -2.3935, -0.8826],\n",
       "        [-0.2606,  0.3364, -2.3935, -0.8826,  0.6515, -0.4445],\n",
       "        [-2.3935, -0.8826,  0.6515, -0.4445, -0.1312, -0.0844],\n",
       "        [ 0.6515, -0.4445, -0.1312, -0.0844, -0.2118, -0.4452],\n",
       "        [-0.1312, -0.0844, -0.2118, -0.4452, -0.1312, -0.0844],\n",
       "        [-0.2118, -0.4452, -0.1312, -0.0844, -0.1024,  0.4119],\n",
       "        [-0.2606,  0.3364, -0.2606,  0.3364, -0.2606,  0.3364],\n",
       "        [-0.2606,  0.3364, -0.2606,  0.3364, -0.1024,  0.4119],\n",
       "        [-0.2606,  0.3364, -0.1024,  0.4119, -0.2118, -0.4452],\n",
       "        [-0.1024,  0.4119, -0.2118, -0.4452, -0.1024,  0.4119],\n",
       "        [-0.2606,  0.3364, -0.2606,  0.3364, -0.2606,  0.3364],\n",
       "        [-0.2606,  0.3364, -0.2606,  0.3364, -0.1312, -0.0844],\n",
       "        [-0.2606,  0.3364, -0.1312, -0.0844, -0.2111, -0.7265],\n",
       "        [-0.1312, -0.0844, -0.2111, -0.7265, -0.1024,  0.4119],\n",
       "        [-0.2111, -0.7265, -0.1024,  0.4119, -0.1218,  0.1251],\n",
       "        [-0.1024,  0.4119, -0.1218,  0.1251, -0.3299,  0.9989],\n",
       "        [-0.1218,  0.1251, -0.3299,  0.9989,  0.6515, -0.4445],\n",
       "        [-0.3299,  0.9989,  0.6515, -0.4445,  0.6515, -0.4445],\n",
       "        [ 0.6515, -0.4445,  0.6515, -0.4445, -0.1024,  0.4119],\n",
       "        [-0.2606,  0.3364, -0.2606,  0.3364, -0.2606,  0.3364],\n",
       "        [-0.2606,  0.3364, -0.2606,  0.3364, -0.2111, -0.7265],\n",
       "        [-0.2606,  0.3364, -0.2111, -0.7265, -2.3935, -0.8826],\n",
       "        [-0.2111, -0.7265, -2.3935, -0.8826, -1.1235,  1.0545],\n",
       "        [-2.3935, -0.8826, -1.1235,  1.0545,  0.4187,  0.7211],\n",
       "        [-1.1235,  1.0545,  0.4187,  0.7211, -0.1312, -0.0844],\n",
       "        [ 0.4187,  0.7211, -0.1312, -0.0844, -0.1024,  0.4119]])"
      ]
     },
     "execution_count": 30,
     "metadata": {},
     "output_type": "execute_result"
    }
   ],
   "source": [
    "emb.view(32,6)"
   ]
  },
  {
   "cell_type": "code",
   "execution_count": 31,
   "id": "5ca82051-0649-4aae-8a00-3ee1485208c0",
   "metadata": {},
   "outputs": [
    {
     "data": {
      "text/plain": [
       "tensor([[-1.8115, -1.1085, -0.2069,  ..., -0.6470, -1.2536, -1.1718],\n",
       "        [-1.8174, -1.4518, -0.4733,  ..., -0.7261, -1.3706, -1.3438],\n",
       "        [-2.9097,  0.9285, -0.9773,  ...,  0.9199,  0.6877, -0.1174],\n",
       "        ...,\n",
       "        [ 2.9588,  2.1471, -3.7062,  ...,  2.0565, -2.4619, -0.1961],\n",
       "        [-2.0373, -2.1392,  0.4608,  ...,  0.9391, -2.1376,  1.5231],\n",
       "        [-3.8480, -1.4361,  0.7785,  ..., -1.0397, -0.0513, -1.5495]])"
      ]
     },
     "execution_count": 31,
     "metadata": {},
     "output_type": "execute_result"
    }
   ],
   "source": [
    "# Now we can do\n",
    "emb.view(32,6) @ W1 + b1"
   ]
  },
  {
   "cell_type": "code",
   "execution_count": 32,
   "id": "67a51ae9-16df-4111-8a5e-49cb43d8bcca",
   "metadata": {},
   "outputs": [
    {
     "data": {
      "text/plain": [
       "tensor([[-0.9480, -0.8035, -0.2040,  ..., -0.5697, -0.8493, -0.8249],\n",
       "        [-0.9486, -0.8961, -0.4409,  ..., -0.6207, -0.8788, -0.8726],\n",
       "        [-0.9941,  0.7299, -0.7519,  ...,  0.7259,  0.5965, -0.1169],\n",
       "        ...,\n",
       "        [ 0.9946,  0.9731, -0.9988,  ...,  0.9678, -0.9856, -0.1936],\n",
       "        [-0.9666, -0.9727,  0.4308,  ...,  0.7348, -0.9726,  0.9092],\n",
       "        [-0.9991, -0.8929,  0.6519,  ..., -0.7778, -0.0512, -0.9137]])"
      ]
     },
     "execution_count": 32,
     "metadata": {},
     "output_type": "execute_result"
    }
   ],
   "source": [
    "# Taking it further, we can stop hardcoding the example size and also tanh it\n",
    "#   We can either use -1 or emb.shape[0]\n",
    "h = torch.tanh( emb.view( -1, 6 ) @ W1 + b1 )\n",
    "h"
   ]
  },
  {
   "cell_type": "code",
   "execution_count": 33,
   "id": "d00ca031-2265-4bc0-9455-c11b6dc9dbf4",
   "metadata": {},
   "outputs": [
    {
     "data": {
      "text/plain": [
       "torch.Size([32, 100])"
      ]
     },
     "execution_count": 33,
     "metadata": {},
     "output_type": "execute_result"
    }
   ],
   "source": [
    "# Now we have a matrix that represents the hidden layer\n",
    "#  activation for all of our examples (e.g. 32 examples)\n",
    "h.shape"
   ]
  },
  {
   "cell_type": "markdown",
   "id": "b35957e2-33f6-4814-ac7a-a6442ac9e4d7",
   "metadata": {},
   "source": [
    "## Output Layer\n",
    "\n",
    "Now we'll create the output layer. It will have an input of 100 and an output of 27, because that's the possible characters from our vocabulary.\n",
    "\n",
    "The logits are the outputs of the neural net. "
   ]
  },
  {
   "cell_type": "code",
   "execution_count": 34,
   "id": "3ff3a126-49a7-478b-8ffb-af7932bc21ac",
   "metadata": {},
   "outputs": [],
   "source": [
    "W2 = torch.randn((100, 27))\n",
    "b2 = torch.randn(27)"
   ]
  },
  {
   "cell_type": "code",
   "execution_count": 35,
   "id": "bf3a8b4f-8221-4dfa-97f8-2a8761193d7e",
   "metadata": {},
   "outputs": [],
   "source": [
    "logits = h @ W2 + b2"
   ]
  },
  {
   "cell_type": "code",
   "execution_count": 36,
   "id": "9bbd0576-2e14-4980-9faf-33c7baaeb908",
   "metadata": {},
   "outputs": [
    {
     "data": {
      "text/plain": [
       "torch.Size([32, 27])"
      ]
     },
     "execution_count": 36,
     "metadata": {},
     "output_type": "execute_result"
    }
   ],
   "source": [
    "logits.shape"
   ]
  },
  {
   "cell_type": "code",
   "execution_count": 37,
   "id": "ae18b028-63c1-4bf1-a1ec-b39825b84d4b",
   "metadata": {},
   "outputs": [],
   "source": [
    "counts = logits.exp()"
   ]
  },
  {
   "cell_type": "code",
   "execution_count": 38,
   "id": "32507769-0617-40fd-b125-256280a52938",
   "metadata": {},
   "outputs": [],
   "source": [
    "prob = counts / counts.sum(1, keepdims=True)"
   ]
  },
  {
   "cell_type": "code",
   "execution_count": 39,
   "id": "49767aef-49a2-497f-9741-88aaf962afb7",
   "metadata": {},
   "outputs": [
    {
     "data": {
      "text/plain": [
       "torch.Size([32, 27])"
      ]
     },
     "execution_count": 39,
     "metadata": {},
     "output_type": "execute_result"
    }
   ],
   "source": [
    "# prob is the probability for each of our examples vs \n",
    "#    every possible letter in our vocabulary\n",
    "prob.shape"
   ]
  },
  {
   "cell_type": "code",
   "execution_count": 40,
   "id": "a3040ac2-7685-4861-8166-4d8ade48b1f7",
   "metadata": {},
   "outputs": [
    {
     "data": {
      "text/plain": [
       "tensor(1.0000)"
      ]
     },
     "execution_count": 40,
     "metadata": {},
     "output_type": "execute_result"
    }
   ],
   "source": [
    "prob[0].sum()"
   ]
  },
  {
   "cell_type": "code",
   "execution_count": 41,
   "id": "c66af6ca-94f6-4baa-a0a2-29ed466f0e8e",
   "metadata": {},
   "outputs": [
    {
     "data": {
      "text/plain": [
       "tensor([ 5, 13, 13,  1,  0, 15, 12,  9, 22,  9,  1,  0,  1, 22,  1,  0,  9, 19,\n",
       "         1,  2,  5, 12, 12,  1,  0, 19, 15, 16,  8,  9,  1,  0])"
      ]
     },
     "execution_count": 41,
     "metadata": {},
     "output_type": "execute_result"
    }
   ],
   "source": [
    "# The output labels\n",
    "Y"
   ]
  },
  {
   "cell_type": "code",
   "execution_count": 42,
   "id": "41b4aa50-1cdb-47ad-9ca6-176cd7e262f8",
   "metadata": {},
   "outputs": [
    {
     "data": {
      "text/plain": [
       "tensor([2.0853e-03, 2.3544e-05, 1.9905e-03, 4.8830e-08, 3.4904e-02, 2.6870e-14,\n",
       "        1.4308e-02, 3.9522e-02, 2.1663e-04, 3.5673e-10, 9.5435e-07, 8.1793e-09,\n",
       "        4.4719e-07, 2.3096e-04, 2.5333e-07, 5.3330e-06, 5.8595e-06, 5.9488e-05,\n",
       "        4.2435e-06, 9.6481e-11, 9.8058e-01, 6.0052e-10, 3.1117e-01, 2.4575e-06,\n",
       "        4.1364e-06, 1.0318e-05, 8.3930e-15, 8.2754e-15, 2.8462e-19, 1.1618e-02,\n",
       "        5.9074e-11, 4.6712e-04])"
      ]
     },
     "execution_count": 42,
     "metadata": {},
     "output_type": "execute_result"
    }
   ],
   "source": [
    "# This is the probability of each example for the expected \n",
    "#    training label output\n",
    "prob[torch.arange(32), Y]"
   ]
  },
  {
   "cell_type": "code",
   "execution_count": 43,
   "id": "2aad571d-3755-4c02-bdbc-c008e721cb97",
   "metadata": {},
   "outputs": [
    {
     "data": {
      "text/plain": [
       "tensor(14.2063)"
      ]
     },
     "execution_count": 43,
     "metadata": {},
     "output_type": "execute_result"
    }
   ],
   "source": [
    "loss = -prob[torch.arange(32), Y].log().mean()\n",
    "loss"
   ]
  },
  {
   "cell_type": "markdown",
   "id": "a129e17f-0a2f-4aee-8026-828f0a6a0494",
   "metadata": {},
   "source": [
    "## Calculating Loss Using Cross Entropy\n",
    "\n",
    "There are many good reasons to use `F.cross_entropy()` in practice rather than trying to roll your own loss calcuation.\n",
    "\n",
    "1. The forward prop can be much more efficient\n",
    "2. The backward prop can be much more efficient, because F.cross_entropy will not create all the intermediate tensors and uses \"fused kernels\".\n",
    "3. F.cross_entropy can handle very large logits that we might hit during training, where exp() might not handle that well."
   ]
  },
  {
   "cell_type": "code",
   "execution_count": 44,
   "id": "8139377b-7a66-4a9a-9cc6-921c29c4bc7d",
   "metadata": {},
   "outputs": [
    {
     "data": {
      "text/plain": [
       "tensor(14.2063)"
      ]
     },
     "execution_count": 44,
     "metadata": {},
     "output_type": "execute_result"
    }
   ],
   "source": [
    "counts = logits.exp()\n",
    "prob = counts / counts.sum(1, keepdims=True)\n",
    "loss = -prob[torch.arange(32), Y].log().mean()\n",
    "loss"
   ]
  },
  {
   "cell_type": "code",
   "execution_count": 45,
   "id": "61407bcc-33e2-4d9c-b568-d20c7f5b94a1",
   "metadata": {},
   "outputs": [
    {
     "data": {
      "text/plain": [
       "tensor(14.2063)"
      ]
     },
     "execution_count": 45,
     "metadata": {},
     "output_type": "execute_result"
    }
   ],
   "source": [
    "F.cross_entropy(logits, Y)"
   ]
  },
  {
   "cell_type": "markdown",
   "id": "aec903fe-85a6-49f9-bb67-e56da5f2bd81",
   "metadata": {},
   "source": [
    "## Batching\n",
    "\n",
    "We can process data in mini-batches, which can help speed up our training iterations. \n",
    "\n",
    "Because we'll be operating on smaller batches that we're randomly selecting, our gradient won't consistently be as reliable and we may have fluctuation in our loss where it goes down a bit and then comes back up.\n",
    "\n",
    "So if we want to process batches of 32 examples at a time, instead of the entire dataset, which is 228,146 examples, we can grab random records from our input like this."
   ]
  },
  {
   "cell_type": "code",
   "execution_count": 46,
   "id": "6f1d23d6-910b-4ccc-b268-376a8f8f5984",
   "metadata": {},
   "outputs": [
    {
     "data": {
      "text/plain": [
       "tensor([30, 18, 21, 27, 11, 19, 10, 19, 26, 18, 25, 15, 16, 26, 20,  6, 14, 15,\n",
       "        25, 12, 23, 23, 15, 17, 13, 11,  5, 28,  3, 24, 23, 13])"
      ]
     },
     "execution_count": 46,
     "metadata": {},
     "output_type": "execute_result"
    }
   ],
   "source": [
    "ix = torch.randint(0, X.shape[0], (32,))\n",
    "ix"
   ]
  },
  {
   "cell_type": "code",
   "execution_count": 47,
   "id": "dd9298d4-dcfb-4caa-9fb5-69dfc5e2a2d4",
   "metadata": {},
   "outputs": [
    {
     "data": {
      "text/plain": [
       "torch.Size([32, 3, 2])"
      ]
     },
     "execution_count": 47,
     "metadata": {},
     "output_type": "execute_result"
    }
   ],
   "source": [
    "C[X[ix]].shape"
   ]
  },
  {
   "cell_type": "markdown",
   "id": "2e0366b4-bc68-4544-af24-9f4ebfdc7730",
   "metadata": {},
   "source": [
    "## Learning Rates\n",
    "\n",
    "Manually plugging in different alpha learning rates of the fully functional model, we can see that a learning rate of 0.01 is a bit slow (the model converges slowly) and a learning rate of 1+ is too high (the model doesn't converge at all). \n",
    "\n",
    "We can write some code using [torch.linspace](https://pytorch.org/docs/stable/generated/torch.linspace.html) to help us experiment with finding a good alpha. "
   ]
  },
  {
   "cell_type": "code",
   "execution_count": 48,
   "id": "65dea8d3-5c6d-4755-ad42-eb5b832fc5ca",
   "metadata": {},
   "outputs": [
    {
     "data": {
      "text/plain": [
       "tensor([0.0010, 0.0111, 0.0212, 0.0313, 0.0414, 0.0515, 0.0615, 0.0716, 0.0817,\n",
       "        0.0918, 0.1019, 0.1120, 0.1221, 0.1322, 0.1423, 0.1524, 0.1625, 0.1725,\n",
       "        0.1826, 0.1927, 0.2028, 0.2129, 0.2230, 0.2331, 0.2432, 0.2533, 0.2634,\n",
       "        0.2735, 0.2835, 0.2936, 0.3037, 0.3138, 0.3239, 0.3340, 0.3441, 0.3542,\n",
       "        0.3643, 0.3744, 0.3845, 0.3945, 0.4046, 0.4147, 0.4248, 0.4349, 0.4450,\n",
       "        0.4551, 0.4652, 0.4753, 0.4854, 0.4955, 0.5055, 0.5156, 0.5257, 0.5358,\n",
       "        0.5459, 0.5560, 0.5661, 0.5762, 0.5863, 0.5964, 0.6065, 0.6165, 0.6266,\n",
       "        0.6367, 0.6468, 0.6569, 0.6670, 0.6771, 0.6872, 0.6973, 0.7074, 0.7175,\n",
       "        0.7275, 0.7376, 0.7477, 0.7578, 0.7679, 0.7780, 0.7881, 0.7982, 0.8083,\n",
       "        0.8184, 0.8285, 0.8385, 0.8486, 0.8587, 0.8688, 0.8789, 0.8890, 0.8991,\n",
       "        0.9092, 0.9193, 0.9294, 0.9395, 0.9495, 0.9596, 0.9697, 0.9798, 0.9899,\n",
       "        1.0000])"
      ]
     },
     "execution_count": 48,
     "metadata": {},
     "output_type": "execute_result"
    }
   ],
   "source": [
    "# this creates 100 numbers between 0.001 and 1 that are even spaced\n",
    "torch.linspace(0.001, 1, 100)"
   ]
  },
  {
   "cell_type": "code",
   "execution_count": 49,
   "id": "035f13a2-d04b-402f-a3be-c66909a3f666",
   "metadata": {},
   "outputs": [
    {
     "data": {
      "text/plain": [
       "tensor([-3.0000, -2.9697, -2.9394, -2.9091, -2.8788, -2.8485, -2.8182, -2.7879,\n",
       "        -2.7576, -2.7273, -2.6970, -2.6667, -2.6364, -2.6061, -2.5758, -2.5455,\n",
       "        -2.5152, -2.4848, -2.4545, -2.4242, -2.3939, -2.3636, -2.3333, -2.3030,\n",
       "        -2.2727, -2.2424, -2.2121, -2.1818, -2.1515, -2.1212, -2.0909, -2.0606,\n",
       "        -2.0303, -2.0000, -1.9697, -1.9394, -1.9091, -1.8788, -1.8485, -1.8182,\n",
       "        -1.7879, -1.7576, -1.7273, -1.6970, -1.6667, -1.6364, -1.6061, -1.5758,\n",
       "        -1.5455, -1.5152, -1.4848, -1.4545, -1.4242, -1.3939, -1.3636, -1.3333,\n",
       "        -1.3030, -1.2727, -1.2424, -1.2121, -1.1818, -1.1515, -1.1212, -1.0909,\n",
       "        -1.0606, -1.0303, -1.0000, -0.9697, -0.9394, -0.9091, -0.8788, -0.8485,\n",
       "        -0.8182, -0.7879, -0.7576, -0.7273, -0.6970, -0.6667, -0.6364, -0.6061,\n",
       "        -0.5758, -0.5455, -0.5152, -0.4848, -0.4545, -0.4242, -0.3939, -0.3636,\n",
       "        -0.3333, -0.3030, -0.2727, -0.2424, -0.2121, -0.1818, -0.1515, -0.1212,\n",
       "        -0.0909, -0.0606, -0.0303,  0.0000])"
      ]
     },
     "execution_count": 49,
     "metadata": {},
     "output_type": "execute_result"
    }
   ],
   "source": [
    "# We can do it exponentially so that we get many more\n",
    "#    options on the smaller end of the range and fewer \n",
    "#    on the larger end of the range\n",
    "torch.linspace(-3, 0, 100) # learning rate exponents"
   ]
  },
  {
   "cell_type": "code",
   "execution_count": 50,
   "id": "30872348-9faf-4e36-aab4-28e3d0614a77",
   "metadata": {},
   "outputs": [
    {
     "data": {
      "text/plain": [
       "tensor([0.0010, 0.0011, 0.0011, 0.0012, 0.0013, 0.0014, 0.0015, 0.0016, 0.0017,\n",
       "        0.0019, 0.0020, 0.0022, 0.0023, 0.0025, 0.0027, 0.0028, 0.0031, 0.0033,\n",
       "        0.0035, 0.0038, 0.0040, 0.0043, 0.0046, 0.0050, 0.0053, 0.0057, 0.0061,\n",
       "        0.0066, 0.0071, 0.0076, 0.0081, 0.0087, 0.0093, 0.0100, 0.0107, 0.0115,\n",
       "        0.0123, 0.0132, 0.0142, 0.0152, 0.0163, 0.0175, 0.0187, 0.0201, 0.0215,\n",
       "        0.0231, 0.0248, 0.0266, 0.0285, 0.0305, 0.0327, 0.0351, 0.0376, 0.0404,\n",
       "        0.0433, 0.0464, 0.0498, 0.0534, 0.0572, 0.0614, 0.0658, 0.0705, 0.0756,\n",
       "        0.0811, 0.0870, 0.0933, 0.1000, 0.1072, 0.1150, 0.1233, 0.1322, 0.1417,\n",
       "        0.1520, 0.1630, 0.1748, 0.1874, 0.2009, 0.2154, 0.2310, 0.2477, 0.2656,\n",
       "        0.2848, 0.3054, 0.3275, 0.3511, 0.3765, 0.4037, 0.4329, 0.4642, 0.4977,\n",
       "        0.5337, 0.5722, 0.6136, 0.6579, 0.7055, 0.7565, 0.8111, 0.8697, 0.9326,\n",
       "        1.0000])"
      ]
     },
     "execution_count": 50,
     "metadata": {},
     "output_type": "execute_result"
    }
   ],
   "source": [
    "lre = torch.linspace(-3, 0, 100) \n",
    "lrs = 10**lre # learning rates\n",
    "lrs"
   ]
  },
  {
   "cell_type": "code",
   "execution_count": 51,
   "id": "6e2118e0-804b-4831-aaff-ce6eb2e71234",
   "metadata": {},
   "outputs": [],
   "source": [
    "# build the dataset\n",
    "block_size = 3 # context length: how many chars do we take to predict the next one?\n",
    "\n",
    "X, Y = [], [] # X=inputs, Y=labels\n",
    "\n",
    "def reset_inputs():\n",
    "    global X, Y\n",
    "\n",
    "    for w in words:\n",
    "        context = [0] * block_size\n",
    "        for ch in w + '.':\n",
    "            ix = stoi[ch]\n",
    "            X.append(context)\n",
    "            Y.append(ix)\n",
    "            context = context[1:] + [ix] # crop and append\n",
    "\n",
    "    X = torch.tensor(X)\n",
    "    Y = torch.tensor(Y)\n",
    "\n",
    "reset_inputs()"
   ]
  },
  {
   "cell_type": "code",
   "execution_count": 52,
   "id": "70ac481b-fa85-40ef-a6fc-250e0ef76c76",
   "metadata": {},
   "outputs": [
    {
     "data": {
      "text/plain": [
       "(torch.Size([228146, 3]), torch.Size([228146]))"
      ]
     },
     "execution_count": 52,
     "metadata": {},
     "output_type": "execute_result"
    }
   ],
   "source": [
    "X.shape, Y.shape # dataset"
   ]
  },
  {
   "cell_type": "code",
   "execution_count": 191,
   "id": "40ee274c-97cc-4855-886c-ffff3f765df7",
   "metadata": {},
   "outputs": [],
   "source": [
    "def reset_model(hidden_layer=100, embedding_dimensions=2):\n",
    "    global g, C, W1, b1, W2, b2, parameters\n",
    "\n",
    "    g = torch.Generator().manual_seed(2147843647)\n",
    "    C = torch.randn(( 27, embedding_dimensions ), generator=g, requires_grad=True)\n",
    "    W1 = torch.randn((block_size*embedding_dimensions, hidden_layer), generator=g, requires_grad=True)\n",
    "    b1 = torch.randn(hidden_layer, generator=g, requires_grad=True)\n",
    "    W2 = torch.randn((hidden_layer, 27), requires_grad=True)\n",
    "    b2 = torch.randn(27, requires_grad=True)\n",
    "    parameters = [C, W1, b1, W2, b2]\n",
    "    print( \"Model Parameters: \", sum(p.nelement() for p in parameters) )"
   ]
  },
  {
   "cell_type": "code",
   "execution_count": 192,
   "id": "1e485bbb-36df-4ef2-99e6-de142ff1c7cd",
   "metadata": {},
   "outputs": [
    {
     "name": "stdout",
     "output_type": "stream",
     "text": [
      "Model Parameters:  3481\n"
     ]
    }
   ],
   "source": [
    "reset_model(hidden_layer=100)"
   ]
  },
  {
   "cell_type": "code",
   "execution_count": 193,
   "id": "9cb52c9f-b534-48bc-8a42-d97f02971fa2",
   "metadata": {},
   "outputs": [],
   "source": [
    "epochs = 1000\n",
    "batch_size = 32\n",
    "lre = torch.linspace(-3, 0, epochs) # learning rate exponents\n",
    "lrs = 10**lre # learning rates"
   ]
  },
  {
   "cell_type": "code",
   "execution_count": 194,
   "id": "73d69dc6-ae61-4877-abd9-dced30cf41c4",
   "metadata": {},
   "outputs": [
    {
     "name": "stdout",
     "output_type": "stream",
     "text": [
      "Batch loss:  18.23162841796875\n",
      "Batch loss:  15.451325416564941\n",
      "Batch loss:  13.41390609741211\n",
      "Batch loss:  10.967674255371094\n",
      "Batch loss:  6.2109270095825195\n",
      "Batch loss:  5.064314365386963\n",
      "Batch loss:  4.699735164642334\n",
      "Batch loss:  3.6855709552764893\n",
      "Batch loss:  2.998400926589966\n",
      "Batch loss:  3.833437204360962\n",
      "Full loss:  7.065337181091309\n"
     ]
    }
   ],
   "source": [
    "lri = []\n",
    "lossi = []\n",
    "\n",
    "for i in range(epochs):\n",
    "    # minibatch construct\n",
    "    ix = torch.randint(0, X.shape[0], (batch_size,))\n",
    "    \n",
    "    # forward pass\n",
    "    emb = C[X[ix]] # (batch_size, 3, 2)\n",
    "    h = torch.tanh( emb.view( -1, 6 ) @ W1 + b1 ) # (batch_size, 100)\n",
    "    logits = h @ W2 + b2 # (batch_size, 27)\n",
    "    loss = F.cross_entropy(logits, Y[ix])\n",
    "\n",
    "    if i % 100 == 0:\n",
    "        print(\"Batch loss: \", loss.item()) \n",
    "\n",
    "    # backward pass\n",
    "    for p in parameters:\n",
    "        p.grad = None\n",
    "    loss.backward()\n",
    "    \n",
    "    # update\n",
    "    lr = lrs[i]\n",
    "    for p in parameters:\n",
    "        p.data += -lr * p.grad\n",
    "\n",
    "    # track stats\n",
    "    lri.append(lre[i])\n",
    "    lossi.append(loss.item())\n",
    "\n",
    "emb = C[X] # (32, 3, 2)\n",
    "h = torch.tanh( emb.view( -1, 6 ) @ W1 + b1 ) # (32, 100)\n",
    "logits = h @ W2 + b2 # (32, 27)\n",
    "full_loss = F.cross_entropy(logits, Y)\n",
    "\n",
    "print(\"Full loss: \", full_loss.item())"
   ]
  },
  {
   "cell_type": "code",
   "execution_count": 195,
   "id": "8ade6704-242d-4712-a625-d3bc829baf42",
   "metadata": {},
   "outputs": [
    {
     "data": {
      "text/plain": [
       "[<matplotlib.lines.Line2D at 0x12cc63c10>]"
      ]
     },
     "execution_count": 195,
     "metadata": {},
     "output_type": "execute_result"
    },
    {
     "data": {
      "image/png": "[encoded data removed]",
      "text/plain": [
       "<Figure size 640x480 with 1 Axes>"
      ]
     },
     "metadata": {},
     "output_type": "display_data"
    }
   ],
   "source": [
    "plt.plot(lri,lossi)"
   ]
  },
  {
   "cell_type": "code",
   "execution_count": 196,
   "id": "bd3babae-3075-4a8e-856d-62e72e1b8323",
   "metadata": {},
   "outputs": [
    {
     "data": {
      "image/png": "[encoded data removed]",
      "text/plain": [
       "<Figure size 1000x500 with 1 Axes>"
      ]
     },
     "metadata": {},
     "output_type": "display_data"
    }
   ],
   "source": [
    "# Making the graph a bit fancier\n",
    "\n",
    "lri_tensor = torch.tensor(lri)\n",
    "lossi_tensor = torch.tensor(lossi)\n",
    "\n",
    "# Calculate the moving average\n",
    "window_size = 20 # You can adjust this to your desired window size\n",
    "moving_average = lossi_tensor.unfold(0, window_size, 1).mean(dim=1)\n",
    "\n",
    "# Create a scatter plot of your data points\n",
    "plt.figure(figsize=(10, 5))\n",
    "plt.scatter(lri, lossi, label='Data', marker='o', s=1)\n",
    "\n",
    "# Plot the moving average in red\n",
    "x_values = lri[(window_size-1)//2 : -(window_size-1)//2]  # Adjust x values\n",
    "plt.plot(x_values, moving_average, color='red', label=f'Moving Average ({window_size})')\n",
    "\n",
    "plt.xlabel('Learning Rate Exponent')\n",
    "plt.ylabel('Loss')\n",
    "plt.title('Learning Rate Exponent vs. Loss')\n",
    "plt.grid(True)\n",
    "plt.legend()\n",
    "plt.show()\n"
   ]
  },
  {
   "cell_type": "markdown",
   "id": "f8584e38-d113-426a-a8ba-63b6b2f8980b",
   "metadata": {},
   "source": [
    "Based on the graph, it seems like an initial $10^{-1}=0.1$ learning rate is at the bottom of the valley of the curve and is likely the learning rate we'd want to use.\n",
    "\n",
    "After we set this learning rate and the loss seems to plateau, we can then use an order of magnitude smaller learning curve (e.g. 0.01) to get futher optimization. That is often called a ***learning curve decay***."
   ]
  },
  {
   "cell_type": "markdown",
   "id": "32997606-f28b-4782-baed-ca48cc385426",
   "metadata": {},
   "source": [
    "> Note: I still have an outstanding question / doubt about the approach to setting the learning rate. I [commented on the video](https://www.youtube.com/watch?v=TCH_1BHY58I&lc=UgyQzgsORSKB1Nq6KOR4AaABAg) about it. I didn't keep that code / graph where I shuffle the learning rates here in this notebook, but it is something I'd like to explore further at some point.\n",
    "\n",
    "```\n",
    "Andrej - I have a question about the approach you took to explore and optimize the learning rate. Since the loss is both a function of the gradient and the learning rate, wouldn't this graph be skewed based on earlier iterations through your loop when loss will be impacted more by the gradient than in later iterations when the gradient descent gets smaller? Just to experiment, I tried randomizing the lre list up front and then resorting it after all the training epochs have completed, and I get a very different (more uniform) graph of learning rate to loss. I'm curious what your thoughts are here.\n",
    "```\n",
    "\n"
   ]
  },
  {
   "cell_type": "markdown",
   "id": "6d54ecb5-b973-40c7-a975-b3c85a67d754",
   "metadata": {},
   "source": [
    "## Training vs. Testing\n",
    "\n",
    "Using this MLP approach, we now know that we can achieve a lower loss of around ~2.33 as opposed to the ~2.4 loss we achieved with the bigram model in the previous part of this exercise.\n",
    "\n",
    "But, just because we can achieve a lower loss doesn't mean we have a better model. As the total number of parameters in our network grows, a lower loss could indicate that we're ***overfitting***, or starting to memorize our training set, verbatim.\n",
    "\n",
    "To account for this, we can split our data into:\n",
    "* **Training** 80% - Optimize the parameters\n",
    "* **Dev/Validation** - 10% - Optimize the hyperparameters (hidden layer, regularization, etc)\n",
    "* **Test** - 10% - Validate the performance of the model at the end"
   ]
  },
  {
   "cell_type": "code",
   "execution_count": 197,
   "id": "16f1b2fa-7216-4e3e-9bce-e6c2e57b32bc",
   "metadata": {},
   "outputs": [],
   "source": [
    "def build_dataset(words):\n",
    "    X, Y = [], []\n",
    "\n",
    "    for w in words:\n",
    "        context = [0] * block_size\n",
    "        for ch in w + '.':\n",
    "            ix = stoi[ch]\n",
    "            X.append(context)\n",
    "            Y.append(ix)\n",
    "            context = context[1:] + [ix] # crop and append\n",
    "\n",
    "    X = torch.tensor(X)\n",
    "    Y = torch.tensor(Y)\n",
    "    print(\"Dataset Shape: \", X.shape, Y.shape)\n",
    "\n",
    "    return X, Y"
   ]
  },
  {
   "cell_type": "code",
   "execution_count": 198,
   "id": "573c1b69-4ce3-454c-b5fd-b4fa020046f2",
   "metadata": {},
   "outputs": [
    {
     "name": "stdout",
     "output_type": "stream",
     "text": [
      "Dataset Shape:  torch.Size([182437, 3]) torch.Size([182437])\n",
      "Dataset Shape:  torch.Size([22781, 3]) torch.Size([22781])\n",
      "Dataset Shape:  torch.Size([22928, 3]) torch.Size([22928])\n"
     ]
    }
   ],
   "source": [
    "import random\n",
    "random.seed(42)\n",
    "random.shuffle(words)\n",
    "n1 = int(0.8*len(words))\n",
    "n2 = int(0.9*len(words))\n",
    "\n",
    "Xtr, Ytr   = build_dataset(words[  :n1])\n",
    "Xdev, Ydev = build_dataset(words[n1:n2])\n",
    "Xte, Yte   = build_dataset(words[n2:])"
   ]
  },
  {
   "cell_type": "markdown",
   "id": "3780b79c-9aea-4378-8ba8-ad65499e2db6",
   "metadata": {},
   "source": [
    "## Decaying learning rate\n",
    "\n",
    "Here we'll set up a learning rate that will start at 0.1 and will decay as we run more epochs.\n",
    "\n",
    "We can try different fractions of the total epoch for the decay rate. Here we're showing what it might look like with 300K epochs and a decay factor of 3."
   ]
  },
  {
   "cell_type": "code",
   "execution_count": 199,
   "id": "68ecce8c-f1af-4c92-8da7-924c5dc22c62",
   "metadata": {},
   "outputs": [
    {
     "data": {
      "image/png": "[encoded data removed]",
      "text/plain": [
       "<Figure size 1000x500 with 1 Axes>"
      ]
     },
     "metadata": {},
     "output_type": "display_data"
    }
   ],
   "source": [
    "initial_lr = 0.1\n",
    "epochs = 300000\n",
    "decay_factor = 3\n",
    "decay = epochs / decay_factor\n",
    "i_values = range(0, 300000)  # Range from 1 to 300000\n",
    "lr_values = [initial_lr * (0.1 ** (i / decay)) for i in i_values]\n",
    "\n",
    "# Create the plot\n",
    "plt.figure(figsize=(10, 5))\n",
    "plt.plot(i_values, lr_values)\n",
    "plt.xlabel('Epoch (i)')\n",
    "plt.ylabel('Learning Rate (lr)')\n",
    "plt.title('Learning Rate Schedule')\n",
    "plt.grid(True)\n",
    "plt.show()"
   ]
  },
  {
   "cell_type": "code",
   "execution_count": 200,
   "id": "1e9e558b-9af5-4065-be5c-3499c579296c",
   "metadata": {},
   "outputs": [],
   "source": [
    "def caluclate_learning_rate( total_epochs, current_epoch, initial_lr, decay_factor=3 ):\n",
    "    decay = total_epochs / decay_factor\n",
    "    return initial_lr * (initial_lr ** (current_epoch / decay))"
   ]
  },
  {
   "cell_type": "markdown",
   "id": "37964ad0-ac7e-42fc-8374-5bfb65097e8d",
   "metadata": {},
   "source": [
    "## Visualizing the Character Embeddings\n",
    "\n",
    "While we have a 2d feature vector space we can visualize the character embeddings.\n",
    "\n",
    "Interesting notes\n",
    "- Vowels are clustered\n",
    "- q is pretty far away from everything\n",
    "- . is pretty far away\n",
    "- other letters are clustered\n",
    "- w, x are clustered but apart from the main cluster"
   ]
  },
  {
   "cell_type": "code",
   "execution_count": 201,
   "id": "7cd8c242-767a-4e1d-8b14-89a248a36294",
   "metadata": {},
   "outputs": [
    {
     "data": {
      "image/png": "[encoded data removed]",
      "text/plain": [
       "<Figure size 800x800 with 1 Axes>"
      ]
     },
     "metadata": {},
     "output_type": "display_data"
    }
   ],
   "source": [
    "plt.figure(figsize=(8,8))\n",
    "plt.scatter(C[:,0].data, C[:,1].data, s=200)\n",
    "for i in range(C.shape[0]):\n",
    "    plt.text(C[i,0].item(), C[i,1].item(), itos[i], ha=\"center\", va=\"center\", color=\"white\")\n",
    "plt.grid('minor')"
   ]
  },
  {
   "cell_type": "markdown",
   "id": "f0da7f2b-a183-4ec0-ab92-3f550b970124",
   "metadata": {},
   "source": [
    "## Final test"
   ]
  },
  {
   "cell_type": "code",
   "execution_count": 213,
   "id": "1b22d910-9d60-4e32-9f9d-3ecf7eded285",
   "metadata": {},
   "outputs": [],
   "source": [
    "# Hyperparameters\n",
    "block_size=3\n",
    "embedding_dimensions=20\n",
    "epochs = 100000\n",
    "initial_lr = 0.5\n",
    "batch_size = 256\n",
    "decay_factor = 1.25\n",
    "hidden_layer = 200"
   ]
  },
  {
   "cell_type": "code",
   "execution_count": 214,
   "id": "e3bb4779-973e-4ed4-80fa-3da71825e865",
   "metadata": {},
   "outputs": [
    {
     "name": "stdout",
     "output_type": "stream",
     "text": [
      "Model Parameters:  18167\n"
     ]
    }
   ],
   "source": [
    "# RESET THE MODEL\n",
    "reset_model(hidden_layer=hidden_layer, embedding_dimensions=embedding_dimensions)"
   ]
  },
  {
   "cell_type": "code",
   "execution_count": 215,
   "id": "16fd8774-612e-4621-8f27-6dab08546812",
   "metadata": {},
   "outputs": [
    {
     "name": "stdout",
     "output_type": "stream",
     "text": [
      "Starting...\n",
      "Batch loss:  2.2080562114715576\n",
      "Batch loss:  2.284038782119751\n",
      "Batch loss:  2.1689066886901855\n",
      "Batch loss:  2.0812644958496094\n",
      "Batch loss:  2.334080934524536\n",
      "Batch loss:  2.0478971004486084\n",
      "Batch loss:  2.1097006797790527\n",
      "Batch loss:  1.9479869604110718\n",
      "Batch loss:  2.0249578952789307\n",
      "Batch loss:  1.9667704105377197\n",
      "Done...\n"
     ]
    }
   ],
   "source": [
    "# Training\n",
    "lossi = []\n",
    "stepi = []\n",
    "\n",
    "print(\"Starting...\")\n",
    "\n",
    "for i in range(1, epochs + 1):\n",
    "    # minibatch construct, only using Xtr since we're training\n",
    "    ix = torch.randint(0, Xtr.shape[0], (batch_size,))\n",
    "    \n",
    "    # forward pass\n",
    "    emb = C[Xtr[ix]] # (batch_size, block_size, embedding_dimensions)\n",
    "    h = torch.tanh( emb.view( -1, block_size * embedding_dimensions ) @ W1 + b1 ) # (batch_size, 100)\n",
    "    logits = h @ W2 + b2 # (batch_size, vocab_size)\n",
    "    loss = F.cross_entropy(logits, Ytr[ix])\n",
    "\n",
    "    if i % 10000 == 0:\n",
    "        print(\"Batch loss: \", loss.item()) \n",
    "\n",
    "    # backward pass\n",
    "    for p in parameters:\n",
    "        p.grad = None\n",
    "    loss.backward()\n",
    "    \n",
    "    # update\n",
    "    lr = caluclate_learning_rate( epochs, i, initial_lr, decay_factor=decay_factor )\n",
    "    for p in parameters:\n",
    "        p.data += -lr * p.grad\n",
    "\n",
    "    # track stats\n",
    "    stepi.append(i)\n",
    "    lossi.append(loss.item())\n",
    "\n",
    "print(\"Done...\")"
   ]
  },
  {
   "cell_type": "code",
   "execution_count": 216,
   "id": "1b5c46bb-f1b9-41fd-af04-e8c4e81eff24",
   "metadata": {},
   "outputs": [
    {
     "data": {
      "image/png": "[encoded data removed]",
      "text/plain": [
       "<Figure size 1000x500 with 1 Axes>"
      ]
     },
     "metadata": {},
     "output_type": "display_data"
    }
   ],
   "source": [
    "# plt.plot(stepi, lossi, label='Training Loss')\n",
    "\n",
    "window_size = 500  # You can adjust this to your desired window size\n",
    "lossi_tensor = torch.tensor(lossi, dtype=torch.float32)\n",
    "moving_average = lossi_tensor.unfold(0, window_size, 1).mean(dim=1)\n",
    "\n",
    "# Create a scatter plot of your data points\n",
    "plt.figure(figsize=(10, 5))\n",
    "plt.scatter(stepi, lossi, label='Training Loss', marker='o', s=1)\n",
    "\n",
    "# Plot the moving average in red\n",
    "x_values = stepi[(window_size-1)//2 : -(window_size-1)//2]  # Adjust x values\n",
    "plt.plot(x_values, moving_average, color='red', label=f'Moving Average ({window_size})')\n",
    "\n",
    "\n",
    "plt.xlabel('Step')\n",
    "plt.ylabel('Loss')\n",
    "plt.title('Loss During Training')\n",
    "plt.grid(True)\n",
    "plt.yscale('log')\n",
    "\n",
    "plt.legend()\n",
    "plt.show()"
   ]
  },
  {
   "cell_type": "code",
   "execution_count": 217,
   "id": "995c5d9d-2962-4b68-91c0-5dbb63fd4d54",
   "metadata": {},
   "outputs": [
    {
     "name": "stdout",
     "output_type": "stream",
     "text": [
      "Training loss:  2.061422824859619\n",
      "Dev loss:  2.1926729679107666\n",
      "Test loss:  2.1795477867126465\n"
     ]
    }
   ],
   "source": [
    "# Evaluate using the dev set Xdev, Ydev\n",
    "def calculate_loss( X, Y ):\n",
    "    emb = C[X] # (32, 3, 2)\n",
    "    h = torch.tanh( emb.view( -1, block_size * embedding_dimensions ) @ W1 + b1 ) # (32, 100)\n",
    "    logits = h @ W2 + b2 # (32, 27)\n",
    "    full_loss = F.cross_entropy(logits, Y)\n",
    "    return full_loss.item()\n",
    "\n",
    "print(\"Training loss: \", calculate_loss( Xtr, Ytr ) )\n",
    "print(\"Dev loss: \", calculate_loss( Xdev, Ydev ) )\n",
    "print(\"Test loss: \", calculate_loss( Xte, Yte ) )\n"
   ]
  },
  {
   "cell_type": "markdown",
   "id": "357e3dc6-2291-4148-ba65-43361743845c",
   "metadata": {},
   "source": [
    "## Optimization and Hyperparameter Tuning\n",
    "\n",
    "If we split our dev and test set and see that our dev set is getting a fairly good loss, we can feel confident that we're not ***overfitting*** to the training data. \n",
    "\n",
    "But, if our dev loss and training loss are nearly equal, we may actually be ***underfitting***. That may mean our network is very tiny, so we can try to scale up the neural net until we see that they're starting to diverge a bit. \n",
    "\n",
    "Here are some levers I played around with for hyperparameter tuning:\n",
    "```\n",
    "epoch_range = [25000]\n",
    "embedding_dimensions_range = [2, 6, 10, 20]\n",
    "initial_lr_values = [0.5, 0.1, 0.05]\n",
    "batch_size_values = [32, 64, 128, 256]\n",
    "decay_factor_values = [3, 2, 1.5, 1.25]\n",
    "hidden_layer_values = [100, 200, 300, 500]\n",
    "block_size = [3, 4]\n",
    "```\n"
   ]
  },
  {
   "cell_type": "markdown",
   "id": "1614e438-dae5-4718-95b5-81916824c0a0",
   "metadata": {},
   "source": [
    "### Best loss with 25,000 epochs\n",
    "\n",
    "The following table shows the best Dev Loss I could optimize just using 25000 epochs, and not doing any of the additional optimizations from the next video in the series.\n",
    "\n",
    "| block_size | num_params | embedding_dimensions | hidden_layer | epochs | initial_lr | batch_size | decay_factor | Training Loss | Dev Loss | Test Loss |\n",
    "|------------|------------|----------------------|--------------|--------|------------|------------|--------------|---------------|----------|-----------|\n",
    "| 3          | 18167      | 20                   | 200          | 25000  | 0.5        | 256        | 2            | 2.0959        | 2.1698   | 2.1704    |\n",
    "| 3          | 18167      | 20                   | 200          | 25000  | 0.5        | 256        | 3            | 2.0993        | 2.1716   | 2.1801    |\n",
    "| 3          | 18167      | 20                   | 200          | 25000  | 0.5        | 256        | 1.25         | 2.0978        | 2.1736   | 2.1738    |"
   ]
  },
  {
   "cell_type": "markdown",
   "id": "ce237441-32d8-4921-8fb6-ff1432d28fa2",
   "metadata": {},
   "source": [
    "### Best loss with 100,000 epochs\n",
    "\n",
    "The following table shows a sample of the Dev Loss I optimized using 100,000 epochs, and not doing any of the additional optimizations from the next video in the series. I only ran through about 50 scenarios and performed significantly better than with 25,000 epochs and these were the best 3. \n",
    "\n",
    "| block_size | num_params | embedding_dimensions | hidden_layer | epochs | initial_lr | batch_size | decay_factor | Training Loss | Dev Loss | Test Loss |\n",
    "|------------|------------|----------------------|--------------|--------|------------|------------|--------------|---------------|----------|-----------|\n",
    "|3|17697|10|300|100000|0.5|256|1.5|2.0422|2.1294|2.1337|\n",
    "|4|32967|20|300|100000|0.5|256|2|1.9828|2.1446|2.1489|\n",
    "|3|18167|20|200|100000|0.5|256|1.25|2.0357|2.1480|2.1400|\n",
    "|4|32967|20|300|100000|0.1|256|1.25|2.0988|2.1507|2.1554|\n"
   ]
  },
  {
   "cell_type": "markdown",
   "id": "731e81e8-b3d2-429a-837e-514d76070f7f",
   "metadata": {},
   "source": [
    "## Sampling from the model\n",
    "\n"
   ]
  },
  {
   "cell_type": "code",
   "execution_count": 212,
   "id": "7a779a4a-844f-418e-8a65-cde461aa923e",
   "metadata": {},
   "outputs": [
    {
     "name": "stdout",
     "output_type": "stream",
     "text": [
      "can.\n",
      "ana.\n",
      "kamaovia.\n",
      "kaira.\n",
      "kyrstia.\n",
      "eminiilana.\n",
      "maheno.\n",
      "olaan.\n",
      "arilynn.\n",
      "aan.\n",
      "dyne.\n",
      "tom.\n",
      "zaan.\n",
      "saryanniyas.\n",
      "canaseus.\n",
      "gon.\n",
      "jaan.\n",
      "ykynn.\n",
      "maria.\n",
      "xan.\n"
     ]
    }
   ],
   "source": [
    "g = torch.Generator().manual_seed(2147843647 + 10)\n",
    "\n",
    "for _ in range(20):\n",
    "    out = []\n",
    "    context = [0] * block_size\n",
    "    while True:\n",
    "        emb = C[torch.tensor([context])] # (1, block_size, d)\n",
    "        h = torch.tanh(emb.view(1, -1) @ W1 + b1)\n",
    "        logits = h @ W2 + b2\n",
    "        probs = F.softmax(logits, dim=1)\n",
    "        ix = torch.multinomial(probs, num_samples=1, generator=g).item()\n",
    "        context = context[1:] + [ix]\n",
    "        out.append(ix)\n",
    "        if ix == 0:\n",
    "            break\n",
    "    print(''.join(itos[i] for i in out))\n"
   ]
  },
  {
   "cell_type": "code",
   "execution_count": null,
   "id": "37e2a65e-67a5-4291-984e-825e4e79e647",
   "metadata": {},
   "outputs": [],
   "source": []
  }
 ],
 "metadata": {
  "kernelspec": {
   "display_name": "Python 3 (ipykernel)",
   "language": "python",
   "name": "python3"
  },
  "language_info": {
   "codemirror_mode": {
    "name": "ipython",
    "version": 3
   },
   "file_extension": ".py",
   "mimetype": "text/x-python",
   "name": "python",
   "nbconvert_exporter": "python",
   "pygments_lexer": "ipython3",
   "version": "3.11.5"
  }
 },
 "nbformat": 4,
 "nbformat_minor": 5
}
