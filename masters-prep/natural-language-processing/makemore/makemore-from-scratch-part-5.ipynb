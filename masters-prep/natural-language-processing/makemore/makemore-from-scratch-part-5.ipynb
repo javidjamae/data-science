{
 "cells": [
  {
   "cell_type": "markdown",
   "id": "ed77b9a5-e2f4-4332-b2b6-c2b5f427c358",
   "metadata": {},
   "source": [
    "# Makemore from Scratch Part 5: Building a WaveNet\n",
    "\n",
    "In this notebook, I'm following along with the YouTube video [Building makemore Part 5: Building a WaveNet](https://www.youtube.com/watch?v=t3YJ5hKiMQ0&list=PLAqhIrjkxbuWI23v9cThsA9GvCAUhRvKZ&index=6), where [Andrej Karpathy](https://www.youtube.com/@AndrejKarpathy) continues walking through the development and optimization of a language model from scratch."
   ]
  },
  {
   "cell_type": "code",
   "execution_count": 1,
   "id": "689d23d8-fc3d-40a9-9fb1-dd0305c30e3f",
   "metadata": {},
   "outputs": [],
   "source": [
    "import torch\n",
    "import torch.nn.functional as F\n",
    "import matplotlib.pyplot as plt # for making figures\n",
    "%matplotlib inline"
   ]
  },
  {
   "cell_type": "code",
   "execution_count": 2,
   "id": "a0cd9264-ede0-42d8-8da7-cc5f8fb47b69",
   "metadata": {},
   "outputs": [
    {
     "name": "stdout",
     "output_type": "stream",
     "text": [
      "32033\n",
      "15\n",
      "['emma', 'olivia', 'ava', 'isabella', 'sophia', 'charlotte', 'mia', 'amelia']\n"
     ]
    }
   ],
   "source": [
    "# read in all the words\n",
    "words = open('names.txt', 'r').read().splitlines()\n",
    "print(len(words))\n",
    "print(max(len(w) for w in words))\n",
    "print(words[:8])"
   ]
  },
  {
   "cell_type": "code",
   "execution_count": 3,
   "id": "0f989953-4394-4d0d-a4a2-b750ed0ec4b8",
   "metadata": {},
   "outputs": [
    {
     "name": "stdout",
     "output_type": "stream",
     "text": [
      "{1: 'a', 2: 'b', 3: 'c', 4: 'd', 5: 'e', 6: 'f', 7: 'g', 8: 'h', 9: 'i', 10: 'j', 11: 'k', 12: 'l', 13: 'm', 14: 'n', 15: 'o', 16: 'p', 17: 'q', 18: 'r', 19: 's', 20: 't', 21: 'u', 22: 'v', 23: 'w', 24: 'x', 25: 'y', 26: 'z', 0: '.'}\n",
      "27\n"
     ]
    }
   ],
   "source": [
    "# build the vocabulary of characters and mappings to/from integers\n",
    "chars = sorted(list(set(''.join(words))))\n",
    "stoi = {s:i+1 for i,s in enumerate(chars)}\n",
    "stoi['.'] = 0\n",
    "itos = {i:s for s,i in stoi.items()}\n",
    "vocab_size = len(itos)\n",
    "print(itos)\n",
    "print(vocab_size)"
   ]
  },
  {
   "cell_type": "code",
   "execution_count": 4,
   "id": "5819fd02-e4e1-46ae-9612-93b125c74c01",
   "metadata": {},
   "outputs": [],
   "source": [
    "# shuffle up the words\n",
    "import random\n",
    "random.seed(42)\n",
    "random.shuffle(words)"
   ]
  },
  {
   "cell_type": "code",
   "execution_count": 5,
   "id": "d7dc004b-435b-4a11-bb04-64c3cb4d1662",
   "metadata": {},
   "outputs": [
    {
     "name": "stdout",
     "output_type": "stream",
     "text": [
      "torch.Size([182625, 8]) torch.Size([182625])\n",
      "torch.Size([22655, 8]) torch.Size([22655])\n",
      "torch.Size([22866, 8]) torch.Size([22866])\n"
     ]
    }
   ],
   "source": [
    "# build the dataset\n",
    "block_size = 8 # context length: how many characters do we take to predict the next one?\n",
    "\n",
    "def build_dataset(words):  \n",
    "  X, Y = [], []\n",
    "  \n",
    "  for w in words:\n",
    "    context = [0] * block_size\n",
    "    for ch in w + '.':\n",
    "      ix = stoi[ch]\n",
    "      X.append(context)\n",
    "      Y.append(ix)\n",
    "      context = context[1:] + [ix] # crop and append\n",
    "\n",
    "  X = torch.tensor(X)\n",
    "  Y = torch.tensor(Y)\n",
    "  print(X.shape, Y.shape)\n",
    "  return X, Y\n",
    "\n",
    "n1 = int(0.8*len(words))\n",
    "n2 = int(0.9*len(words))\n",
    "Xtr,  Ytr  = build_dataset(words[:n1])     # 80%\n",
    "Xdev, Ydev = build_dataset(words[n1:n2])   # 10%\n",
    "Xte,  Yte  = build_dataset(words[n2:])     # 10%"
   ]
  },
  {
   "cell_type": "code",
   "execution_count": 6,
   "id": "666d05ba-9df3-4fd4-99d1-d18b62b4d989",
   "metadata": {},
   "outputs": [
    {
     "name": "stdout",
     "output_type": "stream",
     "text": [
      "........ --> y\n",
      ".......y --> u\n",
      "......yu --> h\n",
      ".....yuh --> e\n",
      "....yuhe --> n\n",
      "...yuhen --> g\n",
      "..yuheng --> .\n",
      "........ --> d\n",
      ".......d --> i\n",
      "......di --> o\n",
      ".....dio --> n\n",
      "....dion --> d\n",
      "...diond --> r\n",
      "..diondr --> e\n",
      ".diondre --> .\n",
      "........ --> x\n",
      ".......x --> a\n",
      "......xa --> v\n",
      ".....xav --> i\n",
      "....xavi --> e\n"
     ]
    }
   ],
   "source": [
    "for x,y in zip(Xtr[:20], Ytr[:20]):\n",
    "  print(''.join(itos[ix.item()] for ix in x), '-->', itos[y.item()])"
   ]
  },
  {
   "cell_type": "code",
   "execution_count": 7,
   "id": "f2b253e3-26cb-48e6-addc-8d0912307e02",
   "metadata": {},
   "outputs": [],
   "source": [
    "# Near copy paste of the layers we have developed in Part 3\n",
    "\n",
    "# -----------------------------------------------------------------------------------------------\n",
    "class Linear:\n",
    "  \n",
    "  def __init__(self, fan_in, fan_out, bias=True):\n",
    "    self.weight = torch.randn((fan_in, fan_out)) / fan_in**0.5 # note: kaiming init\n",
    "    self.bias = torch.zeros(fan_out) if bias else None\n",
    "  \n",
    "  def __call__(self, x):\n",
    "    self.out = x @ self.weight\n",
    "    if self.bias is not None:\n",
    "      self.out += self.bias\n",
    "    return self.out\n",
    "  \n",
    "  def parameters(self):\n",
    "    return [self.weight] + ([] if self.bias is None else [self.bias])\n",
    "\n",
    "# -----------------------------------------------------------------------------------------------\n",
    "class BatchNorm1d:\n",
    "  \n",
    "  def __init__(self, dim, eps=1e-5, momentum=0.1):\n",
    "    self.eps = eps\n",
    "    self.momentum = momentum\n",
    "    self.training = True\n",
    "    # parameters (trained with backprop)\n",
    "    self.gamma = torch.ones(dim)\n",
    "    self.beta = torch.zeros(dim)\n",
    "    # buffers (trained with a running 'momentum update')\n",
    "    self.running_mean = torch.zeros(dim)\n",
    "    self.running_var = torch.ones(dim)\n",
    "  \n",
    "  def __call__(self, x):\n",
    "    # calculate the forward pass\n",
    "    if self.training:\n",
    "      if x.ndim == 2:\n",
    "        dim = 0\n",
    "      elif x.ndim == 3:\n",
    "        dim = (0,1)\n",
    "      xmean = x.mean(dim, keepdim=True) # batch mean\n",
    "      xvar = x.var(dim, keepdim=True) # batch variance\n",
    "    else:\n",
    "      xmean = self.running_mean\n",
    "      xvar = self.running_var\n",
    "    xhat = (x - xmean) / torch.sqrt(xvar + self.eps) # normalize to unit variance\n",
    "    self.out = self.gamma * xhat + self.beta\n",
    "    # update the buffers\n",
    "    if self.training:\n",
    "      with torch.no_grad():\n",
    "        self.running_mean = (1 - self.momentum) * self.running_mean + self.momentum * xmean\n",
    "        self.running_var = (1 - self.momentum) * self.running_var + self.momentum * xvar\n",
    "    return self.out\n",
    "  \n",
    "  def parameters(self):\n",
    "    return [self.gamma, self.beta]\n",
    "\n",
    "# -----------------------------------------------------------------------------------------------\n",
    "class Tanh:\n",
    "  def __call__(self, x):\n",
    "    self.out = torch.tanh(x)\n",
    "    return self.out\n",
    "  def parameters(self):\n",
    "    return []\n",
    "\n",
    "# -----------------------------------------------------------------------------------------------\n",
    "class Embedding:\n",
    "  \n",
    "  def __init__(self, num_embeddings, embedding_dim):\n",
    "    self.weight = torch.randn((num_embeddings, embedding_dim))\n",
    "    \n",
    "  def __call__(self, IX):\n",
    "    self.out = self.weight[IX]\n",
    "    return self.out\n",
    "  \n",
    "  def parameters(self):\n",
    "    return [self.weight]\n",
    "\n",
    "# -----------------------------------------------------------------------------------------------\n",
    "class Flatten:\n",
    "\n",
    "  def __call__(self, x):\n",
    "    self.out = x.view(x.shape[0], -1)\n",
    "    return self.out\n",
    "  \n",
    "  def parameters(self):\n",
    "    return []\n",
    "      \n",
    "# -----------------------------------------------------------------------------------------------\n",
    "class FlattenConsecutive:\n",
    "  \n",
    "  def __init__(self, n):\n",
    "    self.n = n\n",
    "    \n",
    "  def __call__(self, x):\n",
    "    B, T, C = x.shape\n",
    "    x = x.view(B, T//self.n, C*self.n)\n",
    "    if x.shape[1] == 1:\n",
    "      x = x.squeeze(1)\n",
    "    self.out = x\n",
    "    return self.out\n",
    "  \n",
    "  def parameters(self):\n",
    "    return []\n",
    "\n",
    "# -----------------------------------------------------------------------------------------------\n",
    "class Sequential:\n",
    "  \n",
    "  def __init__(self, layers):\n",
    "    self.layers = layers\n",
    "  \n",
    "  def __call__(self, x):\n",
    "    for layer in self.layers:\n",
    "      x = layer(x)\n",
    "    self.out = x\n",
    "    return self.out\n",
    "  \n",
    "  def parameters(self):\n",
    "    # get parameters of all layers and stretch them out into one list\n",
    "    return [p for layer in self.layers for p in layer.parameters()]"
   ]
  },
  {
   "cell_type": "code",
   "execution_count": 38,
   "id": "a6b536b1-3476-4a52-a599-58a5dc774d5c",
   "metadata": {},
   "outputs": [],
   "source": [
    "torch.manual_seed(42); # seed rng for reproducibility"
   ]
  },
  {
   "cell_type": "markdown",
   "id": "f0344f5f-99fe-4c6e-8c58-7be97ba8f633",
   "metadata": {},
   "source": [
    "## Build the Model"
   ]
  },
  {
   "cell_type": "code",
   "execution_count": 9,
   "id": "0a0153c7-e969-4297-bbb1-43de3841292c",
   "metadata": {},
   "outputs": [
    {
     "name": "stdout",
     "output_type": "stream",
     "text": [
      "76579\n"
     ]
    }
   ],
   "source": [
    "# before using Embedding and Flatten layers\n",
    "# n_embd = 10 # the dimensionality of the character embedding vectors\n",
    "# n_hidden = 200 # the number of neurons in the hidden layer of the MLP\n",
    "# C = torch.randn((vocab_size, n_embd))\n",
    "# layers = [\n",
    "#     Linear(n_embd * block_size, n_hidden, bias=False), BatchNorm1d(n_hidden), Tanh(),\n",
    "#     Linear(n_hidden, vocab_size),\n",
    "# ]\n",
    "\n",
    "# using Embedding and Flatten layers\n",
    "# n_embd = 10 # the dimensionality of the character embedding vectors\n",
    "# n_hidden = 200 # the number of neurons in the hidden layer of the MLP\n",
    "# layers = [\n",
    "#     Embedding( vocab_size, n_embd ),\n",
    "#     Flatten(),\n",
    "#     Linear(n_embd * block_size, n_hidden, bias=False), BatchNorm1d(n_hidden), Tanh(),\n",
    "#     Linear(n_hidden, vocab_size),\n",
    "# ]\n",
    "\n",
    "# original network\n",
    "# n_embd = 10 # the dimensionality of the character embedding vectors\n",
    "# n_hidden = 300 # the number of neurons in the hidden layer of the MLP\n",
    "# model = Sequential([\n",
    "#  Embedding(vocab_size, n_embd),\n",
    "#  FlattenConsecutive(block_size), Linear(n_embd * block_size, n_hidden, bias=False), BatchNorm1d(n_hidden), Tanh(),\n",
    "#  Linear(n_hidden, vocab_size),\n",
    "# ])\n",
    "\n",
    "# hierarchical network\n",
    "n_embd = 24 # the dimensionality of the character embedding vectors\n",
    "n_hidden = 128 # the number of neurons in the hidden layer of the MLP\n",
    "model = Sequential([\n",
    "  Embedding(vocab_size, n_embd),\n",
    "  FlattenConsecutive(2), Linear(n_embd * 2, n_hidden, bias=False), BatchNorm1d(n_hidden), Tanh(),\n",
    "  FlattenConsecutive(2), Linear(n_hidden*2, n_hidden, bias=False), BatchNorm1d(n_hidden), Tanh(),\n",
    "  FlattenConsecutive(2), Linear(n_hidden*2, n_hidden, bias=False), BatchNorm1d(n_hidden), Tanh(),\n",
    "  Linear(n_hidden, vocab_size),\n",
    "])\n",
    "\n",
    "# parameter init\n",
    "with torch.no_grad():\n",
    "  # layers[-1].weight *= 0.1 # last layer make less confident\n",
    "  model.layers[-1].weight *= 0.1 # last layer make less confident\n",
    "\n",
    "\n",
    "# Before using Embedding layer\n",
    "# parameters = [C] + [p for layer in layers for p in layer.parameters()]\n",
    "\n",
    "# After using Embedding layer\n",
    "#parameters = [p for layer in layers for p in layer.parameters()]\n",
    "\n",
    "# After using Sequential\n",
    "parameters = model.parameters()\n",
    "\n",
    "print(sum(p.nelement() for p in parameters)) # number of parameters in total\n",
    "for p in parameters:\n",
    "  p.requires_grad = True"
   ]
  },
  {
   "cell_type": "code",
   "execution_count": 21,
   "id": "b19765b2-b555-43fa-9b26-21acad8178cc",
   "metadata": {},
   "outputs": [],
   "source": [
    "#for layer in model.layers:\n",
    "#    print(layer.__class__.__name__, ':', tuple(layer.out.shape))"
   ]
  },
  {
   "cell_type": "code",
   "execution_count": 22,
   "id": "682f85ff-22bc-4b50-b534-6a6d9919d3a3",
   "metadata": {},
   "outputs": [
    {
     "data": {
      "text/plain": [
       "torch.Size([1, 1, 128])"
      ]
     },
     "execution_count": 22,
     "metadata": {},
     "output_type": "execute_result"
    }
   ],
   "source": [
    "model.layers[3].running_mean.shape"
   ]
  },
  {
   "cell_type": "markdown",
   "id": "d31d0b85-bde4-4f14-b72d-840c7858a1be",
   "metadata": {},
   "source": [
    "## Explore Wavenet Structure"
   ]
  },
  {
   "cell_type": "code",
   "execution_count": null,
   "id": "5d696395-ae30-4bb9-ad7a-9388aace4f9e",
   "metadata": {},
   "outputs": [],
   "source": [
    "# Look at a batch of just 4 examples\n",
    "ix = torch.randint( 0, Xtr.shape[0], (4,))\n",
    "Xb, Yb = Xtr[ix], Ytr[ix]\n",
    "logits = model(Xb)\n",
    "print(Xb.shape) # (4, block_size)\n",
    "Xb"
   ]
  },
  {
   "cell_type": "code",
   "execution_count": null,
   "id": "b4003fcc-565b-4188-97ba-56d89caf14a2",
   "metadata": {},
   "outputs": [],
   "source": [
    "# This is our embedding layer\n",
    "# This layer plucks out the embedding vectors for each integer and organizes it in this structure\n",
    "# [4, 8, 10]\n",
    "# 4 is the number of examples (akin to the block size we might use)\n",
    "# 8 is block_size (constant we defined above)\n",
    "# 10 is n_embd, the dimensions for our word embeddings (constant defined above)\n",
    "model.layers[0].out.shape"
   ]
  },
  {
   "cell_type": "code",
   "execution_count": null,
   "id": "fe251dfe-6091-4f6d-9ca5-43b8d4406978",
   "metadata": {},
   "outputs": [],
   "source": [
    "# This is our flattened layer\n",
    "# This layer stretches or concatenates all the 10-dimensional vectors into a single row\n",
    "# [4, 80]\n",
    "# 4 is the number of examples (akin to the block size we might use)\n",
    "# 80 is block_size times n_embd\n",
    "model.layers[1].out.shape"
   ]
  },
  {
   "cell_type": "code",
   "execution_count": null,
   "id": "2a087057-5141-4228-938a-98d331ff5f85",
   "metadata": {},
   "outputs": [],
   "source": [
    "# This is our Linear layer (hidden)\n",
    "# This layer maps our flattened layer into our hidden layer\n",
    "# [4, 300]\n",
    "# 4 is the number of examples (akin to the block size we might use)\n",
    "# 300 is n_hidden, the number of neurons in our hidden layer (constant defined above)\n",
    "model.layers[2].out.shape"
   ]
  },
  {
   "cell_type": "code",
   "execution_count": null,
   "id": "babab422-df58-470e-b741-d30babf88bfb",
   "metadata": {},
   "outputs": [],
   "source": [
    "# What's happening inside the Linear layer looks something like this:\n",
    "#   multiplying weights and adding bias\n",
    "(torch.randn(4, 80) @ torch.randn(80, 300) + torch.randn(300)).shape"
   ]
  },
  {
   "cell_type": "code",
   "execution_count": null,
   "id": "3f94eda3-0585-4742-bbbd-f5fe41b1612d",
   "metadata": {},
   "outputs": [],
   "source": [
    "# We can interestingly and easily change the dimensionality of the \n",
    "#   input to the layer and the multiplication still works. Effectively,\n",
    "#   the multiplication just happens on the last dimension of the input tensor\n",
    "#   and the dimensions before it are left unchanged.\n",
    "\n",
    "print( (torch.randn(4, 5, 80) @ torch.randn(80, 300) + torch.randn(300)).shape )\n",
    "print( (torch.randn(4, 5, 5, 80) @ torch.randn(80, 300) + torch.randn(300)).shape )"
   ]
  },
  {
   "cell_type": "code",
   "execution_count": null,
   "id": "4c88f035-d55a-4dfb-8abb-a15c0f11471c",
   "metadata": {},
   "outputs": [],
   "source": [
    "# We can use this to go from a flat structure to a grouped structure \n",
    "#   to achieve our wavenet architecture\n",
    "\n",
    "# Before\n",
    "# 1 2 3 4 5 6 7 8\n",
    "\n",
    "# After\n",
    "# (1 2) (3 4) (5 6) (7 8)\n"
   ]
  },
  {
   "cell_type": "code",
   "execution_count": null,
   "id": "05d44f69-9079-41b8-926d-7f7d60ccbba9",
   "metadata": {},
   "outputs": [],
   "source": [
    "# So what we want is something like this:\n",
    "# 4 - examples\n",
    "# 4 - groups (of 2)\n",
    "# 20 - each group has 2 10-dimensional vectors\n",
    "(torch.randn(4, 4, 20) @ torch.randn(20, 300) + torch.randn(300)).shape"
   ]
  },
  {
   "cell_type": "code",
   "execution_count": 29,
   "id": "02d75798-a555-4c86-8397-e4878ba10701",
   "metadata": {},
   "outputs": [
    {
     "name": "stdout",
     "output_type": "stream",
     "text": [
      "Full:  tensor([0, 1, 2, 3, 4, 5, 6, 7, 8, 9])\n",
      "Even:  tensor([0, 2, 4, 6, 8])\n",
      " Odd:  tensor([1, 3, 5, 7, 9])\n"
     ]
    }
   ],
   "source": [
    "# In Python, we can get even / odd indicies like this:\n",
    "some_list = torch.tensor(list(range(10)))\n",
    "print( \"Full: \", some_list )\n",
    "print( \"Even: \", some_list[::2] )\n",
    "print( \" Odd: \", some_list[1::2] )"
   ]
  },
  {
   "cell_type": "code",
   "execution_count": 53,
   "id": "1195c3bc-884f-44aa-9533-f96042b0d153",
   "metadata": {},
   "outputs": [
    {
     "name": "stdout",
     "output_type": "stream",
     "text": [
      "Current flatten: torch.Size([4, 80])\n",
      "Explicit grouped flatten: torch.Size([4, 4, 20])\n",
      "View grouped flatten: torch.Size([4, 4, 20])\n",
      "View == Explicit:  tensor(True)\n",
      "tensor([-0.7496, -1.1346,  0.4310, -0.2231,  0.0405,  0.3553,  1.9383, -1.2549,\n",
      "         0.4596,  1.5001,  0.3899,  0.4037, -0.4791, -0.5764, -2.3239, -0.2855,\n",
      "        -0.5037,  0.5825, -2.6750,  0.1853])\n",
      "tensor([-0.7496, -1.1346,  0.4310, -0.2231,  0.0405,  0.3553,  1.9383, -1.2549,\n",
      "         0.4596,  1.5001,  0.3899,  0.4037, -0.4791, -0.5764, -2.3239, -0.2855,\n",
      "        -0.5037,  0.5825, -2.6750,  0.1853])\n",
      "Original == New:  tensor(True)\n"
     ]
    }
   ],
   "source": [
    "# So we have to update Flatten so it outputs a [4, 4, 20]\n",
    "# The input (embedding layer) is [4, 8, 10]\n",
    "e = torch.randn(4, 8, 10)\n",
    "e_explicit = torch.cat( [ e[:, ::2, :], e[:, 1::2, :] ], dim=2)\n",
    "e_view = e.view(4,4,20)\n",
    "print( \"Current flatten:\", e.view(4, -1).shape)\n",
    "print( \"Explicit grouped flatten:\", e_explicit.shape)\n",
    "\n",
    "# But, the even simpler way to accomplish this is to do this:\n",
    "print( \"View grouped flatten:\", e.view(4, 4, 20).shape )\n",
    "print( \"View == Explicit: \", (e_explicit == e.view(4,4,20)).all() )\n",
    "\n",
    "\n",
    "original_first_two_rows = torch.cat( [ e[0][0], e[0][1] ])\n",
    "new_first_row = e_view[0][0]\n",
    "print( original_first_two_rows )\n",
    "print( new_first_row )\n",
    "print( \"Original == New: \", (original_first_two_rows == new_first_row).all() )\n"
   ]
  },
  {
   "cell_type": "markdown",
   "id": "62885a6c-4045-40ca-9d52-54cf4d4428c4",
   "metadata": {},
   "source": [
    "## Train the Model"
   ]
  },
  {
   "cell_type": "code",
   "execution_count": 16,
   "id": "615ea31a-0753-460d-ac19-446463a650ce",
   "metadata": {},
   "outputs": [
    {
     "name": "stdout",
     "output_type": "stream",
     "text": [
      "      0/ 200000: 2.0723\n",
      "  10000/ 200000: 2.5134\n",
      "  20000/ 200000: 2.1476\n",
      "  30000/ 200000: 1.7836\n",
      "  40000/ 200000: 2.2592\n",
      "  50000/ 200000: 1.9331\n",
      "  60000/ 200000: 1.6875\n",
      "  70000/ 200000: 2.0395\n",
      "  80000/ 200000: 1.7736\n",
      "  90000/ 200000: 1.9569\n",
      " 100000/ 200000: 1.7465\n",
      " 110000/ 200000: 1.8126\n",
      " 120000/ 200000: 1.7406\n",
      " 130000/ 200000: 1.7466\n",
      " 140000/ 200000: 1.8929\n",
      " 150000/ 200000: 1.6865\n",
      " 160000/ 200000: 1.6688\n",
      " 170000/ 200000: 1.7853\n",
      " 180000/ 200000: 1.8813\n",
      " 190000/ 200000: 1.6659\n"
     ]
    }
   ],
   "source": [
    "# same optimization as last time\n",
    "max_steps = 200000\n",
    "batch_size = 32\n",
    "lossi = []\n",
    "\n",
    "for i in range(max_steps):\n",
    "  \n",
    "  # minibatch construct\n",
    "  ix = torch.randint(0, Xtr.shape[0], (batch_size,))\n",
    "  Xb, Yb = Xtr[ix], Ytr[ix] # batch X,Y\n",
    "\n",
    "  # forward pass - Not using an Embedding and Flattening layers\n",
    "  # emb = C[Xb] # embed the characters into vectors\n",
    "  # x = emb.view(emb.shape[0], -1) # concatenate the vectors\n",
    "  # for layer in layers:\n",
    "    # x = layer(x)\n",
    "  # loss = F.cross_entropy(x, Yb) # loss function\n",
    "\n",
    "  # forward pass - Using Embedding and Flattening layers\n",
    "  # x = Xb\n",
    "  # for layer in layers:\n",
    "    # x = layer(x)\n",
    "  # loss = F.cross_entropy(x, Yb) # loss function\n",
    "    \n",
    "  # forward pass\n",
    "  logits = model(Xb)\n",
    "  loss = F.cross_entropy(logits, Yb) # loss function\n",
    "  \n",
    "  # backward pass\n",
    "  for p in parameters:\n",
    "    p.grad = None\n",
    "  loss.backward()\n",
    "  \n",
    "  # update: simple SGD\n",
    "  lr = 0.1 if i < 150000 else 0.01 # step learning rate decay\n",
    "  for p in parameters:\n",
    "    p.data += -lr * p.grad\n",
    "\n",
    "  # track stats\n",
    "  if i % 10000 == 0: # print every once in a while\n",
    "    print(f'{i:7d}/{max_steps:7d}: {loss.item():.4f}')\n",
    "  lossi.append(loss.log10().item())\n",
    "  # break"
   ]
  },
  {
   "cell_type": "code",
   "execution_count": 17,
   "id": "d06d49b8-0039-4a1a-83af-2d61e9af6b1a",
   "metadata": {},
   "outputs": [
    {
     "data": {
      "text/plain": [
       "[<matplotlib.lines.Line2D at 0x129eeb990>]"
      ]
     },
     "execution_count": 17,
     "metadata": {},
     "output_type": "execute_result"
    },
    {
     "data": {
      "image/png": "[encoded data removed]",
      "text/plain": [
       "<Figure size 640x480 with 1 Axes>"
      ]
     },
     "metadata": {},
     "output_type": "display_data"
    }
   ],
   "source": [
    "#plt.plot(lossi)\n",
    "plt.plot(torch.tensor(lossi).view(-1, 1000).mean(1))\n"
   ]
  },
  {
   "cell_type": "code",
   "execution_count": 18,
   "id": "11858ae8-077a-48e2-afe7-aa6e7f8a9494",
   "metadata": {},
   "outputs": [],
   "source": [
    "# put layers into eval mode (needed for batchnorm especially)\n",
    "for layer in model.layers:\n",
    "  layer.training = False"
   ]
  },
  {
   "cell_type": "code",
   "execution_count": 19,
   "id": "e40af6a6-7055-44ef-9dd7-ba4964748b74",
   "metadata": {},
   "outputs": [
    {
     "name": "stdout",
     "output_type": "stream",
     "text": [
      "train 1.7596352100372314\n",
      "val 1.993744969367981\n"
     ]
    }
   ],
   "source": [
    "# evaluate the loss\n",
    "@torch.no_grad() # this decorator disables gradient tracking inside pytorch\n",
    "def split_loss(split):\n",
    "  x,y = {\n",
    "    'train': (Xtr, Ytr),\n",
    "    'val': (Xdev, Ydev),\n",
    "    'test': (Xte, Yte),\n",
    "  }[split]\n",
    "  # Before using Sequential\n",
    "  # emb = C[Xb] # (N, block_size, nembd)\n",
    "  # x = emb.view(emb.shape[0], -1) # concatenate into (N, block_size * n_embd)\n",
    "  # for layer in layers:\n",
    "    # x = layer(x)\n",
    "  # loss = F.cross_entropy(x, y) # loss function\n",
    "\n",
    "  # After using sequential\n",
    "  logits = model(x)\n",
    "  loss = F.cross_entropy(logits, y)\n",
    "  print(split, loss.item())\n",
    "\n",
    "split_loss('train')\n",
    "split_loss('val')"
   ]
  },
  {
   "cell_type": "code",
   "execution_count": 20,
   "id": "a4b7afeb-448f-4952-8710-4b2921d4f915",
   "metadata": {},
   "outputs": [
    {
     "name": "stdout",
     "output_type": "stream",
     "text": [
      "henrik.\n",
      "anabela.\n",
      "jalanie.\n",
      "millena.\n",
      "ender.\n",
      "bellase.\n",
      "ilyanna.\n",
      "namyah.\n",
      "anjelah.\n",
      "mahanav.\n",
      "aossa.\n",
      "rhino.\n",
      "joheleigh.\n",
      "adliba.\n",
      "ilenn.\n",
      "libas.\n",
      "aaleyah.\n",
      "trysten.\n",
      "alilene.\n",
      "amourah.\n"
     ]
    }
   ],
   "source": [
    "# sample from the model\n",
    "for _ in range(20):\n",
    "    \n",
    "    out = []\n",
    "    context = [0] * block_size # initialize with all ...\n",
    "    while True:\n",
    "      # forward pass the neural net\n",
    "      logits = model(torch.tensor([context]))\n",
    "      probs = F.softmax(logits, dim=1)\n",
    "      # sample from the distribution\n",
    "      ix = torch.multinomial(probs, num_samples=1).item()\n",
    "      # shift the context window and track the samples\n",
    "      context = context[1:] + [ix]\n",
    "      out.append(ix)\n",
    "      # if we sample the special '.' token, break\n",
    "      if ix == 0:\n",
    "        break\n",
    "    \n",
    "    print(''.join(itos[i] for i in out)) # decode and print the generated word"
   ]
  },
  {
   "cell_type": "code",
   "execution_count": null,
   "id": "dfc32199-49ec-4d71-bb30-c66dc98fb44b",
   "metadata": {},
   "outputs": [],
   "source": []
  }
 ],
 "metadata": {
  "kernelspec": {
   "display_name": "Python 3 (ipykernel)",
   "language": "python",
   "name": "python3"
  },
  "language_info": {
   "codemirror_mode": {
    "name": "ipython",
    "version": 3
   },
   "file_extension": ".py",
   "mimetype": "text/x-python",
   "name": "python",
   "nbconvert_exporter": "python",
   "pygments_lexer": "ipython3",
   "version": "3.11.5"
  }
 },
 "nbformat": 4,
 "nbformat_minor": 5
}
