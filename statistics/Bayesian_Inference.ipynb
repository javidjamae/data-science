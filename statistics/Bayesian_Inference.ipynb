{
 "cells": [
  {
   "cell_type": "markdown",
   "metadata": {},
   "source": [
    "# Bayesian Inference\n",
    "\n",
    "Bayesian inference is a method for doing statisitcal inference where you collect evidence and update your beliefs. \n",
    "\n",
    "Frequentist inference is based on long-term frequency (e.g. measuring the frequency of plane crashes over many years). But this isn't as easy to apply when the events that you're observing don't have long-term frequency of occurrence. For example, a single presidential election will only occur once.\n",
    "\n",
    "Bayesian use probability to assign belief or opinions to an event occurring. These beliefs can be informed by different data available to different individuals. For example, if I flip a coin and cover it, we'd both guess there was a $0.5$ probability it is a head. But, if I look and don't show you, then I'd have know for certain if it were heads, but you could still only guess $0.5$, unless I had some sort of tell that you knew how to read!\n",
    "\n",
    "We denote our belief about an event $A$ as $P(A)$, which we call the ***prior probability*** or prior belief.\n",
    "\n",
    "We denote our updated belief after observing some evidence $X$ as $P(A|X)$, which we call the ***posterior probability*** or posterior belief.\n",
    "\n",
    "When we run a frequentist inference, we typically just get a result (e.g. a summary statistic). When we run Bayesian inference, we get a set of probabilities.\n",
    "\n",
    "For example, if we do an experiment where:\n",
    "$$H_0: p = 0.2$$\n",
    "$$H_A: p \\ge 0.2$$\n",
    "\n",
    "Using frequentist inference, I would run many observations and get a single value for $p$. If $p$ it is greater than $0.2$ I could look at the confidence of whether it is a remarkable outcome, given that $H_0$ is true. But ultimately, I get a single summary statistic and the parameters (e.g. observations) that I used to calculate it.\n",
    "\n",
    "With Bayesian inference, I would similarly run many observations. But, the output is a *probability distribution* that describes the probability of getting different outcomes."
   ]
  },
  {
   "cell_type": "code",
   "execution_count": null,
   "metadata": {},
   "outputs": [],
   "source": []
  }
 ],
 "metadata": {
  "kernelspec": {
   "display_name": "Python 3",
   "language": "python",
   "name": "python3"
  },
  "language_info": {
   "codemirror_mode": {
    "name": "ipython",
    "version": 3
   },
   "file_extension": ".py",
   "mimetype": "text/x-python",
   "name": "python",
   "nbconvert_exporter": "python",
   "pygments_lexer": "ipython3",
   "version": "3.8.5"
  }
 },
 "nbformat": 4,
 "nbformat_minor": 4
}
