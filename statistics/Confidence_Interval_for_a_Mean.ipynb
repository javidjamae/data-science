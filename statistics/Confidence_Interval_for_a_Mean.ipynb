{
  "nbformat": 4,
  "nbformat_minor": 0,
  "metadata": {
    "colab": {
      "name": "Confidence Interval for a Mean.ipynb",
      "provenance": [],
      "collapsed_sections": [],
      "toc_visible": true,
      "authorship_tag": "ABX9TyOv03oCQ8TVc6Y8dR3gk0CK",
      "include_colab_link": true
    },
    "kernelspec": {
      "name": "python3",
      "display_name": "Python 3"
    }
  },
  "cells": [
    {
      "cell_type": "markdown",
      "metadata": {
        "id": "view-in-github",
        "colab_type": "text"
      },
      "source": [
        "<a href=\"https://colab.research.google.com/github/javidjamae/data-science/blob/master/statistics/Confidence_Interval_for_a_Mean.ipynb\" target=\"_parent\"><img src=\"https://colab.research.google.com/assets/colab-badge.svg\" alt=\"Open In Colab\"/></a>"
      ]
    },
    {
      "cell_type": "markdown",
      "metadata": {
        "id": "_5iDE8auIdWh",
        "colab_type": "text"
      },
      "source": [
        "# Confidence Intervals for a Mean\n",
        "\n",
        "Often times we want to estimate a population mean using a sample.\n",
        "\n",
        "We can use a confidence interval to give us a range around our sample mean that the true population mean is likely to fall within.\n",
        "\n",
        "$$\\bar x \\pm t^* \\cdot (\\frac{ s_x }{\\sqrt n})$$\n",
        "\n",
        "Here:\n",
        "* $n$ -> sample size\n",
        "* $\\bar x$ -> sample mean\n",
        "* $s_x$ -> sample standard deviation\n",
        "* $t^*$ -> critical t-value\n",
        "\n",
        "The ***Margin of Error*** is the term after the $\\pm$:\n",
        "\n",
        "$$ME = t^* \\cdot (\\frac{ s_x }{\\sqrt n})$$\n",
        "\n",
        "The ***Standard Error*** is the last part of the Margin of Error, which divides the sample standard deviation by the square root of the sample size:\n",
        "\n",
        "$$SE = \\frac{ s_x }{\\sqrt n}$$"
      ]
    },
    {
      "cell_type": "code",
      "metadata": {
        "id": "sgYweKTpCnl4",
        "colab_type": "code",
        "colab": {}
      },
      "source": [
        "n = 10\n",
        "c = 0.90\n",
        "x_hat = 450\n",
        "s_x = 15"
      ],
      "execution_count": 36,
      "outputs": []
    },
    {
      "cell_type": "markdown",
      "metadata": {
        "id": "xOSrV21YDz1A",
        "colab_type": "text"
      },
      "source": [
        "## Conditions for a t-interval for a mean\n",
        "\n",
        "When we don't have the true population mean or distribution available to us, we must rely on the sample data. \n",
        "\n",
        "But, in order to know if the sample data is reliable, certain conditions must be met.\n",
        "\n",
        "### Normal\n",
        "A rule of thumb is that if the sample size $n$ is greater than 30, then the sample can be considered normal. This is because of the central limit theorem.\n",
        "\n",
        "If the sample is smaller than 30, we have to graph the distrubition to see if it looks *roughly* symmetrical or normal, with no obvious outliers. If it is, then we can treat it as normal.\n",
        "\n",
        "### Random\n",
        "We have to random select from the population to ensure that there is no bias in the sample.\n",
        "\n",
        "### Independent\n",
        "For the sample to be considered independent, we either need to sample with replacement, or we need to ensure that the sample is ***less than*** 10% of the overall population. \n",
        "\n",
        "If the sample is relatively small, then it can be considered independent, even if we're not replacing.  "
      ]
    },
    {
      "cell_type": "markdown",
      "metadata": {
        "id": "cUDWLIEcZhv0",
        "colab_type": "text"
      },
      "source": [
        "## Calculate the critical t\n",
        "\n",
        "To calculate $t^*$ you'll need:\n",
        "* $c$ -> confidence level (e.g. $.95$)\n",
        "* $\\alpha$ -> alpha is $(1 - c)$ (e.g. $.05$)\n",
        "* degrees of freedom -> ($n-1$)\n",
        "\n",
        "To calculate the critical t value, we have to adjust the confidence level to be two-tailed. We convert as follows:\n",
        "\n",
        "$$c_{two-tail} = c + \\frac{ \\alpha }{ 2 }$$\n",
        "\n",
        "So, for example:\n",
        "\n",
        "$$c =.95$$\n",
        "\n",
        "$$\\frac{ \\alpha }{ 2 } = 0.025$$\n",
        "\n",
        "$$c_{two-tail} = 0.975$$"
      ]
    },
    {
      "cell_type": "code",
      "metadata": {
        "id": "aVWCqa4oIWFj",
        "colab_type": "code",
        "colab": {
          "base_uri": "https://localhost:8080/",
          "height": 34
        },
        "outputId": "922b3c1e-94c4-43c1-e4d8-2838357e60a3"
      },
      "source": [
        "from scipy import stats\n",
        "from scipy.stats import t\n",
        "\n",
        "df = n - 1\n",
        "\n",
        "c_two_tail = c + ( ( 1 - c ) / 2 )\n",
        "\n",
        "t_two_tail = t.ppf( c_two_tail, df )\n",
        "print('Two-tail critical t value: %6.3f' % (t_two_tail))"
      ],
      "execution_count": 37,
      "outputs": [
        {
          "output_type": "stream",
          "text": [
            "Two-tail critical t value:  1.833\n"
          ],
          "name": "stdout"
        }
      ]
    },
    {
      "cell_type": "markdown",
      "metadata": {
        "id": "RzMevFbvZawI",
        "colab_type": "text"
      },
      "source": [
        "\n",
        "## Check the critical t value\n",
        "\n",
        "To test our calculation, we can plug the critical t value into the `scipy.stats.t.cdf` function to ensure that it gives us our expected confidence level.\n",
        "\n",
        "Since we calculated the critical t value by using the confidence level to calculate the upper value, the `t.cdf` function will return that same value. \n",
        "\n",
        "For example, if our confidence level is $.95$ then the two-tail level is $.975$. We calculate the critical t value using $.975$, along with out degrees of freedom. So, $.975$ is the value that we'd expect to get back if we call using the critical t value and the same degrees of freedom. "
      ]
    },
    {
      "cell_type": "code",
      "metadata": {
        "id": "QMBRpV18aHiB",
        "colab_type": "code",
        "colab": {
          "base_uri": "https://localhost:8080/",
          "height": 34
        },
        "outputId": "140aba49-3260-4882-f0c2-60da73c1351a"
      },
      "source": [
        "confidence_calc_two_tail = t.cdf( t_two_tail, df )\n",
        "print( 'Two-tail confidence %0.3f' % ( confidence_calc_two_tail ) )"
      ],
      "execution_count": 38,
      "outputs": [
        {
          "output_type": "stream",
          "text": [
            "Two-tail confidence 0.950\n"
          ],
          "name": "stdout"
        }
      ]
    },
    {
      "cell_type": "markdown",
      "metadata": {
        "id": "4jmva6CWa2rp",
        "colab_type": "text"
      },
      "source": [
        "## Calculate the confidence interval\n",
        "\n",
        "The confidence interval is calculated by subtracting and adding the \"Margin of Error\" to the sample mean:\n",
        "$$\\bar x \\pm t^* \\cdot (\\frac{ \\sigma }{\\sqrt n})$$\n",
        "\n",
        "The Margin of Error is:\n",
        "$$t^* \\cdot (\\frac{ \\sigma }{\\sqrt n})$$"
      ]
    },
    {
      "cell_type": "code",
      "metadata": {
        "id": "5YJOwiWEa_vs",
        "colab_type": "code",
        "colab": {
          "base_uri": "https://localhost:8080/",
          "height": 187
        },
        "outputId": "3234d89f-1adc-4c8c-d0f9-8060e6b537d2"
      },
      "source": [
        "import math\n",
        "\n",
        "margin_error = t_two_tail * s_x / math.sqrt( n )\n",
        "lower_confidence = x_hat - margin_error\n",
        "upper_confidence = x_hat + margin_error\n",
        "\n",
        "print( 'Sample Mean: %6.4f' % ( x_hat ) )\n",
        "print( 'Two-tail critical t value: %6.3f' % (t_two_tail)) \n",
        "print( 'Standard Deviation: %6.4f' % ( s_x ) )\n",
        "print( 'Margin of Error: %6.4f' % ( margin_error ) )\n",
        "print( 'Lower Confidence Limit: %6.4f' % ( lower_confidence ) )\n",
        "print( 'Upper Confidence Limit: %6.4f' % ( upper_confidence ) )\n",
        "print()\n",
        "print( '%6.4f +- %6.3f * ( %6.4f / sqrt( %2d ) )' % ( x_hat, t_two_tail, s_x, n ) )\n",
        "print( '%6.4f +- %6.3f' % ( x_hat, margin_error ) )\n",
        "print( '( %6.4f, %6.4f )' % ( lower_confidence, upper_confidence ) )"
      ],
      "execution_count": 45,
      "outputs": [
        {
          "output_type": "stream",
          "text": [
            "Sample Mean: 450.0000\n",
            "Two-tail critical t value:  1.833\n",
            "Standard Deviation: 15.0000\n",
            "Margin of Error: 8.6952\n",
            "Lower Confidence Limit: 441.3048\n",
            "Upper Confidence Limit: 458.6952\n",
            "\n",
            "450.0000 +-  1.833 * ( 15.0000 / sqrt( 10 ) )\n",
            "450.0000 +-  8.695\n",
            "( 441.3048, 458.6952 )\n"
          ],
          "name": "stdout"
        }
      ]
    },
    {
      "cell_type": "markdown",
      "metadata": {
        "id": "sVtBND-6L27t",
        "colab_type": "text"
      },
      "source": [
        "## Calculating a sample size\n",
        "\n",
        "Let's say you are going to conduct a study or experiment and you have a desired margin of error that you're trying to stay within with a given confidence level. \n",
        "\n",
        "You'll need to know how many samples you need to meet that criteria.\n",
        "\n",
        "Typically to *find* a confidence interval we'll calculate a margin of error using a t-statistic. But, calculating a t-statistic requires knowing the desired degrees of freedom, which requires knowing the sample size. But, the sample size is what we're trying to calculate, so we can't use a t-statistic.\n",
        "\n",
        "As an alternative, ***if*** we have some insights into what the population standard deviation is, we could use a z-statistic instead.\n",
        "\n",
        "$$\\bar x \\pm z^* \\cdot (\\frac{ \\sigma }{\\sqrt n})$$\n",
        "\n",
        "Here:\n",
        "* $n$ -> sample size\n",
        "* $\\bar x$ -> sample mean (x bar)\n",
        "* $\\sigma$ -> population standard deviation (sigma)\n",
        "* $z^*$ -> critical z-value\n",
        "\n",
        "So, to keep the margin of error less than a certain amount, we would define an inequality:\n",
        "\n",
        "$$z^* \\cdot (\\frac{ \\sigma }{\\sqrt n}) \\leq ME_{max}$$\n",
        "\n",
        "Then, we can solve for $n$:\n",
        "\n",
        "$$n \\geq \\Bigl(\\frac{ z^* \\cdot \\sigma }{ME_{max}}\\Bigr)^2$$ "
      ]
    },
    {
      "cell_type": "code",
      "metadata": {
        "id": "IsfGNngWRS28",
        "colab_type": "code",
        "colab": {
          "base_uri": "https://localhost:8080/",
          "height": 51
        },
        "outputId": "6a33872b-514c-42a0-ced2-c09df1184334"
      },
      "source": [
        "from scipy.stats import norm\n",
        "\n",
        "c_sample = .90\n",
        "me_max = 10\n",
        "sigma = 15\n",
        "\n",
        "c_two_tail_sample = c_sample + ( ( 1 - c_sample ) / 2 )\n",
        "\n",
        "z_critical = norm.ppf( c_two_tail_sample )\n",
        "sample_size = ( z_critical * sigma / me_max ) ** 2\n",
        "\n",
        "print( \"z-critical: %6.4f\" % z_critical )\n",
        "print( \"The estimated sample size is: %6d\" % math.ceil( sample_size ) )"
      ],
      "execution_count": 55,
      "outputs": [
        {
          "output_type": "stream",
          "text": [
            "z-critical: 1.6449\n",
            "The estimated sample size is:      7\n"
          ],
          "name": "stdout"
        }
      ]
    },
    {
      "cell_type": "markdown",
      "metadata": {
        "id": "HjGYPEoUcp2H",
        "colab_type": "text"
      },
      "source": [
        "## References\n",
        "\n",
        "- [How to Calculate Critical Values for Statistical Hypothesis Testing with Python](https://machinelearningmastery.com/critical-values-for-statistical-hypothesis-testing/)\n",
        "\n",
        "- [Khan Academy: Statistics & Probability - Confidence intervals](https://www.khanacademy.org/math/statistics-probability/confidence-intervals-one-sample)"
      ]
    }
  ]
}