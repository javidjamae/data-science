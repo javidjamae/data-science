{
 "cells": [
  {
   "cell_type": "markdown",
   "metadata": {
    "id": "_5iDE8auIdWh"
   },
   "source": [
    "# Confidence Intervals for a Mean\n",
    "\n",
    "Often times we want to estimate a population mean using a sample.\n",
    "\n",
    "We can use a confidence interval to give us a range around our sample mean that the true population mean is likely to fall within.\n",
    "\n",
    "$$\\bar x \\pm t^* \\cdot \\Big(\\frac{ s_x }{\\sqrt n}\\Big)$$\n",
    "\n",
    "Here:\n",
    "* $n$ -> sample size\n",
    "* $\\bar x$ -> sample mean\n",
    "* $s_x$ -> sample standard deviation\n",
    "* $t^*$ -> critical t-value\n",
    "\n",
    "The ***Margin of Error*** is the term after the $\\pm$:\n",
    "\n",
    "$$ME = t^* \\cdot \\Big(\\frac{ s_x }{\\sqrt n}\\Big)$$\n",
    "\n",
    "The ***Standard Error*** is the last part of the Margin of Error, which divides the sample standard deviation by the square root of the sample size:\n",
    "\n",
    "$$SE = \\frac{ s_x }{\\sqrt n}$$"
   ]
  },
  {
   "cell_type": "code",
   "execution_count": 11,
   "metadata": {
    "id": "sgYweKTpCnl4"
   },
   "outputs": [],
   "source": [
    "n =  200#@param {type:\"integer\"}\n",
    "c = 0.94 #@param {type:\"slider\", min:0, max:1, step:0.01}\n",
    "x_hat = 12 #@param {type:\"integer\"}\n",
    "s_x = 15 #@param {type:\"integer\"}"
   ]
  },
  {
   "cell_type": "markdown",
   "metadata": {
    "id": "xOSrV21YDz1A"
   },
   "source": [
    "## Conditions for a t-interval for a mean\n",
    "\n",
    "When we don't have the true population mean or distribution available to us, we must rely on the sample data. \n",
    "\n",
    "But, in order to know if the sample data is reliable, certain conditions must be met.\n",
    "\n",
    "### Normal\n",
    "A rule of thumb is that if the sample size $n$ is greater than 30, then the sample can be considered normal. This is because of the central limit theorem.\n",
    "\n",
    "If the sample is smaller than 30, we have to graph the distrubition to see if it looks *roughly* symmetrical or normal, with no obvious outliers. If it is, then we can treat it as normal.\n",
    "\n",
    "### Random\n",
    "We have to random select from the population to ensure that there is no bias in the sample.\n",
    "\n",
    "### Independent\n",
    "For the sample to be considered independent, we either need to sample with replacement, or we need to ensure that the sample is ***less than*** 10% of the overall population. \n",
    "\n",
    "If the sample is relatively small, then it can be considered independent, even if we're not replacing.  "
   ]
  },
  {
   "cell_type": "markdown",
   "metadata": {
    "id": "cUDWLIEcZhv0"
   },
   "source": [
    "## Calculate the critical t\n",
    "\n",
    "To calculate $t^*$ you'll need:\n",
    "* $c$ -> confidence level (e.g. $.95$)\n",
    "* $\\alpha$ -> alpha is $(1 - c)$ (e.g. $.05$)\n",
    "* degrees of freedom -> ($n-1$)\n",
    "\n",
    "To calculate the critical t value, we have to adjust the confidence level to be two-tailed. We convert as follows:\n",
    "\n",
    "$$c_{two-tail} = c + \\frac{ \\alpha }{ 2 }$$\n",
    "\n",
    "So, for example:\n",
    "\n",
    "$$c =.95$$\n",
    "\n",
    "$$\\frac{ \\alpha }{ 2 } = 0.025$$\n",
    "\n",
    "$$c_{two-tail} = 0.975$$"
   ]
  },
  {
   "cell_type": "code",
   "execution_count": 12,
   "metadata": {
    "colab": {
     "base_uri": "https://localhost:8080/",
     "height": 34
    },
    "id": "aVWCqa4oIWFj",
    "outputId": "589ec0d7-15de-4c6d-a46f-e9ea9af5e5eb"
   },
   "outputs": [
    {
     "name": "stdout",
     "output_type": "stream",
     "text": [
      "Two-tail critical t value:  1.892\n"
     ]
    }
   ],
   "source": [
    "from scipy import stats\n",
    "from scipy.stats import t\n",
    "\n",
    "df = n - 1\n",
    "\n",
    "c_two_tail = c + ( ( 1 - c ) / 2 )\n",
    "\n",
    "t_two_tail = t.ppf( c_two_tail, df )\n",
    "print('Two-tail critical t value: %6.3f' % (t_two_tail))"
   ]
  },
  {
   "cell_type": "markdown",
   "metadata": {
    "id": "RzMevFbvZawI"
   },
   "source": [
    "\n",
    "## Check the critical t value\n",
    "\n",
    "To test our calculation, we can plug the critical t value into the `scipy.stats.t.cdf` function to ensure that it gives us our expected confidence level.\n",
    "\n",
    "Since we calculated the critical t value by using the confidence level to calculate the upper value, the `t.cdf` function will return that same value. \n",
    "\n",
    "For example, if our confidence level is $.95$ then the two-tail level is $.975$. We calculate the critical t value using $.975$, along with our degrees of freedom. \n",
    "\n",
    "So, $.975$ is the value that we'd expect to get back if we call using the critical t value and the same degrees of freedom. "
   ]
  },
  {
   "cell_type": "code",
   "execution_count": 13,
   "metadata": {
    "colab": {
     "base_uri": "https://localhost:8080/",
     "height": 34
    },
    "id": "QMBRpV18aHiB",
    "outputId": "0d869dc9-1bac-479f-ae42-f5b093cfa793"
   },
   "outputs": [
    {
     "name": "stdout",
     "output_type": "stream",
     "text": [
      "Two-tail confidence 0.970\n"
     ]
    }
   ],
   "source": [
    "confidence_calc_two_tail = t.cdf( t_two_tail, df )\n",
    "print( 'Two-tail confidence %0.3f' % ( confidence_calc_two_tail ) )"
   ]
  },
  {
   "cell_type": "markdown",
   "metadata": {
    "id": "4jmva6CWa2rp"
   },
   "source": [
    "## Calculate the confidence interval\n",
    "\n",
    "The confidence interval is calculated by subtracting and adding the \"Margin of Error\" to the sample mean:\n",
    "$$\\bar x \\pm t^* \\cdot \\Big(\\frac{ \\sigma }{\\sqrt n}\\Big)$$\n",
    "\n",
    "The Margin of Error is:\n",
    "$$\\text{ME} = t^* \\cdot \\Big(\\frac{ \\sigma }{\\sqrt n}\\Big)$$"
   ]
  },
  {
   "cell_type": "code",
   "execution_count": 5,
   "metadata": {
    "colab": {
     "base_uri": "https://localhost:8080/",
     "height": 204
    },
    "id": "5YJOwiWEa_vs",
    "outputId": "1fddb479-f6cb-4672-a21c-785d26c0dbda"
   },
   "outputs": [
    {
     "name": "stdout",
     "output_type": "stream",
     "text": [
      "Sample Mean: 12.0000\n",
      "Two-tail critical t value:  1.892\n",
      "Standard Deviation: 15.0000\n",
      "Standard Error: 1.0607\n",
      "Margin of Error: 2.0063\n",
      "Lower Confidence Limit: 9.9937\n",
      "Upper Confidence Limit: 14.0063\n",
      "\n",
      "12.0000 +-  1.892 * ( 15.0000 / sqrt( 200 ) )\n",
      "12.0000 +-  2.006\n",
      "( 9.9937, 14.0063 )\n"
     ]
    }
   ],
   "source": [
    "import math\n",
    "\n",
    "standard_error =  s_x / math.sqrt( n )\n",
    "margin_error = t_two_tail * s_x / math.sqrt( n )\n",
    "lower_confidence = x_hat - margin_error\n",
    "upper_confidence = x_hat + margin_error\n",
    "\n",
    "print( 'Sample Mean: %6.4f' % ( x_hat ) )\n",
    "print( 'Two-tail critical t value: %6.3f' % (t_two_tail)) \n",
    "print( 'Standard Deviation: %6.4f' % ( s_x ) )\n",
    "print( 'Standard Error: %6.4f' % ( standard_error ) )\n",
    "print( 'Margin of Error: %6.4f' % ( margin_error ) )\n",
    "print( 'Lower Confidence Limit: %6.4f' % ( lower_confidence ) )\n",
    "print( 'Upper Confidence Limit: %6.4f' % ( upper_confidence ) )\n",
    "print()\n",
    "print( '%6.4f +- %6.3f * ( %6.4f / sqrt( %2d ) )' % ( x_hat, t_two_tail, s_x, n ) )\n",
    "print( '%6.4f +- %6.3f' % ( x_hat, margin_error ) )\n",
    "print( '( %6.4f, %6.4f )' % ( lower_confidence, upper_confidence ) )"
   ]
  },
  {
   "cell_type": "markdown",
   "metadata": {
    "id": "sVtBND-6L27t"
   },
   "source": [
    "## Calculating a sample size\n",
    "\n",
    "Let's say you are going to conduct a study or experiment and you have a desired margin of error that you're trying to stay within with a given confidence level. \n",
    "\n",
    "You'll need to know how many samples you need to meet that criteria.\n",
    "\n",
    "Typically to *find* a confidence interval we'll calculate a margin of error using a t-statistic. But, calculating a t-statistic requires knowing the desired degrees of freedom, which requires knowing the sample size. But, the sample size is what we're trying to calculate, so we can't use a t-statistic.\n",
    "\n",
    "As an alternative, ***if*** we have some insights into what the population standard deviation is, we could use a z-statistic instead.\n",
    "\n",
    "$$\\bar x \\pm z^* \\cdot \\Big(\\frac{ \\sigma }{\\sqrt n}\\Big)$$\n",
    "\n",
    "Here:\n",
    "* $n$ -> sample size\n",
    "* $\\bar x$ -> sample mean (x bar)\n",
    "* $\\sigma$ -> population standard deviation (sigma)\n",
    "* $z^*$ -> critical z-value\n",
    "\n",
    "So, to keep the margin of error less than a certain amount, we would define an inequality:\n",
    "\n",
    "$$z^* \\cdot \\Big(\\frac{ \\sigma }{\\sqrt n}\\Big) \\leq \\text{ME}_{max}$$\n",
    "\n",
    "Then, we can solve for $n$:\n",
    "\n",
    "$$n \\geq \\Big(\\frac{ z^* \\cdot \\sigma }{\\text{ME}_{max}}\\Big)^2$$ \n",
    "\n",
    "So, if our confidence level is 95%,  we want a maximum margin of error of 100, and our standard deviation is 300, then we would get:\n",
    "\n",
    "$$n \\geq \\Big(\\frac{ 1.96 \\cdot 300 }{100}\\Big)^2$$ \n",
    "\n",
    "Or:\n",
    "\n",
    "$$ n \\ge 35 $$"
   ]
  },
  {
   "cell_type": "code",
   "execution_count": 6,
   "metadata": {
    "colab": {
     "base_uri": "https://localhost:8080/",
     "height": 51
    },
    "id": "IsfGNngWRS28",
    "outputId": "24b25638-304d-438b-f25e-440ecf4202fc"
   },
   "outputs": [
    {
     "name": "stdout",
     "output_type": "stream",
     "text": [
      "z-critical: 1.9600\n",
      "The estimated sample size is:     35\n"
     ]
    }
   ],
   "source": [
    "from scipy.stats import norm\n",
    "\n",
    "c_sample = .95\n",
    "me_max = 100\n",
    "sigma = 300\n",
    "\n",
    "c_two_tail_sample = c_sample + ( ( 1 - c_sample ) / 2 )\n",
    "\n",
    "z_critical = norm.ppf( c_two_tail_sample )\n",
    "sample_size = ( z_critical * sigma / me_max ) ** 2\n",
    "\n",
    "print( \"z-critical: %6.4f\" % z_critical )\n",
    "print( \"The estimated sample size is: %6d\" % math.ceil( sample_size ) )"
   ]
  },
  {
   "cell_type": "markdown",
   "metadata": {
    "id": "cDHNXgUEJa4m"
   },
   "source": [
    "# Confidence Interval for a Population Proportion\n",
    "\n",
    "We have a true population proportion and we're trying to estimate it.\n",
    "\n",
    "We take a random sample and calculate the sample proportion. We also calculate a confidence interval to make sure that our sample falls within the confidence level of the true population proportion.\n",
    "\n",
    "$$ \\hat{p} \\pm z^* \\cdot (\\text{SE}_\\hat{p})$$\n",
    "\n",
    "Or\n",
    "\n",
    "$$ \\hat{p} \\pm z^* \\cdot   \n",
    "\\sqrt{ \n",
    "  \\frac{ \\hat{p} ( 1 - \\hat{p} ) }{n}\n",
    "} \n",
    "$$\n",
    "\n",
    "Where:\n",
    "- $\\hat{p}$ -> sample proportion\n",
    "- $z^*$ -> critical z value\n",
    "- $\\sigma_\\bar{x}$ -> standard deviation of \n",
    "- $SE_\\hat{p}$ -> Standard Error of the statistic\n",
    "- $n$ -> sample size\n",
    "\n",
    "If we have the number of successes and the number of samples, we can calculate the proportion:\n",
    "\n",
    "$$ \\hat{p} = \\frac{\\text{# successes}}{n}$$\n",
    "\n",
    "Assuming that the sampling distribution is roughly normal, the critical z value tells us how many standard deviations above and below the mean we need in order to capture the total probability for the confidence level we're looking for.\n",
    "\n",
    "For example, if we're looking for 95% confidence level, then we would need a critical z that gives us \n",
    "\n"
   ]
  },
  {
   "cell_type": "code",
   "execution_count": 7,
   "metadata": {
    "id": "MqTYzhlYVAKc"
   },
   "outputs": [],
   "source": [
    "n =  200#@param {type:\"integer\"}\n",
    "c = 0.94 #@param {type:\"slider\", min:0, max:1, step:0.01}\n",
    "p_hat = 0.06 #@param {type:\"slider\", min:0, max:1, step:0.01}\n",
    "\n",
    "#successes = 14\n",
    "#trials = 100\n",
    "#p_hat = successes / trials \n",
    "#print('p_hat = %6.3f' % (p_hat))"
   ]
  },
  {
   "cell_type": "markdown",
   "metadata": {
    "id": "5w4xc-ElXSuA"
   },
   "source": [
    "## Conditions for a z-interval for a proportion\n",
    "\n",
    "When doing inferences on a single population proportion when building a confidence interval or a significance test, we need to make sure our sample data meets certain conditions. \n",
    "\n",
    "We don't have the true population proportion or distribution available to us, so we must rely on the sample data. \n",
    "\n",
    "But, in order to know if the sample data is reliable, certain conditions must be met.\n",
    "\n",
    "### Normal\n",
    "The sampling distribution of $\\hat{p}$ needs to be approximately normal. \n",
    "\n",
    "A rule of thumb for a proportion is that we need at least $10$ expected successes and $10$ expected failures. \n",
    "\n",
    "### Random\n",
    "We have to random select from the population to ensure that there is no bias in the sample.\n",
    "\n",
    "### Independent\n",
    "For the sample to be considered independent, we either need to sample with replacement, or we need to ensure that the sample is ***less than*** 10% of the overall population. \n",
    "\n",
    "If the sample is relatively small, then it can be considered independent, even if we're not replacing.  "
   ]
  },
  {
   "cell_type": "markdown",
   "metadata": {
    "id": "UaK0MM6DNnT0"
   },
   "source": [
    "## Calculating Critical Z\n",
    "\n",
    "To calculate $z^*$ you'll need:\n",
    "* $c$ -> confidence level (e.g. $.95$)\n",
    "* $\\alpha$ -> alpha is $(1 - c)$ (e.g. $.05$)\n",
    "\n",
    "To calculate the critical z value, we have to adjust the confidence level to be two-tailed. We convert as follows:\n",
    "\n",
    "$$c_{two-tail} = c + \\frac{ \\alpha }{ 2 }$$\n",
    "\n",
    "So, for example:\n",
    "\n",
    "$$c =.95$$\n",
    "\n",
    "$$\\frac{ \\alpha }{ 2 } = 0.025$$\n",
    "\n",
    "$$c_{two-tail} = 0.975$$"
   ]
  },
  {
   "cell_type": "code",
   "execution_count": 8,
   "metadata": {
    "colab": {
     "base_uri": "https://localhost:8080/",
     "height": 34
    },
    "id": "BUVboIQ8JgOO",
    "outputId": "d889cd80-ba9f-4453-e124-b26e1028f112"
   },
   "outputs": [
    {
     "name": "stdout",
     "output_type": "stream",
     "text": [
      "Two-tail critical z value:  1.881\n"
     ]
    }
   ],
   "source": [
    "from scipy import stats\n",
    "from scipy.stats import norm\n",
    "\n",
    "c_two_tail = c + ( ( 1 - c ) / 2 )\n",
    "\n",
    "z_two_tail = norm.ppf( c_two_tail )\n",
    "print('Two-tail critical z value: %6.3f' % (z_two_tail))"
   ]
  },
  {
   "cell_type": "markdown",
   "metadata": {
    "id": "Ymt5cUGaW3g4"
   },
   "source": [
    "## Check the critical z value\n",
    "\n",
    "To test our calculation, we can plug the critical z value into the `scipy.stats.norm.cdf` function to ensure that it gives us our expected confidence level.\n",
    "\n",
    "Since we calculated the critical z value by using the confidence level to calculate the upper value, the `norm.cdf` function will return that same value. \n",
    "\n",
    "For example, if our confidence level is $.95$ then the two-tail level is $.975$. We calculate the critical z value using $.975$. \n",
    "\n",
    "So, $.975$ is the value that we'd expect to get back if we call using the critical z value. "
   ]
  },
  {
   "cell_type": "code",
   "execution_count": 9,
   "metadata": {
    "colab": {
     "base_uri": "https://localhost:8080/",
     "height": 34
    },
    "id": "TR8IjzzNWs4W",
    "outputId": "a55e2fd4-9eea-4f17-f773-f9d78155af9a"
   },
   "outputs": [
    {
     "name": "stdout",
     "output_type": "stream",
     "text": [
      "Two-tail confidence 0.920\n"
     ]
    }
   ],
   "source": [
    "confidence_calc_two_tail = norm.cdf( 1.405 )\n",
    "#confidence_calc_two_tail = norm.cdf( z_two_tail )\n",
    "print( 'Two-tail confidence %0.3f' % ( confidence_calc_two_tail ) )"
   ]
  },
  {
   "cell_type": "markdown",
   "metadata": {
    "id": "LICjXayPYy1b"
   },
   "source": [
    "## Calculate the confidence interval\n",
    "\n",
    "The confidence interval is calculated by subtracting and adding the \"Margin of Error\" to the sample proportion:\n",
    "\n",
    "\n",
    "$$ \\hat{p} \\pm z^* \\cdot   \n",
    "\\sqrt{ \n",
    "  \\frac{ \\hat{p} ( 1 - \\hat{p} ) }{n}\n",
    "} \n",
    "$$\n",
    "\n",
    "The Margin of Error is:\n",
    "$$ \\text{ME} = z^* \\cdot   \n",
    "\\sqrt{ \n",
    "  \\frac{ \\hat{p} ( 1 - \\hat{p} ) }{n}\n",
    "} \n",
    "$$"
   ]
  },
  {
   "cell_type": "code",
   "execution_count": 10,
   "metadata": {
    "colab": {
     "base_uri": "https://localhost:8080/",
     "height": 187
    },
    "id": "0f_BmQDxZhDX",
    "outputId": "a48f5a1b-a582-47fe-9a01-2da14700bcb6"
   },
   "outputs": [
    {
     "name": "stdout",
     "output_type": "stream",
     "text": [
      "Sample Proportion: 0.0600\n",
      "Two-tail critical z value:  1.881\n",
      "Standard Error: 0.0168\n",
      "Margin of Error: 0.0316\n",
      "Lower Confidence Limit: 0.0284\n",
      "Upper Confidence Limit: 0.0916\n",
      "\n",
      "0.0600 +-  1.881 * ( sqrt( 0.0600 * ( 1 - 0.0600 ) / 200 ) )\n",
      "0.0600 +-  0.032\n",
      "( 0.0284, 0.0916 )\n"
     ]
    }
   ],
   "source": [
    "import math\n",
    "\n",
    "standard_error =  math.sqrt( p_hat * ( 1 - p_hat ) / n )\n",
    "margin_error = z_two_tail * standard_error\n",
    "lower_confidence = p_hat - margin_error\n",
    "upper_confidence = p_hat + margin_error\n",
    "\n",
    "print( 'Sample Proportion: %6.4f' % ( p_hat ) )\n",
    "print( 'Two-tail critical z value: %6.3f' % (z_two_tail)) \n",
    "print( 'Standard Error: %6.4f' % ( standard_error ) )\n",
    "print( 'Margin of Error: %6.4f' % ( margin_error ) )\n",
    "print( 'Lower Confidence Limit: %6.4f' % ( lower_confidence ) )\n",
    "print( 'Upper Confidence Limit: %6.4f' % ( upper_confidence ) )\n",
    "print()\n",
    "print( '%6.4f +- %6.3f * ( sqrt( %6.4f * ( 1 - %6.4f ) / %2d ) )' % ( p_hat, z_two_tail, p_hat, p_hat, n ) )\n",
    "print( '%6.4f +- %6.3f' % ( p_hat, margin_error ) )\n",
    "print( '( %6.4f, %6.4f )' % ( lower_confidence, upper_confidence ) )"
   ]
  },
  {
   "cell_type": "markdown",
   "metadata": {
    "id": "qubu-O9Tahek"
   },
   "source": [
    "## Calculating a sample size\n",
    "\n",
    "Let's say you are going to conduct a study or experiment and you have a maximum margin of error and confidence level you want to stay within. \n",
    "\n",
    "You'll need to know how many samples you need to meet that criteria.\n",
    "\n",
    "Our confidence interval is:\n",
    "\n",
    "$$ \\hat{p} \\pm z^* \\cdot   \n",
    "\\sqrt{ \n",
    "  \\frac{ \\hat{p} ( 1 - \\hat{p} ) }{n}\n",
    "} \n",
    "$$\n",
    "\n",
    "We don't know the sample proportion, because we haven't run the experiment yet (obviously, since we're just trying to figure out the sample size).\n",
    "\n",
    "So, we can try to maximize $\\hat{p}$ so that we figure out the maximum possible margin of error that is less than our confidence level. So, we set:\n",
    "\n",
    "$$\\hat{p}=.5$$\n",
    "\n",
    "And then we evaluate our inequality:\n",
    "\n",
    "$$ z^* \\sqrt{\n",
    "  \\frac{.5 \\cdot .5}{n}\n",
    "} \\le \\text{ME}_{max}$$\n",
    "\n",
    "And then we solve for $n$:\n",
    "\n",
    "$$ \n",
    " n \\ge .25\n",
    "\\Bigg( \\frac{z^*}{\\text{ME}_{max}} \\Bigg) ^ 2\n",
    "$$\n",
    "\n",
    "So, if our confidence level is 95% and we want a maximum margin of error of 2%, then we would get:\n",
    "\n",
    "$$ \n",
    " n \\ge .25\n",
    "\\Bigg( \\frac{1.96}{.02} \\Bigg) ^ 2\n",
    "$$\n",
    "\n",
    "Or:\n",
    "\n",
    "$$ n \\ge 2401 $$"
   ]
  },
  {
   "cell_type": "code",
   "execution_count": null,
   "metadata": {
    "colab": {
     "base_uri": "https://localhost:8080/",
     "height": 51
    },
    "id": "D1wxB3zueKUA",
    "outputId": "412862bc-f3f3-41f2-e197-636fd521df2c"
   },
   "outputs": [],
   "source": [
    "from scipy.stats import norm\n",
    "\n",
    "c_sample = .95\n",
    "me_max = .02\n",
    "\n",
    "c_two_tail_sample = c_sample + ( ( 1 - c_sample ) / 2 )\n",
    "\n",
    "z_critical = norm.ppf( c_two_tail_sample )\n",
    "sample_size = .25 * ( z_critical / me_max ) ** 2\n",
    "\n",
    "print( \"z-critical: %6.4f\" % z_critical )\n",
    "print( \"The estimated sample size is: %6d\" % math.ceil( sample_size ) )"
   ]
  },
  {
   "cell_type": "markdown",
   "metadata": {
    "id": "HjGYPEoUcp2H"
   },
   "source": [
    "# References\n",
    "\n",
    "- [How to Calculate Critical Values for Statistical Hypothesis Testing with Python](https://machinelearningmastery.com/critical-values-for-statistical-hypothesis-testing/)\n",
    "\n",
    "- [Khan Academy: Statistics & Probability - Confidence intervals](https://www.khanacademy.org/math/statistics-probability/confidence-intervals-one-sample)\n",
    "\n"
   ]
  }
 ],
 "metadata": {
  "colab": {
   "collapsed_sections": [],
   "name": "Confidence Intervals.ipynb",
   "provenance": [],
   "toc_visible": true
  },
  "kernelspec": {
   "display_name": "Python 3",
   "language": "python",
   "name": "python3"
  },
  "language_info": {
   "codemirror_mode": {
    "name": "ipython",
    "version": 3
   },
   "file_extension": ".py",
   "mimetype": "text/x-python",
   "name": "python",
   "nbconvert_exporter": "python",
   "pygments_lexer": "ipython3",
   "version": "3.8.5"
  }
 },
 "nbformat": 4,
 "nbformat_minor": 4
}
