{
 "cells": [
  {
   "cell_type": "markdown",
   "metadata": {},
   "source": [
    "# Poisson Distribution\n",
    "\n",
    "The Poisson Distribution is often represented as:\n",
    "\n",
    "$$ X \\sim \\text{Poi}(\\lambda) $$\n",
    "\n",
    "We use Poisson Distribution when we want to find out how unusual an event frequency is for a given interval.\n",
    "\n",
    "We often use it when we're counting the occurrences of events in a given unit of time, distance, area, or volume. For example:\n",
    "- The number of car accidents in a day\n",
    "- The number of trees in an acre of land\n",
    "\n",
    "The number of events (in these cases) is a random variable that may or may not have the Poisson Distribution. \n",
    "\n",
    "A Poisson random variable $X$ is a count of the number of occurrences of an event in a fixed unit of measure (usually time). \n",
    "\n",
    "For a random variable to be Poisson distributed, the events must happen ***randomly and independently***:\n",
    "- Events are occuring independently\n",
    "- The probability that an event occurs in a given unit of measure does not change\n",
    "\n",
    "Refereneces:\n",
    "* [Poisson Process - Khan Academy](https://www.khanacademy.org/math/statistics-probability/random-variables-stats-library/poisson-distribution/v/poisson-process-1?modal=1)\n",
    "* [The Poisson Distribution](http://www.stats.ox.ac.uk/~filippi/Teaching/psychology_humanscience_2015/lecture5.pdf)\n",
    "* [An Introduction to the Poisson Distribution](https://www.youtube.com/watch?v=jmqZG6roVqU&ab_channel=jbstatistics)"
   ]
  },
  {
   "cell_type": "markdown",
   "metadata": {},
   "source": [
    "# Expected Value\n",
    "\n",
    "The expected value is:\n",
    "\n",
    "$$ E(X) = \\mu = \\lambda$$\n",
    "\n",
    "The expected value is equal to the mean. The mean is often written as $\\mu$, but for the Poisson distribution $\\lambda$ is more often used."
   ]
  },
  {
   "cell_type": "markdown",
   "metadata": {},
   "source": [
    "# Variance\n",
    "\n",
    "The variance is:\n",
    "\n",
    "$$\\sigma^2 = \\lambda$$\n",
    "\n",
    "So, for the Poisson distribution, the mean and the variance are equal. "
   ]
  },
  {
   "cell_type": "markdown",
   "metadata": {},
   "source": [
    "# Probability Mass Function\n",
    "\n",
    "The PMF equation is:\n",
    "\n",
    "$$f(k; \\lambda) = \\text{P}(X=k) = \\frac{\\lambda^k e^{-\\lambda}}{k!} $$ \n",
    "\n",
    "Where:\n",
    "- $k$ is the count of the number of events in a given unit of time (can be any non-negative, whole number value)\n",
    "- $e$ is Eulers constant (2.71828)\n",
    "- $\\lambda$ - The expected value\n",
    "\n",
    "This equation tells us what the probability is when $k$ takes on a specific value."
   ]
  },
  {
   "cell_type": "markdown",
   "metadata": {},
   "source": [
    "### Calculate By Hand"
   ]
  },
  {
   "cell_type": "code",
   "execution_count": 164,
   "metadata": {},
   "outputs": [
    {
     "name": "stdout",
     "output_type": "stream",
     "text": [
      "p = 0.1304\n"
     ]
    }
   ],
   "source": [
    "def poisson_pmf( poisson_lambda, poisson_k ):\n",
    "    return ( (poisson_lambda ** poisson_k) * math.exp( -poisson_lambda ) / math.factorial( poisson_k ) )\n",
    "\n",
    "poisson_lambda = 7\n",
    "poisson_k = 8\n",
    "print( \"p = %6.4f\" % poisson_pmf( poisson_lambda, poisson_k ) )"
   ]
  },
  {
   "cell_type": "markdown",
   "metadata": {},
   "source": [
    "### Calculate using Scipy"
   ]
  },
  {
   "cell_type": "code",
   "execution_count": 113,
   "metadata": {},
   "outputs": [
    {
     "name": "stdout",
     "output_type": "stream",
     "text": [
      "0.1303774322150455\n"
     ]
    }
   ],
   "source": [
    "from scipy.stats import poisson\n",
    "mu = 7\n",
    "k = 8\n",
    "prob = poisson.pmf(k, mu)\n",
    "print(prob)"
   ]
  },
  {
   "cell_type": "markdown",
   "metadata": {},
   "source": [
    "# Cumulative Distribution Function\n",
    "\n",
    "While the PMF gives us the probability at a specific mass, if we want the probability of getting \"up to\" a certain value of $k$, then we can use the CDF function:\n",
    "\n",
    "$$F(k; \\lambda) = \\sum_{i=0}^{k} \\frac{\\lambda^i e^{-\\lambda}}{i!} = {P}(X=0) + {P}(X=1) + ... + {P}(X=k) $$ \n",
    "\n",
    "References:\n",
    "- [Poisson Distribution - CDF](https://www.itl.nist.gov/div898/handbook/eda/section3/eda366j.htm)"
   ]
  },
  {
   "cell_type": "markdown",
   "metadata": {},
   "source": [
    "### Calculate By Hand"
   ]
  },
  {
   "cell_type": "code",
   "execution_count": 121,
   "metadata": {},
   "outputs": [
    {
     "name": "stdout",
     "output_type": "stream",
     "text": [
      "p = 0.7291\n"
     ]
    }
   ],
   "source": [
    "def poisson_cdf( poisson_lambda, poisson_k ):\n",
    "    cdf = 0\n",
    "    for i in range( 0, poisson_k + 1 ):\n",
    "        cdf = cdf + poisson_pmf( poisson_lambda, i)\n",
    "    return cdf\n",
    "\n",
    "poisson_lambda = 7\n",
    "poisson_k = 8\n",
    "print( \"p = %6.4f\" % poisson_cdf( poisson_lambda, poisson_k ) )"
   ]
  },
  {
   "cell_type": "markdown",
   "metadata": {},
   "source": [
    "### Calculate using Scipy"
   ]
  },
  {
   "cell_type": "code",
   "execution_count": 122,
   "metadata": {},
   "outputs": [
    {
     "name": "stdout",
     "output_type": "stream",
     "text": [
      "0.7290912677380824\n"
     ]
    }
   ],
   "source": [
    "from scipy.stats import poisson\n",
    "mu = 7\n",
    "k = 8\n",
    "prob = poisson.cdf(k, mu)\n",
    "print(prob)"
   ]
  },
  {
   "cell_type": "markdown",
   "metadata": {},
   "source": [
    "# Relation to Binomial\n",
    "\n",
    "The Poisson Distribution is actually just a binomial distribution ([proof](https://www.khanacademy.org/math/statistics-probability/random-variables-stats-library/poisson-distribution/v/poisson-process-1?modal=1)) when you take the $\\lim_{n \\to \\infty}$ and $\\lim_{p \\to 0}$ (and $np$ is constant).\n",
    "\n",
    "The Poisson distribution with $\\lambda = np$ closely approximates the binomial distribution if $n$ is large and $p$ is small. \n"
   ]
  },
  {
   "cell_type": "markdown",
   "metadata": {},
   "source": [
    "# Graphs"
   ]
  },
  {
   "cell_type": "code",
   "execution_count": 72,
   "metadata": {
    "jupyter": {
     "source_hidden": true
    }
   },
   "outputs": [],
   "source": [
    "import matplotlib.pyplot as plt\n",
    "import seaborn as sns\n",
    "import pandas as pd\n",
    "\n",
    "def create_poisson_dataframe( poisson_lambda, range_max ):\n",
    "    df = pd.DataFrame(columns=['k', 'P'])\n",
    "\n",
    "    for poisson_k in range( range_max ):\n",
    "      poisson = ( (poisson_lambda ** poisson_k) * math.exp( -poisson_lambda ) / math.factorial( poisson_k ) )\n",
    "      df.loc[-1] = [poisson_k, poisson]  # adding a row\n",
    "      df.index = df.index + 1  # shifting index\n",
    "      df = df.sort_index()  # sorting by index\n",
    "\n",
    "    df = df.astype({'k': 'int32'})\n",
    "    return df"
   ]
  },
  {
   "cell_type": "markdown",
   "metadata": {},
   "source": [
    "### Lambda < 1"
   ]
  },
  {
   "cell_type": "code",
   "execution_count": 93,
   "metadata": {
    "jupyter": {
     "source_hidden": true
    }
   },
   "outputs": [
    {
     "data": {
      "image/png": "[encoded data removed]",
      "text/plain": [
       "<Figure size 432x288 with 1 Axes>"
      ]
     },
     "metadata": {
      "needs_background": "light"
     },
     "output_type": "display_data"
    }
   ],
   "source": [
    "poisson_lambda = .25\n",
    "df = create_poisson_dataframe( poisson_lambda, 15 )  \n",
    "vis = sns.barplot(data = df, x='k', y='P')"
   ]
  },
  {
   "cell_type": "markdown",
   "metadata": {},
   "source": [
    "### Lambda = 1"
   ]
  },
  {
   "cell_type": "code",
   "execution_count": 94,
   "metadata": {
    "jupyter": {
     "source_hidden": true
    }
   },
   "outputs": [
    {
     "data": {
      "image/png": "[encoded data removed]",
      "text/plain": [
       "<Figure size 432x288 with 1 Axes>"
      ]
     },
     "metadata": {
      "needs_background": "light"
     },
     "output_type": "display_data"
    }
   ],
   "source": [
    "poisson_lambda = 2.3 * 2\n",
    "df = create_poisson_dataframe( poisson_lambda, 15 )  \n",
    "vis = sns.barplot(data = df, x='k', y='P')"
   ]
  },
  {
   "cell_type": "markdown",
   "metadata": {},
   "source": [
    "### Lambda = 1.5"
   ]
  },
  {
   "cell_type": "code",
   "execution_count": 96,
   "metadata": {
    "jupyter": {
     "source_hidden": true
    }
   },
   "outputs": [
    {
     "data": {
      "image/png": "[encoded data removed]",
      "text/plain": [
       "<Figure size 432x288 with 1 Axes>"
      ]
     },
     "metadata": {
      "needs_background": "light"
     },
     "output_type": "display_data"
    }
   ],
   "source": [
    "poisson_lambda = 1.5\n",
    "df = create_poisson_dataframe( poisson_lambda, 15 )  \n",
    "vis = sns.barplot(data = df, x='k', y='P')"
   ]
  },
  {
   "cell_type": "markdown",
   "metadata": {},
   "source": [
    "### Lambda = 3"
   ]
  },
  {
   "cell_type": "code",
   "execution_count": 97,
   "metadata": {
    "jupyter": {
     "source_hidden": true
    }
   },
   "outputs": [
    {
     "data": {
      "image/png": "[encoded data removed]",
      "text/plain": [
       "<Figure size 432x288 with 1 Axes>"
      ]
     },
     "metadata": {
      "needs_background": "light"
     },
     "output_type": "display_data"
    }
   ],
   "source": [
    "poisson_lambda = 3\n",
    "df = create_poisson_dataframe( poisson_lambda, 15 )  \n",
    "vis = sns.barplot(data = df, x='k', y='P')"
   ]
  },
  {
   "cell_type": "markdown",
   "metadata": {},
   "source": [
    "### Lambda = 5"
   ]
  },
  {
   "cell_type": "code",
   "execution_count": 99,
   "metadata": {
    "jupyter": {
     "source_hidden": true
    }
   },
   "outputs": [
    {
     "data": {
      "image/png": "[encoded data removed]",
      "text/plain": [
       "<Figure size 432x288 with 1 Axes>"
      ]
     },
     "metadata": {
      "needs_background": "light"
     },
     "output_type": "display_data"
    }
   ],
   "source": [
    "poisson_lambda = 5\n",
    "df = create_poisson_dataframe( poisson_lambda, 15 )  \n",
    "vis = sns.barplot(data = df, x='k', y='P')"
   ]
  },
  {
   "cell_type": "markdown",
   "metadata": {},
   "source": [
    "### Lambda = 10"
   ]
  },
  {
   "cell_type": "code",
   "execution_count": 101,
   "metadata": {},
   "outputs": [
    {
     "data": {
      "image/png": "[encoded data removed]",
      "text/plain": [
       "<Figure size 432x288 with 1 Axes>"
      ]
     },
     "metadata": {
      "needs_background": "light"
     },
     "output_type": "display_data"
    }
   ],
   "source": [
    "poisson_lambda = 10\n",
    "df = create_poisson_dataframe( poisson_lambda, 22 )  \n",
    "vis = sns.barplot(data = df, x='k', y='P')"
   ]
  },
  {
   "cell_type": "markdown",
   "metadata": {},
   "source": [
    "# Example Problems"
   ]
  },
  {
   "cell_type": "markdown",
   "metadata": {},
   "source": [
    "### Lebron James\n",
    "\n",
    "**Question** \n",
    "\n",
    "Lebron James averages 35 points per game. What is the liklihood of Lebron scoring 12 points in the first quarter of his next game? \n",
    "\n",
    "**Answer**\n",
    "\n",
    "We can use the Poisson Distribution to determine the chance given the specified time interval.\n",
    "\n",
    "The expected value is:\n",
    "\n",
    "$$ E(X) = \\lambda = 35 \\frac{\\text{pts}}{\\text{game}} = 8.75 \\frac{\\text{pts}}{\\text{quarter}}$$\n",
    "\n",
    "The PMF equation is:\n",
    "\n",
    "$$f(k; \\lambda) = \\text{P}(X=k) = \\frac{\\lambda^k e^{-\\lambda}}{k!} $$ \n",
    "\n",
    "So, in this case:\n",
    "$$k = 12 \\frac{\\text{pts}}{\\text{quarter}}$$\n",
    "\n",
    "So:\n",
    "\n",
    "$$\\text{Pr}(X=12) = \\frac{(8.75)^{12} \\cdot e^{-8.75}}{12!} = 0.0666 $$ \n"
   ]
  },
  {
   "cell_type": "code",
   "execution_count": 125,
   "metadata": {},
   "outputs": [
    {
     "name": "stdout",
     "output_type": "stream",
     "text": [
      "p = 0.0666\n"
     ]
    }
   ],
   "source": [
    "import math\n",
    "\n",
    "poisson_lambda = 35 / 4\n",
    "poisson_k = 12\n",
    "poisson = poisson_pmf(poisson_lambda, poisson_k)\n",
    "print( \"p = %6.4f\" % poisson )"
   ]
  },
  {
   "cell_type": "code",
   "execution_count": 84,
   "metadata": {},
   "outputs": [
    {
     "data": {
      "image/png": "[encoded data removed]",
      "text/plain": [
       "<Figure size 432x288 with 1 Axes>"
      ]
     },
     "metadata": {
      "needs_background": "light"
     },
     "output_type": "display_data"
    }
   ],
   "source": [
    "poisson_lambda = 35 / 4\n",
    "df = create_poisson_dataframe( poisson_lambda, 22 )  \n",
    "vis = sns.barplot(data = df, x='k', y='P')"
   ]
  },
  {
   "cell_type": "markdown",
   "metadata": {},
   "source": [
    "### Plutonium Decay\n",
    "\n",
    "**Question**\n",
    "\n",
    "One nanogram of Plutonium-239 will have an average of 2.3 radioactive decays per second, and the number of decays will follow a Poisson distribution.\n",
    "\n",
    "What is the probability that in a 2 second period there are exactly 3 radioactive decays?\n",
    "\n",
    "**Answer**"
   ]
  },
  {
   "cell_type": "code",
   "execution_count": 126,
   "metadata": {},
   "outputs": [
    {
     "name": "stdout",
     "output_type": "stream",
     "text": [
      "p = 0.1631\n"
     ]
    }
   ],
   "source": [
    "import math\n",
    "\n",
    "poisson_lambda = 2.3 * 2\n",
    "poisson_k = 3\n",
    "poisson = poisson_pmf(poisson_lambda, poisson_k)\n",
    "print( \"p = %6.4f\" % poisson )"
   ]
  },
  {
   "cell_type": "code",
   "execution_count": 85,
   "metadata": {},
   "outputs": [
    {
     "data": {
      "image/png": "[encoded data removed]",
      "text/plain": [
       "<Figure size 432x288 with 1 Axes>"
      ]
     },
     "metadata": {
      "needs_background": "light"
     },
     "output_type": "display_data"
    }
   ],
   "source": [
    "poisson_lambda = 2.3 * 2\n",
    "df = create_poisson_dataframe( poisson_lambda, 15 )  \n",
    "vis = sns.barplot(data = df, x='k', y='P')"
   ]
  },
  {
   "cell_type": "markdown",
   "metadata": {},
   "source": [
    "### Probability Instead of Lambda\n",
    "\n",
    "**Question**\n",
    "\n",
    "If the probability of seeing at least one car on the highway in 30 minutes is 0.95, what is the probability of seeing at least one car on the highway in 10 minutes? (Assume a constant default probability)\n",
    "\n",
    "**Answer**\n",
    "\n",
    "Assuming a Poisson Distribution, we know that the probability mass function is:\n",
    "\n",
    "$$\\text{P}(X=k) = \\frac{\\lambda^k e^{-\\lambda}}{k!} $$\n",
    "\n",
    "So, the probability that no cars pass in thirty minutes is $1 - 0.95 = 0.05$:\n",
    "$$\\text{P}(X=0) = 0.05 = \\frac{\\lambda^0 e^{-\\lambda}}{0!} = e^{-\\lambda} $$ \n",
    "\n",
    "Then, we can solve for lamda by taking the log of both sides:\n",
    "$$-\\text{ln}(0.05) = \\lambda $$ \n",
    "\n",
    "$$\\lambda = 2.995 \\approx 3 $$ \n",
    "\n",
    "There are three cars every thirty minutes, which is $0.1$ every minute. So, we multiply that by 10 minutes and get $\\lambda=1$ for units of 10 minutes.\n",
    "\n",
    "Then we calculate the probability for exactly 0 cars in 10 minutes:\n",
    "$$\\text{P}(X=0) = \\frac{\\lambda^0 e^{-1}}{0!} = 0.368 $$\n",
    "\n",
    "Then, to find the probability of ***at least one*** car, we just subtract that from one:\n",
    "\n",
    "$$\\text{P}(X>0) = 1 - 0.368 = 0.632$$\n",
    "\n",
    "- [Quora Answer](https://www.quora.com/If-the-probability-of-observing-a-car-in-30-minutes-on-a-highway-is-0-95-what-is-the-probability-of-observing-a-car-in-10-minutes-assuming-constant-default-probability)\n",
    "- [Math Stack Exchange Answer](https://math.stackexchange.com/a/3904247/10438)"
   ]
  },
  {
   "cell_type": "code",
   "execution_count": 163,
   "metadata": {},
   "outputs": [
    {
     "name": "stdout",
     "output_type": "stream",
     "text": [
      "0.6321205588285577\n"
     ]
    }
   ],
   "source": [
    "poisson_lambda = 1\n",
    "poisson_k = 0\n",
    "poisson = poisson_pmf(poisson_lambda, poisson_k)\n",
    "print( 1 - poisson )"
   ]
  },
  {
   "cell_type": "code",
   "execution_count": 165,
   "metadata": {},
   "outputs": [
    {
     "data": {
      "image/png": "[encoded data removed]",
      "text/plain": [
       "<Figure size 432x288 with 1 Axes>"
      ]
     },
     "metadata": {
      "needs_background": "light"
     },
     "output_type": "display_data"
    }
   ],
   "source": [
    "poisson_lambda = 1\n",
    "df = create_poisson_dataframe( poisson_lambda, 8 )  \n",
    "vis = sns.barplot(data = df, x='k', y='P')"
   ]
  }
 ],
 "metadata": {
  "kernelspec": {
   "display_name": "Python 3",
   "language": "python",
   "name": "python3"
  },
  "language_info": {
   "codemirror_mode": {
    "name": "ipython",
    "version": 3
   },
   "file_extension": ".py",
   "mimetype": "text/x-python",
   "name": "python",
   "nbconvert_exporter": "python",
   "pygments_lexer": "ipython3",
   "version": "3.8.5"
  }
 },
 "nbformat": 4,
 "nbformat_minor": 4
}
