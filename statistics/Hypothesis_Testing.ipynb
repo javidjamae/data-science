{
 "cells": [
  {
   "cell_type": "markdown",
   "metadata": {},
   "source": [
    "## Types of Inference\n",
    "\n",
    "There are three main types of statistical inference that are used for hypothesis testing:\n",
    "\n",
    "- Frequentist\n",
    "- Bayesian\n",
    "- Liklihood\n",
    "\n"
   ]
  },
  {
   "cell_type": "markdown",
   "metadata": {},
   "source": [
    "## Types of Hypotheses\n",
    "\n",
    "$H_0$ is known as the Null Hypothesis. It is the idea that there is no difference between the control and the treatment.\n",
    "\n",
    "$ H_1 $ or $H_A$ is the Alternative Hypothesis. It is the idea that there is a difference between the control and the treatment.\n",
    "\n",
    "You can consider a case where there is any difference:\n",
    "\n",
    "$$ H_0 \\ne H_A $$\n",
    "\n",
    "Or, you can consider a case where there is a difference in a particular direction:\n",
    "\n",
    "$$ H_0 \\lt H_A $$\n",
    "\n",
    "$$ H_0 \\gt H_A $$"
   ]
  },
  {
   "cell_type": "markdown",
   "metadata": {
    "id": "EfWQrqOHUcdK"
   },
   "source": [
    "## Power\n",
    "\n",
    "When we're doing significance tests, we can calculate the conditional probability of rejecting the null hypothesis given that the null hypothesis is not true (which is the right thing to do). This probability is called the ***power***. \n",
    "\n",
    "$$\n",
    "\\text{power} = P( \\text{ reject } H_0 | H_0 \\text{ false } )\n",
    "$$\n",
    "\n",
    "The statistical power can also be thought of as the probability of accepting $H_A$, when $H_A$ is true. The higher the probability of detecting an effect when there is an effect.\n",
    "\n",
    "$$\n",
    "\\text{power} = P( \\text{ accept } H_A | H_A \\text{ true} )\n",
    "$$\n",
    "\n",
    "We can connect this to Type II errors by rewriting it a little:\n",
    "\n",
    "$$\n",
    "\\text{power} = 1 - P( \\text{ not rejecting } H_0 | H_0 \\text{ false } )\n",
    "$$\n",
    "\n",
    "$$\n",
    "\\text{power} = 1 - P( \\text{ Type II error } )\n",
    "$$\n",
    "\n",
    "$$\n",
    "\\text{power} = P( \\text{ no Type II error } )\n",
    "$$\n",
    "\n",
    "When interpreting statistical power, we seek experiential setups that have high statistical power:\n",
    "- Low Statistical Power: Larger risk of committing Type II errors (false negative)\n",
    "- High Statistical Power: Smaller risk of committing Type II errors"
   ]
  },
  {
   "cell_type": "markdown",
   "metadata": {
    "id": "3YzT_-BwYj54"
   },
   "source": [
    "### Calculating Power\n",
    "\n",
    "- $ \\beta $ -> beta\n",
    "- $ \\alpha $ -> significance level (alpha)\n",
    "- $ (1 - \\beta) $ -> power\n",
    "\n"
   ]
  },
  {
   "cell_type": "markdown",
   "metadata": {
    "id": "y5f6b71VaunE"
   },
   "source": [
    "### Ways to increase power\n",
    "\n",
    "It is common to design experiments with a statistical power of 80% or better, i.e. $>= 0.80$. This means a 20% probability of encountering a Type II area. This different to the 5% likelihood of encountering a Type I error for the standard value for the significance level.\n",
    "\n",
    "1. If we increase our sample size, our power increases. Another way to think about it is that the $H_0$ and $H_A$ distributions both get narrower, so they have less overlap and less chance of getting a Type I or Type II error. \n",
    "\n",
    "2. If we increase $ \\alpha $ then we increase power, but we also increase probability of Type I errors.\n",
    "\n",
    "3. If we have less variability in our data, then our power would increase\n",
    "\n",
    "4. True parameter is further away than $ H_0 $. \n",
    "\n",
    "Option #1 is the is the best way for us to increase power. We have control to do option #2, but it has the downside of increasing Type I errors. We often don't have much control over options #3 and #4.\n",
    "\n",
    "You have to be careful when you have very high power because a result might have a significant p-value that is unlikely given $H_0$ is true, but it could be even more unlikely given $H_A$ is true. In other words, with high power, you may need to accept $H_0$ even though it is significant. \n",
    "\n",
    "#### References:\n",
    "- [Which p-values can you expect? - PDF](https://d18ky98rnyall9.cloudfront.net/_122e44c5c658d76af09f193f785664d6_1.1-Which-p-values-can-you-expect.pdf?Expires=1602374400&Signature=AEUgf-pF8LVfKBzFJM7irTdtXUTPSIb6JqbIaLzMqpadjUs8umx1bv5Og1XNDOAN-b2gKXzLPMLQnRk9NDXMiSbbi8Pfx8dDEa9yCafXyhHpo5Cdfx5-HS~iDYDfHwY1UHrnfc0zsNGMGAsUFO7TpAo6in4vgotTmwHdT0IjZAk_&Key-Pair-Id=APKAJLTNE6QMUY6HBC5A)\n",
    "- [Which p-values can you expect? - Code](https://d18ky98rnyall9.cloudfront.net/_6f85df70820bab6d714a268825d65063_1.1-WhichPvaluesCanYouExpect.R?Expires=1602374400&Signature=TQ3TMrXnvczNikp83bOmOTKVWYHp7~nx~8YhzUwTopLM~MsiWNdR~peeohy868S1sAiPoGmHm51Paow~5phmgkpmB6vnzN66lBugL-UkFvbYm4EwNdlSDakkKCqFxveOo6n5PPxbQov9JpV-oydDjHOA0L-w9Ccw0dunTHcBw9Y_&Key-Pair-Id=APKAJLTNE6QMUY6HBC5A)\n",
    "- [Introduction to power in significance tests - Khan Academy](https://www.khanacademy.org/math/ap-statistics/tests-significance-ap/error-probabilities-power/v/introduction-to-power-in-significance-tests)"
   ]
  },
  {
   "cell_type": "markdown",
   "metadata": {
    "id": "wqJEWKN4gQHl"
   },
   "source": [
    "### Power Analysis\n",
    "\n",
    "These four values are related:\n",
    "* Effect Size\n",
    "* Sample Size\n",
    "* Significance Level\n",
    "* Statistical Power\n",
    "\n",
    "If we have three of them, we can calculate the other. The most common thing we want to do is calculate a sample size for an study or experiment.\n",
    "\n",
    "References:\n",
    "- [A Gentle Introduction to Statistical Power and Power Analysis in Python\n",
    "](https://machinelearningmastery.com/statistical-power-and-power-analysis-in-python/)\n",
    "\n"
   ]
  },
  {
   "cell_type": "markdown",
   "metadata": {},
   "source": [
    "### Type I and Type II errors\n",
    "\n",
    "Error control is trying to minimize false positive and false negative results. \n",
    "\n",
    "| ---- | Find Significant Effect | Find Non-Significant Effect |\n",
    "|-|:-:|:-:|\n",
    "| $H_0$ true | False Positive ($\\alpha$) <br> Type I Error | True Negative ($1-\\alpha$) |\n",
    "| $H_A$ true | True Positive ($1-\\beta$) | False Negative ($\\beta$) <br> Type II error |\n",
    "\n",
    "For a single study there is a true effect or not, you're either right or wrong. But the error rates are the rate of making a mistake if you were to run the study many times. \n",
    "\n",
    "If you have particular values of $\\alpha$ and $\\beta$ that you're using for an experiment, you can see what the most likely outcomes are. For example, let's say you have:\n",
    "\n",
    "- $p = 0.5$ -> probability that $H_A$ is true\n",
    "- $\\alpha = 0.05$ -> Type I error rate (alpha, aka significance level)\n",
    "- $\\beta = 0.2$ -> Type II error rate (beta)\n",
    "\n",
    "|  | Significant Finding <br>$\\alpha=.05$, $1-\\beta=0.8$ | Non-Significant Finding <br>$1-\\alpha=.95$, $\\beta=0.2$ |\n",
    "|-|:-:|:-:|\n",
    "| $H_0$ true (.5) | $0.05 \\cdot 0.5=0.025$ | $0.95 \\cdot 0.5=0.475$ |\n",
    "| $H_A$ true (.5) | $0.8 \\cdot 0.5=0.4$ | $0.2 \\cdot 0.5=0.1$ |\n",
    "\n",
    "So, if we run an experiment where $H_0$ and $H_A$ have equal probability, our experiment is most likely going to end up as a true negative (47%) followed by a true positive (40%).\n",
    "\n",
    "To try to improve this, we **could** try to play around with the $\\alpha$ and $\\beta$ values, but these won't make a drastic difference.\n",
    "\n",
    "The best way to improve the outcomes are to come up with better a better alternative hypothesis that are more likely to be true. For example, if we change to:\n",
    "\n",
    "- $p = 0.9$ -> probability that $H_A$ is true\n",
    "- $\\alpha = 0.05$ -> Type I error rate (alpha, aka significance level)\n",
    "- $\\beta = 0.2$ -> Type II error rate (beta)\n",
    "\n",
    "Then we get:\n",
    "\n",
    "|  | Significant Finding <br>$\\alpha=.05$, $1-\\beta=0.8$ | Non-Significant Finding <br>$1-\\alpha=.95$, $\\beta=0.2$ |\n",
    "|-|:-:|:-:|\n",
    "| $H_0$ true (.9) | $0.05 \\cdot 0.1=0.005$ | $0.95 \\cdot 0.1=0.095$ |\n",
    "| $H_A$ true (.1) | $0.8 \\cdot 0.9=0.72$ | $0.2 \\cdot 0.9=0.18$ |\n",
    "\n",
    "Now we have a 72% chance of getting a true positive, followed by a 18% chance of getting a false negative. \n",
    "\n",
    "#### Type I Errors\n",
    "$\\alpha$ is the Type I error rate: the probability of a significant result when $H_0$ is true. In other words, if $H_0$ is true, we shouldn't get a significant result, but we will get it $\\alpha$ percent of the time.\n",
    "\n",
    "In many areas of study, $\\alpha$ is set to $0.05$ but in other areas of study (physics or medicine) it is often set even lower.\n",
    "\n",
    "Sample size doesn't impact the likelihood of a Type I error. It is only impacted by the confidence level $\\alpha$.\n",
    "\n",
    "#### Type II Errors\n",
    "$\\beta$ is the Type II error rate: the probability of a non-significant result, given that $H_A$ is true. In other words, if $H_A$ is true, we should get a significant result, but we won't get it $\\beta$ percent of the time.\n",
    "\n",
    "Statistical Power is $1-\\beta$, which is the probability of a significant result when $H_A$ is true. \n",
    "\n",
    "Rejecting a false null hypothesis is more likely to happen with a higher significance level and less likely to happen with a lower significance level, since rejecting with lower significance requires our sample result to be farther away from the null hypothesis.\n",
    "\n",
    "The probability of a Type II error is lower when the actual value is farther away from the value in the null hypothesis and in favor of the alternative.\n",
    "\n",
    "#### Selecting Error Rates\n",
    "\n",
    "Standard recommendations tend to be $\\alpha=0.05$ and $\\beta=0.8$.\n",
    "\n",
    "But, you should think for yourself and the context of your experiment and situation to select what the best choice is. \n",
    "\n",
    "Neyman said:\n",
    "> Is it more serious to convict an innocent man, or acquit a guilty?\n",
    "\n",
    "He also said:\n",
    "> Determining how the balance must be struck should be left to the investigator\n",
    "\n",
    "If you think you have a breakthrough and missing out on a true effect is very costly, then you'll want to increase your power (reduce Type II errors) as much as possible.\n",
    "\n",
    "If you're running an A/B testing program at a company, you may want to consider the cost of running the experiments and the cost of getting any given one wrong.\n",
    "\n",
    "You may want to minimize one or both types of error rates so in the long run you don't make a fool out of yourself too often.\n",
    "\n",
    "#### References\n",
    "- [Visualize Type I/II errors: One-sample Test of Means (Z test) - Calculator](https://shiny.rit.albany.edu/stat/betaprob/)\n",
    "- [Understanding Statistical Power and Significance Testing - Calculator](https://rpsychologist.com/d3/nhst/)\n",
    "- [Why Type I errors are worse than Type II errors](https://scientificallysound.org/2019/05/07/why-type-i-errors-are-worse-than-type-ii-errors/)\n",
    "- [Improving your statistical inferences - Coursera](https://www.coursera.org/learn/statistical-inferences/lecture/erVLS/type-1-and-type-2-errors)"
   ]
  },
  {
   "cell_type": "markdown",
   "metadata": {
    "id": "SNI_w6LPgalO"
   },
   "source": [
    "## Frequentist\n",
    "\n",
    "Also known as:\n",
    "- Null Hypothesis Significance Testing\n",
    "\n",
    "Different methods such as:\n",
    "- Different types like Neyman-Pearson or Fisher.\n"
   ]
  },
  {
   "cell_type": "markdown",
   "metadata": {},
   "source": [
    "### p-values\n",
    "\n",
    "When you have two variations or conditions in an experiment, there is almost a measured difference between the two. The question is whether the difference is:\n",
    "- Random noise (i.e. there is no actual difference)\n",
    "- Real effect (i.e. there is a real difference)\n",
    "\n",
    "If you're using frequentist inference, a p-value helps you determine a difference between random noise and a meaninful signal in the data.\n",
    "\n",
    "In a null-hypothesis test, we assume that the null hypothesis $H_0$ is true and look for surprising or unlikely results in the alternative $H_A$ that would allow us to reject the null hypothesis. \n",
    "\n",
    "A p-value is the probability of getting the observed or more extreme data, assuming the null hypothesis $H_0$ is true. \n",
    "\n",
    "If we look at a normal distribution, centered on 0, we can see that with a confidence level of $\\alpha = 0.05$ gives us a critical z-value of 1.96. So, there is a 95% probability that there is no effect (i.e. we can't reject $H_0$), if the effect is within 1.96 standard deviations. \n",
    "\n",
    "But, if the mean difference or the test statistic is in one of the two tails of this distribution, where $p < 0.05$ then the data is surprising and we can reject the null hypothesis $H_0$.\n"
   ]
  },
  {
   "cell_type": "code",
   "execution_count": 1,
   "metadata": {},
   "outputs": [
    {
     "data": {
      "image/png": "[encoded data removed]",
      "text/plain": [
       "<Figure size 648x432 with 1 Axes>"
      ]
     },
     "metadata": {
      "needs_background": "light"
     },
     "output_type": "display_data"
    }
   ],
   "source": [
    "# https://pythonforundergradengineers.com/plotting-normal-curve-with-python.html\n",
    "import numpy as np\n",
    "import matplotlib.pyplot as plt\n",
    "from scipy.stats import norm\n",
    "# if using a Jupyter notebook, inlcude:\n",
    "%matplotlib inline\n",
    "\n",
    "# calculate the z-transform\n",
    "z1 = -1.96\n",
    "z2 = 1.96\n",
    "\n",
    "x = np.arange(z1, z2, 0.001) # range of x in spec\n",
    "x_all = np.arange(-10, 10, 0.001) # entire range of x, both in and out of spec\n",
    "# mean = 0, stddev = 1, since Z-transform was calculated\n",
    "y = norm.pdf(x,0,1)\n",
    "y2 = norm.pdf(x_all,0,1)\n",
    "\n",
    "# build the plot\n",
    "fig, ax = plt.subplots(figsize=(9,6))\n",
    "plt.style.use('fivethirtyeight')\n",
    "ax.plot(x_all,y2)\n",
    "\n",
    "ax.fill_between(x,y,0, alpha=0.3, color='b')\n",
    "ax.fill_between(x_all,y2,0, alpha=0.1)\n",
    "ax.set_xlim([-4,4])\n",
    "ax.set_xlabel('95% probability within +/- 1.96 standard deviations')\n",
    "ax.set_yticklabels([])\n",
    "ax.set_title('Normal Distribution (p>0.05)')\n",
    "\n",
    "#plt.savefig('normal_curve.png', dpi=72, bbox_inches='tight')\n",
    "plt.show()"
   ]
  },
  {
   "cell_type": "markdown",
   "metadata": {},
   "source": [
    "#### p-values don't prove theories\n",
    "\n",
    "Frequentist inference is done using a p-value, which gives us the probability of observing the data, but ***not*** the probability of the theory that underlies the experiment. People often want to make a statement about the theory, but using a p-value, you can only make a statement about the data. \n",
    "\n",
    "In other words, just because you run an experiment and get $p < 0.05$ that doesn't mean an effect is 95% likely to be true. \n",
    "\n",
    "For example, let's you are presented with a single study where a statistically significant effect on pre-cognition is found with $p < 0.05$. Does that mean that it is 95% probable that pre-cognition exists?\n",
    "\n",
    "You can't get the probability that the null hypothesis is true, given the data, from a p-value. From a conditional probability perspective:\n",
    "\n",
    "$$ P( D | H_0 ) \\ne P( H | D )$$\n",
    "\n",
    "Where:\n",
    "- $D$ -> the data\n",
    "- $H_0$ -> the null hypothesis is true\n",
    "\n",
    "If you want to know the probability that a theory is true, you have to use Bayesian statistics.\n",
    "\n",
    "So, you shouldn't say: \"We found a p-value < 0.05, so our theory...\"\n",
    "\n",
    "You should say: \"We found a p-value < 0.05, so our data...\""
   ]
  },
  {
   "cell_type": "markdown",
   "metadata": {},
   "source": [
    "#### Non-significant p-values\n",
    "\n",
    "When you do your power analysis for a fixed-horizon NHST, all you know is the samples that you need, given the effect you want to observe. The analysis gives you no guarantees about what happens while the experiment is running, so you can't make any assumptions about the data until you reach your pre-determined number of samples. \n",
    "\n",
    "If a p-value is larger than $\\alpha$ (e.g. $p > 0.05$) then all you know is that the data you've observed is *not surprising*. \n",
    "\n",
    "There may be an effect, but you haven't collected enough samples to know for sure. You would need to collect more samples to detect the smaller effect.\n",
    "\n",
    "If:\n",
    "- $ p < \\alpha $ - Act as if the data is not noise\n",
    "- $ p > \\alpha $ - Act as if the data is noise (remain uncertain)\n",
    "\n",
    "The p-value is a *long run* metric. If you *act* as if there is an effect when $p < 0.05$, in the long run you won't be wrong more than 5% of the time.\n",
    "\n",
    "When you have a non-significant value, you enter a ***degenerative research line***. You made a prediction, but it doesn't hold up. You'll need to explain why (noise, smaller effect, bias, etc).\n",
    "\n"
   ]
  },
  {
   "cell_type": "markdown",
   "metadata": {},
   "source": [
    "#### p-values and effect\n",
    "\n",
    "When there is a true effect, the p-value distribution depends on the statistical power. If you use 50% power, then it is 50% probable that we observe a p-value that is smaller than 0.05. If you use 80% power, then it is 80% probable that we observe a p-value that is smaller than 0.05. It is more likely to observe small p-values than large p-values.\n",
    "\n",
    "When there is no effect, p-values are uniformly distributed. This makes sense, because with no effect (e.g. an A/A test), if you use $\\alpha = 0.05%$, then you'll get a false positive 5% of the time when $p < 0.05$ due to noise. If you use $\\alpha = 0.1$, then you'll get a false positive 10% of the time.\n",
    "\n"
   ]
  },
  {
   "cell_type": "markdown",
   "metadata": {},
   "source": [
    "#### References\n",
    "\n",
    "- [Improving your statistical inferences](https://www.coursera.org/learn/statistical-inferences/lecture/05F0R/what-is-a-p-value)\n"
   ]
  },
  {
   "cell_type": "markdown",
   "metadata": {},
   "source": [
    "### Population Proportions\n",
    "\n",
    "To run an experiment on a population proportion, we do the following:\n",
    "- Define a null and alternative hypothesis\n",
    "- Determine an appropriate sample size\n",
    "- Take a sample from the population\n",
    "- Calculate a sample statistic:\n",
    "- Calculate a p-value\n",
    "- Compare the p-value to our $\\alpha$ level\n",
    "\n",
    "\n",
    "References:\n",
    "[Tests about a population proportion - Khan Academy](https://www.khanacademy.org/math/statistics-probability/significance-tests-one-sample#tests-about-population-proportion)"
   ]
  },
  {
   "cell_type": "markdown",
   "metadata": {},
   "source": [
    "#### Conditions for a z-test \n",
    "\n",
    "- Random\n",
    "- Normal\n",
    "- Independence"
   ]
  },
  {
   "cell_type": "markdown",
   "metadata": {},
   "source": [
    "### Calculating the sample proportion\n",
    "\n",
    "The sample proportion can easily be calculated given our sample size and number of successes:\n",
    "\n",
    "$$\\hat{p} = \\frac{\\text{successes}}{\\text{samples}}$$\n"
   ]
  },
  {
   "cell_type": "markdown",
   "metadata": {},
   "source": [
    "#### Calculating a test z-statistic\n",
    "\n",
    "Assuming that the conditions for inference have been met (i.e. random, normal, independent), we can calculate a z-statistic for a population proportion test.\n",
    "\n",
    "For our sample distribution, we have a normal distribution with a mean of $p_0$ and a standard deviation given by:\n",
    "\n",
    "$$ s_x =  \\sqrt{ \\frac{ p_0 ( 1 - p_0 ) }{ n } }  $$\n",
    "\n",
    "To do this, we divide the difference between our sample and population proportions by the standard deviation of our sampling distribution of the sample proportion.\n",
    "\n",
    "$$ z = \\frac{ \\hat{p} - p_0 }{ s_x } = \\frac{ \\hat{p} - p_0 }{ \\sqrt{ \\frac{ p_0 ( 1 - p_0 ) }{ n } } }  $$\n",
    "\n",
    "Where:\n",
    "- $p_0$ - the assumed population proportion under the null hypothesis\n",
    "- $\\hat{p}$ - the sample proportion we measured\n",
    "- $n$ - the sample size\n",
    "\n",
    "This is the z-value (number of standard deviations) our measured proportion $\\hat{p}$ is from our population proportion $p_0$.\n",
    "\n",
    "References:\n",
    "[Calculating the test statistic in a z test for a proportion](https://www.khanacademy.org/math/statistics-probability/significance-tests-one-sample/tests-about-population-proportion/v/calculating-a-z-statistic-in-a-significance-test)"
   ]
  },
  {
   "cell_type": "code",
   "execution_count": 28,
   "metadata": {},
   "outputs": [
    {
     "name": "stdout",
     "output_type": "stream",
     "text": [
      "standard deviation: 0.0192\n",
      "z test statistic: -0.5213\n"
     ]
    }
   ],
   "source": [
    "import math \n",
    "\n",
    "p_hat = .07\n",
    "p_0 = .08\n",
    "n = 200\n",
    "two_sided = True\n",
    "\n",
    "sd = math.sqrt( p_0 * ( 1 - p_0 ) / n )\n",
    "\n",
    "z = ( p_hat - p_0 ) / sd\n",
    "print( \"standard deviation: %6.4f\" % sd )\n",
    "print( \"z test statistic: %6.4f\" % z )\n"
   ]
  },
  {
   "cell_type": "markdown",
   "metadata": {},
   "source": [
    "#### Calculating the p-value\n",
    "\n",
    "The p-value is the probability of getting a result at least as extreme as $\\hat{p}$ assuming the null hypothesis is true.\n",
    "\n",
    "$$ \\text{ p-value } = P( \\hat{p} | H_0 ) $$\n",
    "\n",
    "We can easily calculate the p-value for a test of a population proportion by using the `norm.cdf` function of `scipy.stats`. \n",
    "\n",
    "We just call `norm.cdf(p_hat, p_0, sd)`, where:\n",
    "\n",
    "- `p_hat` - the sampling proportion $\\hat{p}$ \n",
    "- `p_0` - the population proportion $p_0$\n",
    "- `sd` - the standard deviation of the sampling distribution of the sampling proportion"
   ]
  },
  {
   "cell_type": "code",
   "execution_count": 29,
   "metadata": {},
   "outputs": [
    {
     "name": "stdout",
     "output_type": "stream",
     "text": [
      "p-value: 0.6022\n"
     ]
    }
   ],
   "source": [
    "# If you don't specify these, they will come from the previous script\n",
    "#p_hat = .11\n",
    "#p_0 = .08\n",
    "#sd = 0.04\n",
    "#z = -0.52\n",
    "#two_sided = True\n",
    "\n",
    "from scipy.stats import norm\n",
    "\n",
    "if z < 0:\n",
    "  cdf = norm.cdf(p_hat, p_0, sd)    \n",
    "else:\n",
    "  cdf = 1 - norm.cdf(p_hat, p_0, sd)    \n",
    "\n",
    "if two_sided:\n",
    "  p_val = 2 * cdf\n",
    "else:\n",
    "  p_val = cdf\n",
    "\n",
    "print( \"p-value: %6.4f\" % p_val )"
   ]
  },
  {
   "cell_type": "markdown",
   "metadata": {},
   "source": [
    "#### Example\n",
    "\n",
    "For example, let's say we have a set of hypotheses:\n",
    "$$ H_0: p = 0.26 $$\n",
    "$$ H_A: p \\ne 0.26 $$\n",
    "\n",
    "Let's now assume we take a sample of 120 and get 40 successes.\n",
    "\n",
    "Our sample statistic is calculated as follows:\n",
    "$$\\hat{p} = \\frac{\\text{successes}}{\\text{samples}} = \\frac{40}{120} = \\frac{1}{3}$$\n",
    "\n",
    "To look up our p-value on a z-table, we calculate how many standard deviations away from $p_0 = \\frac{1}{3}$ our $\\hat{p} = 0.26$ value is.\n",
    "\n",
    "Our standard deviation is:\n",
    "\n",
    "$$ s_x = \\sqrt{ \\frac{ 0.26 \\cdot 0.74 }{ 120 } } = 0.04 $$ \n",
    "\n",
    "Then, we can calculate the z-statistic:\n",
    "\n",
    "$$ z = \\frac{ \\frac{1}{3} - 0.26 }{ 0.04 } = 1.564 $$ \n",
    "\n",
    "Finally, we can get the one-sided cumulative distribution value by looking up our z-statistic in a z-table, or we can calculate it using the p-value using `norm.cdf` in Python.\n",
    "\n",
    "$$ \\text{ cdf } = 0.0335$$\n",
    "\n",
    "If we were doing a one-sided test, this would be our p-value, but because our $H_A$ is using $\\ne$, we are doing a two-sided test. This means that we have to multiply this value by 2:\n",
    "\n",
    "$$ \\text{ p-value } = 2 \\cdot 0.0335 = 0.067 $$\n",
    "\n",
    "Then, we compare the p-value to our alpha level (e.g. 0.05)\n",
    "\n",
    "$$ p-value < \\alpha $$\n",
    "\n",
    "In this case, this doesn't hold true because:\n",
    "$$ 0.067 \\gt 0.05 $$\n",
    "\n",
    "Since this p-value is not less than our alpha level, it is not surprising given the population proportion, so we cannot reject the null hypothesis and our test is inconclusive."
   ]
  },
  {
   "cell_type": "code",
   "execution_count": 38,
   "metadata": {},
   "outputs": [
    {
     "name": "stdout",
     "output_type": "stream",
     "text": [
      "standard deviation: 0.0400\n",
      "z test statistic: 1.8314\n",
      "p-value: 0.0670\n"
     ]
    }
   ],
   "source": [
    "import math \n",
    "from scipy.stats import norm\n",
    "\n",
    "successes = 40\n",
    "trials = 120\n",
    "p_0 = .26\n",
    "two_sided = True\n",
    "\n",
    "p_hat = successes / trials\n",
    "sd = math.sqrt( p_0 * ( 1 - p_0 ) / trials )\n",
    "z = ( p_hat - p_0 ) / sd\n",
    "\n",
    "if z < 0:\n",
    "  cdf = norm.cdf(p_hat, p_0, sd)    \n",
    "else:\n",
    "  cdf = 1 - norm.cdf(p_hat, p_0, sd)    \n",
    "\n",
    "if two_sided:\n",
    "  p_val = 2 * cdf\n",
    "else:\n",
    "  p_val = cdf\n",
    "\n",
    "print( \"standard deviation: %6.4f\" % sd )\n",
    "print( \"z test statistic: %6.4f\" % z )\n",
    "print( \"p-value: %6.4f\" % p_val )"
   ]
  },
  {
   "cell_type": "markdown",
   "metadata": {},
   "source": [
    "### Population Mean\n"
   ]
  },
  {
   "cell_type": "code",
   "execution_count": null,
   "metadata": {},
   "outputs": [],
   "source": []
  }
 ],
 "metadata": {
  "colab": {
   "name": "Hypothesis Testing.ipynb",
   "provenance": [],
   "toc_visible": true
  },
  "kernelspec": {
   "display_name": "Python 3",
   "language": "python",
   "name": "python3"
  },
  "language_info": {
   "codemirror_mode": {
    "name": "ipython",
    "version": 3
   },
   "file_extension": ".py",
   "mimetype": "text/x-python",
   "name": "python",
   "nbconvert_exporter": "python",
   "pygments_lexer": "ipython3",
   "version": "3.8.5"
  },
  "toc-autonumbering": true
 },
 "nbformat": 4,
 "nbformat_minor": 4
}
