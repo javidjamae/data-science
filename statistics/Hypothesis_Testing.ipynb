{
 "cells": [
  {
   "cell_type": "markdown",
   "metadata": {
    "id": "EfWQrqOHUcdK"
   },
   "source": [
    "## Power\n",
    "\n",
    "When we're doing significance tests, we can calculate the conditional probability of rejecting the null hypothesis given that the null hypothesis is not true (which is the right thing to do). This probability is called the ***power***. \n",
    "\n",
    "$$\n",
    "\\text{power} = P( \\text{ reject } H_0 | H_0 \\text{ false } )\n",
    "$$\n",
    "\n",
    "The statistical power can also be thought of as the probability of accepting $H_A$, when $H_A$ is true.\n",
    "\n",
    "$$\n",
    "\\text{power} = P( \\text{ accept } H_A | H_A \\text{ true} )\n",
    "$$\n",
    "\n",
    "We can connect this to Type II errors by rewriting it a little:\n",
    "\n",
    "$$\n",
    "\\text{power} = 1 - P( \\text{ not rejecting } H_0 | H_0 \\text{ false } )\n",
    "$$\n",
    "\n",
    "$$\n",
    "\\text{power} = 1 - P( \\text{ Type II error } )\n",
    "$$\n",
    "\n",
    "$$\n",
    "\\text{power} = P( \\text{ no Type II error } )\n",
    "$$\n",
    "\n",
    "\n"
   ]
  },
  {
   "cell_type": "markdown",
   "metadata": {
    "id": "3YzT_-BwYj54"
   },
   "source": [
    "### Calculating Power\n",
    "\n",
    "- $ \\beta $ -> beta\n",
    "- $ \\alpha $ -> significance level (alpha)\n",
    "- $ (1 - \\beta) $ -> power\n",
    "\n"
   ]
  },
  {
   "cell_type": "markdown",
   "metadata": {
    "id": "y5f6b71VaunE"
   },
   "source": [
    "### Ways to increase power\n",
    "\n",
    "1. If we increase our sample size, our power increases. Another way to think about it is that the $H_0$ and $H_A$ distributions both get narrower, so they have less overlap and less chance of getting a Type I or Type II error. \n",
    "\n",
    "2. If we increase $ \\alpha $ then we increase power, but we also increase probability of Type I errors.\n",
    "\n",
    "3. If we have less variability in our data, then our power would increase\n",
    "\n",
    "4. True parameter is further away than $ H_0 $. \n",
    "\n",
    "Option #1 is the is the best way for us to increase power. We have control to do option #2, but it has the downside of increasing Type I errors. We often don't have much control over options #3 and #4."
   ]
  },
  {
   "cell_type": "markdown",
   "metadata": {
    "id": "wqJEWKN4gQHl"
   },
   "source": [
    "### Power Analysis\n",
    "\n",
    "These four values are related:\n",
    "* Effect Size\n",
    "* Sample Size\n",
    "* Significance Level\n",
    "* Statistical Power\n",
    "\n",
    "If we have three of them, we can calculate the other. The most common thing we want to do is calculate a sample size for an study or experiment.\n",
    "\n"
   ]
  },
  {
   "cell_type": "code",
   "execution_count": null,
   "metadata": {
    "id": "SNI_w6LPgalO"
   },
   "outputs": [],
   "source": []
  }
 ],
 "metadata": {
  "colab": {
   "name": "Hypothesis Testing.ipynb",
   "provenance": [],
   "toc_visible": true
  },
  "kernelspec": {
   "display_name": "Python 3",
   "language": "python",
   "name": "python3"
  },
  "language_info": {
   "codemirror_mode": {
    "name": "ipython",
    "version": 3
   },
   "file_extension": ".py",
   "mimetype": "text/x-python",
   "name": "python",
   "nbconvert_exporter": "python",
   "pygments_lexer": "ipython3",
   "version": "3.8.5"
  }
 },
 "nbformat": 4,
 "nbformat_minor": 4
}
