{
 "cells": [
  {
   "cell_type": "markdown",
   "metadata": {
    "id": "J5I4B-Eqn9CZ"
   },
   "source": [
    "# Overview\n",
    "\n",
    "Probability is the liklihood of an event occurring. \n",
    "\n",
    "Examples\n",
    "*   Flipping a heads\n",
    "*   Rolling a 6 on a die\n",
    "*   Rolling two 4's and a 6 on three dice\n",
    "*   Running a mile in under 8 minutes\n",
    "\n",
    "We can represent an event using a capital letter. For example, we can say that $A$ is the event where we roll a 4 on a six-sided die.\n",
    "\n",
    "$$ A \\rightarrow \\text{ rolling a 4 } $$\n",
    "\n",
    "We typically represent the probability using the function notation $p()$. \n",
    "\n",
    "The probability of an event is the ratio of the number of *preferred* or *favorable* outcomes to the number of *possible outcomes*.\n",
    "\n",
    "$$ p( A ) = \\frac{ \\text { # favorable outcomes } }{ \\text { # possible outcomes } } $$\n",
    "\n",
    "The set of all possible outcomes is called the ***sample space***, so the number of possible outcomes is the size of the sample space.\n",
    "\n",
    "The sample space is often indicated with the symbol $\\Omega$ (capital omega).\n",
    "\n",
    "The sample space for a roll of a six-sided die is:\n",
    "\n",
    "$$\\Omega = \\{ 1, 2, 3, 4, 5, 6 \\} $$\n",
    "\n",
    "So, the probability of rolling a 4 on a six-sided die would be:\n",
    "\n",
    "$$ p( A ) = \\frac{1}{6} = 0.167 $$\n",
    "\n",
    "This is because there is one favorable outcome (rolling a 4) and six possible outcomes (the number of elements in the sample space). \n",
    "\n",
    "Though probabilies can be written as percentages or fractions, we usually represent them as a decimal between 0 and 1.\n",
    "\n",
    "The probability of 1 indicates absolute certainty that an event will occur.\n",
    "$$ p( B ) = 1 $$\n",
    "\n",
    "The probability of 0 indicates absolute certainty that an event will *not* occur.\n",
    "$$ p( C ) = 0 $$\n"
   ]
  },
  {
   "cell_type": "markdown",
   "metadata": {
    "id": "qWHFCJ3GuoAG"
   },
   "source": [
    "## Experiments, Trials, Sample Space\n",
    "\n",
    "From [Wikipedia](https://en.wikipedia.org/wiki/Experiment_(probability_theory)):\n",
    "\n",
    "> In probability theory, an experiment or trial is any procedure that can be infinitely repeated and has a well-defined set of possible outcomes, known as the sample space. An experiment is said to be random if it has more than one possible outcome, and deterministic if it has only one. A random experiment that has exactly two (mutually exclusive) possible outcomes is known as a Bernoulli trial.\n",
    "\n",
    "> Random experiments are often conducted repeatedly, so that the collective results may be subjected to statistical analysis. A fixed number of repetitions of the same experiment can be thought of as a composed experiment, in which case the individual repetitions are called trials. For example, if one were to toss the same coin one hundred times and record each result, each toss would be considered a trial within the experiment composed of all hundred tosses.\n",
    "\n",
    "For something like a coin flip, or a roll of a die, we know the ratio of favorable to total outcomes, so we can easily calculate the ***Theoretical Probability*** without having to run an experiment.\n",
    "\n",
    "But, if we we are trying to calculate something where we might not know the ratio of favorable to total outcomes, we might have to run an experiment and calculate an ***Experimental Probability***.\n",
    "\n",
    "For example, we may have an ad on Facebook, and we may be trying to calculate the probability of someone clicking on the ad. For each trial, someone will see the ad and either click or not click on it. \n",
    "\n",
    "$$ p( X ) = \\frac{ \\text { # successful trials } }{ \\text { # total trials } } $$\n",
    "\n",
    "I'll discuss this further under the Expected Value section."
   ]
  },
  {
   "cell_type": "markdown",
   "metadata": {
    "id": "beO1ZDLSy74z"
   },
   "source": [
    "## Random Variables\n",
    "\n",
    "A Random Variable is the set that represents the sample space (all possible outcomes) for a experiment or trial. \n",
    "\n",
    "Here are some examples:\n",
    "\n",
    "Tossing a coin (where Heads = 0 and Tails = 1):\n",
    "\n",
    "$$ X = \\{ 0, 1 \\} $$\n",
    "\n",
    "$$ p( X = 0 ) = \\frac{1}{2} $$\n",
    "\n",
    "$$ p( X = 1 ) = \\frac{1}{2} $$\n",
    "\n",
    "Rolling a six-sided die:\n",
    "\n",
    "$$ X = \\{ 1, 2, 3, 4, 5, 6 \\} $$\n",
    "\n",
    "$$ p( X = 1 ) = \\frac{1}{6} $$\n",
    "\n",
    "$$ p( X = 2 ) = \\frac{1}{6} $$\n",
    "\n",
    "$$ p( X = 3 ) = \\frac{1}{6} $$\n",
    "\n",
    "$$ p( X = 4 ) = \\frac{1}{6} $$\n",
    "\n",
    "$$ p( X = 5 ) = \\frac{1}{6} $$\n",
    "\n",
    "$$ p( X = 6 ) = \\frac{1}{6} $$\n",
    "\n",
    "Number of heads from three coin tosses:\n",
    "\n",
    "$$ X = \\{ 0, 1, 2, 3 \\} $$\n",
    "\n",
    "$$ p( X = 0 ) = \\frac{1}{8} $$\n",
    "\n",
    "$$ p( X = 1 ) = \\frac{3}{8} $$\n",
    "\n",
    "$$ p( X = 2 ) = \\frac{3}{8} $$\n",
    "\n",
    "$$ p( X = 3 ) = \\frac{1}{8} $$\n",
    "\n",
    "\n",
    "\n",
    "References:\n",
    "*  https://www.mathsisfun.com/data/random-variables.html"
   ]
  },
  {
   "cell_type": "markdown",
   "metadata": {
    "id": "iro_3VE76ddn"
   },
   "source": [
    "## Probabilities Add to 1\n",
    "\n",
    "Across a sample space, the sum of probabilities must equal one. \n",
    "\n",
    "$$ \\sum_{i} p( X = i ) = 1  $$\n",
    "\n",
    "So, for the number of heads from three coin tosses, we have:\n",
    "\n",
    "$$ \\sum_{i=0}^3 p( X = i ) $$\n",
    "\n",
    "$$ = p( X = 0 ) + p( X = 1 ) + p( X = 2 ) + p( X = 3 ) $$\n",
    "\n",
    "$$ = \\frac{1}{8} + \\frac{3}{8} + \\frac{3}{8} + \\frac{1}{8}$$\n",
    "\n",
    "$$ = 1 $$\n",
    "\n"
   ]
  },
  {
   "cell_type": "markdown",
   "metadata": {
    "id": "ak7_JAmR9jhe"
   },
   "source": [
    "## Complements\n",
    "\n",
    "The complement of an event represents the event *not* occurring. Given an event $A$ we can represent the complement as either of the following:\n",
    "\n",
    "$$A^c \\text{ or } A'$$\n",
    "\n",
    "An event and its complement are mutually exclusive. \n",
    "\n",
    "Since probabilities must add to 1, we know that:\n",
    "\n",
    "$$ p( A ) + p( A' ) = 1$$ \n",
    "\n",
    "$$ p( A' ) = 1 - p( A )$$ \n",
    "\n",
    "$$ p( A ) = 1 - p( A' )$$ \n",
    "\n",
    "\n"
   ]
  },
  {
   "cell_type": "markdown",
   "metadata": {
    "id": "3nNuvn4s60ZS"
   },
   "source": [
    "# Discrete and Continuous Distributions\n",
    "\n",
    "A discrete distribution is one where there are a finite set of outcomes. Examples include rolling a die, drawing three aces in a row from a deck of cards, or clicking on a button on a website.\n",
    "\n",
    "A continuous distribution is one where there are an infinite number of possible outcomes (given infinite precision in measurement). Examples including the time it takes to run a mile, or the height to weight ratio of female athletes participating in the Olympics.\n",
    "\n",
    "References:\n",
    "- [Probability: Types of Distributions\n",
    "](https://www.youtube.com/watch?v=b9a27XN_6tg&ab_channel=365DataScience)\n",
    "- [Probability Distribution Functions (PMF, PDF, CDF)](https://www.youtube.com/watch?v=YXLVjCKVP7U&t=375s&ab_channel=zedstatistics)"
   ]
  },
  {
   "cell_type": "markdown",
   "metadata": {
    "id": "c4ecue-78RnW"
   },
   "source": [
    "## Discrete Distributions\n",
    "\n",
    "Discrete distributions are represented using a ***Probability Mass Function*** (PMF). \n",
    "\n"
   ]
  },
  {
   "cell_type": "code",
   "execution_count": 1,
   "metadata": {
    "colab": {
     "base_uri": "https://localhost:8080/",
     "height": 297
    },
    "id": "tdYnZr6lUr-h",
    "outputId": "d0f8deec-d5a7-49f0-de5c-d6c9bb508abe"
   },
   "outputs": [
    {
     "data": {
      "image/png": "[encoded data removed]",
      "text/plain": [
       "<Figure size 432x288 with 2 Axes>"
      ]
     },
     "metadata": {
      "needs_background": "light"
     },
     "output_type": "display_data"
    }
   ],
   "source": [
    "# https://www.kdnuggets.com/2020/02/probability-distributions-data-science.html\n",
    "import matplotlib.pyplot as plt\n",
    "import numpy as np\n",
    "\n",
    "face = [1,2,3,4,5,6]\n",
    "\n",
    "probs_fair = np.full((6), 1/6)\n",
    "plt.subplot(1,2,1)\n",
    "plt.bar(face, probs_fair)\n",
    "plt.ylabel('Probability', fontsize=12)\n",
    "plt.xlabel('Die Roll Outcome', fontsize=12)\n",
    "plt.title('Fair Die - PMF', fontsize=12)\n",
    "axes = plt.gca()\n",
    "axes.set_ylim([0,1])\n",
    "\n",
    "probs_unfair = [1/4, 1/4, 0, 0, 1/4, 1/4]\n",
    "plt.subplot(1,2,2)\n",
    "plt.bar(face, probs_unfair)\n",
    "plt.ylabel('Probability', fontsize=12)\n",
    "plt.xlabel('Die Roll Outcome', fontsize=12)\n",
    "plt.title('Unfair Die - PMF', fontsize=12)\n",
    "axes = plt.gca()\n",
    "axes.set_ylim([0,1])\n",
    "\n",
    "plt.tight_layout()"
   ]
  },
  {
   "cell_type": "markdown",
   "metadata": {
    "id": "kVZ9jouIWLkW"
   },
   "source": [
    "Let's say we want to find the probability of rolling a 4 or less:\n",
    "\n",
    "$$ p( X \\leq 4 ) $$\n",
    "\n",
    "We can use the ***Cumulative Distribution Function*** (CDF) of the discrete distribution to figure that out. "
   ]
  },
  {
   "cell_type": "code",
   "execution_count": 2,
   "metadata": {
    "colab": {
     "base_uri": "https://localhost:8080/",
     "height": 297
    },
    "id": "wJaKmGp8U3Bn",
    "outputId": "9e272de9-1a04-4cea-a943-f4232dbe9561"
   },
   "outputs": [
    {
     "data": {
      "image/png": "[encoded data removed]",
      "text/plain": [
       "<Figure size 432x288 with 2 Axes>"
      ]
     },
     "metadata": {
      "needs_background": "light"
     },
     "output_type": "display_data"
    }
   ],
   "source": [
    "import matplotlib.pyplot as plt\n",
    "import numpy as np\n",
    "\n",
    "face = [ 1,2,3,4,5,6 ]\n",
    "\n",
    "plt.subplot(1,2,1)\n",
    "probs = [ 1/6, 2/6, 3/6, 4/6, 5/6, 1 ]\n",
    "plt.bar( face, probs )\n",
    "plt.ylabel( 'Probability', fontsize=12 )\n",
    "plt.xlabel( 'Die Roll Outcome (≤ n)', fontsize=12 )\n",
    "plt.title( 'Fair Die - CDF', fontsize=12 )\n",
    "axes = plt.gca()\n",
    "axes.set_ylim( [0,1] )\n",
    "\n",
    "probs_unfair = [1/4, 1/2, 1/2, 1/2, 3/4, 1]\n",
    "plt.subplot(1,2,2)\n",
    "plt.bar(face, probs_unfair)\n",
    "plt.ylabel('Probability', fontsize=12)\n",
    "plt.xlabel('Die Roll Outcome', fontsize=12)\n",
    "plt.title('Unfair Die - CDF', fontsize=12)\n",
    "axes = plt.gca()\n",
    "axes.set_ylim([0,1])\n",
    "\n",
    "plt.tight_layout()"
   ]
  },
  {
   "cell_type": "markdown",
   "metadata": {
    "id": "NdB74osfWxX2"
   },
   "source": [
    "The CDF for a discrete distribution shows us to cumulative probability for every discrete value less than and including the value we are interested in."
   ]
  },
  {
   "cell_type": "markdown",
   "metadata": {
    "id": "Q2CtaJTg8TQ_"
   },
   "source": [
    "## Continuous Distributions\n",
    "\n",
    "Continuous distributions are represented using a ***Probability Density Function*** (PDF). \n",
    "\n",
    "Similar to its discrete counterpart, the cumulative function is called the Cumulative Distribution Function (CDF).\n",
    "\n",
    "It is common to see the function for the PDF represented as:\n",
    "\n",
    "$$ f(x) $$\n",
    "\n",
    "While the function for the CDF is often represented as \n",
    "\n",
    "$$ F(x) $$\n",
    "\n",
    "This is because the CDF is the integral of the PDF. In other words:\n",
    "\n",
    "$$ \\frac{ dF(x) }{ dx } = F'(x) = f(x)$$\n",
    "\n",
    "$$ \\int_{-\\infty}^x f(x)dx = F(x) $$\n",
    "\n",
    "References:\n",
    "- [Probability density functions - Khan Academy](https://www.khanacademy.org/math/statistics-probability/random-variables-stats-library/random-variables-continuous/v/probability-density-functions)\n",
    "\n"
   ]
  },
  {
   "cell_type": "markdown",
   "metadata": {
    "id": "6M0VvLPGyls_"
   },
   "source": [
    "# Joint, Marginal, and Conditional Distributions\n",
    "\n",
    "Consider the following table of data that shows the joint distribution between the two dimensions *Grade on Exam* and *Time Studied*:\n",
    "\n",
    "\\begin{array} \n",
    "{|r|r|}\n",
    "\\hline  & \\text{0-20} & \\text{21-40} & \\text{41-60} & \\text{> 60} & \\text{TOTAL} \\\\ \n",
    "\\hline \\text{80-100} & 0 & 4 & \\color{blue}{16} & 20 & \\color{orange}{40} \\\\ \n",
    "\\hline \\text{60-79} & 0 & \\color{red}{20} & \\color{blue}{30} & 10 & \\color{orange}{60} \\\\ \n",
    "\\hline \\text{40-59} & 2 & 4 & \\color{blue}{32} & 32 & \\color{orange}{70} \\\\ \n",
    "\\hline \\text{20-39} & 10 & 2 & \\color{blue}{8} & 0 & \\color{orange}{20} \\\\ \n",
    "\\hline \\text{0-19} & 2 & 0 & \\color{blue}{0} & 8 & \\color{orange}{10} \\\\ \n",
    "\\hline \\text{TOTAL} & 14 & 30 & 86 & 70 & \\color{green}{200} \\\\ \n",
    "\\hline  \n",
    "\\end{array}\n",
    "\n",
    "We define two random variables to represent these segments.\n",
    "\n",
    "$$ A \\rightarrow \\text{ Grade on Exam (rows) }$$\n",
    "\n",
    "$$ B \\rightarrow \\text{ Time Studied (columns) }$$\n",
    "\n",
    "The bottom right cell (green) tells us that 200 people took the exam.\n",
    "\n",
    "References:\n",
    "*  [Marginal and conditional distributions - Khan Academy\n",
    "](https://www.khanacademy.org/math/ap-statistics/analyzing-categorical-ap/distributions-two-way-tables/v/marginal-distribution-and-conditional-distribution)\n",
    "* [A Gentle Introduction to Joint, Marginal, and Conditional Probability\n",
    "](https://machinelearningmastery.com/joint-marginal-and-conditional-probability-for-machine-learning/)"
   ]
  },
  {
   "cell_type": "markdown",
   "metadata": {
    "id": "XFo74NCcF05E"
   },
   "source": [
    "## Joint Distribution\n",
    "\n",
    "Consider the two-way table comparing *Grade on Exam* and *Time Studied*. A given value, such as the red 20 shows the joint probability of meeting conditions on both dimensions. In this case, the 20 out of 200 students got between 60 - 79 and studied 21 - 40 minutes. \n",
    "\n",
    "$$ p( A = \\text{'60-79'}, B = \\text{'21-40'} ) = \\frac{20}{200}$$\n",
    "\n",
    "The joint distribution is typically notated as follows:\n",
    "\n",
    "$$p\\big(A, B\\big)$$\n",
    "\n",
    "But, it is also often notated as any of the following:\n",
    "\n",
    "$$p\\big(A \\cap B\\big)$$\n",
    "\n",
    "$$p\\big(A \\land B\\big)$$\n",
    "\n",
    "$$p\\big(A \\text{ AND } B\\big)$$\n",
    "\n",
    "The joint distribution is the logical **AND** of the distributions of the two random variables $A$ and $B$. It is also often referred to as the **intersection** of the two sets.\n",
    "\n",
    "### Properties\n",
    "The joint distribution of two random variables is commutative:\n",
    "\n",
    "$$p\\big(x, y\\big) = p\\big(y, x\\big) $$\n",
    "\n",
    "The joint distribution of two random variables is associative:\n",
    "\n",
    "$$p\\big(x, y, z\\big) = p\\big( (x, y), z\\big) = p\\big( x, (y, z)\\big) $$\n",
    "\n",
    "References:\n",
    "* [Probability & Statistics Primer](https://atmos.washington.edu/~hakim/591/prob_primer.pdf)\n",
    "\n",
    "\n",
    "### Mutually exclusive events\n",
    "If $A$ and $B$ are **mutually exclusive**, then:\n",
    "\n",
    "$$p\\big(A, B\\big) = 0$$\n",
    "\n",
    "For example, the probability of rolling a 4 *and* a 6 on a single roll of a die is $0$ because it is not possible.\n",
    "\n",
    "### Independent events\n",
    "If $A$ and $B$ are **independent**, then:\n",
    "\n",
    "$$p\\big(A, B\\big) = p\\big(A\\big) \\cdot p\\big(B\\big)$$\n",
    "\n",
    "For example, if you want to find the probability of rolling a 6 on two separate rolls of a die, then you would just multiply the probabilities of each roll, because they are independent.\n",
    "\n",
    "$$p\\big(A\\big) = \\frac{1}{6}$$\n",
    "\n",
    "$$p\\big(B\\big) = \\frac{1}{6}$$\n",
    "\n",
    "$$p\\big(A, B\\big) = \\frac{1}{6} \\cdot \\frac{1}{6} = \\frac{1}{36}$$\n",
    "\n",
    "### Dependent events\n",
    "If $A$ and $B$ are **dependent**, then:\n",
    "\n",
    "$$p\\big(A, B\\big) = p\\big(A\\big) \\cdot  p\\big(B|A\\big)$$\n",
    "\n",
    "For example, let's say you have a bag with 10 marbles. Of the 10, there are 7 black marbles and 3 blue marbles. You want to find the probability of drawing a black marble on the second turn, given that you already drew a blue marble on the first turn.\n",
    "\n",
    "The probability of drawing a blue marble is:\n",
    "$$p(A) = \\frac{3}{10}$$\n",
    "\n",
    "The probability of drawing a black marble is:\n",
    "$$p(B) = \\frac{7}{10}$$\n",
    "\n",
    "The probability of drawing a black marble, given that a blue one was already drawn is:\n",
    "$$p(B | A) = \\frac{7}{9}$$\n",
    "\n",
    "So:\n",
    "$$p\\big(A, B\\big) = p\\big(A\\big) \\cdot  p\\big(B|A\\big) = \\frac{3}{10} \\cdot \\frac{7}{9} = \\frac{7}{30}$$"
   ]
  },
  {
   "cell_type": "markdown",
   "metadata": {
    "id": "MOYU4haFb2cU"
   },
   "source": [
    "## Marginal Distribution\n",
    "\n",
    "Consider the two-way table at the top of this section comparing Grade on Exam and Time Studied. \n",
    "\n",
    "The marginal probability gives you a summary from the perspective of just one of the dimensions. To see the marginal distribution, you can just look at the *margin* of the table, or the TOTAL column for the dimension you care about.\n",
    "\n",
    "So, if we want to know about the marginal distribution with respect to Grade on Exam, we can just look at the orange values in the total column on the right.\n",
    "\n",
    "We could represent these in terms of their probabilities, which gives us the **marginal probability distribution** denoted as $p(A)$:\n",
    "\n",
    "\\begin{array} \n",
    "{|r|r|}\n",
    "\\hline Grade & Count & Probability \\\\ \n",
    "\\hline 80-100 & 40 & .2 \\\\ \n",
    "\\hline 60-79 & 60 & .3 \\\\ \n",
    "\\hline 40-59 &  70 & .35 \\\\ \n",
    "\\hline 20-39 &  20 & .1 \\\\ \n",
    "\\hline 0-19 & 10 & .05 \\\\ \n",
    "\\hline TOTAL & 200 & 1 \\\\ \n",
    "\\hline  \n",
    "\\end{array}\n",
    "\n",
    "In general, if we have a joint distribution:\n",
    "\n",
    "$$p(X, Y)$$\n",
    "\n",
    "If we know the values of $X$ we can find the probability of Y:\n",
    "\n",
    "$$p(Y)$$\n",
    "\n",
    "In this context, $p(y)$ is called the *marginal distribution* and we can find it using a process called *marginalization*.\n",
    "\n",
    "We can perform marginalization on a discrete random variable $x$ as follows:\n",
    "\n",
    "$$p(Y) = \\sum_{X} p(X, Y) = \\sum_{X} p(Y | X) p(X)$$\n",
    "\n",
    "We can perform marginalization on a continuous random variable $x$ as follows:\n",
    "\n",
    "$$p(Y) = \\int p(X, Y)dx = \\int p(Y|X) p(X)dx$$"
   ]
  },
  {
   "cell_type": "markdown",
   "metadata": {
    "id": "odwJiLAcm0o-"
   },
   "source": [
    "## Conditional Distribution\n",
    "\n",
    "A conditional distribution is notated as:\n",
    "$$p\\big(A | B\\big)$$\n",
    "\n",
    "This is read as \"*the probability of A given B*\".\n",
    "\n",
    "Consider the two way table comparing Grade and Time Studied. We can look at the the grades, given a specific range of study time. \n",
    "\n",
    "For example, if we want to look at the distribution of grades for all students who studied for 40-61 minutes (blue column), we could look at:\n",
    "\n",
    "$$ p( A | B = \\text{'40-61'} ) $$\n",
    "\n",
    "In this case, the total is 86, not 200. This is because we're only looking at the column where *Time Studied* was between 40 - 61.\n",
    "\n",
    "This results in the following ***conditional probability distribution***:\n",
    "\n",
    "\\begin{array} \n",
    "{|r|r|}\n",
    "\\hline Grade & Count & Probability \\\\ \n",
    "\\hline 80-100 & 16 & .186 \\\\ \n",
    "\\hline 60-79 & 30 & .349 \\\\ \n",
    "\\hline 40-59 &  32 & .372 \\\\ \n",
    "\\hline 20-39 &  8 & .093 \\\\ \n",
    "\\hline 0-19 & 0 & 0 \\\\ \n",
    "\\hline TOTAL & 86 & 1 \\\\ \n",
    "\\hline  \n",
    "\\end{array}\n",
    "\n"
   ]
  },
  {
   "cell_type": "markdown",
   "metadata": {
    "id": "O5k98pyDNnmZ"
   },
   "source": [
    "## Venn Diagram Example"
   ]
  },
  {
   "cell_type": "code",
   "execution_count": 3,
   "metadata": {
    "colab": {
     "base_uri": "https://localhost:8080/",
     "height": 239
    },
    "id": "f7FETEIKU5LG",
    "outputId": "b6506950-4b13-4763-c32f-da66d9d5df6a"
   },
   "outputs": [
    {
     "ename": "ModuleNotFoundError",
     "evalue": "No module named 'matplotlib_venn'",
     "output_type": "error",
     "traceback": [
      "\u001b[0;31m---------------------------------------------------------------------------\u001b[0m",
      "\u001b[0;31mModuleNotFoundError\u001b[0m                       Traceback (most recent call last)",
      "\u001b[0;32m<ipython-input-3-6cb5149dd102>\u001b[0m in \u001b[0;36m<module>\u001b[0;34m\u001b[0m\n\u001b[1;32m      2\u001b[0m \u001b[0;34m\u001b[0m\u001b[0m\n\u001b[1;32m      3\u001b[0m \u001b[0;31m#Import libraries\u001b[0m\u001b[0;34m\u001b[0m\u001b[0;34m\u001b[0m\u001b[0;34m\u001b[0m\u001b[0m\n\u001b[0;32m----> 4\u001b[0;31m \u001b[0;32mfrom\u001b[0m \u001b[0mmatplotlib_venn\u001b[0m \u001b[0;32mimport\u001b[0m \u001b[0mvenn2\u001b[0m\u001b[0;34m,\u001b[0m \u001b[0mvenn2_circles\u001b[0m\u001b[0;34m\u001b[0m\u001b[0;34m\u001b[0m\u001b[0m\n\u001b[0m\u001b[1;32m      5\u001b[0m \u001b[0;32mfrom\u001b[0m \u001b[0mmatplotlib_venn\u001b[0m \u001b[0;32mimport\u001b[0m \u001b[0mvenn3\u001b[0m\u001b[0;34m,\u001b[0m \u001b[0mvenn3_circles\u001b[0m\u001b[0;34m\u001b[0m\u001b[0;34m\u001b[0m\u001b[0m\n\u001b[1;32m      6\u001b[0m \u001b[0;32mfrom\u001b[0m \u001b[0mmatplotlib\u001b[0m \u001b[0;32mimport\u001b[0m \u001b[0mpyplot\u001b[0m \u001b[0;32mas\u001b[0m \u001b[0mplt\u001b[0m\u001b[0;34m\u001b[0m\u001b[0;34m\u001b[0m\u001b[0m\n",
      "\u001b[0;31mModuleNotFoundError\u001b[0m: No module named 'matplotlib_venn'"
     ]
    }
   ],
   "source": [
    "# Example problem from: https://www.slideserve.com/lucine/conditional-probability-in-venn-diagrams\n",
    "\n",
    "#Import libraries\n",
    "from matplotlib_venn import venn2, venn2_circles\n",
    "from matplotlib_venn import venn3, venn3_circles\n",
    "from matplotlib import pyplot as plt\n",
    "\n",
    "# defining sets for both subjects\n",
    "A = {'A1', 'A2', 'A3', 'A4', 'A5', 'A6', 'A7', 'A8', 'A9', 'A10', 'A11', 'A12', 'A13', 'AB1', 'AB2', 'AB3', 'AB4', 'AB5', 'AB6', 'AB7'}\n",
    "B = {'B1', 'B2', 'B3', 'B4', 'B5', 'B6', 'B7', 'B8', 'B9', 'B10', 'B11', 'B12', 'B13', 'B14', 'B15', 'B16', 'B17', 'B18', 'B19', 'AB1', 'AB2', 'AB3', 'AB4', 'AB5', 'AB6', 'AB7'}\n",
    "C = {'C1', 'C2', 'C3', 'C4', 'C5', 'C6', 'C7', 'C8', 'C9', 'C10', 'C11'}\n",
    "     \n",
    "# using Science instead of Math\n",
    "venn3([A, B, C], set_labels = ('A', 'B','Not A or B'))\n",
    "\n",
    "# plot title\n",
    "plt.title('Relationship of A to B')"
   ]
  },
  {
   "cell_type": "markdown",
   "metadata": {
    "id": "Vh0gt9ZcW94S"
   },
   "source": [
    "Based on the previous Venn Diagram above, here are the various probabilities:\n",
    "\n",
    "$\\text{Total Entries} = 50$\n",
    "\n",
    "$p\\big(A\\big) = \\frac{13+7}{50} = \\frac{20}{50}$\n",
    "\n",
    "$p\\big(B\\big) = \\frac{19+7}{50} = \\frac{26}{50}$\n",
    "\n",
    "$p\\big(A \\cap B\\big) = \\frac{7}{50}$\n",
    "\n",
    "$p\\big(A \\cup B\\big) = \\frac{13+7+19}{50} = \\frac{39}{50}$\n",
    "\n",
    "$p\\big(A | B\\big) = \\frac{7}{19+7} = \\frac{7}{26}$\n",
    "\n",
    "$p\\big(B | A\\big) = \\frac{7}{13+7} = \\frac{7}{20}$\n",
    "\n",
    "<br/>\n",
    "\n",
    "And here are some \"not\" scenarios:\n",
    "\n",
    "$p\\big(B'\\big) = \\frac{13+11}{50} = \\frac{24}{50}$\n",
    "\n",
    "$p\\big(A \\cap B'\\big) = \\frac{13}{50}$\n",
    "\n",
    "$p\\big(A' \\cap B'\\big) = \\frac{11}{50}$\n",
    "\n",
    "$p\\big(A | B'\\big) = \\frac{13}{13+11} = \\frac{13}{24}$"
   ]
  },
  {
   "cell_type": "markdown",
   "metadata": {
    "id": "0Y3QlZbPkfcM"
   },
   "source": [
    "# Bayes Theorem\n",
    "\n",
    "There are numerous ways to write Bayes Theorem, but the most common is:\n",
    "\n",
    "$$p\\big(x | y\\big) = \\frac{p\\big(y | x\\big) \\cdot p\\big(x\\big)}{p\\big(y\\big)}$$\n",
    "\n",
    "But, another popular form is:\n",
    "\n",
    "$$p\\big(x | y\\big) = \\frac{p\\big(y | x\\big) \\cdot p\\big(x\\big)}{p\\big(y | x\\big)p\\big(x\\big) + p\\big(y | x'\\big)p\\big(x'\\big)}$$\n"
   ]
  },
  {
   "cell_type": "markdown",
   "metadata": {
    "id": "-mWKkDG3rRQl"
   },
   "source": [
    "## Example\n",
    "\n",
    "In the early days of HIV testing, an ELISA test was used to determine if someone tested positive for HIV by testing for antibodies.\n",
    "\n",
    "The probability that they tested positive given that they had HIV was:\n",
    "$$p( \\text{ + } | \\text{ HIV } ) = .977$$\n",
    "\n",
    "The probability that they tested negative given that they didn't have HIV was:\n",
    "$$p( \\text{ - } | \\text{ HIV' } ) = .926$$\n",
    "\n",
    "So, the test would give you an accurate result 90%+ of the time. This is often referred to as the *sensitivity* of the test. \n",
    "\n",
    "A study at during the same time showed that the probability of someone in North America having HIV was:\n",
    "\n",
    "$$p( \\text{ HIV } ) = .0026 $$\n",
    "\n",
    "***Using this data as context, if we randomly select someone from North America, have them take the test, and they test positive for HIV, what's the probability that they actually have HIV?***\n",
    "\n",
    "$$ p( \\text{ HIV } | \\text{ + } ) = \\text{?}$$\n",
    "\n",
    "We can use Bayes Theorem to calculate:\n",
    "\n",
    "$$ p( \\text{ HIV } | \\text{ + } ) = \\frac{ p( \\text{ + } | \\text{ HIV } ) \\cdot p( \\text{ HIV } ) }{ p( \\text{ + } | \\text{ HIV } ) \\cdot p( \\text{ HIV } ) + p( \\text{ + } | \\text{ HIV' } ) \\cdot p( \\text{ HIV' } )}$$\n",
    "\n",
    "We can derive:\n",
    "\n",
    "$$ p( \\text{ + } | \\text{ HIV' } ) = 1 - p( \\text{ - } | \\text{ HIV' } ) = 1 - .926 = .074 $$\n",
    "\n",
    "$$ p( \\text{ HIV' } ) = 1 - p( \\text{ HIV } ) = 1 - .0026 = .9974$$\n",
    "\n",
    "Then, we can calculate:\n",
    "\n",
    "$$ p( \\text{ HIV } | \\text{ + } ) = \\frac{.977 \\cdot .0026}{ (.977 \\cdot .0026 ) + ( .074 \\cdot .9974 )} = .033$$\n",
    "\n",
    "So, if the randomly selected person tested positive, they only have a ***3.3% chance*** of actually having HIV!\n",
    "\n",
    "This is common with tests for rare diseases. The reason is because the rate of false positives (the part after the plus sign in the denominator) far outweighs the rate of true positives.\n",
    "\n",
    "Now, let's say they take the test again. \n",
    "\n",
    "We could consider the joint distribution of the two separate tests, which are each conditional distributions:\n",
    "\n",
    "$$p( \\text{ + } | \\text{ HIV },  \\text{ + } | \\text{ HIV })$$\n",
    "\n",
    "Assuming the tests are independent, we can assume:\n",
    "\n",
    "$$p( \\text{ + } | \\text{ HIV },  \\text{ + } | \\text{ HIV }) = p( \\text{ + } | \\text{ HIV } ) \\cdot p( \\text{ + } | \\text{ HIV } ) $$ \n",
    "\n",
    "To simplify the notation, we'll define $++$ as getting a positive result on two separate tests. So the probability of having HIV, given that you tested positive twice is:\n",
    "\n",
    "$$ p( \\text{ HIV } | \\text{ ++ } )$$\n",
    "\n",
    "And the probability of testing positive twice, given that you have HIV is:\n",
    "\n",
    "$$ p( \\text{ ++ } | \\text{ HIV } )$$\n",
    "\n",
    "Applying Bayes Theorem to the two positive tests, we can calculate the probability of having HIV, given that two independent tests were both positive as follows:\n",
    "\n",
    "$$ p( \\text{ HIV } | \\text{ ++ } ) = \\frac{ p( \\text{ ++ } | \\text{ HIV } ) \\cdot p( \\text{ HIV } ) }{ p( \\text{ ++ } | \\text{ HIV } ) \\cdot p( \\text{ HIV } ) + p( \\text{ ++ } | \\text{ HIV' } ) \\cdot p( \\text{ HIV' } )}$$\n",
    "\n",
    "Because we assumed independence, we know:\n",
    "\n",
    "$$p( \\text{ ++ } | \\text{ HIV } ) = p( \\text{ + } | \\text{ HIV } ) \\cdot p( \\text{ + } | \\text{ HIV } ) $$ \n",
    "\n",
    "$$= .977 \\cdot .977 $$ \n",
    "\n",
    "$$= .955$$\n",
    "\n",
    "And:\n",
    "\n",
    "$$p( \\text{ ++ } | \\text{ HIV' } ) = p( \\text{ + } | \\text{ HIV' } ) \\cdot p( \\text{ + } | \\text{ HIV' } ) $$ \n",
    "$$= .074 \\cdot .074 $$ \n",
    "$$= .0055$$\n",
    "\n",
    "So, with two positive tests, the probability increases:\n",
    "\n",
    "$$ p( \\text{ HIV } | \\text{ ++ } ) = \\frac{.955 \\cdot .0026}{ (.955 \\cdot .0026 ) + ( .0055 \\cdot .9974 )} = .3124$$\n",
    "\n",
    "\n",
    "References:\n",
    "- [Bayesian Statistics: From Concept to Data Analysis](https://www.coursera.org/learn/bayesian-statistics/lecture/oANY8/lesson-2-2-bayes-theorem)\n",
    "- [Bayes, two tests in a row](https://math.stackexchange.com/questions/837768/bayes-two-tests-in-a-row)\n",
    "- [Bayes rule with multiple tests](https://math.stackexchange.com/questions/2054128/bayes-rule-with-multiple-tests)"
   ]
  },
  {
   "cell_type": "code",
   "execution_count": null,
   "metadata": {
    "colab": {
     "base_uri": "https://localhost:8080/",
     "height": 85
    },
    "id": "Taq2bUF43WWJ",
    "outputId": "2cc7d1a1-a581-40c7-cf78-5f90c533f0cb"
   },
   "outputs": [],
   "source": [
    "positive_hiv = .977\n",
    "negative_nohiv = .926\n",
    "positive_nohiv = 1 - negative_nohiv\n",
    "hiv = .0026\n",
    "nohiv = 1 - hiv\n",
    "\n",
    "p_hiv_positive = (positive_hiv * hiv) / ( (positive_hiv * hiv) + (positive_nohiv * nohiv) )\n",
    "print(\"p( HIV | + ) = %6.4f\" % p_hiv_positive)\n",
    "\n",
    "p_hiv_positive_twice = (positive_hiv ** 2 * hiv) / ( (positive_hiv ** 2 * hiv) + (positive_nohiv ** 2 * nohiv) )\n",
    "print(\"p( HIV | ++ ) = %6.4f\" % p_hiv_positive_twice)\n",
    "\n",
    "p_hiv_positive_thrice = (positive_hiv ** 3 * hiv) / ( (positive_hiv ** 3 * hiv) + (positive_nohiv ** 3 * nohiv) )\n",
    "print(\"p( HIV | +++ ) = %6.4f\" % p_hiv_positive_thrice)\n",
    "\n",
    "p_hiv_positive_four = (positive_hiv ** 4 * hiv) / ( (positive_hiv ** 4 * hiv) + (positive_nohiv ** 4 * nohiv) )\n",
    "print(\"p( HIV | ++++ ) = %6.4f\" % p_hiv_positive_four)\n"
   ]
  },
  {
   "cell_type": "markdown",
   "metadata": {
    "id": "TyyRlXmFnGVv"
   },
   "source": [
    "## Discrete\n",
    "\n",
    "The equation I defined in the overview defines Bayes Theorem as it applies to two discrete events. \n",
    "\n",
    "$$p\\big(x | y\\big) = \\frac{p\\big(y | x\\big) \\cdot p\\big(x\\big)}{p\\big(y\\big)}$$\n",
    "\n",
    "Which exands to:\n",
    "\n",
    "$$p\\big(x | y\\big) = \\frac{p\\big(y | x\\big) \\cdot p\\big(x\\big)}{p\\big(y | x\\big)p\\big(x\\big) + p\\big(y | x'\\big)p\\big(x'\\big)}$$\n",
    "\n",
    "If you notice, the denominator is just the marginalization of $p(y)$, assuming that there are only two outcomes $x$ and $x'$.\n",
    "\n",
    "But, let's say there are three or more possible outcomes:\n",
    "$$x_1,x_2,...,x_m$$\n",
    "\n",
    "If we want to calculate the probability of one of those outcomes (say $x_1$ or $x_7$), we can generalize using the marginalized summation for discrete events in the denominator, as follows:\n",
    "\n",
    "$$p\\big(x_1 | y\\big) = \\frac{p\\big(y | x_1\\big) \\cdot p\\big(x_1\\big)}{ \\sum_{i=1}^{m} p( y | x_i ) p( x_i ) }$$\n"
   ]
  },
  {
   "cell_type": "markdown",
   "metadata": {
    "id": "4Fo0gIVrnBgd"
   },
   "source": [
    "## Continuous\n",
    "\n",
    "Based on the marginal distribution and the joint distribution rules, we know:\n",
    "\n",
    "$$p\\big(y\\big) = \\int p\\big(x, y\\big)dx = \\int p\\big(y|x\\big)p\\big(x\\big)dx $$\n",
    "\n",
    "So:\n",
    "$$p\\big(x | y\\big) = \\frac{p\\big(y | x\\big)p\\big(x\\big)}{\\int p\\big(y|x\\big)p\\big(x\\big)dx}$$\n"
   ]
  },
  {
   "cell_type": "markdown",
   "metadata": {
    "id": "Daz0-46Eq7FI"
   },
   "source": [
    "## Derivation\n",
    "We know that the joint distribution of two random variables is commutative:\n",
    "\n",
    "$$p\\big(x, y\\big) = p\\big(y, x\\big) $$\n",
    "\n",
    "We also know that joint distributions that are dependent can be written as:\n",
    "$$p\\big(x, y\\big) = p\\big(x\\big) \\cdot  p\\big(y|x\\big)$$\n",
    "\n",
    "$$p\\big(y, x\\big) = p\\big(x, y\\big) = p\\big(y\\big) \\cdot  p\\big(x|y\\big)$$\n",
    "\n",
    "We can rewrite the third equation as:\n",
    "$$p\\big(x | y\\big) = \\frac{p\\big(x, y\\big)}{p\\big(y\\big)}$$\n",
    "\n",
    "Then we can substitute in the second equation into the numerator of the right hand side:\n",
    "\n",
    "$$p\\big(x | y\\big) = \\frac{p\\big(y | x\\big) \\cdot p\\big(x\\big)}{p\\big(y\\big)}$$"
   ]
  },
  {
   "cell_type": "markdown",
   "metadata": {
    "id": "xEIF0l2We12N"
   },
   "source": [
    "# Expected Value\n",
    "\n",
    "The expected value is the average outcome we expect if we run an experiment many times. \n",
    "\n",
    "Another way to think about it is that the expected value is the *mean* of some random variable.\n",
    "\n",
    "For a discrete random variable $X$ we calculate the expected value as follows:\n",
    "\n",
    "$$E\\big(X\\big) = \\sum_{x} x p\\big(x\\big)$$\n",
    "\n",
    "We can perform marginalization on a continuous random variable $X$ as follows:\n",
    "\n",
    "$$E\\big(X\\big) = \\int x p\\big(x\\big)dx$$\n",
    "\n",
    "### Conditional Expectation\n",
    "\n",
    "For a discrete random variable $x$ we calculate as follows:\n",
    "\n",
    "$$E\\big(X | Y\\big) = \\sum_{x} x p\\big(x|y\\big)$$\n",
    "\n",
    "For a continuous random variable $x$ we calculate as follows:\n",
    "\n",
    "$$E\\big(X|Y\\big) = \\int x p\\big(x|y\\big)dx$$\n",
    "\n",
    "### Expected Value of a Function\n",
    "\n",
    "If we have a function of a random variable:\n",
    "\n",
    "$$g\\big(X\\big)$$\n",
    "\n",
    "If $x$ is discrete, we can calculate the expected value as follows:\n",
    "\n",
    "$$E\\big[g\\big(X\\big)\\big] = \\sum_{x} g\\big(x\\big) p\\big(x\\big)$$\n",
    "\n",
    "If $x$ is continuous, we can calculate the expected value as follows:\n",
    "\n",
    "$$E\\big[g\\big(X\\big)\\big] = \\int g\\big(x\\big) p\\big(x\\big)dx$$\n",
    "\n",
    "### Expansion\n",
    "\n",
    "Because the expected value is a linear operator, the expectation of the sum of random variables is equal to the sum of the expectation of the individual values:\n",
    "\n",
    "$$E\\big(cX+Y\\big) = cE\\big(X\\big) + E\\big(Y\\big)$$\n",
    "\n",
    "\n"
   ]
  },
  {
   "cell_type": "markdown",
   "metadata": {
    "id": "ifpMwhaKkP3q"
   },
   "source": [
    "# Types of Distributions\n",
    "\n",
    "Probability Distributions can be used to describe different types of events.\n",
    "\n",
    "Certain distributions share features, so we group them into types. \n",
    "\n",
    "Some distributions have a finite number of outcomes such as rolling a die or picking card. The sample space is discrete, therefore it is called a discrete distribution.\n",
    "\n",
    "Some distributions have infinitely many outcomes such as recording time or distance. The sample space is infinite and continuous, so these are called continuous distributions.\n",
    "\n",
    "Distributions are often notated as:\n",
    "\n",
    "$$ X \\sim B( p )$$\n",
    "\n",
    "or\n",
    "\n",
    "$$ Y \\sim N( \\mu, \\sigma^2 )$$\n",
    "\n",
    "In these equations:\n",
    "- $X$ and $Y$ are random variables\n",
    "- $\\sim$ - \"follows the ___ distribution\" or \"is distributed as\"\n",
    "- $B$ & $N$ - the type of distribution\n",
    "- $(...)$ - the characteristics of the distribution\n",
    "\n",
    "\n",
    "References:\n",
    "- [Probability: Types of Distributions](https://www.youtube.com/watch?v=b9a27XN_6tg&ab_channel=365DataScience)\n",
    "- [Lesson 3.1 Bernoulli and binomial distributions](https://www.coursera.org/learn/bayesian-statistics/lecture/3z0mW/lesson-3-1-bernoulli-and-binomial-distributions)\n",
    "- [Probability Distributions in Data Science](https://www.kdnuggets.com/2020/02/probability-distributions-data-science.html)"
   ]
  },
  {
   "cell_type": "markdown",
   "metadata": {
    "id": "Ved0krQugR98"
   },
   "source": [
    "## Discrete Distributions"
   ]
  },
  {
   "cell_type": "markdown",
   "metadata": {
    "id": "nrmmGptfTxyI"
   },
   "source": [
    "### Discrete Uniform Distribution\n",
    "\n",
    "A discrete probability where all outcomes are equally likely is called ***equiprobable***. Examples are rolling a die ($\\frac{1}{6}$) or drawing a card from a deck ($\\frac{1}{52}$).\n",
    "\n",
    "These events have a uniform distribution."
   ]
  },
  {
   "cell_type": "code",
   "execution_count": 4,
   "metadata": {
    "colab": {
     "base_uri": "https://localhost:8080/",
     "height": 315
    },
    "id": "4_kHUIFvT67R",
    "outputId": "85d6f637-7d7f-4f54-f1b2-b16f75b98ec3"
   },
   "outputs": [
    {
     "data": {
      "text/plain": [
       "(0.0, 1.0)"
      ]
     },
     "execution_count": 4,
     "metadata": {},
     "output_type": "execute_result"
    },
    {
     "data": {
      "image/png": "[encoded data removed]",
      "text/plain": [
       "<Figure size 432x288 with 1 Axes>"
      ]
     },
     "metadata": {
      "needs_background": "light"
     },
     "output_type": "display_data"
    }
   ],
   "source": [
    "# https://www.kdnuggets.com/2020/02/probability-distributions-data-science.html\n",
    "import matplotlib.pyplot as plt\n",
    "import numpy as np\n",
    "\n",
    "probs = np.full((6), 1/6)\n",
    "face = [1,2,3,4,5,6]\n",
    "plt.bar(face, probs)\n",
    "plt.ylabel('Probability', fontsize=12)\n",
    "plt.xlabel('Die Roll Outcome', fontsize=12)\n",
    "plt.title('Fair Die - Uniform Distribution', fontsize=12)\n",
    "axes = plt.gca()\n",
    "axes.set_ylim([0,1])"
   ]
  },
  {
   "cell_type": "markdown",
   "metadata": {
    "id": "jxJT2-g_glaA"
   },
   "source": [
    "References:\n",
    "- [Discrete uniform distribution - Wikipedia\n",
    "](https://en.wikipedia.org/wiki/Discrete_uniform_distribution)"
   ]
  },
  {
   "cell_type": "markdown",
   "metadata": {
    "id": "06tZAvzO0rKS"
   },
   "source": [
    "### Bernoulli Distribution\n",
    "\n",
    "The Bernoulli Distribution is often represented as:\n",
    "\n",
    "$$ X \\sim B( p )$$\n",
    "\n",
    "The Bernoulli Distribution is used when we have two possible outcomes, typically true or false.\n",
    "\n",
    "Examples:\n",
    "- flipping a coin - heads or tails\n",
    "- website clickthrough rate - visitor clicked or didn't click\n",
    "- any experiment where each trial is either a success or failure\n",
    "\n",
    "The two outcomes do not have to have the same probability.\n",
    "\n",
    "$$ P(X=1) = p $$\n",
    "\n",
    "$$ P(X=0) = 1 - p $$\n",
    "\n",
    "The PMF can be written as:\n",
    "\n",
    "$$ f( X = x | p ) = f( x | p ) = p^x \\cdot p^{(1-x)} $$\n",
    "\n",
    "Where:\n",
    "$$\n",
    "x = \\left\\{\n",
    "    \\begin{array}\\\\\n",
    "        1 & \\mbox{if } \\text{success} \\\\\n",
    "        0 & \\mbox{if } \\text{failure} \\\\\n",
    "    \\end{array}\n",
    "\\right.\n",
    "$$\n",
    "\n",
    "References:\n",
    "- [Bernoulli Distribution - Wikipedia](https://en.wikipedia.org/wiki/Bernoulli_distribution)"
   ]
  },
  {
   "cell_type": "markdown",
   "metadata": {
    "id": "OVt-u7OkMSo-"
   },
   "source": [
    "### Binomial Distribution\n",
    "\n",
    "If we carry out a Bernoulli trial multiple times in a row, then we have a binomial distribution.\n",
    "\n",
    "Let's say we flip a coin three times (each is a Bernoulli trial) and we try to calculate the liklihood of getting a heads twice.\n",
    "\n",
    "$$ E(X) = n \\cdot p$$ \n",
    "\n",
    "$$ P(X=k) = \\binom{n}{k} \\cdot p^k \\cdot (1 - p)^{(n-k)}$$ \n",
    "\n"
   ]
  },
  {
   "cell_type": "code",
   "execution_count": 5,
   "metadata": {
    "colab": {
     "base_uri": "https://localhost:8080/",
     "height": 34
    },
    "id": "_XPxm1O8fzs1",
    "outputId": "dcd2da3d-e424-4e96-c894-c8bef1a3ec42"
   },
   "outputs": [
    {
     "name": "stdout",
     "output_type": "stream",
     "text": [
      "P(X=k)=0.0743\n"
     ]
    }
   ],
   "source": [
    "import math\n",
    "\n",
    "def nCr(n,r):\n",
    "  f = math.factorial\n",
    "  return f(n) / f(r) / f(n-r)\n",
    "\n",
    "n = 9\n",
    "k = 6\n",
    "p = .4\n",
    "\n",
    "binomial = nCr( n, k ) * ( p ** k ) * ( (1 - p ) ** ( n - k ) )\n",
    "print(\"P(X=k)=%6.4f\" % binomial)"
   ]
  },
  {
   "cell_type": "markdown",
   "metadata": {
    "id": "2qK3qCNKes1f"
   },
   "source": [
    "### Poisson Distribution\n",
    "\n",
    "The Poisson Distribution is often represented as:\n",
    "\n",
    "$$ X \\sim \\text{Po}(\\lambda) $$\n",
    "\n",
    "We use Poisson Distribution when we want to find out how unusual an event frequency is for a given interval.\n",
    "\n",
    "For example, if Lebron James average 35 points per game. What if we want to know the liklihood of Lebron scoring 12 points in the first quarter of his next game. We can use the Poisson Distribution to determine the chance given the specified time interval.\n",
    "\n",
    "The expected value is:\n",
    "\n",
    "$$ E(X) = \\lambda = 35 \\frac{\\text{pts}}{\\text{game}} = 8.75 \\frac{\\text{pts}}{\\text{quarter}}$$\n",
    "\n",
    "The PMF equation is:\n",
    "\n",
    "$$f(k; \\lambda) = \\text{Pr}(X=k) = \\frac{\\lambda^k e^{-\\lambda}}{k!} $$ \n",
    "\n",
    "Where $k$ is the frequency we're trying to calculate the probability for. So, in this case:\n",
    "$$k = 12 \\frac{\\text{pts}}{\\text{quarter}}$$\n",
    "\n",
    "So:\n",
    "\n",
    "$$\\text{Pr}(X=12) = \\frac{(8.75)^{12} \\cdot e^{-8.75}}{12!} = 0.0666 $$ \n",
    "\n",
    "\n",
    "The Poisson Distribution is actually just a binomial distribution ([proof](https://www.khanacademy.org/math/statistics-probability/random-variables-stats-library/poisson-distribution/v/poisson-process-1?modal=1)) when you take the $\\lim_{n \\to \\infty}$.\n",
    "\n",
    "Refereneces:\n",
    "* [Poisson Process - Khan Academy](https://www.khanacademy.org/math/statistics-probability/random-variables-stats-library/poisson-distribution/v/poisson-process-1?modal=1)\n",
    "* [The Poisson Distribution](http://www.stats.ox.ac.uk/~filippi/Teaching/psychology_humanscience_2015/lecture5.pdf)\n"
   ]
  },
  {
   "cell_type": "code",
   "execution_count": 6,
   "metadata": {
    "colab": {
     "base_uri": "https://localhost:8080/",
     "height": 34
    },
    "id": "8g0aHOns8VTm",
    "outputId": "d902fab1-a42a-4d10-a47d-0813420978cc"
   },
   "outputs": [
    {
     "name": "stdout",
     "output_type": "stream",
     "text": [
      "p = 0.0666\n"
     ]
    }
   ],
   "source": [
    "import math\n",
    "\n",
    "poisson_lambda = 35 / 4\n",
    "poisson_k = 12\n",
    "poisson = ( (poisson_lambda ** poisson_k) * math.exp( -poisson_lambda ) / math.factorial( poisson_k ) )\n",
    "print( \"p = %6.4f\" % poisson )\n"
   ]
  },
  {
   "cell_type": "markdown",
   "metadata": {
    "id": "bnTm_-LIg9EU"
   },
   "source": [
    "## Continuous Distributions"
   ]
  },
  {
   "cell_type": "markdown",
   "metadata": {
    "id": "NUJl7n9xg_n3"
   },
   "source": [
    "### Normal Distribution\n",
    "\n"
   ]
  },
  {
   "cell_type": "markdown",
   "metadata": {
    "id": "RF-QfjGyhVfu"
   },
   "source": [
    "### Student's T Distribution\n",
    "\n",
    "A small-sample approximation of a Normal Distribution. \n",
    "\n",
    "It accommodates extreme values significantly better because it has fatter tails, which means it has a larger number of values that are farther away from the mean.\n",
    "\n",
    "When you have small samples, any extreme outliers tend to represent a much larger percentage of the population than they should."
   ]
  },
  {
   "cell_type": "markdown",
   "metadata": {
    "id": "-PkDjDiWiNhd"
   },
   "source": [
    "### Chi-Squared Distribution\n",
    "\n",
    "It is an asymmetric distribution that has non-negative values. The Chi-Squared Distribution always starts from $0$ on the left. \n",
    "\n",
    "Depending on the average and maximum values within the set, the curve of the Chi-Squared graph is typically skewed to the left. \n",
    "\n",
    "The Chi-Squared distribution does not often mirror real-life events like the Normal and Student's T distributions. \n",
    "\n",
    "It is often used in hypothesis testing to determine goodness of fit. "
   ]
  },
  {
   "cell_type": "markdown",
   "metadata": {
    "id": "3JJXotG8jEhE"
   },
   "source": [
    "### Exponential Distribution\n",
    "\n",
    "The Exponential Distribution helps understand events that are rapidly changing early on. For example, the Exponential Distribution can be used to model the interest in a breaking news article over time, where it is clicked on a lot early on and not as much as interest dies off.\n",
    "\n"
   ]
  },
  {
   "cell_type": "markdown",
   "metadata": {
    "id": "J8BIbwhMBhvF"
   },
   "source": [
    "# References\n",
    "\n",
    "- [Conditional Probability in Venn Diagrams](https://www.slideserve.com/lucine/conditional-probability-in-venn-diagrams)\n",
    "- [Probability Calculator](https://www.calculator.net/probability-calculator.html)\n",
    "- [Visualizing Set Diagrams With Python](https://monstott.github.io/visualizing_set_diagrams_with_python)\n",
    "- [Probability & Statistics Primer](https://atmos.washington.edu/~hakim/591/prob_primer.pdf)"
   ]
  }
 ],
 "metadata": {
  "colab": {
   "collapsed_sections": [],
   "name": "Probability.ipynb",
   "provenance": [],
   "toc_visible": true
  },
  "kernelspec": {
   "display_name": "Python 3",
   "language": "python",
   "name": "python3"
  },
  "language_info": {
   "codemirror_mode": {
    "name": "ipython",
    "version": 3
   },
   "file_extension": ".py",
   "mimetype": "text/x-python",
   "name": "python",
   "nbconvert_exporter": "python",
   "pygments_lexer": "ipython3",
   "version": "3.8.5"
  }
 },
 "nbformat": 4,
 "nbformat_minor": 4
}
