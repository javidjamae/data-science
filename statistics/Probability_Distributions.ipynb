{
 "cells": [
  {
   "cell_type": "markdown",
   "metadata": {
    "id": "ifpMwhaKkP3q"
   },
   "source": [
    "# Types of Distributions\n",
    "\n",
    "Probability Distributions can be used to describe different types of events.\n",
    "\n",
    "Certain distributions share features, so we group them into types. \n",
    "\n",
    "Some distributions have a finite number of outcomes such as rolling a die or picking card. The sample space is discrete, therefore it is called a discrete distribution.\n",
    "\n",
    "Some distributions have infinitely many outcomes such as recording time or distance. The sample space is infinite and continuous, so these are called continuous distributions.\n",
    "\n",
    "Distributions are often notated as:\n",
    "\n",
    "$$ X \\sim B( p )$$\n",
    "\n",
    "or\n",
    "\n",
    "$$ Y \\sim N( \\mu, \\sigma^2 )$$\n",
    "\n",
    "In these equations:\n",
    "- $X$ and $Y$ are random variables\n",
    "- $\\sim$ - \"follows the ___ distribution\" or \"is distributed as\"\n",
    "- $B$ & $N$ - the type of distribution\n",
    "- $(...)$ - the characteristics of the distribution\n",
    "\n",
    "\n",
    "References:\n",
    "- [Probability: Types of Distributions](https://www.youtube.com/watch?v=b9a27XN_6tg&ab_channel=365DataScience)\n",
    "- [Lesson 3.1 Bernoulli and binomial distributions](https://www.coursera.org/learn/bayesian-statistics/lecture/3z0mW/lesson-3-1-bernoulli-and-binomial-distributions)\n",
    "- [Probability Distributions in Data Science](https://www.kdnuggets.com/2020/02/probability-distributions-data-science.html)"
   ]
  },
  {
   "cell_type": "markdown",
   "metadata": {
    "id": "Ved0krQugR98"
   },
   "source": [
    "## Discrete Distributions"
   ]
  },
  {
   "cell_type": "markdown",
   "metadata": {
    "id": "nrmmGptfTxyI"
   },
   "source": [
    "### Discrete Uniform Distribution\n",
    "\n",
    "A discrete probability where all outcomes are equally likely is called ***equiprobable***. Examples are rolling a die ($\\frac{1}{6}$) or drawing a card from a deck ($\\frac{1}{52}$).\n",
    "\n",
    "These events have a uniform distribution."
   ]
  },
  {
   "cell_type": "code",
   "execution_count": 44,
   "metadata": {
    "colab": {
     "base_uri": "https://localhost:8080/",
     "height": 315
    },
    "id": "4_kHUIFvT67R",
    "outputId": "85d6f637-7d7f-4f54-f1b2-b16f75b98ec3"
   },
   "outputs": [
    {
     "data": {
      "text/plain": [
       "(0.0, 1.0)"
      ]
     },
     "execution_count": 44,
     "metadata": {},
     "output_type": "execute_result"
    },
    {
     "data": {
      "image/png": "[encoded data removed]",
      "text/plain": [
       "<Figure size 432x288 with 1 Axes>"
      ]
     },
     "metadata": {
      "needs_background": "light"
     },
     "output_type": "display_data"
    }
   ],
   "source": [
    "# https://www.kdnuggets.com/2020/02/probability-distributions-data-science.html\n",
    "import matplotlib.pyplot as plt\n",
    "import numpy as np\n",
    "\n",
    "probs = np.full((6), 1/6)\n",
    "face = [1,2,3,4,5,6]\n",
    "plt.bar(face, probs)\n",
    "plt.ylabel('Probability', fontsize=12)\n",
    "plt.xlabel('Die Roll Outcome', fontsize=12)\n",
    "plt.title('Fair Die - Uniform Distribution', fontsize=12)\n",
    "axes = plt.gca()\n",
    "axes.set_ylim([0,1])"
   ]
  },
  {
   "cell_type": "markdown",
   "metadata": {
    "id": "jxJT2-g_glaA"
   },
   "source": [
    "References:\n",
    "- [Discrete uniform distribution - Wikipedia\n",
    "](https://en.wikipedia.org/wiki/Discrete_uniform_distribution)"
   ]
  },
  {
   "cell_type": "markdown",
   "metadata": {
    "id": "06tZAvzO0rKS"
   },
   "source": [
    "### Bernoulli Distribution\n",
    "\n",
    "The Bernoulli Distribution is often represented as:\n",
    "\n",
    "$$ X \\sim B( p )$$\n",
    "\n",
    "The Bernoulli Distribution is used when we have two possible outcomes, typically true or false.\n",
    "\n",
    "Examples:\n",
    "- flipping a coin - heads or tails\n",
    "- website clickthrough rate - visitor clicked or didn't click\n",
    "- any experiment where each trial is either a success or failure\n",
    "\n",
    "The two outcomes do not have to have the same probability.\n",
    "\n",
    "$$ P(X=1) = p $$\n",
    "\n",
    "$$ P(X=0) = 1 - p $$\n",
    "\n",
    "The PMF can be written as:\n",
    "\n",
    "$$ f( X = x | p ) = f( x | p ) = p^x \\cdot p^{(1-x)} $$\n",
    "\n",
    "Where:\n",
    "$$\n",
    "x = \\left\\{\n",
    "    \\begin{array}\\\\\n",
    "        1 & \\mbox{if } \\text{success} \\\\\n",
    "        0 & \\mbox{if } \\text{failure} \\\\\n",
    "    \\end{array}\n",
    "\\right.\n",
    "$$\n",
    "\n",
    "References:\n",
    "- [Bernoulli Distribution - Wikipedia](https://en.wikipedia.org/wiki/Bernoulli_distribution)"
   ]
  },
  {
   "cell_type": "markdown",
   "metadata": {
    "id": "OVt-u7OkMSo-"
   },
   "source": [
    "### Binomial Distribution\n",
    "\n",
    "The Binomial Distribution is often represented as:\n",
    "\n",
    "$$ X \\sim B( n, p )$$\n",
    "\n",
    "Where:\n",
    "- n is the number of Bernoulli trials ($n \\in N$)\n",
    "- p is the success probability for each trial ($p \\in [0,1] $)\n",
    "\n",
    "If we carry out a Bernoulli trial multiple times in a row, then we have a binomial distribution.\n",
    "\n",
    "For a Binomial experiment, the following conditions must be true:\n",
    "- Each trial outcome must be a success or failure\n",
    "- The result of each trial is independent on the other ones\n",
    "- There are a fixed number of trials\n",
    "- There is the same probability of success in each trial\n",
    "\n",
    "The expected value of a binomial distribution is:\n",
    "\n",
    "$$ E(X) = n \\cdot p$$ \n",
    "\n",
    "The probability mass function is:\n",
    "\n",
    "$$ f( k,n,p) = Pr(X=k) = \\binom{n}{k} \\cdot p^k \\cdot (1 - p)^{(n-k)}$$ \n",
    "\n",
    "Where:\n",
    "- k is the number of successes\n",
    "\n",
    "References:\n",
    "- [Binomial Distribution - Wikipedia](https://en.wikipedia.org/wiki/Binomial_distribution)"
   ]
  },
  {
   "cell_type": "markdown",
   "metadata": {},
   "source": [
    "#### Example\n",
    "\n",
    "Let's say we flip a coin three times (each is a Bernoulli trial) and we try to calculate the probability of getting a heads twice."
   ]
  },
  {
   "cell_type": "code",
   "execution_count": 45,
   "metadata": {
    "colab": {
     "base_uri": "https://localhost:8080/",
     "height": 34
    },
    "id": "_XPxm1O8fzs1",
    "outputId": "dcd2da3d-e424-4e96-c894-c8bef1a3ec42"
   },
   "outputs": [
    {
     "name": "stdout",
     "output_type": "stream",
     "text": [
      "P(X=k)=0.0743\n"
     ]
    }
   ],
   "source": [
    "import math\n",
    "\n",
    "def nCr(n,r):\n",
    "  f = math.factorial\n",
    "  return f(n) / f(r) / f(n-r)\n",
    "\n",
    "n = 9\n",
    "k = 6\n",
    "p = .4\n",
    "\n",
    "binomial = nCr( n, k ) * ( p ** k ) * ( (1 - p ) ** ( n - k ) )\n",
    "print(\"P(X=k)=%6.4f\" % binomial)"
   ]
  },
  {
   "cell_type": "markdown",
   "metadata": {
    "id": "2qK3qCNKes1f"
   },
   "source": [
    "### Poisson Distribution\n",
    "\n",
    "The Poisson Distribution is often represented as:\n",
    "\n",
    "$$ X \\sim \\text{Po}(\\lambda) $$\n",
    "\n",
    "We use Poisson Distribution when we want to find out how unusual an event frequency is for a given interval.\n",
    "\n",
    "For example, if Lebron James average 35 points per game. What if we want to know the liklihood of Lebron scoring 12 points in the first quarter of his next game. We can use the Poisson Distribution to determine the chance given the specified time interval.\n",
    "\n",
    "The expected value is:\n",
    "\n",
    "$$ E(X) = \\lambda = 35 \\frac{\\text{pts}}{\\text{game}} = 8.75 \\frac{\\text{pts}}{\\text{quarter}}$$\n",
    "\n",
    "The PMF equation is:\n",
    "\n",
    "$$f(k; \\lambda) = \\text{Pr}(X=k) = \\frac{\\lambda^k e^{-\\lambda}}{k!} $$ \n",
    "\n",
    "Where $k$ is the frequency we're trying to calculate the probability for. So, in this case:\n",
    "$$k = 12 \\frac{\\text{pts}}{\\text{quarter}}$$\n",
    "\n",
    "So:\n",
    "\n",
    "$$\\text{Pr}(X=12) = \\frac{(8.75)^{12} \\cdot e^{-8.75}}{12!} = 0.0666 $$ \n",
    "\n",
    "\n",
    "The Poisson Distribution is actually just a binomial distribution ([proof](https://www.khanacademy.org/math/statistics-probability/random-variables-stats-library/poisson-distribution/v/poisson-process-1?modal=1)) when you take the $\\lim_{n \\to \\infty}$.\n",
    "\n",
    "Refereneces:\n",
    "* [Poisson Process - Khan Academy](https://www.khanacademy.org/math/statistics-probability/random-variables-stats-library/poisson-distribution/v/poisson-process-1?modal=1)\n",
    "* [The Poisson Distribution](http://www.stats.ox.ac.uk/~filippi/Teaching/psychology_humanscience_2015/lecture5.pdf)\n"
   ]
  },
  {
   "cell_type": "code",
   "execution_count": 46,
   "metadata": {
    "colab": {
     "base_uri": "https://localhost:8080/",
     "height": 34
    },
    "id": "8g0aHOns8VTm",
    "outputId": "d902fab1-a42a-4d10-a47d-0813420978cc"
   },
   "outputs": [
    {
     "name": "stdout",
     "output_type": "stream",
     "text": [
      "p = 0.0666\n"
     ]
    }
   ],
   "source": [
    "import math\n",
    "\n",
    "poisson_lambda = 35 / 4\n",
    "poisson_k = 12\n",
    "poisson = ( (poisson_lambda ** poisson_k) * math.exp( -poisson_lambda ) / math.factorial( poisson_k ) )\n",
    "print( \"p = %6.4f\" % poisson )\n"
   ]
  },
  {
   "cell_type": "markdown",
   "metadata": {
    "id": "bnTm_-LIg9EU"
   },
   "source": [
    "## Continuous Distributions"
   ]
  },
  {
   "cell_type": "markdown",
   "metadata": {
    "id": "NUJl7n9xg_n3"
   },
   "source": [
    "### Normal Distribution\n",
    "\n"
   ]
  },
  {
   "cell_type": "markdown",
   "metadata": {
    "id": "RF-QfjGyhVfu"
   },
   "source": [
    "### Student's T Distribution\n",
    "\n",
    "A small-sample approximation of a Normal Distribution. \n",
    "\n",
    "It accommodates extreme values significantly better because it has fatter tails, which means it has a larger number of values that are farther away from the mean.\n",
    "\n",
    "When you have small samples, any extreme outliers tend to represent a much larger percentage of the population than they should."
   ]
  },
  {
   "cell_type": "markdown",
   "metadata": {
    "id": "-PkDjDiWiNhd"
   },
   "source": [
    "### Chi-Squared Distribution\n",
    "\n",
    "The chi-squared distribution is often represented as:\n",
    "\n",
    "$$ Q \\sim \\chi^2(k) $$\n",
    "\n",
    "Where k is the degrees of freedom.\n",
    "\n",
    "If $Z1, ..., Zk$ are independent, standard normal random variables, then the sum of their squares,\n",
    "\n",
    "$$ Q = \\sum_{i=1}^{k} Z_i^2 $$\n",
    "\n",
    "is distributed according to the chi-square distribution with k degrees of freedom.\n",
    "\n",
    "In other words, the chi-squared distribution is merely the square of the standard normal distribution. It has one degree of freedom if it is the square of a single normal distribution. If you add together the square of multiple normal distributions, you get a chi-squared distribution with multiple degrees of freedom.\n",
    "\n",
    "It is an asymmetric distribution that has non-negative values. The chi-squared distribution always starts from $0$ on the left. \n",
    "\n",
    "Depending on the average and maximum values within the set, the curve of the chi-squared graph is typically skewed to the left. \n",
    "\n",
    "The chi-squared distribution does not often mirror real-life events like the normal distribution and Student's T distributions. \n",
    "\n",
    "It is often used in hypothesis testing to determine goodness of fit or as a test of independence.\n",
    "\n",
    "Chi-squared tests generally compare a theoretical categorical distribution to an observed categorical distribution. (Yes, even though chi-squared itself is a continuous distribution). \n",
    "\n"
   ]
  },
  {
   "cell_type": "code",
   "execution_count": 55,
   "metadata": {},
   "outputs": [
    {
     "data": {
      "image/png": "[encoded data removed]",
      "text/plain": [
       "<Figure size 432x288 with 1 Axes>"
      ]
     },
     "metadata": {
      "needs_background": "light"
     },
     "output_type": "display_data"
    }
   ],
   "source": [
    "from scipy.stats import chi2\n",
    "import matplotlib.pyplot as plt\n",
    "import numpy as np \n",
    "\n",
    "fig, ax = plt.subplots(1, 1)\n",
    "\n",
    "df=1\n",
    "x_1 = np.linspace(chi2.ppf(0.01, df), chi2.ppf(0.99, df), 100)\n",
    "ax.plot(x, chi2.pdf(x, df), 'r-', lw=2, alpha=0.6, label='1 df')\n",
    "\n",
    "df=2\n",
    "x_2 = np.linspace(chi2.ppf(0.01, df), chi2.ppf(0.99, df), 100)\n",
    "ax.plot(x, chi2.pdf(x, df), 'b-', lw=2, alpha=0.6, label='2 df')\n",
    "\n",
    "df=3\n",
    "x_3 = np.linspace(chi2.ppf(0.01, df), chi2.ppf(0.99, df), 100)\n",
    "ax.plot(x, chi2.pdf(x, df), 'g-', lw=2, alpha=0.6, label='3 df')\n",
    "\n",
    "df=4\n",
    "x_4 = np.linspace(chi2.ppf(0.01, df), chi2.ppf(0.99, df), 100)\n",
    "ax.plot(x, chi2.pdf(x, df), 'y-', lw=2, alpha=0.6, label='4 df')\n",
    "\n",
    "ax.legend(loc='best', frameon=False)\n",
    "axes = plt.gca()\n",
    "axes.set_ylim([0,1])\n",
    "\n",
    "plt.title('Chi-squared - Probability Density Function', fontsize=12)\n",
    "\n",
    "plt.show()"
   ]
  },
  {
   "cell_type": "markdown",
   "metadata": {},
   "source": [
    "#### Goodness of Fit Test\n",
    "\n",
    "The chi-squared test statistic looks like this:\n",
    "\n",
    "$$ \\chi^2 = \\sum_{i=1}^{k} \\frac{ (o_i - e_i)^2 }{e_i} $$\n",
    "\n",
    "Similar to when we need to meet the normal condition for a normal distribution, we need to make sure that our expected frequencies for each category are greater than 5 before we can perform this test. \n",
    "\n",
    "\n",
    "\n"
   ]
  },
  {
   "cell_type": "markdown",
   "metadata": {},
   "source": [
    "#### Goodness of Fit Example - 1 degree of freedom\n",
    "Let's consider an example: In an art class of 75 students, 11 are left handed. Does this class fit the prevailing theory that 12% of people are left handed, given a 5% significance level? \n",
    "\n",
    "Our hypothesis is:\n",
    "\n",
    "$$ H_0: p = 0.12 $$\n",
    "$$ H_A: p \\ne 0.12 $$\n",
    "\n",
    "First, we check that the expected frequency of left handed (11) and right handed (64) are each greater than 5, which they are.\n",
    "\n",
    "**Decision Rule Method**\n",
    "\n",
    "Using the decision-rule method, we calculate our test statistic first:\n",
    "\n",
    "$$ \\chi^2 = \\frac{ (11 - 9)^2 }{9} + \\frac{ (64 - 66)^2 }{66} = 0.5051 $$\n",
    "\n",
    "Then we compare our test statistic to our critical chi-squared test statistic, which indicates the start of the *rejection region* where we can reject our $H_0$. The rejection region is the top $\\alpha$ percentage of probability in the distribution.\n",
    "\n",
    "We can find the critical chi-squared statistic using the Percent Point Function (PPF) in Python `scipy.stats.chi2.ppf`. The PPF is just the inverse of the CDF function, which makes sense because we want to find the statistic at the point where our cumulative distribution is $1 - \\alpha$, or $0.95$.\n",
    "\n",
    "In this example, our critical chi-squared statistic (the start of the rejection region) is $3.8415$.\n",
    "\n",
    "Because $0.5051$ is not greater than $3.8415$, we assume that our data is not surprising and we don't reject $H_0$.\n",
    "\n",
    "**p-value method**\n",
    "\n",
    "The p-value is the probability density in the rejection region, which must be less than our $\\alpha=0.05$ in order for us to reject $H_0$. \n",
    "\n",
    "We calculate the p-value by finding the CDF up until the rejection region and then subtracting that from 1. We can use `scipy.stats.chi2.cdf` to calculate the CDF. \n",
    "\n",
    "$$ \\text{p-value} = 1 - \\text{CDF}(\\text{test statistic}) = 1 - \\text{CDF}(0.5051) = 0.4773$$\n",
    "\n",
    "Because the p-value is greater than our $\\alpha = 0.05$, we assume that our data is not surprising and we don't reject $H_0$.\n"
   ]
  },
  {
   "cell_type": "code",
   "execution_count": 53,
   "metadata": {},
   "outputs": [
    {
     "name": "stdout",
     "output_type": "stream",
     "text": [
      "Test statistic (by hand): 0.5051\n",
      "Test statistic: 0.5051\n",
      "Critical chi-squared statistic: 3.8415\n",
      "p-value (scipy.stats.chisquare function): 0.4773\n",
      "p-value (scipy.stats.chi2.cdf function): 0.4773\n",
      "alpha: 0.0500\n"
     ]
    }
   ],
   "source": [
    "from scipy.stats import chisquare\n",
    "from scipy.stats import chi2\n",
    "\n",
    "trials = 75 # total trials\n",
    "observed_successes = 11 # observed successes\n",
    "p = .12 # expected proportion\n",
    "alpha = 0.05\n",
    "\n",
    "expected_successes = p * trials\n",
    "observed_failures = trials - observed_successes\n",
    "expected_failures = trials - expected_successes\n",
    "\n",
    "# calculate the test statistic by hand\n",
    "c_by_hand = ( ( ( observed_successes - expected_successes ) ** 2 ) / expected_successes ) + ( ( ( observed_failures - expected_failures ) ** 2 ) / expected_failures )\n",
    "\n",
    "c, pval = chisquare([observed_successes, observed_failures], f_exp=[expected_successes, expected_failures])\n",
    "\n",
    "pval_2 = 1 - chi2.cdf(c, 1)\n",
    "\n",
    "print( \"Test statistic (by hand): %6.4f\" % c_by_hand )\n",
    "print( \"Test statistic: %6.4f\" % c )\n",
    "print( \"Critical chi-squared statistic: %6.4f\" % chi2.ppf( 1 - alpha, 1 ) )\n",
    "print( \"p-value (scipy.stats.chisquare function): %6.4f\" % pval )\n",
    "print( \"p-value (scipy.stats.chi2.cdf function): %6.4f\" % pval_2 )\n",
    "print( \"alpha: %6.4f\" % alpha)\n"
   ]
  },
  {
   "cell_type": "markdown",
   "metadata": {},
   "source": [
    "#### Goodness of Fit Example - 2 degrees of freedom\n",
    "\n",
    "Out of 600 throws in a Rock-Paper-Scissors competition there were 235 rocks, 194 scissors, and 171 papers played. Is there evidence for a \"weapon\" preference at 5% significance?\n"
   ]
  },
  {
   "cell_type": "code",
   "execution_count": 54,
   "metadata": {},
   "outputs": [
    {
     "name": "stdout",
     "output_type": "stream",
     "text": [
      "Test statistic: 10.5100\n",
      "Critical chi-squared statistic: 5.9915\n",
      "p-value: 0.0052\n",
      "alpha: 0.0500\n"
     ]
    }
   ],
   "source": [
    "from scipy.stats import chisquare\n",
    "from scipy.stats import chi2\n",
    "\n",
    "alpha = 0.05\n",
    "c, pval = chisquare([235, 194, 171], f_exp=[200,200,200])\n",
    "\n",
    "print( \"Test statistic: %6.4f\" % c )\n",
    "print( \"Critical chi-squared statistic: %6.4f\" % chi2.ppf( 1 - alpha, 2 ) )\n",
    "print( \"p-value: %6.4f\" % pval )\n",
    "print( \"alpha: %6.4f\" % alpha)"
   ]
  },
  {
   "cell_type": "markdown",
   "metadata": {},
   "source": [
    "References:\n",
    "- [Chi-Squared Goodness of Fit test](https://youtu.be/ZNXso_riZag)"
   ]
  },
  {
   "cell_type": "markdown",
   "metadata": {},
   "source": [
    "#### References:\n",
    "- [What is the Chi-Squared Distribution](https://youtu.be/80ffqpZdKiA)\n"
   ]
  },
  {
   "cell_type": "markdown",
   "metadata": {
    "id": "3JJXotG8jEhE"
   },
   "source": [
    "### Exponential Distribution\n",
    "\n",
    "The Exponential Distribution helps understand events that are rapidly changing early on. For example, the Exponential Distribution can be used to model the interest in a breaking news article over time, where it is clicked on a lot early on and not as much as interest dies off.\n",
    "\n"
   ]
  },
  {
   "cell_type": "markdown",
   "metadata": {},
   "source": [
    "### Gamma Distribution\n",
    "\n",
    "\n",
    "\n",
    "References:\n",
    "- [What is the Gamma Function](https://youtu.be/7y-XTrfNvCs)\n",
    "- [The Gamma Function and the Pi Function](https://youtu.be/L4Trz6pFut4)"
   ]
  },
  {
   "cell_type": "markdown",
   "metadata": {},
   "source": [
    "### Pi Distribution\n",
    "\n",
    "References:\n",
    "- [The Gamma Function and the Pi Function](https://youtu.be/L4Trz6pFut4)"
   ]
  }
 ],
 "metadata": {
  "colab": {
   "collapsed_sections": [],
   "name": "Probability.ipynb",
   "provenance": [],
   "toc_visible": true
  },
  "kernelspec": {
   "display_name": "Python 3",
   "language": "python",
   "name": "python3"
  },
  "language_info": {
   "codemirror_mode": {
    "name": "ipython",
    "version": 3
   },
   "file_extension": ".py",
   "mimetype": "text/x-python",
   "name": "python",
   "nbconvert_exporter": "python",
   "pygments_lexer": "ipython3",
   "version": "3.8.5"
  }
 },
 "nbformat": 4,
 "nbformat_minor": 4
}
