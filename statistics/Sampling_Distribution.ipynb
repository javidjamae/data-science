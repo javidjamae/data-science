{
 "cells": [
  {
   "cell_type": "markdown",
   "metadata": {},
   "source": [
    "## Sampling Distribution of a Sample Proportion"
   ]
  },
  {
   "cell_type": "markdown",
   "metadata": {},
   "source": [
    "### Standard Error\n",
    "If we know the population proportion, we can find the sample standard devation (also called the standard error) like this:\n",
    "\n",
    "$$ \\sigma_{ \\hat{p} }^2 = \\frac{ p(1-p) }{ n } $$\n",
    "\n",
    "$$ \\sigma_{ \\hat{p} } = \\sqrt{ \\frac{ p(1-p) }{ n } }$$\n",
    "\n",
    "Where:\n",
    "- $\\sigma_{ \\hat{p} }$ -> Standard Error (standard deviation of the sampling distribution of the sample proportion)\n",
    "- $ \\sigma_{ \\hat{p} }^2 $ -> Variance of the sampling distribution\n",
    "- $p$ -> Population Proportion\n",
    "- $n$ -> Sample size"
   ]
  },
  {
   "cell_type": "code",
   "execution_count": 32,
   "metadata": {
    "jupyter": {
     "source_hidden": true
    }
   },
   "outputs": [
    {
     "name": "stdout",
     "output_type": "stream",
     "text": [
      "Standard Error: 0.0894\n"
     ]
    }
   ],
   "source": [
    "import math\n",
    "\n",
    "p = .6\n",
    "n = 30\n",
    "standard_error = math.sqrt( p * ( 1 - p ) / n )\n",
    "\n",
    "print( 'Standard Error: %6.4f' % standard_error )"
   ]
  },
  {
   "cell_type": "markdown",
   "metadata": {},
   "source": [
    "If we know that the population and/or the sample distribution is normally distributed, then we can find the probability of getting a particular outcome in the sampling distribution.\n",
    "\n",
    "For example, let's say we have normal conditions and we want to calculate the probability of getting a particular value or range within a sample. We can calculate the standard error, then use it to find the cumulative distribution."
   ]
  },
  {
   "cell_type": "code",
   "execution_count": 38,
   "metadata": {
    "jupyter": {
     "source_hidden": true
    }
   },
   "outputs": [
    {
     "name": "stdout",
     "output_type": "stream",
     "text": [
      "p=0.09, samples=350\n",
      "standard_error=0.015\n",
      "\n",
      "P(x < 0.12) = 0.975\n",
      "P(x > 0.12) = 0.025\n",
      "P(0.12 < x < 0.68) = 0.025\n"
     ]
    }
   ],
   "source": [
    "## https://stackoverflow.com/a/33824283/254046\n",
    "\n",
    "import math\n",
    "from scipy.stats import norm\n",
    "\n",
    "p = .09\n",
    "n = 350\n",
    "range1 = .12\n",
    "range2 = .68\n",
    "\n",
    "standard_error = math.sqrt( p * ( 1 - p ) / n )\n",
    "cdf1 = norm.cdf(range1, p, standard_error)\n",
    "cdf2 = norm.cdf(range2, p, standard_error)\n",
    "\n",
    "print( 'p=%.2f, samples=%d' % ( p, n ) )\n",
    "print( 'standard_error=%.3f' % ( standard_error ) )\n",
    "print()\n",
    "print( 'P(x < %.2f) = %.3f' % ( range1, cdf1 ) )\n",
    "print( 'P(x > %.2f) = %.3f' % ( range1, 1 - cdf1 ) )\n",
    "print( 'P(%.2f < x < %.2f) = %.3f' % ( range1, range2, cdf2 - cdf1 ) )"
   ]
  },
  {
   "cell_type": "markdown",
   "metadata": {},
   "source": [
    "## Sampling Distribution of a Sample Mean\n",
    "\n"
   ]
  },
  {
   "cell_type": "markdown",
   "metadata": {},
   "source": [
    "### Standard Error\n",
    "If we know the population standard deviation, we can find the sample standard devation (also called the standard error) like this:\n",
    "\n",
    "$$ \\sigma_{ \\bar{x} }^2 = \\frac{ \\sigma^2 }{ n } $$\n",
    "\n",
    "$$ \\sigma_{ \\bar{x} } = \\frac{ \\sigma }{ \\sqrt{n} } $$\n",
    "\n",
    "Where:\n",
    "- $\\sigma_{ \\bar{x} }$ -> Standard Error (standard deviation of the sampling distribution of the sample mean)\n",
    "- $ \\sigma_{ \\bar{x} }^2 $ -> Variance of the sampling distribution\n",
    "- $\\sigma^2$ -> Population Variance\n",
    "- $\\sigma$ -> Population Standard Deviation\n",
    "- $n$ -> Sample size"
   ]
  },
  {
   "cell_type": "code",
   "execution_count": 2,
   "metadata": {
    "jupyter": {
     "source_hidden": true
    }
   },
   "outputs": [
    {
     "name": "stdout",
     "output_type": "stream",
     "text": [
      "Standard Error: 0.7500\n"
     ]
    }
   ],
   "source": [
    "import math\n",
    "\n",
    "sigma = 1.5\n",
    "n = 4\n",
    "standard_error = sigma / math.sqrt( n )\n",
    "\n",
    "print( 'Standard Error: %6.4f' % standard_error )"
   ]
  },
  {
   "cell_type": "markdown",
   "metadata": {},
   "source": [
    "If we know that the population and/or the sample distribution is normally distributed, then we can find the probability of getting a particular outcome in the sampling distribution.\n",
    "\n",
    "For example, let's say we have normal conditions and we want to calculate the probability of getting a particular value or range within a sample. We can calculate the standard error, then use it to find the cumulative distribution."
   ]
  },
  {
   "cell_type": "code",
   "execution_count": 40,
   "metadata": {
    "jupyter": {
     "source_hidden": true
    }
   },
   "outputs": [
    {
     "name": "stdout",
     "output_type": "stream",
     "text": [
      "mean=8.00, stddev=6.00, samples=35\n",
      "standard_error=1.014\n",
      "\n",
      "P(x < 10.0) = 0.976\n",
      "P(x > 10.0) = 0.024\n",
      "P(10.0 < x < 11.0) = 0.023\n"
     ]
    }
   ],
   "source": [
    "## https://stackoverflow.com/a/33824283/254046\n",
    "\n",
    "import math\n",
    "from scipy.stats import norm\n",
    "\n",
    "mu = 8\n",
    "sigma = 6\n",
    "n = 35\n",
    "range1 = 10\n",
    "range2 = 11\n",
    "\n",
    "standard_error = sigma / math.sqrt( n )\n",
    "cdf1 = norm.cdf(range1, mu, standard_error)\n",
    "cdf2 = norm.cdf(range2, mu, standard_error)\n",
    "\n",
    "print( 'mean=%.2f, stddev=%.2f, samples=%d' % ( mu, sigma, n ) )\n",
    "print( 'standard_error=%.3f' % ( standard_error ) )\n",
    "print()\n",
    "print( 'P(x < %.1f) = %.3f' % ( range1, cdf1 ) )\n",
    "print( 'P(x > %.1f) = %.3f' % ( range1, 1 - cdf1 ) )\n",
    "print( 'P(%.1f < x < %.1f) = %.3f' % ( range1, range2, cdf2 - cdf1 ) )"
   ]
  },
  {
   "cell_type": "markdown",
   "metadata": {},
   "source": [
    "## References\n",
    "- [Sampling distributions - Khan Academy](https://www.khanacademy.org/math/statistics-probability/sampling-distributions-library)"
   ]
  },
  {
   "cell_type": "code",
   "execution_count": null,
   "metadata": {
    "jupyter": {
     "source_hidden": true
    }
   },
   "outputs": [],
   "source": []
  }
 ],
 "metadata": {
  "kernelspec": {
   "display_name": "Python 3",
   "language": "python",
   "name": "python3"
  },
  "language_info": {
   "codemirror_mode": {
    "name": "ipython",
    "version": 3
   },
   "file_extension": ".py",
   "mimetype": "text/x-python",
   "name": "python",
   "nbconvert_exporter": "python",
   "pygments_lexer": "ipython3",
   "version": "3.8.5"
  }
 },
 "nbformat": 4,
 "nbformat_minor": 4
}
